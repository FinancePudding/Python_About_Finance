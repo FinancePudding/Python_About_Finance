{
 "cells": [
  {
   "cell_type": "code",
   "id": "initial_id",
   "metadata": {
    "collapsed": true,
    "ExecuteTime": {
     "end_time": "2024-07-26T13:42:23.012917Z",
     "start_time": "2024-07-26T13:42:22.207047Z"
    }
   },
   "source": "import pandas as pd",
   "outputs": [],
   "execution_count": 1
  },
  {
   "metadata": {
    "ExecuteTime": {
     "end_time": "2024-07-26T13:42:45.558818Z",
     "start_time": "2024-07-26T13:42:38.925470Z"
    }
   },
   "cell_type": "code",
   "source": "data_dict = pd.read_pickle(r'D:\\My_Github\\Projects_data\\B_FOF_Select\\data\\output\\data_dict.pkl')",
   "id": "d49acea209c4f9d2",
   "outputs": [],
   "execution_count": 2
  },
  {
   "metadata": {
    "ExecuteTime": {
     "end_time": "2024-07-26T13:42:45.578659Z",
     "start_time": "2024-07-26T13:42:45.573471Z"
    }
   },
   "cell_type": "code",
   "source": "data_dict.keys()",
   "id": "590b32f268544dba",
   "outputs": [
    {
     "data": {
      "text/plain": [
       "dict_keys(['a_setup_date', 'a_nav_unit_data', 'a_equity_data', 'y_nav_unit_data', 'y_setup_date', 'b_close_df', 'b_comp_code_dict', 'b_comp_equity', 'b_comp_equity_center'])"
      ]
     },
     "execution_count": 4,
     "metadata": {},
     "output_type": "execute_result"
    }
   ],
   "execution_count": 4
  },
  {
   "metadata": {
    "ExecuteTime": {
     "end_time": "2024-07-26T13:44:05.189530Z",
     "start_time": "2024-07-26T13:44:05.185007Z"
    }
   },
   "cell_type": "code",
   "source": [
    "for i in data_dict.keys():\n",
    "    globals()[i] = data_dict[i]"
   ],
   "id": "2663f4265d8a3a60",
   "outputs": [],
   "execution_count": 5
  },
  {
   "metadata": {
    "ExecuteTime": {
     "end_time": "2024-07-26T13:44:15.298679Z",
     "start_time": "2024-07-26T13:44:15.286245Z"
    }
   },
   "cell_type": "code",
   "source": "a_equity_data.head()",
   "id": "a031f7e252a55def",
   "outputs": [
    {
     "data": {
      "text/plain": [
       "  main_code  ann_date  end_date stock_code mktval_net_asset report_type\n",
       "0    006245  20200408  20191231     000001       0.93336527        年度报告\n",
       "1    006245  20200121  20191231     000001       0.76720917        第四季报\n",
       "2    006245  20200408  20191231     000002       1.10788614        年度报告\n",
       "3    006245  20200121  20191231     000002       0.56451052        第四季报\n",
       "4    006245  20200408  20191231     000063       0.50301245        年度报告"
      ],
      "text/html": [
       "<div>\n",
       "<style scoped>\n",
       "    .dataframe tbody tr th:only-of-type {\n",
       "        vertical-align: middle;\n",
       "    }\n",
       "\n",
       "    .dataframe tbody tr th {\n",
       "        vertical-align: top;\n",
       "    }\n",
       "\n",
       "    .dataframe thead th {\n",
       "        text-align: right;\n",
       "    }\n",
       "</style>\n",
       "<table border=\"1\" class=\"dataframe\">\n",
       "  <thead>\n",
       "    <tr style=\"text-align: right;\">\n",
       "      <th></th>\n",
       "      <th>main_code</th>\n",
       "      <th>ann_date</th>\n",
       "      <th>end_date</th>\n",
       "      <th>stock_code</th>\n",
       "      <th>mktval_net_asset</th>\n",
       "      <th>report_type</th>\n",
       "    </tr>\n",
       "  </thead>\n",
       "  <tbody>\n",
       "    <tr>\n",
       "      <th>0</th>\n",
       "      <td>006245</td>\n",
       "      <td>20200408</td>\n",
       "      <td>20191231</td>\n",
       "      <td>000001</td>\n",
       "      <td>0.93336527</td>\n",
       "      <td>年度报告</td>\n",
       "    </tr>\n",
       "    <tr>\n",
       "      <th>1</th>\n",
       "      <td>006245</td>\n",
       "      <td>20200121</td>\n",
       "      <td>20191231</td>\n",
       "      <td>000001</td>\n",
       "      <td>0.76720917</td>\n",
       "      <td>第四季报</td>\n",
       "    </tr>\n",
       "    <tr>\n",
       "      <th>2</th>\n",
       "      <td>006245</td>\n",
       "      <td>20200408</td>\n",
       "      <td>20191231</td>\n",
       "      <td>000002</td>\n",
       "      <td>1.10788614</td>\n",
       "      <td>年度报告</td>\n",
       "    </tr>\n",
       "    <tr>\n",
       "      <th>3</th>\n",
       "      <td>006245</td>\n",
       "      <td>20200121</td>\n",
       "      <td>20191231</td>\n",
       "      <td>000002</td>\n",
       "      <td>0.56451052</td>\n",
       "      <td>第四季报</td>\n",
       "    </tr>\n",
       "    <tr>\n",
       "      <th>4</th>\n",
       "      <td>006245</td>\n",
       "      <td>20200408</td>\n",
       "      <td>20191231</td>\n",
       "      <td>000063</td>\n",
       "      <td>0.50301245</td>\n",
       "      <td>年度报告</td>\n",
       "    </tr>\n",
       "  </tbody>\n",
       "</table>\n",
       "</div>"
      ]
     },
     "execution_count": 6,
     "metadata": {},
     "output_type": "execute_result"
    }
   ],
   "execution_count": 6
  },
  {
   "metadata": {},
   "cell_type": "code",
   "outputs": [],
   "execution_count": null,
   "source": "",
   "id": "3de9546429b4c857"
  }
 ],
 "metadata": {
  "kernelspec": {
   "display_name": "Python 3",
   "language": "python",
   "name": "python3"
  },
  "language_info": {
   "codemirror_mode": {
    "name": "ipython",
    "version": 2
   },
   "file_extension": ".py",
   "mimetype": "text/x-python",
   "name": "python",
   "nbconvert_exporter": "python",
   "pygments_lexer": "ipython2",
   "version": "2.7.6"
  }
 },
 "nbformat": 4,
 "nbformat_minor": 5
}
