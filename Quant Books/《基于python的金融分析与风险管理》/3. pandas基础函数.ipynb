{
 "cells": [
  {
   "cell_type": "markdown",
   "source": [
    "# Pandas常用函数讲解"
   ],
   "metadata": {
    "collapsed": false
   },
   "id": "b9de2443f322f642"
  },
  {
   "cell_type": "markdown",
   "source": [
    "## 3.1 pandas的数据结构"
   ],
   "metadata": {
    "collapsed": false
   },
   "id": "8826c71c93e592ba"
  },
  {
   "cell_type": "markdown",
   "source": [
    "### 3.1.1 序列"
   ],
   "metadata": {
    "collapsed": false
   },
   "id": "f771769ea9f0084d"
  },
  {
   "cell_type": "code",
   "source": [
    "import pandas as pd\n",
    "import warnings\n",
    "warnings.filterwarnings(\"ignore\", category=FutureWarning)\n",
    "pd.__version__"
   ],
   "metadata": {
    "collapsed": false,
    "ExecuteTime": {
     "end_time": "2024-02-28T15:11:30.668865100Z",
     "start_time": "2024-02-28T15:11:30.657407200Z"
    }
   },
   "id": "4b4df3dad02508c3",
   "execution_count": 73,
   "outputs": []
  },
  {
   "cell_type": "code",
   "source": [
    "# 序列\n",
    "return_series1 = pd.Series(data=[0.003731,-0.001838,-0.003087,-\n",
    "0.024112],index=['中国石油','工商银行','上汽集团','宝钢股份'])\n",
    "return_series1"
   ],
   "metadata": {
    "collapsed": false,
    "ExecuteTime": {
     "end_time": "2024-02-28T14:02:39.782602100Z",
     "start_time": "2024-02-28T14:02:39.775340300Z"
    }
   },
   "id": "e4a7f29cf3c4dde9",
   "execution_count": 10,
   "outputs": []
  },
  {
   "cell_type": "code",
   "source": [
    "import numpy as np\n",
    "return_list = [0.003731, 0.021066, -0.004854, 0.006098,-0.006060, -0.001838, 0.001842, -0.016544, -0.003738, 0.003752, -0.003087, -0.000344, -0.033391,0.007123, 0.004597, -0.024112, 0.011704, -0.029563, -0.014570, 0.016129]\n",
    "return_array = np.array(return_list)\n",
    "return_array = return_array.reshape(4,5)\n",
    "return_array"
   ],
   "metadata": {
    "collapsed": false,
    "ExecuteTime": {
     "end_time": "2024-02-28T14:03:31.060660600Z",
     "start_time": "2024-02-28T14:03:31.045640100Z"
    }
   },
   "id": "65e101ce89ff428b",
   "execution_count": 11,
   "outputs": []
  },
  {
   "cell_type": "markdown",
   "source": [
    "### 3.1.2数据框"
   ],
   "metadata": {
    "collapsed": false
   },
   "id": "d57a013e074c304"
  },
  {
   "cell_type": "code",
   "source": [
    "date=['2018-9-3','2018-9-4','2018-9-5','2018-9-6','2018-9-7']\n",
    "stock=['中国石油','工商银行','上汽集团','宝钢股份']\n",
    "return_dataframe=pd.DataFrame(data=return_array.T,index=date,columns=stock)\n",
    "print(return_dataframe)"
   ],
   "metadata": {
    "collapsed": false,
    "ExecuteTime": {
     "end_time": "2024-02-28T14:04:49.377227400Z",
     "start_time": "2024-02-28T14:04:49.368811500Z"
    }
   },
   "id": "71701c1af3fd4e1e",
   "execution_count": 13,
   "outputs": []
  },
  {
   "cell_type": "code",
   "source": [
    "# 输出数据\n",
    "return_dataframe.to_excel(r'C:\\Users\\Zhang ZhiXin\\Desktop\\data.xlsx')\n",
    "# return_dataframe.to_csv('D:/myTempData_Return.csv')\n",
    "# return_dataframe.to_csv('D:/myTempData_Return.txt')"
   ],
   "metadata": {
    "collapsed": false,
    "ExecuteTime": {
     "end_time": "2024-02-28T14:15:53.208356800Z",
     "start_time": "2024-02-28T14:15:53.164999Z"
    }
   },
   "id": "66043de76ba37fca",
   "execution_count": 21,
   "outputs": []
  },
  {
   "cell_type": "markdown",
   "source": [
    "### 3.1.3 外部数据导入并直接生成数据框"
   ],
   "metadata": {
    "collapsed": false
   },
   "id": "c3cb7102d7ee226"
  },
  {
   "cell_type": "code",
   "source": [
    "# 从本地读入数据\n",
    "data = pd.read_excel(r'C:\\Users\\Zhang ZhiXin\\Desktop\\data.xlsx')\n",
    "data"
   ],
   "metadata": {
    "collapsed": false,
    "ExecuteTime": {
     "end_time": "2024-02-28T14:16:14.875777100Z",
     "start_time": "2024-02-28T14:16:14.861593100Z"
    }
   },
   "id": "662ce5455a0e7c57",
   "execution_count": 23,
   "outputs": []
  },
  {
   "cell_type": "code",
   "source": [
    "# 从tushare获取数据\n",
    "import tushare as ts\n",
    "token_key='dc0da43c9ec5549606a55f236aa4c998c9b6f3ba9f25422f8c7b3df7'\n",
    "pro=ts.pro_api(token_key)\n",
    "PFYH_excel2 = pro.daily(ts_code='600000.SH', start_date='20180101', end_date='20180331')\n",
    "PFYH_excel2"
   ],
   "metadata": {
    "collapsed": false,
    "ExecuteTime": {
     "end_time": "2024-02-28T14:28:12.458081300Z",
     "start_time": "2024-02-28T14:28:12.234726600Z"
    }
   },
   "id": "310b8e35bff57398",
   "execution_count": 27,
   "outputs": []
  },
  {
   "cell_type": "markdown",
   "source": [
    "## 3.2 数组框的可视化"
   ],
   "metadata": {
    "collapsed": false
   },
   "id": "41d662171bfc90a5"
  },
  {
   "cell_type": "markdown",
   "source": [
    "### 3.2.1 中文字体的可视化"
   ],
   "metadata": {
    "collapsed": false
   },
   "id": "1401a04df937051a"
  },
  {
   "cell_type": "code",
   "source": [
    "from pylab import mpl #导入子模块mpl\n",
    "mpl.rcParams['font.sans-serif']=['SimHei'] #以黑体字显示中文\n",
    "mpl.rcParams['axes.unicode_minus']=False #解决保存图像是负号‘_’为显示方块的问题"
   ],
   "metadata": {
    "collapsed": false,
    "ExecuteTime": {
     "end_time": "2024-02-28T14:22:12.941129300Z",
     "start_time": "2024-02-28T14:22:12.641308600Z"
    }
   },
   "id": "268195adc11aad8a",
   "execution_count": 24,
   "outputs": []
  },
  {
   "cell_type": "markdown",
   "source": [
    "| Windows的宇体名称 |    Python中对应的名称    |\n",
    "|:------------:|:------------------:|\n",
    "|      黑体      |       SimHei       |\n",
    "|     微软雅黑     |  Microsoft YaHei   |\n",
    "|    微软正黑体     | Microsoft JhengHei |\n",
    "|     新宋体      |      NSimSun       |\n",
    "|     新细明体     |      PMingLiU      |     \n",
    "|     细明体      |      MingLiU       |     \n",
    "|     标楷体      |      DFKai-SB      |     \n",
    "|      仿宋      |      FangSong      |    \n",
    "|      借体      |       KaiTi        |        \n",
    "|  仿宋_GB2312   |  FangSong_GB2312   | \n",
    "|  楷体_GB2312   |    KaiTi_GB2312    | "
   ],
   "metadata": {
    "collapsed": false
   },
   "id": "3a9fed3c32390eb"
  },
  {
   "cell_type": "markdown",
   "source": [
    "### 3.2.2 数据框可视化的函数"
   ],
   "metadata": {
    "collapsed": false
   },
   "id": "dc9afe66411dde8f"
  },
  {
   "cell_type": "markdown",
   "source": [
    "|   类型参数    |                  说 明                   |\n",
    "|:---------:|:--------------------------------------:|\n",
    "|  “line”   |      Line plot（折线图），模认情况下就是选择这类图形      |\n",
    "|   “bar”   |         Vertical bar plot（条形图）         |\n",
    "|   “box”   |              boxplot（箱线图）              |\n",
    "|  “barh”   |       horizontal bar plot（横向条形图）       |\n",
    "|  “hist”   |             histogram（性状图）             |\n",
    "|   “kde”   | Kernel Density Estimation plot（核密度估计图） |\n",
    "| “density” |                与’kde’相同                |\n",
    "|  “area”   |             area plot（区域图）             |\n",
    "|   “pie”   |              pie plot（饼图）              |\n",
    "| “scatter” |           scatter plot（散点图）            |\n",
    "| “hexbin”  |     hexagonal binning plot（六边形箱图）      |"
   ],
   "metadata": {
    "collapsed": false
   },
   "id": "762d4f7e133645b6"
  },
  {
   "cell_type": "code",
   "source": [
    "df=PFYH_excel2[['open','high','low','close']]\n",
    "df.plot(kind='line',subplots=True,sharex=True,sharey=True,layout=(2,2),figsize=(10,8),title=u'\"2600000.SH\"走势图',grid=True,fontsize=13)"
   ],
   "metadata": {
    "collapsed": false,
    "ExecuteTime": {
     "end_time": "2024-02-28T14:40:47.504733100Z",
     "start_time": "2024-02-28T14:40:47.233303700Z"
    }
   },
   "id": "ac867a6a634ab069",
   "execution_count": 34,
   "outputs": []
  },
  {
   "cell_type": "markdown",
   "source": [
    "## 3.3 数据框内部的操作"
   ],
   "metadata": {
    "collapsed": false
   },
   "id": "3222c78041cae138"
  },
  {
   "cell_type": "markdown",
   "source": [
    "### 3.3.1 描述数据框的基本性质"
   ],
   "metadata": {
    "collapsed": false
   },
   "id": "b8f4b096f1283e7a"
  },
  {
   "cell_type": "code",
   "source": [
    "df=pd.DataFrame(df)\n",
    "print(df.index) #查看行索引名\n",
    "print(df.columns) #查看列名"
   ],
   "metadata": {
    "collapsed": false,
    "ExecuteTime": {
     "end_time": "2024-02-28T14:43:54.157783700Z",
     "start_time": "2024-02-28T14:43:54.147664700Z"
    }
   },
   "id": "63cb2e957f0692df",
   "execution_count": 41,
   "outputs": []
  },
  {
   "cell_type": "code",
   "source": [
    "print(df.shape)\n",
    "print(df.shape[0])\n",
    "print(df.shape[1])"
   ],
   "metadata": {
    "collapsed": false,
    "ExecuteTime": {
     "end_time": "2024-02-28T14:45:02.241727300Z",
     "start_time": "2024-02-28T14:45:02.234653700Z"
    }
   },
   "id": "b07651e0dc9723a4",
   "execution_count": 45,
   "outputs": []
  },
  {
   "cell_type": "code",
   "source": [
    "df.describe()"
   ],
   "metadata": {
    "collapsed": false,
    "ExecuteTime": {
     "end_time": "2024-02-28T14:45:18.745917800Z",
     "start_time": "2024-02-28T14:45:18.738313600Z"
    }
   },
   "id": "2c8a619705031031",
   "execution_count": 46,
   "outputs": []
  },
  {
   "cell_type": "markdown",
   "source": [
    "### 3.3.2 数据框的索引与截取"
   ],
   "metadata": {
    "collapsed": false
   },
   "id": "cc4be9c194b84695"
  },
  {
   "cell_type": "code",
   "source": [
    "# 一般性截取\n",
    "df.iloc[::-1]"
   ],
   "metadata": {
    "collapsed": false,
    "ExecuteTime": {
     "end_time": "2024-02-28T14:47:58.361370600Z",
     "start_time": "2024-02-28T14:47:58.356759200Z"
    }
   },
   "id": "db0331281fe279d9",
   "execution_count": 53,
   "outputs": []
  },
  {
   "cell_type": "code",
   "source": [
    "df.close"
   ],
   "metadata": {
    "collapsed": false,
    "ExecuteTime": {
     "end_time": "2024-02-28T14:48:29.037873900Z",
     "start_time": "2024-02-28T14:48:29.032380100Z"
    }
   },
   "id": "dcf97326c6b79e4e",
   "execution_count": 54,
   "outputs": []
  },
  {
   "cell_type": "code",
   "source": [
    "df.iloc[:,3]"
   ],
   "metadata": {
    "collapsed": false,
    "ExecuteTime": {
     "end_time": "2024-02-28T14:49:32.181678400Z",
     "start_time": "2024-02-28T14:49:32.171949300Z"
    }
   },
   "id": "2e4f48b9ed84d2c5",
   "execution_count": 56,
   "outputs": []
  },
  {
   "cell_type": "code",
   "source": [
    "# 条件截取\n",
    "df[df.close>=13]"
   ],
   "metadata": {
    "collapsed": false,
    "ExecuteTime": {
     "end_time": "2024-02-28T14:52:04.391531Z",
     "start_time": "2024-02-28T14:52:04.384235900Z"
    }
   },
   "id": "74c1953573826370",
   "execution_count": 58,
   "outputs": []
  },
  {
   "cell_type": "code",
   "source": [
    "df.sort_values(by='close',ascending=True)"
   ],
   "metadata": {
    "collapsed": false,
    "ExecuteTime": {
     "end_time": "2024-02-28T14:59:30.413252700Z",
     "start_time": "2024-02-28T14:59:30.403744300Z"
    }
   },
   "id": "edc4e7a689757805",
   "execution_count": 59,
   "outputs": []
  },
  {
   "cell_type": "code",
   "source": [
    "df.rename(columns={'open':'Open','close':'Close','high':'High','low':'Low'})"
   ],
   "metadata": {
    "collapsed": false,
    "ExecuteTime": {
     "end_time": "2024-02-28T15:01:13.744962900Z",
     "start_time": "2024-02-28T15:01:13.730601400Z"
    }
   },
   "id": "36aecde20ab92f7f",
   "execution_count": 60,
   "outputs": []
  },
  {
   "cell_type": "code",
   "source": [
    "# 将固定位置指定为缺失值\n",
    "df.iloc[1,1]=np.nan\n",
    "df.iloc[2,2]=np.nan\n",
    "df"
   ],
   "metadata": {
    "collapsed": false,
    "ExecuteTime": {
     "end_time": "2024-02-28T15:05:10.285756800Z",
     "start_time": "2024-02-28T15:05:10.271492Z"
    }
   },
   "id": "bc5bad0b2fc837e0",
   "execution_count": 66,
   "outputs": []
  },
  {
   "cell_type": "code",
   "source": [
    "df_dropna=df.dropna()\n",
    "df_dropna"
   ],
   "metadata": {
    "collapsed": false,
    "ExecuteTime": {
     "end_time": "2024-02-28T15:06:12.763270300Z",
     "start_time": "2024-02-28T15:06:12.746699400Z"
    }
   },
   "id": "f791f712bc75de6",
   "execution_count": 67,
   "outputs": []
  },
  {
   "cell_type": "code",
   "source": [
    "df_fillzero=df.fillna(value=0)\n",
    "df_fillzero"
   ],
   "metadata": {
    "collapsed": false,
    "ExecuteTime": {
     "end_time": "2024-02-28T15:06:49.966777Z",
     "start_time": "2024-02-28T15:06:49.954565200Z"
    }
   },
   "id": "6c83940e3164ff7b",
   "execution_count": 69,
   "outputs": []
  },
  {
   "cell_type": "code",
   "source": [
    "df_ffill=df.fillna(method='ffill')\n",
    "df_ffill"
   ],
   "metadata": {
    "collapsed": false,
    "ExecuteTime": {
     "end_time": "2024-02-28T15:11:39.995094600Z",
     "start_time": "2024-02-28T15:11:39.983829500Z"
    }
   },
   "id": "f8c402f797edb937",
   "execution_count": 74,
   "outputs": []
  },
  {
   "cell_type": "code",
   "source": [
    "df_bfill=df.fillna(method='bfill')\n",
    "df_bfill"
   ],
   "metadata": {
    "collapsed": false,
    "ExecuteTime": {
     "end_time": "2024-02-28T15:12:00.130189100Z",
     "start_time": "2024-02-28T15:12:00.117746200Z"
    }
   },
   "id": "528bed77d5ec4563",
   "execution_count": 75,
   "outputs": []
  },
  {
   "cell_type": "markdown",
   "source": [
    "## 3.4 数据框之间的操作"
   ],
   "metadata": {
    "collapsed": false
   },
   "id": "4a3e5fcfa01804ba"
  },
  {
   "cell_type": "markdown",
   "source": [
    "###  3.4.1 生成两个新的数据框"
   ],
   "metadata": {
    "collapsed": false
   },
   "id": "9f91d82ff7e3eb10"
  },
  {
   "cell_type": "code",
   "source": [
    "df1=df\n",
    "df2=PFYH_excel2.iloc[:,6:]\n",
    "df2"
   ],
   "metadata": {
    "collapsed": false,
    "ExecuteTime": {
     "end_time": "2024-02-29T00:32:55.445172700Z",
     "start_time": "2024-02-29T00:32:55.390482Z"
    }
   },
   "id": "6bbdc0f15b5efbc7",
   "execution_count": 80,
   "outputs": []
  },
  {
   "cell_type": "code",
   "source": [
    "df2.head()"
   ],
   "metadata": {
    "collapsed": false,
    "ExecuteTime": {
     "end_time": "2024-02-29T00:33:32.974356Z",
     "start_time": "2024-02-29T00:33:32.927179700Z"
    }
   },
   "id": "4989679541ebcb3a",
   "execution_count": 81,
   "outputs": []
  },
  {
   "cell_type": "code",
   "source": [
    "df2.tail()"
   ],
   "metadata": {
    "collapsed": false,
    "ExecuteTime": {
     "end_time": "2024-02-29T00:33:40.639690600Z",
     "start_time": "2024-02-29T00:33:40.600064300Z"
    }
   },
   "id": "caacf557605c796f",
   "execution_count": 82,
   "outputs": []
  },
  {
   "cell_type": "code",
   "source": [
    "# 按列进行拼接\n",
    "stock_new=pd.concat([df1,df2],axis=1)\n",
    "stock_new.head()"
   ],
   "metadata": {
    "collapsed": false,
    "ExecuteTime": {
     "end_time": "2024-02-29T00:34:29.791037200Z",
     "start_time": "2024-02-29T00:34:29.770229Z"
    }
   },
   "id": "6d174a66e557bd1d",
   "execution_count": 83,
   "outputs": []
  },
  {
   "cell_type": "code",
   "source": [
    "stock_new=pd.merge(left=df1,right=df2,left_index=True,right_index=True,how='inner')\n",
    "stock_new.head()"
   ],
   "metadata": {
    "collapsed": false,
    "ExecuteTime": {
     "end_time": "2024-02-29T00:36:21.826920800Z",
     "start_time": "2024-02-29T00:36:21.799240700Z"
    }
   },
   "id": "f05089c934c79b18",
   "execution_count": 85,
   "outputs": []
  },
  {
   "cell_type": "code",
   "source": [
    "stock_new=df1.join(df2)\n",
    "stock_new.head()"
   ],
   "metadata": {
    "collapsed": false,
    "ExecuteTime": {
     "end_time": "2024-02-29T00:38:16.710783400Z",
     "start_time": "2024-02-29T00:38:16.646194700Z"
    }
   },
   "id": "80062e1ab2d35fd0",
   "execution_count": 86,
   "outputs": []
  },
  {
   "cell_type": "markdown",
   "source": [
    "## 3.5 数组框的主要统计函数"
   ],
   "metadata": {
    "collapsed": false
   },
   "id": "69a8a9f7662774a4"
  },
  {
   "cell_type": "markdown",
   "source": [
    "### 3.5.1 静态的统计函数"
   ],
   "metadata": {
    "collapsed": false
   },
   "id": "6820a9453365fc3a"
  },
  {
   "cell_type": "markdown",
   "source": [
    "|     函数     |                              函数含义                              |\n",
    "|:----------:|:--------------------------------------------------------------:|\n",
    "|    diff    |                计算一阶差分，注：diff是差分英文difference的编写                 |\n",
    "|   ixmax    |              最大值的行索引值 注：idxmax是英文index maximum的缩写              |\n",
    "|   idxmin   |              最小值的行索引值 注：idxmin是英文index minimum的缩写              |\n",
    "|    kurt    |                 峰度（四阶矩） 注：kurt是峰度英文kurtosis的缩写                 |\n",
    "|    max     |                              最大值                               |\n",
    "|    mean    |                              平均值                               |\n",
    "|   median   |                              中位数                               |\n",
    "|    min     |                              最小值                               |\n",
    "| pct_change |         百分比变化 注：pet_change是百分比变化英文percentage change的缩写         |\n",
    "|  quantile  |            分位数 其中函数需要设定参数q=分位数，默认为q=0.5，也就是50%的分位数             |\n",
    "|   shift    |                             数据框移动                              |\n",
    "|    std     |                             样本标准差                              |\n",
    "|    sum     |                               求和                               |\n",
    "|    var     |                              样本方差                              |\n",
    "|   cumsum   |  累计求和、也就是依次给出前1、2、...、n个数的和  注：cumsum是累计求和英文cumulative sum的缩写  |\n",
    "|  cumprod   | 累计求积，依次给出前1、2、...、n个数的积  注：cumprod是累计求和英文cumulative product的缩写 |\n",
    "|    corr    |                              相关系数                              |"
   ],
   "metadata": {
    "collapsed": false
   },
   "id": "5418aefe05695f8d"
  },
  {
   "cell_type": "markdown",
   "source": [
    "### 3.5.2移动窗口与动态统计函数"
   ],
   "metadata": {
    "collapsed": false
   },
   "id": "9c22525610b7a316"
  },
  {
   "cell_type": "code",
   "source": [
    "stock_ma = stock_new.close.rolling(window=20).mean() #生成一个20日平均收盘点位的序列\n",
    "stock_ma_df = stock_ma.to_frame() #将序列变成数据框\n",
    "stock_ma_df.rename(columns={'close':'ma20'})\n",
    "stock_close_df=stock_new.close.to_frame() #生成每日收盘点位的序列\n",
    "merge_data=pd.concat([stock_close_df,stock_ma_df],axis=1) #生成包括每日收盘点位，20日平均收盘点位的新数据框\n",
    "merge_data.plot(figsize=(10,7),title=u'收盘价和均线相关走势',grid=True,fontsize=12)"
   ],
   "metadata": {
    "collapsed": false,
    "ExecuteTime": {
     "end_time": "2024-02-29T01:06:00.217059Z",
     "start_time": "2024-02-29T01:05:59.613831700Z"
    }
   },
   "id": "a37183bfa2cf648",
   "execution_count": 89,
   "outputs": []
  },
  {
   "cell_type": "code",
   "source": [
    "# 生成60天时间窗口的沪深300指数收盘点位的移动波动率（移动标准差），并且进行可视化\n",
    "stock_ms=stock_new.close.rolling(window=10).std()\n",
    "stock_ms_df=stock_ms.to_frame()\n",
    "stock_ms_df=stock_ms_df.rename({'close':'10日收盘价的波动率'})\n",
    "stock_ms_df.plot(figsize=(10,7),title=\"股票收盘价10日移动波动率\")"
   ],
   "metadata": {
    "collapsed": false,
    "ExecuteTime": {
     "end_time": "2024-02-29T01:17:50.447506300Z",
     "start_time": "2024-02-29T01:17:50.220767900Z"
    }
   },
   "id": "668f79385b582711",
   "execution_count": 90,
   "outputs": []
  },
  {
   "cell_type": "markdown",
   "source": [
    "##### 1.在Python 2中，加上u前缀可以明确表示字符串是Unicode字符串，这在处理多语言文本或者需要支持各种字符集的情况下非常有用。\n",
    "##### 2.在Python 3中，所有字符串都是Unicode字符串，因此不再需要前缀u。"
   ],
   "metadata": {
    "collapsed": false
   },
   "id": "81d21aa76d226bc3"
  }
 ],
 "metadata": {
  "kernelspec": {
   "display_name": "Python 3",
   "language": "python",
   "name": "python3"
  },
  "language_info": {
   "codemirror_mode": {
    "name": "ipython",
    "version": 2
   },
   "file_extension": ".py",
   "mimetype": "text/x-python",
   "name": "python",
   "nbconvert_exporter": "python",
   "pygments_lexer": "ipython2",
   "version": "2.7.6"
  }
 },
 "nbformat": 4,
 "nbformat_minor": 5
}
