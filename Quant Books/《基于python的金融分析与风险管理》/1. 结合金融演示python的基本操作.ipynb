{
 "cells": [
  {
   "cell_type": "markdown",
   "source": [
    "# 第一章：结合金融演示python基本编程"
   ],
   "metadata": {
    "collapsed": false
   },
   "id": "d3c9c505d335f55d"
  },
  {
   "cell_type": "markdown",
   "source": [
    "## 1.1 关于python的简要介绍\n",
    "### 1.1.1 python的集成安装"
   ],
   "metadata": {
    "collapsed": false
   },
   "id": "90fb701df979a0a4"
  },
  {
   "cell_type": "markdown",
   "source": [
    "#### （1）Anaconda"
   ],
   "metadata": {
    "collapsed": false
   },
   "id": "a0550692324f9198"
  },
  {
   "cell_type": "markdown",
   "source": [
    "###### Spyder的界面更加简洁，上手难度比较小。\n",
    "###### Orange3对于学习机器学习来说帮助很大"
   ],
   "metadata": {
    "collapsed": false
   },
   "id": "a44982a0ce659df2"
  },
  {
   "cell_type": "markdown",
   "source": [
    "#### （2) Pycharm 专业版"
   ],
   "metadata": {
    "collapsed": false
   },
   "id": "93419c75bfe0fa5f"
  },
  {
   "cell_type": "markdown",
   "source": [
    "###### 一是：上手难度比较大，但是对于代码的提示能力远超于spyder，能够极大提升程序员开发效率\n",
    "###### 二是：功能更加强大，比较适合专业量化研究策略开发。\n",
    "###### 三是：可以连接数据库，直接在软件内部查询获取响应数据\n",
    "###### 四是：支持Git，更方便协同编写代码"
   ],
   "metadata": {
    "collapsed": false
   },
   "id": "adfcb0b62517a5a7"
  },
  {
   "cell_type": "markdown",
   "source": [
    "## 1.2 Python 的变量赋值与数据类型\n"
   ],
   "metadata": {
    "collapsed": false
   },
   "id": "43e4264ee6ef737c"
  },
  {
   "cell_type": "code",
   "outputs": [],
   "source": [
    "rate=0.08"
   ],
   "metadata": {
    "collapsed": false,
    "ExecuteTime": {
     "end_time": "2024-01-20T09:48:06.425826500Z",
     "start_time": "2024-01-20T09:48:05.800442700Z"
    }
   },
   "id": "9c47b8d2ca1b5301",
   "execution_count": 142
  },
  {
   "cell_type": "code",
   "outputs": [],
   "source": [
    "r=0.08"
   ],
   "metadata": {
    "collapsed": false,
    "ExecuteTime": {
     "end_time": "2024-01-20T09:48:06.466290700Z",
     "start_time": "2024-01-20T09:48:06.426878500Z"
    }
   },
   "id": "58c89b1d3ec85247",
   "execution_count": 143
  },
  {
   "cell_type": "code",
   "outputs": [
    {
     "data": {
      "text/plain": "0.05"
     },
     "execution_count": 144,
     "metadata": {},
     "output_type": "execute_result"
    }
   ],
   "source": [
    "rate=0.05\n",
    "rate"
   ],
   "metadata": {
    "collapsed": false,
    "ExecuteTime": {
     "end_time": "2024-01-20T09:48:06.497592400Z",
     "start_time": "2024-01-20T09:48:06.459242200Z"
    }
   },
   "id": "7a5dfe44408d13f",
   "execution_count": 144
  },
  {
   "cell_type": "code",
   "outputs": [
    {
     "data": {
      "text/plain": "0.04"
     },
     "execution_count": 145,
     "metadata": {},
     "output_type": "execute_result"
    }
   ],
   "source": [
    "# 对rate变量重新赋值，覆盖\n",
    "rate=0.04\n",
    "rate"
   ],
   "metadata": {
    "collapsed": false,
    "ExecuteTime": {
     "end_time": "2024-01-20T09:48:06.534405500Z",
     "start_time": "2024-01-20T09:48:06.498690900Z"
    }
   },
   "id": "5a9c17577e9e0cfb",
   "execution_count": 145
  },
  {
   "cell_type": "markdown",
   "source": [
    "### 1.2.1 整型"
   ],
   "metadata": {
    "collapsed": false
   },
   "id": "a897cc5a758fa730"
  },
  {
   "cell_type": "code",
   "outputs": [
    {
     "data": {
      "text/plain": "int"
     },
     "execution_count": 146,
     "metadata": {},
     "output_type": "execute_result"
    }
   ],
   "source": [
    "share = 100\n",
    "type(share)"
   ],
   "metadata": {
    "collapsed": false,
    "ExecuteTime": {
     "end_time": "2024-01-20T09:48:06.610485300Z",
     "start_time": "2024-01-20T09:48:06.525288400Z"
    }
   },
   "id": "3f87cadd75ae4c9",
   "execution_count": 146
  },
  {
   "cell_type": "markdown",
   "source": [
    "### 1.2.2 浮点型"
   ],
   "metadata": {
    "collapsed": false
   },
   "id": "d1204bca175a4424"
  },
  {
   "cell_type": "code",
   "outputs": [
    {
     "data": {
      "text/plain": "float"
     },
     "execution_count": 147,
     "metadata": {},
     "output_type": "execute_result"
    }
   ],
   "source": [
    "type(rate)"
   ],
   "metadata": {
    "collapsed": false,
    "ExecuteTime": {
     "end_time": "2024-01-20T09:48:06.642699300Z",
     "start_time": "2024-01-20T09:48:06.601713400Z"
    }
   },
   "id": "d1a11d986ab32dbc",
   "execution_count": 147
  },
  {
   "cell_type": "code",
   "outputs": [
    {
     "data": {
      "text/plain": "float"
     },
     "execution_count": 148,
     "metadata": {},
     "output_type": "execute_result"
    }
   ],
   "source": [
    "share1=20000.\n",
    "type(share1)"
   ],
   "metadata": {
    "collapsed": false,
    "ExecuteTime": {
     "end_time": "2024-01-20T09:48:06.709376500Z",
     "start_time": "2024-01-20T09:48:06.635661100Z"
    }
   },
   "id": "9384bf753c0a10e3",
   "execution_count": 148
  },
  {
   "cell_type": "code",
   "outputs": [
    {
     "data": {
      "text/plain": "float"
     },
     "execution_count": 149,
     "metadata": {},
     "output_type": "execute_result"
    }
   ],
   "source": [
    "share2=2e4\n",
    "type(share2)"
   ],
   "metadata": {
    "collapsed": false,
    "ExecuteTime": {
     "end_time": "2024-01-20T09:48:06.733338200Z",
     "start_time": "2024-01-20T09:48:06.702270600Z"
    }
   },
   "id": "edeb96e80cb3b460",
   "execution_count": 149
  },
  {
   "cell_type": "markdown",
   "source": [
    "### 1.2.3 复数"
   ],
   "metadata": {
    "collapsed": false
   },
   "id": "832c68eb7896104d"
  },
  {
   "cell_type": "code",
   "outputs": [
    {
     "data": {
      "text/plain": "complex"
     },
     "execution_count": 150,
     "metadata": {},
     "output_type": "execute_result"
    }
   ],
   "source": [
    "a=2+3j\n",
    "type(a)"
   ],
   "metadata": {
    "collapsed": false,
    "ExecuteTime": {
     "end_time": "2024-01-20T09:48:06.805043600Z",
     "start_time": "2024-01-20T09:48:06.734339700Z"
    }
   },
   "id": "73e4cd0b056e5901",
   "execution_count": 150
  },
  {
   "cell_type": "code",
   "outputs": [
    {
     "data": {
      "text/plain": "complex"
     },
     "execution_count": 151,
     "metadata": {},
     "output_type": "execute_result"
    }
   ],
   "source": [
    "type(a)"
   ],
   "metadata": {
    "collapsed": false,
    "ExecuteTime": {
     "end_time": "2024-01-20T09:48:06.824187Z",
     "start_time": "2024-01-20T09:48:06.791735600Z"
    }
   },
   "id": "62381e0559b2802f",
   "execution_count": 151
  },
  {
   "cell_type": "markdown",
   "source": [
    "### 1.2.4 字符串"
   ],
   "metadata": {
    "collapsed": false
   },
   "id": "197128e634b11c7d"
  },
  {
   "cell_type": "code",
   "outputs": [
    {
     "data": {
      "text/plain": "str"
     },
     "execution_count": 152,
     "metadata": {},
     "output_type": "execute_result"
    }
   ],
   "source": [
    "a='finance'\n",
    "type(a)"
   ],
   "metadata": {
    "collapsed": false,
    "ExecuteTime": {
     "end_time": "2024-01-20T09:48:06.906427600Z",
     "start_time": "2024-01-20T09:48:06.824187Z"
    }
   },
   "id": "faf4e6813ed22bf",
   "execution_count": 152
  },
  {
   "cell_type": "code",
   "outputs": [
    {
     "data": {
      "text/plain": "str"
     },
     "execution_count": 153,
     "metadata": {},
     "output_type": "execute_result"
    }
   ],
   "source": [
    "b=\"risk management\"\n",
    "type(b)"
   ],
   "metadata": {
    "collapsed": false,
    "ExecuteTime": {
     "end_time": "2024-01-20T09:48:06.926935600Z",
     "start_time": "2024-01-20T09:48:06.894321Z"
    }
   },
   "id": "305eea7d68bccf42",
   "execution_count": 153
  },
  {
   "cell_type": "code",
   "outputs": [
    {
     "data": {
      "text/plain": "str"
     },
     "execution_count": 154,
     "metadata": {},
     "output_type": "execute_result"
    }
   ],
   "source": [
    "c='金融风险管理'\n",
    "type(c)"
   ],
   "metadata": {
    "collapsed": false,
    "ExecuteTime": {
     "end_time": "2024-01-20T09:48:06.990307500Z",
     "start_time": "2024-01-20T09:48:06.926935600Z"
    }
   },
   "id": "1ffe61387c2d18f5",
   "execution_count": 154
  },
  {
   "cell_type": "code",
   "outputs": [
    {
     "data": {
      "text/plain": "str"
     },
     "execution_count": 155,
     "metadata": {},
     "output_type": "execute_result"
    }
   ],
   "source": [
    "d='888'\n",
    "type(d)"
   ],
   "metadata": {
    "collapsed": false,
    "ExecuteTime": {
     "end_time": "2024-01-20T09:48:07.011357600Z",
     "start_time": "2024-01-20T09:48:06.977839Z"
    }
   },
   "id": "8a1369a69c70637d",
   "execution_count": 155
  },
  {
   "cell_type": "code",
   "outputs": [
    {
     "data": {
      "text/plain": "str"
     },
     "execution_count": 156,
     "metadata": {},
     "output_type": "execute_result"
    }
   ],
   "source": [
    "e='1+1'\n",
    "type(e)"
   ],
   "metadata": {
    "collapsed": false,
    "ExecuteTime": {
     "end_time": "2024-01-20T09:48:07.076834Z",
     "start_time": "2024-01-20T09:48:07.011357600Z"
    }
   },
   "id": "3d2452b35ffa4bcf",
   "execution_count": 156
  },
  {
   "cell_type": "code",
   "outputs": [
    {
     "data": {
      "text/plain": "'f'"
     },
     "execution_count": 157,
     "metadata": {},
     "output_type": "execute_result"
    }
   ],
   "source": [
    "a[0]"
   ],
   "metadata": {
    "collapsed": false,
    "ExecuteTime": {
     "end_time": "2024-01-20T09:48:07.091520800Z",
     "start_time": "2024-01-20T09:48:07.065377400Z"
    }
   },
   "id": "d31f23e252621954",
   "execution_count": 157
  },
  {
   "cell_type": "code",
   "outputs": [
    {
     "data": {
      "text/plain": "'a'"
     },
     "execution_count": 158,
     "metadata": {},
     "output_type": "execute_result"
    }
   ],
   "source": [
    "a[3]"
   ],
   "metadata": {
    "collapsed": false,
    "ExecuteTime": {
     "end_time": "2024-01-20T09:48:07.158786Z",
     "start_time": "2024-01-20T09:48:07.092642800Z"
    }
   },
   "id": "27f382092d408a74",
   "execution_count": 158
  },
  {
   "cell_type": "code",
   "outputs": [
    {
     "data": {
      "text/plain": "'e'"
     },
     "execution_count": 159,
     "metadata": {},
     "output_type": "execute_result"
    }
   ],
   "source": [
    "a[-1]"
   ],
   "metadata": {
    "collapsed": false,
    "ExecuteTime": {
     "end_time": "2024-01-20T09:48:07.170288Z",
     "start_time": "2024-01-20T09:48:07.148794400Z"
    }
   },
   "id": "fbdc000142980aa1",
   "execution_count": 159
  },
  {
   "cell_type": "code",
   "outputs": [
    {
     "data": {
      "text/plain": "'hate'"
     },
     "execution_count": 160,
     "metadata": {},
     "output_type": "execute_result"
    }
   ],
   "source": [
    "# 字符串[start:end:step]\n",
    "y='I hate risk'\n",
    "y[2:6]"
   ],
   "metadata": {
    "collapsed": false,
    "ExecuteTime": {
     "end_time": "2024-01-20T09:48:07.253874700Z",
     "start_time": "2024-01-20T09:48:07.170288Z"
    }
   },
   "id": "10fbde519068929b",
   "execution_count": 160
  },
  {
   "cell_type": "code",
   "outputs": [
    {
     "data": {
      "text/plain": "'risk'"
     },
     "execution_count": 161,
     "metadata": {},
     "output_type": "execute_result"
    }
   ],
   "source": [
    "y[7:]"
   ],
   "metadata": {
    "collapsed": false,
    "ExecuteTime": {
     "end_time": "2024-01-20T09:48:07.270740400Z",
     "start_time": "2024-01-20T09:48:07.241614700Z"
    }
   },
   "id": "7613cc80d610902e",
   "execution_count": 161
  },
  {
   "cell_type": "code",
   "outputs": [
    {
     "data": {
      "text/plain": "'I hate'"
     },
     "execution_count": 162,
     "metadata": {},
     "output_type": "execute_result"
    }
   ],
   "source": [
    "y[:6]"
   ],
   "metadata": {
    "collapsed": false,
    "ExecuteTime": {
     "end_time": "2024-01-20T09:48:07.340805900Z",
     "start_time": "2024-01-20T09:48:07.267744500Z"
    }
   },
   "id": "813b0c5dc6f12ac6",
   "execution_count": 162
  },
  {
   "cell_type": "code",
   "outputs": [
    {
     "data": {
      "text/plain": "'lrme'"
     },
     "execution_count": 163,
     "metadata": {},
     "output_type": "execute_result"
    }
   ],
   "source": [
    "z='I love risk management'\n",
    "z[2:20:5]"
   ],
   "metadata": {
    "collapsed": false,
    "ExecuteTime": {
     "end_time": "2024-01-20T09:48:07.365071800Z",
     "start_time": "2024-01-20T09:48:07.329646600Z"
    }
   },
   "id": "e61fef0e07b7c045",
   "execution_count": 163
  },
  {
   "cell_type": "code",
   "outputs": [
    {
     "data": {
      "text/plain": "'I hate risk'"
     },
     "execution_count": 164,
     "metadata": {},
     "output_type": "execute_result"
    }
   ],
   "source": [
    "w='I love risk'\n",
    "w.replace('love','hate')"
   ],
   "metadata": {
    "collapsed": false,
    "ExecuteTime": {
     "end_time": "2024-01-20T09:48:07.400318Z",
     "start_time": "2024-01-20T09:48:07.358648900Z"
    }
   },
   "id": "91ca62a8678d7050",
   "execution_count": 164
  },
  {
   "cell_type": "markdown",
   "source": [
    "## 1.3 python的数据结构"
   ],
   "metadata": {
    "collapsed": false
   },
   "id": "7ceb328f7b395206"
  },
  {
   "cell_type": "markdown",
   "source": [
    "### 1.3.1 元组"
   ],
   "metadata": {
    "collapsed": false
   },
   "id": "bcb6dc818db668dd"
  },
  {
   "cell_type": "code",
   "outputs": [
    {
     "data": {
      "text/plain": "tuple"
     },
     "execution_count": 165,
     "metadata": {},
     "output_type": "execute_result"
    }
   ],
   "source": [
    "tup1=()\n",
    "type(tup1)"
   ],
   "metadata": {
    "collapsed": false,
    "ExecuteTime": {
     "end_time": "2024-01-20T09:48:07.454204Z",
     "start_time": "2024-01-20T09:48:07.401401800Z"
    }
   },
   "id": "a3c4c36043a659fb",
   "execution_count": 165
  },
  {
   "cell_type": "code",
   "outputs": [
    {
     "data": {
      "text/plain": "tuple"
     },
     "execution_count": 166,
     "metadata": {},
     "output_type": "execute_result"
    }
   ],
   "source": [
    "tup2=(3,)\n",
    "type(tup2)"
   ],
   "metadata": {
    "collapsed": false,
    "ExecuteTime": {
     "end_time": "2024-01-20T09:48:07.513230900Z",
     "start_time": "2024-01-20T09:48:07.446442300Z"
    }
   },
   "id": "babb0df6d0989d99",
   "execution_count": 166
  },
  {
   "cell_type": "code",
   "outputs": [
    {
     "data": {
      "text/plain": "tuple"
     },
     "execution_count": 167,
     "metadata": {},
     "output_type": "execute_result"
    }
   ],
   "source": [
    "tup4=('finance','风险管理','2021',88.88)\n",
    "type(tup4)"
   ],
   "metadata": {
    "collapsed": false,
    "ExecuteTime": {
     "end_time": "2024-01-20T09:48:07.533157Z",
     "start_time": "2024-01-20T09:48:07.505130200Z"
    }
   },
   "id": "c8b7f1aa0f6b9c57",
   "execution_count": 167
  },
  {
   "cell_type": "code",
   "outputs": [
    {
     "data": {
      "text/plain": "'finance'"
     },
     "execution_count": 168,
     "metadata": {},
     "output_type": "execute_result"
    }
   ],
   "source": [
    "tup4[0]"
   ],
   "metadata": {
    "collapsed": false,
    "ExecuteTime": {
     "end_time": "2024-01-20T09:48:07.564159600Z",
     "start_time": "2024-01-20T09:48:07.534223800Z"
    }
   },
   "id": "3b44f657c784b549",
   "execution_count": 168
  },
  {
   "cell_type": "code",
   "outputs": [
    {
     "data": {
      "text/plain": "88.88"
     },
     "execution_count": 169,
     "metadata": {},
     "output_type": "execute_result"
    }
   ],
   "source": [
    "tup4[-1]"
   ],
   "metadata": {
    "collapsed": false,
    "ExecuteTime": {
     "end_time": "2024-01-20T09:48:07.617901700Z",
     "start_time": "2024-01-20T09:48:07.559795100Z"
    }
   },
   "id": "2f1a3f2f746aef99",
   "execution_count": 169
  },
  {
   "cell_type": "code",
   "outputs": [
    {
     "data": {
      "text/plain": "('风险管理', '2021')"
     },
     "execution_count": 170,
     "metadata": {},
     "output_type": "execute_result"
    }
   ],
   "source": [
    "tup4[1:3]"
   ],
   "metadata": {
    "collapsed": false,
    "ExecuteTime": {
     "end_time": "2024-01-20T09:48:07.637795700Z",
     "start_time": "2024-01-20T09:48:07.610787600Z"
    }
   },
   "id": "5228e6869aaf23cb",
   "execution_count": 170
  },
  {
   "cell_type": "markdown",
   "source": [
    "### 1.3.2 列表"
   ],
   "metadata": {
    "collapsed": false
   },
   "id": "d738cdab008db235"
  },
  {
   "cell_type": "code",
   "outputs": [
    {
     "data": {
      "text/plain": "list"
     },
     "execution_count": 171,
     "metadata": {},
     "output_type": "execute_result"
    }
   ],
   "source": [
    "list1=[]\n",
    "type(list1)"
   ],
   "metadata": {
    "collapsed": false,
    "ExecuteTime": {
     "end_time": "2024-01-20T09:48:07.702786800Z",
     "start_time": "2024-01-20T09:48:07.637795700Z"
    }
   },
   "id": "e21f36f27f03ff3c",
   "execution_count": 171
  },
  {
   "cell_type": "code",
   "outputs": [
    {
     "data": {
      "text/plain": "list"
     },
     "execution_count": 172,
     "metadata": {},
     "output_type": "execute_result"
    }
   ],
   "source": [
    "list2=['finance','risk management','金融风险管理',2021,6.66]\n",
    "type(list2)"
   ],
   "metadata": {
    "collapsed": false,
    "ExecuteTime": {
     "end_time": "2024-01-20T09:48:07.729433800Z",
     "start_time": "2024-01-20T09:48:07.692596400Z"
    }
   },
   "id": "ed0dd17f27c0b026",
   "execution_count": 172
  },
  {
   "cell_type": "code",
   "outputs": [
    {
     "data": {
      "text/plain": "'finance'"
     },
     "execution_count": 173,
     "metadata": {},
     "output_type": "execute_result"
    }
   ],
   "source": [
    "list2[0]"
   ],
   "metadata": {
    "collapsed": false,
    "ExecuteTime": {
     "end_time": "2024-01-20T09:48:07.775089100Z",
     "start_time": "2024-01-20T09:48:07.721674100Z"
    }
   },
   "id": "57c70e1fd1a0ae65",
   "execution_count": 173
  },
  {
   "cell_type": "code",
   "outputs": [
    {
     "data": {
      "text/plain": "6.66"
     },
     "execution_count": 174,
     "metadata": {},
     "output_type": "execute_result"
    }
   ],
   "source": [
    "list2[-1]"
   ],
   "metadata": {
    "collapsed": false,
    "ExecuteTime": {
     "end_time": "2024-01-20T09:48:07.813734400Z",
     "start_time": "2024-01-20T09:48:07.751599100Z"
    }
   },
   "id": "4d0069e2ee716b3e",
   "execution_count": 174
  },
  {
   "cell_type": "code",
   "outputs": [
    {
     "data": {
      "text/plain": "['金融风险管理', 2021]"
     },
     "execution_count": 175,
     "metadata": {},
     "output_type": "execute_result"
    }
   ],
   "source": [
    "list2[2:4]"
   ],
   "metadata": {
    "collapsed": false,
    "ExecuteTime": {
     "end_time": "2024-01-20T09:48:07.861891500Z",
     "start_time": "2024-01-20T09:48:07.802972200Z"
    }
   },
   "id": "6f4ba5f0eb081c0b",
   "execution_count": 175
  },
  {
   "cell_type": "code",
   "outputs": [
    {
     "data": {
      "text/plain": "3"
     },
     "execution_count": 176,
     "metadata": {},
     "output_type": "execute_result"
    }
   ],
   "source": [
    "list2.index(2021)"
   ],
   "metadata": {
    "collapsed": false,
    "ExecuteTime": {
     "end_time": "2024-01-20T09:48:07.901936500Z",
     "start_time": "2024-01-20T09:48:07.861891500Z"
    }
   },
   "id": "a512215558c266d8",
   "execution_count": 176
  },
  {
   "cell_type": "code",
   "outputs": [
    {
     "data": {
      "text/plain": "[0.004953, -0.008953, 0.006002, -0.001927, -0.010558]"
     },
     "execution_count": 177,
     "metadata": {},
     "output_type": "execute_result"
    }
   ],
   "source": [
    "list1.append(0.004953)\n",
    "list1.append(-0.008953)\n",
    "list1.append(0.006002)\n",
    "list1.append(-0.001927)\n",
    "list1.append(-0.010558)\n",
    "list1"
   ],
   "metadata": {
    "collapsed": false,
    "ExecuteTime": {
     "end_time": "2024-01-20T09:48:07.960934Z",
     "start_time": "2024-01-20T09:48:07.891880300Z"
    }
   },
   "id": "f6e01f675e3662db",
   "execution_count": 177
  },
  {
   "cell_type": "code",
   "outputs": [
    {
     "data": {
      "text/plain": "[0.004953, -0.008953, -0.001927, -0.010558]"
     },
     "execution_count": 178,
     "metadata": {},
     "output_type": "execute_result"
    }
   ],
   "source": [
    "list1.remove(0.006002)\n",
    "list1"
   ],
   "metadata": {
    "collapsed": false,
    "ExecuteTime": {
     "end_time": "2024-01-20T09:48:08.008049800Z",
     "start_time": "2024-01-20T09:48:07.962029800Z"
    }
   },
   "id": "fb331a1bd3a2ea07",
   "execution_count": 178
  },
  {
   "cell_type": "code",
   "outputs": [
    {
     "data": {
      "text/plain": "[4, 6, 8, 10, 2, 4, 2]"
     },
     "execution_count": 179,
     "metadata": {},
     "output_type": "execute_result"
    }
   ],
   "source": [
    "list3=[2,4,6,8,10,2,4,2]\n",
    "list3.remove(2)\n",
    "list3"
   ],
   "metadata": {
    "collapsed": false,
    "ExecuteTime": {
     "end_time": "2024-01-20T09:48:08.040366500Z",
     "start_time": "2024-01-20T09:48:07.992515800Z"
    }
   },
   "id": "5a7fbcadefea8efb",
   "execution_count": 179
  },
  {
   "cell_type": "code",
   "outputs": [
    {
     "data": {
      "text/plain": "[]"
     },
     "execution_count": 180,
     "metadata": {},
     "output_type": "execute_result"
    }
   ],
   "source": [
    "list3.clear()  #清空列表的全部元素\n",
    "list3"
   ],
   "metadata": {
    "collapsed": false,
    "ExecuteTime": {
     "end_time": "2024-01-20T09:48:08.085403Z",
     "start_time": "2024-01-20T09:48:08.041741600Z"
    }
   },
   "id": "93b89bf4601a2a88",
   "execution_count": 180
  },
  {
   "cell_type": "code",
   "outputs": [
    {
     "data": {
      "text/plain": "[0.004953, -0.008953, 0.006002, -0.001927, -0.010558]"
     },
     "execution_count": 181,
     "metadata": {},
     "output_type": "execute_result"
    }
   ],
   "source": [
    "list1.insert(2,0.006002)\n",
    "list1"
   ],
   "metadata": {
    "collapsed": false,
    "ExecuteTime": {
     "end_time": "2024-01-20T09:48:08.123777700Z",
     "start_time": "2024-01-20T09:48:08.074624400Z"
    }
   },
   "id": "67c120737b9c83a0",
   "execution_count": 181
  },
  {
   "cell_type": "code",
   "outputs": [
    {
     "data": {
      "text/plain": "[-0.010558, -0.008953, -0.001927, 0.004953, 0.006002]"
     },
     "execution_count": 182,
     "metadata": {},
     "output_type": "execute_result"
    }
   ],
   "source": [
    "list1.sort()\n",
    "list1"
   ],
   "metadata": {
    "collapsed": false,
    "ExecuteTime": {
     "end_time": "2024-01-20T09:48:08.160539Z",
     "start_time": "2024-01-20T09:48:08.124901600Z"
    }
   },
   "id": "1391deac5599ff48",
   "execution_count": 182
  },
  {
   "cell_type": "code",
   "outputs": [
    {
     "data": {
      "text/plain": "[0.006002, 0.004953, -0.001927, -0.008953, -0.010558]"
     },
     "execution_count": 183,
     "metadata": {},
     "output_type": "execute_result"
    }
   ],
   "source": [
    "list1.reverse()\n",
    "list1"
   ],
   "metadata": {
    "collapsed": false,
    "ExecuteTime": {
     "end_time": "2024-01-20T09:48:08.193202800Z",
     "start_time": "2024-01-20T09:48:08.153967500Z"
    }
   },
   "id": "4592f0037f01d03f",
   "execution_count": 183
  },
  {
   "cell_type": "code",
   "outputs": [
    {
     "data": {
      "text/plain": "4"
     },
     "execution_count": 184,
     "metadata": {},
     "output_type": "execute_result"
    }
   ],
   "source": [
    "list4=['工行','建行','中行','农行','中行','工行','农行','工行','中行','工行','建行']\n",
    "list4.count('工行')"
   ],
   "metadata": {
    "collapsed": false,
    "ExecuteTime": {
     "end_time": "2024-01-20T09:48:08.234306600Z",
     "start_time": "2024-01-20T09:48:08.193349300Z"
    }
   },
   "id": "d102dbfe4576d206",
   "execution_count": 184
  },
  {
   "cell_type": "code",
   "outputs": [
    {
     "data": {
      "text/plain": "3"
     },
     "execution_count": 185,
     "metadata": {},
     "output_type": "execute_result"
    }
   ],
   "source": [
    "list4.count('中行')"
   ],
   "metadata": {
    "collapsed": false,
    "ExecuteTime": {
     "end_time": "2024-01-20T09:48:08.278964300Z",
     "start_time": "2024-01-20T09:48:08.225261800Z"
    }
   },
   "id": "680a385078dbdc85",
   "execution_count": 185
  },
  {
   "cell_type": "markdown",
   "source": [
    "### 1.3.3 集合"
   ],
   "metadata": {
    "collapsed": false
   },
   "id": "81cd45f37e224774"
  },
  {
   "cell_type": "code",
   "outputs": [
    {
     "data": {
      "text/plain": "set"
     },
     "execution_count": 186,
     "metadata": {},
     "output_type": "execute_result"
    }
   ],
   "source": [
    "set1={'上证综指','深圳成指','恒生指数','日经225指数','道琼斯指数'}\n",
    "type(set1)"
   ],
   "metadata": {
    "collapsed": false,
    "ExecuteTime": {
     "end_time": "2024-01-20T09:48:08.315250500Z",
     "start_time": "2024-01-20T09:48:08.280201800Z"
    }
   },
   "id": "bf1529450f5841c8",
   "execution_count": 186
  },
  {
   "cell_type": "code",
   "outputs": [
    {
     "data": {
      "text/plain": "set"
     },
     "execution_count": 187,
     "metadata": {},
     "output_type": "execute_result"
    }
   ],
   "source": [
    "set2={'标普500指数','道琼斯指数','日经225指数','法国CAC40指数','德国DAX指数'}\n",
    "type(set2)"
   ],
   "metadata": {
    "collapsed": false,
    "ExecuteTime": {
     "end_time": "2024-01-20T09:48:08.353082400Z",
     "start_time": "2024-01-20T09:48:08.309016700Z"
    }
   },
   "id": "e5cec069541c1fe2",
   "execution_count": 187
  },
  {
   "cell_type": "code",
   "outputs": [
    {
     "data": {
      "text/plain": "{'上证综指', '德国DAX指数', '恒生指数', '日经225指数', '标普500指数', '法国CAC40指数', '深圳成指', '道琼斯指数'}"
     },
     "execution_count": 188,
     "metadata": {},
     "output_type": "execute_result"
    }
   ],
   "source": [
    "set1 | set2 #两个集合的并集"
   ],
   "metadata": {
    "collapsed": false,
    "ExecuteTime": {
     "end_time": "2024-01-20T09:48:08.390057Z",
     "start_time": "2024-01-20T09:48:08.353082400Z"
    }
   },
   "id": "5fd1f7e99700b4d9",
   "execution_count": 188
  },
  {
   "cell_type": "code",
   "outputs": [
    {
     "data": {
      "text/plain": "{'日经225指数', '道琼斯指数'}"
     },
     "execution_count": 189,
     "metadata": {},
     "output_type": "execute_result"
    }
   ],
   "source": [
    "set1 & set2  #两个集合的交集"
   ],
   "metadata": {
    "collapsed": false,
    "ExecuteTime": {
     "end_time": "2024-01-20T09:48:08.428724700Z",
     "start_time": "2024-01-20T09:48:08.383079500Z"
    }
   },
   "id": "4ab4ba6d7983feae",
   "execution_count": 189
  },
  {
   "cell_type": "code",
   "outputs": [
    {
     "data": {
      "text/plain": "{'日经225指数', '道琼斯指数'}"
     },
     "execution_count": 190,
     "metadata": {},
     "output_type": "execute_result"
    }
   ],
   "source": [
    "set1.intersection(set2)  # 交集"
   ],
   "metadata": {
    "collapsed": false,
    "ExecuteTime": {
     "end_time": "2024-01-20T09:48:08.498516100Z",
     "start_time": "2024-01-20T09:48:08.430023300Z"
    }
   },
   "id": "607fcad019f5aa24",
   "execution_count": 190
  },
  {
   "cell_type": "code",
   "outputs": [
    {
     "data": {
      "text/plain": "{'上证综指', '恒生指数', '深圳成指'}"
     },
     "execution_count": 191,
     "metadata": {},
     "output_type": "execute_result"
    }
   ],
   "source": [
    "set1-set2  # set1对set2的差集"
   ],
   "metadata": {
    "collapsed": false,
    "ExecuteTime": {
     "end_time": "2024-01-20T09:48:08.545766100Z",
     "start_time": "2024-01-20T09:48:08.491698900Z"
    }
   },
   "id": "931645da764b3645",
   "execution_count": 191
  },
  {
   "cell_type": "code",
   "outputs": [
    {
     "data": {
      "text/plain": "{'德国DAX指数', '标普500指数', '法国CAC40指数'}"
     },
     "execution_count": 192,
     "metadata": {},
     "output_type": "execute_result"
    }
   ],
   "source": [
    "set2-set1"
   ],
   "metadata": {
    "collapsed": false,
    "ExecuteTime": {
     "end_time": "2024-01-20T09:48:08.568852700Z",
     "start_time": "2024-01-20T09:48:08.536538300Z"
    }
   },
   "id": "e285db8f35ef6b4f",
   "execution_count": 192
  },
  {
   "cell_type": "code",
   "outputs": [
    {
     "data": {
      "text/plain": "{'上证综指', '德国DAX指数', '恒生指数', '日经225指数', '深圳成指', '道琼斯指数'}"
     },
     "execution_count": 193,
     "metadata": {},
     "output_type": "execute_result"
    }
   ],
   "source": [
    "set1.add('德国DAX指数') # 添加\n",
    "set1"
   ],
   "metadata": {
    "collapsed": false,
    "ExecuteTime": {
     "end_time": "2024-01-20T09:48:08.621617600Z",
     "start_time": "2024-01-20T09:48:08.569976800Z"
    }
   },
   "id": "a04d18de1eeb71bc",
   "execution_count": 193
  },
  {
   "cell_type": "code",
   "outputs": [
    {
     "data": {
      "text/plain": "{'德国DAX指数', '标普500指数', '法国CAC40指数', '道琼斯指数'}"
     },
     "execution_count": 194,
     "metadata": {},
     "output_type": "execute_result"
    }
   ],
   "source": [
    "set2.discard('日经225指数') # 删除\n",
    "set2"
   ],
   "metadata": {
    "collapsed": false,
    "ExecuteTime": {
     "end_time": "2024-01-20T09:48:08.639784900Z",
     "start_time": "2024-01-20T09:48:08.590932200Z"
    }
   },
   "id": "cd013a4bc6858c7e",
   "execution_count": 194
  },
  {
   "cell_type": "code",
   "outputs": [
    {
     "data": {
      "text/plain": "{'指数名称': '沪深300', '证券代码': '000300', '交易日期': '2020-03-05', '涨跌幅': 0.0223}"
     },
     "execution_count": 195,
     "metadata": {},
     "output_type": "execute_result"
    }
   ],
   "source": [
    "dict1={'指数名称':'沪深300','证券代码':'000300','交易日期':'2020-03-05','涨跌幅':0.0223}   #直接发创建字典\n",
    "dict1"
   ],
   "metadata": {
    "collapsed": false,
    "ExecuteTime": {
     "end_time": "2024-01-20T09:48:08.703759100Z",
     "start_time": "2024-01-20T09:48:08.641065Z"
    }
   },
   "id": "ea4e9e012fd8f514",
   "execution_count": 195
  },
  {
   "cell_type": "code",
   "outputs": [
    {
     "data": {
      "text/plain": "dict"
     },
     "execution_count": 196,
     "metadata": {},
     "output_type": "execute_result"
    }
   ],
   "source": [
    "type(dict1)"
   ],
   "metadata": {
    "collapsed": false,
    "ExecuteTime": {
     "end_time": "2024-01-20T09:48:08.742643300Z",
     "start_time": "2024-01-20T09:48:08.692427700Z"
    }
   },
   "id": "49dbedfd327b8b79",
   "execution_count": 196
  },
  {
   "cell_type": "code",
   "outputs": [
    {
     "data": {
      "text/plain": "{'指数名称': '沪深300', '证券代码': '000300', '交易日期': '2020-03-05', '涨跌幅': 0.0223}"
     },
     "execution_count": 197,
     "metadata": {},
     "output_type": "execute_result"
    }
   ],
   "source": [
    "dict2={} # 运用间接法创建字典\n",
    "dict2['指数名称']='沪深300'\n",
    "dict2['证券代码']='000300'\n",
    "dict2['交易日期']='2020-03-05'\n",
    "dict2['涨跌幅']=0.0223\n",
    "dict2"
   ],
   "metadata": {
    "collapsed": false,
    "ExecuteTime": {
     "end_time": "2024-01-20T09:48:08.776199800Z",
     "start_time": "2024-01-20T09:48:08.742843400Z"
    }
   },
   "id": "7632819cec7761fd",
   "execution_count": 197
  },
  {
   "cell_type": "code",
   "outputs": [
    {
     "data": {
      "text/plain": "dict"
     },
     "execution_count": 198,
     "metadata": {},
     "output_type": "execute_result"
    }
   ],
   "source": [
    "type(dict2)"
   ],
   "metadata": {
    "collapsed": false,
    "ExecuteTime": {
     "end_time": "2024-01-20T09:48:08.812380400Z",
     "start_time": "2024-01-20T09:48:08.771446200Z"
    }
   },
   "id": "5b9d17909ae67a00",
   "execution_count": 198
  },
  {
   "cell_type": "code",
   "outputs": [
    {
     "data": {
      "text/plain": "dict_keys(['指数名称', '证券代码', '交易日期', '涨跌幅'])"
     },
     "execution_count": 199,
     "metadata": {},
     "output_type": "execute_result"
    }
   ],
   "source": [
    "dict1.keys()"
   ],
   "metadata": {
    "collapsed": false,
    "ExecuteTime": {
     "end_time": "2024-01-20T09:48:08.847040700Z",
     "start_time": "2024-01-20T09:48:08.788659900Z"
    }
   },
   "id": "bd9634822c1c3dc9",
   "execution_count": 199
  },
  {
   "cell_type": "code",
   "outputs": [
    {
     "data": {
      "text/plain": "dict_items([('指数名称', '沪深300'), ('证券代码', '000300'), ('交易日期', '2020-03-05'), ('涨跌幅', 0.0223)])"
     },
     "execution_count": 200,
     "metadata": {},
     "output_type": "execute_result"
    }
   ],
   "source": [
    "dict1.items()"
   ],
   "metadata": {
    "collapsed": false,
    "ExecuteTime": {
     "end_time": "2024-01-20T09:48:08.911237100Z",
     "start_time": "2024-01-20T09:48:08.848212900Z"
    }
   },
   "id": "40993121cb38329e",
   "execution_count": 200
  },
  {
   "cell_type": "code",
   "outputs": [
    {
     "data": {
      "text/plain": "0.0223"
     },
     "execution_count": 201,
     "metadata": {},
     "output_type": "execute_result"
    }
   ],
   "source": [
    "dict1['涨跌幅']"
   ],
   "metadata": {
    "collapsed": false,
    "ExecuteTime": {
     "end_time": "2024-01-20T09:48:08.928541400Z",
     "start_time": "2024-01-20T09:48:08.900770100Z"
    }
   },
   "id": "426670a96d1b5b",
   "execution_count": 201
  },
  {
   "cell_type": "code",
   "outputs": [
    {
     "data": {
      "text/plain": "{'指数名称': '沪深300', '证券代码': '000300', '交易日期': '2020-03-06', '涨跌幅': -0.0162}"
     },
     "execution_count": 202,
     "metadata": {},
     "output_type": "execute_result"
    }
   ],
   "source": [
    "dict1['交易日期']='2020-03-06'\n",
    "dict1['涨跌幅']=-0.0162\n",
    "dict1"
   ],
   "metadata": {
    "collapsed": false,
    "ExecuteTime": {
     "end_time": "2024-01-20T09:48:08.985287800Z",
     "start_time": "2024-01-20T09:48:08.929831700Z"
    }
   },
   "id": "ca0769dd2a25e313",
   "execution_count": 202
  },
  {
   "cell_type": "code",
   "outputs": [
    {
     "data": {
      "text/plain": "{'指数名称': '沪深300',\n '证券代码': '000300',\n '交易日期': '2020-03-06',\n '涨跌幅': -0.0162,\n '收盘价': 4038.51,\n '成交额（亿元）': 2531.69}"
     },
     "execution_count": 203,
     "metadata": {},
     "output_type": "execute_result"
    }
   ],
   "source": [
    "dict1.update({'收盘价':4038.51,'成交额（亿元）':2531.69})  #添加元素\n",
    "dict1"
   ],
   "metadata": {
    "collapsed": false,
    "ExecuteTime": {
     "end_time": "2024-01-20T09:48:09.024733200Z",
     "start_time": "2024-01-20T09:48:08.947105300Z"
    }
   },
   "id": "71056e4dc06bebec",
   "execution_count": 203
  },
  {
   "cell_type": "code",
   "outputs": [
    {
     "data": {
      "text/plain": "{'指数名称': '沪深300',\n '交易日期': '2020-03-06',\n '涨跌幅': -0.0162,\n '收盘价': 4038.51,\n '成交额（亿元）': 2531.69}"
     },
     "execution_count": 204,
     "metadata": {},
     "output_type": "execute_result"
    }
   ],
   "source": [
    "del dict1['证券代码']\n",
    "dict1"
   ],
   "metadata": {
    "collapsed": false,
    "ExecuteTime": {
     "end_time": "2024-01-20T09:48:09.088754600Z",
     "start_time": "2024-01-20T09:48:09.002766700Z"
    }
   },
   "id": "f5344e7422cf344c",
   "execution_count": 204
  },
  {
   "cell_type": "markdown",
   "source": [
    "## 1.4 python的运算符号\n",
    "### 1.4.1 基本算术运算符号"
   ],
   "metadata": {
    "collapsed": false
   },
   "id": "9d1e9a4859fcee90"
  },
  {
   "cell_type": "markdown",
   "source": [
    "#### 1.4.1.1 加法运算"
   ],
   "metadata": {
    "collapsed": false
   },
   "id": "baf51b6e699a569d"
  },
  {
   "cell_type": "code",
   "outputs": [],
   "source": [
    "a=2\n",
    "b=5\n",
    "c=1.\n",
    "d=3.8\n",
    "e=6.95"
   ],
   "metadata": {
    "collapsed": false,
    "ExecuteTime": {
     "end_time": "2024-01-20T09:48:09.120988800Z",
     "start_time": "2024-01-20T09:48:09.080196700Z"
    }
   },
   "id": "ae3bbe69decaf8e6",
   "execution_count": 205
  },
  {
   "cell_type": "code",
   "outputs": [
    {
     "data": {
      "text/plain": "7"
     },
     "execution_count": 206,
     "metadata": {},
     "output_type": "execute_result"
    }
   ],
   "source": [
    "a+b"
   ],
   "metadata": {
    "collapsed": false,
    "ExecuteTime": {
     "end_time": "2024-01-20T09:48:09.181216400Z",
     "start_time": "2024-01-20T09:48:09.122152700Z"
    }
   },
   "id": "bc36d89c5a0a700b",
   "execution_count": 206
  },
  {
   "cell_type": "code",
   "outputs": [
    {
     "data": {
      "text/plain": "3.0"
     },
     "execution_count": 207,
     "metadata": {},
     "output_type": "execute_result"
    }
   ],
   "source": [
    "a+c"
   ],
   "metadata": {
    "collapsed": false,
    "ExecuteTime": {
     "end_time": "2024-01-20T09:48:09.209383Z",
     "start_time": "2024-01-20T09:48:09.179587800Z"
    }
   },
   "id": "d95e20bb9b6aa81a",
   "execution_count": 207
  },
  {
   "cell_type": "code",
   "outputs": [
    {
     "data": {
      "text/plain": "10.75"
     },
     "execution_count": 208,
     "metadata": {},
     "output_type": "execute_result"
    }
   ],
   "source": [
    "d+e"
   ],
   "metadata": {
    "collapsed": false,
    "ExecuteTime": {
     "end_time": "2024-01-20T09:48:09.252901800Z",
     "start_time": "2024-01-20T09:48:09.202851700Z"
    }
   },
   "id": "38a6227f6272eee",
   "execution_count": 208
  },
  {
   "cell_type": "markdown",
   "source": [
    "#### 1.4.1.2 减法运算"
   ],
   "metadata": {
    "collapsed": false
   },
   "id": "8c401ad5947b9386"
  },
  {
   "cell_type": "code",
   "outputs": [
    {
     "data": {
      "text/plain": "-3"
     },
     "execution_count": 209,
     "metadata": {},
     "output_type": "execute_result"
    }
   ],
   "source": [
    "a-b"
   ],
   "metadata": {
    "collapsed": false,
    "ExecuteTime": {
     "end_time": "2024-01-20T09:48:09.283666400Z",
     "start_time": "2024-01-20T09:48:09.250335100Z"
    }
   },
   "id": "b28450b60e45e990",
   "execution_count": 209
  },
  {
   "cell_type": "code",
   "outputs": [
    {
     "data": {
      "text/plain": "1.0"
     },
     "execution_count": 210,
     "metadata": {},
     "output_type": "execute_result"
    }
   ],
   "source": [
    "a-c"
   ],
   "metadata": {
    "collapsed": false,
    "ExecuteTime": {
     "end_time": "2024-01-20T09:48:09.324129300Z",
     "start_time": "2024-01-20T09:48:09.273393100Z"
    }
   },
   "id": "6f3b44586aa3ffc0",
   "execution_count": 210
  },
  {
   "cell_type": "code",
   "outputs": [
    {
     "data": {
      "text/plain": "-4.95"
     },
     "execution_count": 211,
     "metadata": {},
     "output_type": "execute_result"
    }
   ],
   "source": [
    "a-e"
   ],
   "metadata": {
    "collapsed": false,
    "ExecuteTime": {
     "end_time": "2024-01-20T09:48:09.363274300Z",
     "start_time": "2024-01-20T09:48:09.322852Z"
    }
   },
   "id": "ec912b8fbeda006f",
   "execution_count": 211
  },
  {
   "cell_type": "code",
   "outputs": [
    {
     "data": {
      "text/plain": "-3.1500000000000004"
     },
     "execution_count": 212,
     "metadata": {},
     "output_type": "execute_result"
    }
   ],
   "source": [
    "d-e"
   ],
   "metadata": {
    "collapsed": false,
    "ExecuteTime": {
     "end_time": "2024-01-20T09:48:09.408623500Z",
     "start_time": "2024-01-20T09:48:09.352336400Z"
    }
   },
   "id": "7e1b8ab6c68445d4",
   "execution_count": 212
  },
  {
   "cell_type": "code",
   "outputs": [
    {
     "data": {
      "text/plain": "-3.15"
     },
     "execution_count": 213,
     "metadata": {},
     "output_type": "execute_result"
    }
   ],
   "source": [
    "round(d-e,2)"
   ],
   "metadata": {
    "collapsed": false,
    "ExecuteTime": {
     "end_time": "2024-01-20T09:48:09.435265300Z",
     "start_time": "2024-01-20T09:48:09.398515800Z"
    }
   },
   "id": "a58ec8a3678d066e",
   "execution_count": 213
  },
  {
   "cell_type": "markdown",
   "source": [
    "#### 1.4.1.3 乘法运算"
   ],
   "metadata": {
    "collapsed": false
   },
   "id": "361d2ba43a32a80e"
  },
  {
   "cell_type": "code",
   "outputs": [
    {
     "data": {
      "text/plain": "10"
     },
     "execution_count": 214,
     "metadata": {},
     "output_type": "execute_result"
    }
   ],
   "source": [
    "a*b"
   ],
   "metadata": {
    "collapsed": false,
    "ExecuteTime": {
     "end_time": "2024-01-20T09:48:09.499136500Z",
     "start_time": "2024-01-20T09:48:09.435265300Z"
    }
   },
   "id": "e60c2304e6ad3497",
   "execution_count": 214
  },
  {
   "cell_type": "code",
   "outputs": [
    {
     "data": {
      "text/plain": "2.0"
     },
     "execution_count": 215,
     "metadata": {},
     "output_type": "execute_result"
    }
   ],
   "source": [
    "a*c"
   ],
   "metadata": {
    "collapsed": false,
    "ExecuteTime": {
     "end_time": "2024-01-20T09:48:09.513653300Z",
     "start_time": "2024-01-20T09:48:09.488838600Z"
    }
   },
   "id": "afeee5e53c8b9a90",
   "execution_count": 215
  },
  {
   "cell_type": "code",
   "outputs": [
    {
     "data": {
      "text/plain": "26.41"
     },
     "execution_count": 216,
     "metadata": {},
     "output_type": "execute_result"
    }
   ],
   "source": [
    "d*e"
   ],
   "metadata": {
    "collapsed": false,
    "ExecuteTime": {
     "end_time": "2024-01-20T09:48:09.584676100Z",
     "start_time": "2024-01-20T09:48:09.514744400Z"
    }
   },
   "id": "f220349d3726dbb2",
   "execution_count": 216
  },
  {
   "cell_type": "markdown",
   "source": [
    "#### 1.4.1.4 除法运算"
   ],
   "metadata": {
    "collapsed": false
   },
   "id": "c6191daa2ee5f94b"
  },
  {
   "cell_type": "code",
   "outputs": [
    {
     "data": {
      "text/plain": "2.0"
     },
     "execution_count": 217,
     "metadata": {},
     "output_type": "execute_result"
    }
   ],
   "source": [
    "f=4\n",
    "f/a"
   ],
   "metadata": {
    "collapsed": false,
    "ExecuteTime": {
     "end_time": "2024-01-20T09:48:09.606544600Z",
     "start_time": "2024-01-20T09:48:09.573092400Z"
    }
   },
   "id": "8e6a262e3f9c0108",
   "execution_count": 217
  },
  {
   "cell_type": "code",
   "outputs": [
    {
     "data": {
      "text/plain": "2.5"
     },
     "execution_count": 218,
     "metadata": {},
     "output_type": "execute_result"
    }
   ],
   "source": [
    "b/a"
   ],
   "metadata": {
    "collapsed": false,
    "ExecuteTime": {
     "end_time": "2024-01-20T09:48:09.665115Z",
     "start_time": "2024-01-20T09:48:09.606544600Z"
    }
   },
   "id": "fb68db95528eed6e",
   "execution_count": 218
  },
  {
   "cell_type": "code",
   "outputs": [
    {
     "data": {
      "text/plain": "2.0"
     },
     "execution_count": 219,
     "metadata": {},
     "output_type": "execute_result"
    }
   ],
   "source": [
    "a/c"
   ],
   "metadata": {
    "collapsed": false,
    "ExecuteTime": {
     "end_time": "2024-01-20T09:48:09.684375100Z",
     "start_time": "2024-01-20T09:48:09.653370900Z"
    }
   },
   "id": "383b8ccfc18791e6",
   "execution_count": 219
  },
  {
   "cell_type": "code",
   "outputs": [
    {
     "data": {
      "text/plain": "1.8289473684210527"
     },
     "execution_count": 220,
     "metadata": {},
     "output_type": "execute_result"
    }
   ],
   "source": [
    "e/d"
   ],
   "metadata": {
    "collapsed": false,
    "ExecuteTime": {
     "end_time": "2024-01-20T09:48:09.736062300Z",
     "start_time": "2024-01-20T09:48:09.684375100Z"
    }
   },
   "id": "20ddf0237b8efda5",
   "execution_count": 220
  },
  {
   "cell_type": "markdown",
   "source": [
    "#### 1.4.1.5 幂运算"
   ],
   "metadata": {
    "collapsed": false
   },
   "id": "b25e14f95637508e"
  },
  {
   "cell_type": "code",
   "outputs": [
    {
     "data": {
      "text/plain": "32"
     },
     "execution_count": 221,
     "metadata": {},
     "output_type": "execute_result"
    }
   ],
   "source": [
    "a**b"
   ],
   "metadata": {
    "collapsed": false,
    "ExecuteTime": {
     "end_time": "2024-01-20T09:48:09.753012900Z",
     "start_time": "2024-01-20T09:48:09.727508Z"
    }
   },
   "id": "5f767db73be3069f",
   "execution_count": 221
  },
  {
   "cell_type": "code",
   "outputs": [
    {
     "data": {
      "text/plain": "25"
     },
     "execution_count": 222,
     "metadata": {},
     "output_type": "execute_result"
    }
   ],
   "source": [
    "b**a"
   ],
   "metadata": {
    "collapsed": false,
    "ExecuteTime": {
     "end_time": "2024-01-20T09:48:09.810767900Z",
     "start_time": "2024-01-20T09:48:09.754350800Z"
    }
   },
   "id": "f6aab37affa208d0",
   "execution_count": 222
  },
  {
   "cell_type": "code",
   "outputs": [
    {
     "data": {
      "text/plain": "2.0"
     },
     "execution_count": 223,
     "metadata": {},
     "output_type": "execute_result"
    }
   ],
   "source": [
    "a**c"
   ],
   "metadata": {
    "collapsed": false,
    "ExecuteTime": {
     "end_time": "2024-01-20T09:48:09.844722400Z",
     "start_time": "2024-01-20T09:48:09.802003900Z"
    }
   },
   "id": "5e5bd5e7522697f1",
   "execution_count": 223
  },
  {
   "cell_type": "code",
   "outputs": [
    {
     "data": {
      "text/plain": "10702.765165970346"
     },
     "execution_count": 224,
     "metadata": {},
     "output_type": "execute_result"
    }
   ],
   "source": [
    "d**e"
   ],
   "metadata": {
    "collapsed": false,
    "ExecuteTime": {
     "end_time": "2024-01-20T09:48:09.896382Z",
     "start_time": "2024-01-20T09:48:09.832130Z"
    }
   },
   "id": "6d568cbd3022115f",
   "execution_count": 224
  },
  {
   "cell_type": "markdown",
   "source": [
    "#### 1.4.1.6 模运算"
   ],
   "metadata": {
    "collapsed": false
   },
   "id": "73b263d55063724a"
  },
  {
   "cell_type": "code",
   "outputs": [
    {
     "data": {
      "text/plain": "0"
     },
     "execution_count": 225,
     "metadata": {},
     "output_type": "execute_result"
    }
   ],
   "source": [
    "f%a"
   ],
   "metadata": {
    "collapsed": false,
    "ExecuteTime": {
     "end_time": "2024-01-20T09:48:09.927337700Z",
     "start_time": "2024-01-20T09:48:09.896382Z"
    }
   },
   "id": "a5224ff099b6ac6",
   "execution_count": 225
  },
  {
   "cell_type": "code",
   "outputs": [
    {
     "data": {
      "text/plain": "1"
     },
     "execution_count": 226,
     "metadata": {},
     "output_type": "execute_result"
    }
   ],
   "source": [
    "b%a"
   ],
   "metadata": {
    "collapsed": false,
    "ExecuteTime": {
     "end_time": "2024-01-20T09:48:09.940425300Z",
     "start_time": "2024-01-20T09:48:09.917679700Z"
    }
   },
   "id": "e658147316d0551e",
   "execution_count": 226
  },
  {
   "cell_type": "code",
   "outputs": [
    {
     "data": {
      "text/plain": "1.7999999999999998"
     },
     "execution_count": 227,
     "metadata": {},
     "output_type": "execute_result"
    }
   ],
   "source": [
    "d%a"
   ],
   "metadata": {
    "collapsed": false,
    "ExecuteTime": {
     "end_time": "2024-01-20T09:48:10.003894800Z",
     "start_time": "2024-01-20T09:48:09.941494600Z"
    }
   },
   "id": "899a0d83ce2f8212",
   "execution_count": 227
  },
  {
   "cell_type": "code",
   "outputs": [
    {
     "data": {
      "text/plain": "3.8"
     },
     "execution_count": 228,
     "metadata": {},
     "output_type": "execute_result"
    }
   ],
   "source": [
    "d%e"
   ],
   "metadata": {
    "collapsed": false,
    "ExecuteTime": {
     "end_time": "2024-01-20T09:48:10.034502200Z",
     "start_time": "2024-01-20T09:48:09.998180400Z"
    }
   },
   "id": "7a517e9ff0d83069",
   "execution_count": 228
  },
  {
   "cell_type": "code",
   "outputs": [
    {
     "data": {
      "text/plain": "3.1500000000000004"
     },
     "execution_count": 229,
     "metadata": {},
     "output_type": "execute_result"
    }
   ],
   "source": [
    "e%d"
   ],
   "metadata": {
    "collapsed": false,
    "ExecuteTime": {
     "end_time": "2024-01-20T09:48:10.070565700Z",
     "start_time": "2024-01-20T09:48:10.034502200Z"
    }
   },
   "id": "5db0de613c00de2e",
   "execution_count": 229
  },
  {
   "cell_type": "markdown",
   "source": [
    "#### 1.4.1.7 整除运算"
   ],
   "metadata": {
    "collapsed": false
   },
   "id": "eb3267b7e11511c9"
  },
  {
   "cell_type": "code",
   "outputs": [
    {
     "data": {
      "text/plain": "2"
     },
     "execution_count": 230,
     "metadata": {},
     "output_type": "execute_result"
    }
   ],
   "source": [
    "b//a"
   ],
   "metadata": {
    "collapsed": false,
    "ExecuteTime": {
     "end_time": "2024-01-20T09:48:10.128739400Z",
     "start_time": "2024-01-20T09:48:10.062345100Z"
    }
   },
   "id": "81aaf5863fbbca4b",
   "execution_count": 230
  },
  {
   "cell_type": "code",
   "outputs": [
    {
     "data": {
      "text/plain": "1.0"
     },
     "execution_count": 231,
     "metadata": {},
     "output_type": "execute_result"
    }
   ],
   "source": [
    "b//d"
   ],
   "metadata": {
    "collapsed": false,
    "ExecuteTime": {
     "end_time": "2024-01-20T09:48:10.165041400Z",
     "start_time": "2024-01-20T09:48:10.129912600Z"
    }
   },
   "id": "e3594ab2a8461e62",
   "execution_count": 231
  },
  {
   "cell_type": "code",
   "outputs": [
    {
     "data": {
      "text/plain": "3.0"
     },
     "execution_count": 232,
     "metadata": {},
     "output_type": "execute_result"
    }
   ],
   "source": [
    "e//a"
   ],
   "metadata": {
    "collapsed": false,
    "ExecuteTime": {
     "end_time": "2024-01-20T09:48:10.176063200Z",
     "start_time": "2024-01-20T09:48:10.153526100Z"
    }
   },
   "id": "1177cade897d2eb5",
   "execution_count": 232
  },
  {
   "cell_type": "code",
   "outputs": [
    {
     "data": {
      "text/plain": "1.0"
     },
     "execution_count": 233,
     "metadata": {},
     "output_type": "execute_result"
    }
   ],
   "source": [
    "e//d"
   ],
   "metadata": {
    "collapsed": false,
    "ExecuteTime": {
     "end_time": "2024-01-20T09:48:10.233652200Z",
     "start_time": "2024-01-20T09:48:10.177370900Z"
    }
   },
   "id": "95d838a008f31c68",
   "execution_count": 233
  },
  {
   "cell_type": "markdown",
   "source": [
    "### 1.4.2 关系运算符号"
   ],
   "metadata": {
    "collapsed": false
   },
   "id": "135a974c58d14ea5"
  },
  {
   "cell_type": "code",
   "outputs": [
    {
     "data": {
      "text/plain": "True"
     },
     "execution_count": 234,
     "metadata": {},
     "output_type": "execute_result"
    }
   ],
   "source": [
    "2==2"
   ],
   "metadata": {
    "collapsed": false,
    "ExecuteTime": {
     "end_time": "2024-01-20T09:48:10.277345600Z",
     "start_time": "2024-01-20T09:48:10.223626100Z"
    }
   },
   "id": "54e7064dccbcd16e",
   "execution_count": 234
  },
  {
   "cell_type": "code",
   "outputs": [
    {
     "data": {
      "text/plain": "False"
     },
     "execution_count": 235,
     "metadata": {},
     "output_type": "execute_result"
    }
   ],
   "source": [
    "2==3"
   ],
   "metadata": {
    "collapsed": false,
    "ExecuteTime": {
     "end_time": "2024-01-20T09:48:10.308842500Z",
     "start_time": "2024-01-20T09:48:10.278657800Z"
    }
   },
   "id": "f99a92d79d43846e",
   "execution_count": 235
  },
  {
   "cell_type": "code",
   "outputs": [
    {
     "data": {
      "text/plain": "True"
     },
     "execution_count": 236,
     "metadata": {},
     "output_type": "execute_result"
    }
   ],
   "source": [
    "2!=3"
   ],
   "metadata": {
    "collapsed": false,
    "ExecuteTime": {
     "end_time": "2024-01-20T09:48:10.347522300Z",
     "start_time": "2024-01-20T09:48:10.302205800Z"
    }
   },
   "id": "e1c0fbaeb148b6d6",
   "execution_count": 236
  },
  {
   "cell_type": "code",
   "outputs": [
    {
     "data": {
      "text/plain": "False"
     },
     "execution_count": 237,
     "metadata": {},
     "output_type": "execute_result"
    }
   ],
   "source": [
    "2!=2"
   ],
   "metadata": {
    "collapsed": false,
    "ExecuteTime": {
     "end_time": "2024-01-20T09:48:10.378804900Z",
     "start_time": "2024-01-20T09:48:10.347777900Z"
    }
   },
   "id": "e0b4e94a241d5a95",
   "execution_count": 237
  },
  {
   "cell_type": "code",
   "outputs": [
    {
     "data": {
      "text/plain": "True"
     },
     "execution_count": 238,
     "metadata": {},
     "output_type": "execute_result"
    }
   ],
   "source": [
    "2>1"
   ],
   "metadata": {
    "collapsed": false,
    "ExecuteTime": {
     "end_time": "2024-01-20T09:48:10.400631200Z",
     "start_time": "2024-01-20T09:48:10.367999800Z"
    }
   },
   "id": "c24e5a9927dd9d89",
   "execution_count": 238
  },
  {
   "cell_type": "code",
   "outputs": [
    {
     "data": {
      "text/plain": "False"
     },
     "execution_count": 239,
     "metadata": {},
     "output_type": "execute_result"
    }
   ],
   "source": [
    "2>3"
   ],
   "metadata": {
    "collapsed": false,
    "ExecuteTime": {
     "end_time": "2024-01-20T09:48:10.445264700Z",
     "start_time": "2024-01-20T09:48:10.394596900Z"
    }
   },
   "id": "65a5e54f09490207",
   "execution_count": 239
  },
  {
   "cell_type": "code",
   "outputs": [
    {
     "data": {
      "text/plain": "True"
     },
     "execution_count": 240,
     "metadata": {},
     "output_type": "execute_result"
    }
   ],
   "source": [
    "2>=1"
   ],
   "metadata": {
    "collapsed": false,
    "ExecuteTime": {
     "end_time": "2024-01-20T09:48:10.468371400Z",
     "start_time": "2024-01-20T09:48:10.439885100Z"
    }
   },
   "id": "ecdfdbbfc86d8e4e",
   "execution_count": 240
  },
  {
   "cell_type": "code",
   "outputs": [
    {
     "data": {
      "text/plain": "False"
     },
     "execution_count": 241,
     "metadata": {},
     "output_type": "execute_result"
    }
   ],
   "source": [
    "2>=3"
   ],
   "metadata": {
    "collapsed": false,
    "ExecuteTime": {
     "end_time": "2024-01-20T09:48:10.500390400Z",
     "start_time": "2024-01-20T09:48:10.466590Z"
    }
   },
   "id": "950b04fd1e9d12b4",
   "execution_count": 241
  },
  {
   "cell_type": "code",
   "outputs": [
    {
     "data": {
      "text/plain": "True"
     },
     "execution_count": 242,
     "metadata": {},
     "output_type": "execute_result"
    }
   ],
   "source": [
    "2<3"
   ],
   "metadata": {
    "collapsed": false,
    "ExecuteTime": {
     "end_time": "2024-01-20T09:48:10.535146400Z",
     "start_time": "2024-01-20T09:48:10.489314200Z"
    }
   },
   "id": "d62b345a67dc119a",
   "execution_count": 242
  },
  {
   "cell_type": "code",
   "outputs": [
    {
     "data": {
      "text/plain": "False"
     },
     "execution_count": 243,
     "metadata": {},
     "output_type": "execute_result"
    }
   ],
   "source": [
    "2<1"
   ],
   "metadata": {
    "collapsed": false,
    "ExecuteTime": {
     "end_time": "2024-01-20T09:48:10.564293900Z",
     "start_time": "2024-01-20T09:48:10.533027600Z"
    }
   },
   "id": "502c2ee12c713675",
   "execution_count": 243
  },
  {
   "cell_type": "code",
   "outputs": [
    {
     "data": {
      "text/plain": "True"
     },
     "execution_count": 244,
     "metadata": {},
     "output_type": "execute_result"
    }
   ],
   "source": [
    "2<=3"
   ],
   "metadata": {
    "collapsed": false,
    "ExecuteTime": {
     "end_time": "2024-01-20T09:48:10.618440100Z",
     "start_time": "2024-01-20T09:48:10.560620700Z"
    }
   },
   "id": "db3b36e3d8ba34a1",
   "execution_count": 244
  },
  {
   "cell_type": "code",
   "outputs": [
    {
     "data": {
      "text/plain": "False"
     },
     "execution_count": 245,
     "metadata": {},
     "output_type": "execute_result"
    }
   ],
   "source": [
    "2<=1"
   ],
   "metadata": {
    "collapsed": false,
    "ExecuteTime": {
     "end_time": "2024-01-20T09:48:10.674570900Z",
     "start_time": "2024-01-20T09:48:10.616682200Z"
    }
   },
   "id": "2702d59ab176559c",
   "execution_count": 245
  },
  {
   "cell_type": "markdown",
   "source": [
    "### 1.4.3 赋值运算符号"
   ],
   "metadata": {
    "collapsed": false
   },
   "id": "1a00b8a6f4cc8d39"
  },
  {
   "cell_type": "code",
   "outputs": [
    {
     "data": {
      "text/plain": "13"
     },
     "execution_count": 246,
     "metadata": {},
     "output_type": "execute_result"
    }
   ],
   "source": [
    "x1=3\n",
    "y1=10\n",
    "y1+=x1\n",
    "y1"
   ],
   "metadata": {
    "collapsed": false,
    "ExecuteTime": {
     "end_time": "2024-01-20T09:48:10.812531800Z",
     "start_time": "2024-01-20T09:48:10.656605Z"
    }
   },
   "id": "5d0f870021c1aae9",
   "execution_count": 246
  },
  {
   "cell_type": "code",
   "outputs": [
    {
     "data": {
      "text/plain": "7"
     },
     "execution_count": 247,
     "metadata": {},
     "output_type": "execute_result"
    }
   ],
   "source": [
    "x2=5\n",
    "y2=12\n",
    "y2-=x2\n",
    "y2"
   ],
   "metadata": {
    "collapsed": false,
    "ExecuteTime": {
     "end_time": "2024-01-20T09:48:10.839791200Z",
     "start_time": "2024-01-20T09:48:10.804272700Z"
    }
   },
   "id": "23223af1f4e29b7b",
   "execution_count": 247
  },
  {
   "cell_type": "code",
   "outputs": [
    {
     "data": {
      "text/plain": "24"
     },
     "execution_count": 248,
     "metadata": {},
     "output_type": "execute_result"
    }
   ],
   "source": [
    "x3=4\n",
    "y3=6\n",
    "y3*=x3\n",
    "y3"
   ],
   "metadata": {
    "collapsed": false,
    "ExecuteTime": {
     "end_time": "2024-01-20T09:48:10.891444900Z",
     "start_time": "2024-01-20T09:48:10.839791200Z"
    }
   },
   "id": "c9855406316d5f5f",
   "execution_count": 248
  },
  {
   "cell_type": "code",
   "outputs": [
    {
     "data": {
      "text/plain": "2.0"
     },
     "execution_count": 249,
     "metadata": {},
     "output_type": "execute_result"
    }
   ],
   "source": [
    "x4=8\n",
    "y4=16\n",
    "y4/=x4\n",
    "y4"
   ],
   "metadata": {
    "collapsed": false,
    "ExecuteTime": {
     "end_time": "2024-01-20T09:48:10.905701400Z",
     "start_time": "2024-01-20T09:48:10.882626400Z"
    }
   },
   "id": "c5ecb233e927169f",
   "execution_count": 249
  },
  {
   "cell_type": "code",
   "outputs": [
    {
     "data": {
      "text/plain": "125"
     },
     "execution_count": 250,
     "metadata": {},
     "output_type": "execute_result"
    }
   ],
   "source": [
    "x5=3\n",
    "y5=5\n",
    "y5**=x5\n",
    "y5"
   ],
   "metadata": {
    "collapsed": false,
    "ExecuteTime": {
     "end_time": "2024-01-20T09:48:10.952764700Z",
     "start_time": "2024-01-20T09:48:10.906759700Z"
    }
   },
   "id": "397c427a397fa551",
   "execution_count": 250
  },
  {
   "cell_type": "code",
   "outputs": [
    {
     "data": {
      "text/plain": "1"
     },
     "execution_count": 251,
     "metadata": {},
     "output_type": "execute_result"
    }
   ],
   "source": [
    "x6=4\n",
    "y6=9\n",
    "y6%=x6\n",
    "y6"
   ],
   "metadata": {
    "collapsed": false,
    "ExecuteTime": {
     "end_time": "2024-01-20T09:48:10.974870Z",
     "start_time": "2024-01-20T09:48:10.923839400Z"
    }
   },
   "id": "6b80059b01fad935",
   "execution_count": 251
  },
  {
   "cell_type": "code",
   "outputs": [
    {
     "data": {
      "text/plain": "2"
     },
     "execution_count": 252,
     "metadata": {},
     "output_type": "execute_result"
    }
   ],
   "source": [
    "x7=4\n",
    "y7=10\n",
    "y7//=x7\n",
    "y7"
   ],
   "metadata": {
    "collapsed": false,
    "ExecuteTime": {
     "end_time": "2024-01-20T09:48:10.999948800Z",
     "start_time": "2024-01-20T09:48:10.970151400Z"
    }
   },
   "id": "adcc3827c9c840cf",
   "execution_count": 252
  },
  {
   "cell_type": "markdown",
   "source": [
    "### 1.4.4 成员运算符号"
   ],
   "metadata": {
    "collapsed": false
   },
   "id": "f060afbf3976208d"
  },
  {
   "cell_type": "code",
   "outputs": [
    {
     "data": {
      "text/plain": "True"
     },
     "execution_count": 253,
     "metadata": {},
     "output_type": "execute_result"
    }
   ],
   "source": [
    "index_list=[10223.16,10475.71,10417.37,10470.79,10529.99]\n",
    "index1=10475.71\n",
    "index2=10470.97\n",
    "index1 in index_list"
   ],
   "metadata": {
    "collapsed": false,
    "ExecuteTime": {
     "end_time": "2024-01-20T09:48:11.060313300Z",
     "start_time": "2024-01-20T09:48:10.998430700Z"
    }
   },
   "id": "b1f509f28da3a918",
   "execution_count": 253
  },
  {
   "cell_type": "code",
   "outputs": [
    {
     "data": {
      "text/plain": "False"
     },
     "execution_count": 254,
     "metadata": {},
     "output_type": "execute_result"
    }
   ],
   "source": [
    "index2 in index_list"
   ],
   "metadata": {
    "collapsed": false,
    "ExecuteTime": {
     "end_time": "2024-01-20T09:48:11.082470700Z",
     "start_time": "2024-01-20T09:48:11.049853100Z"
    }
   },
   "id": "9969fa2a3a1b1010",
   "execution_count": 254
  },
  {
   "cell_type": "code",
   "outputs": [
    {
     "data": {
      "text/plain": "False"
     },
     "execution_count": 255,
     "metadata": {},
     "output_type": "execute_result"
    }
   ],
   "source": [
    "a='金融'\n",
    "b='金融风险'\n",
    "c=['finance','风险管理','收益率']\n",
    "a in c"
   ],
   "metadata": {
    "collapsed": false,
    "ExecuteTime": {
     "end_time": "2024-01-20T09:48:11.119344700Z",
     "start_time": "2024-01-20T09:48:11.077623500Z"
    }
   },
   "id": "afbfdff038a3a2d1",
   "execution_count": 255
  },
  {
   "cell_type": "code",
   "outputs": [
    {
     "data": {
      "text/plain": "False"
     },
     "execution_count": 256,
     "metadata": {},
     "output_type": "execute_result"
    }
   ],
   "source": [
    "b in c"
   ],
   "metadata": {
    "collapsed": false,
    "ExecuteTime": {
     "end_time": "2024-01-20T09:48:11.177765600Z",
     "start_time": "2024-01-20T09:48:11.119344700Z"
    }
   },
   "id": "214d7d03fb163588",
   "execution_count": 256
  },
  {
   "cell_type": "markdown",
   "source": [
    "### 1.5 python的内置函数与自定义函数"
   ],
   "metadata": {
    "collapsed": false
   },
   "id": "582a5339777f84ba"
  },
  {
   "cell_type": "markdown",
   "source": [
    "### 1.5.1 内置函数"
   ],
   "metadata": {
    "collapsed": false
   },
   "id": "821c06538c1856d2"
  },
  {
   "cell_type": "code",
   "outputs": [
    {
     "data": {
      "text/plain": "['ArithmeticError',\n 'AssertionError',\n 'AttributeError',\n 'BaseException',\n 'BaseExceptionGroup',\n 'BlockingIOError',\n 'BrokenPipeError',\n 'BufferError',\n 'BytesWarning',\n 'ChildProcessError',\n 'ConnectionAbortedError',\n 'ConnectionError',\n 'ConnectionRefusedError',\n 'ConnectionResetError',\n 'DeprecationWarning',\n 'EOFError',\n 'Ellipsis',\n 'EncodingWarning',\n 'EnvironmentError',\n 'Exception',\n 'ExceptionGroup',\n 'False',\n 'FileExistsError',\n 'FileNotFoundError',\n 'FloatingPointError',\n 'FutureWarning',\n 'GeneratorExit',\n 'IOError',\n 'ImportError',\n 'ImportWarning',\n 'IndentationError',\n 'IndexError',\n 'InterruptedError',\n 'IsADirectoryError',\n 'KeyError',\n 'KeyboardInterrupt',\n 'LookupError',\n 'MemoryError',\n 'ModuleNotFoundError',\n 'NameError',\n 'None',\n 'NotADirectoryError',\n 'NotImplemented',\n 'NotImplementedError',\n 'OSError',\n 'OverflowError',\n 'PendingDeprecationWarning',\n 'PermissionError',\n 'ProcessLookupError',\n 'RecursionError',\n 'ReferenceError',\n 'ResourceWarning',\n 'RuntimeError',\n 'RuntimeWarning',\n 'StopAsyncIteration',\n 'StopIteration',\n 'SyntaxError',\n 'SyntaxWarning',\n 'SystemError',\n 'SystemExit',\n 'TabError',\n 'TimeoutError',\n 'True',\n 'TypeError',\n 'UnboundLocalError',\n 'UnicodeDecodeError',\n 'UnicodeEncodeError',\n 'UnicodeError',\n 'UnicodeTranslateError',\n 'UnicodeWarning',\n 'UserWarning',\n 'ValueError',\n 'Warning',\n 'WindowsError',\n 'ZeroDivisionError',\n '__IPYTHON__',\n '__build_class__',\n '__debug__',\n '__doc__',\n '__import__',\n '__loader__',\n '__name__',\n '__package__',\n '__spec__',\n 'abs',\n 'aiter',\n 'all',\n 'anext',\n 'any',\n 'ascii',\n 'bin',\n 'bool',\n 'breakpoint',\n 'bytearray',\n 'bytes',\n 'callable',\n 'chr',\n 'classmethod',\n 'compile',\n 'complex',\n 'copyright',\n 'credits',\n 'delattr',\n 'dict',\n 'dir',\n 'display',\n 'divmod',\n 'enumerate',\n 'eval',\n 'exec',\n 'execfile',\n 'filter',\n 'float',\n 'format',\n 'frozenset',\n 'get_ipython',\n 'getattr',\n 'globals',\n 'hasattr',\n 'hash',\n 'help',\n 'hex',\n 'id',\n 'input',\n 'int',\n 'isinstance',\n 'issubclass',\n 'iter',\n 'len',\n 'license',\n 'list',\n 'locals',\n 'map',\n 'max',\n 'memoryview',\n 'min',\n 'next',\n 'object',\n 'oct',\n 'open',\n 'ord',\n 'pow',\n 'print',\n 'property',\n 'range',\n 'repr',\n 'reversed',\n 'round',\n 'runfile',\n 'set',\n 'setattr',\n 'slice',\n 'sorted',\n 'staticmethod',\n 'str',\n 'sum',\n 'super',\n 'tuple',\n 'type',\n 'vars',\n 'zip']"
     },
     "execution_count": 257,
     "metadata": {},
     "output_type": "execute_result"
    }
   ],
   "source": [
    "dir(__builtins__)"
   ],
   "metadata": {
    "collapsed": false,
    "ExecuteTime": {
     "end_time": "2024-01-20T09:48:11.231557100Z",
     "start_time": "2024-01-20T09:48:11.163242100Z"
    }
   },
   "id": "a66100c14659ac24",
   "execution_count": 257
  },
  {
   "cell_type": "markdown",
   "source": [
    "### 1.5.2 自定义函数"
   ],
   "metadata": {
    "collapsed": false
   },
   "id": "f895a608dc99f4ef"
  },
  {
   "cell_type": "code",
   "outputs": [],
   "source": [
    "def A_mean(r):\n",
    "    '''定义一个计算算术平均收益率的函数\n",
    "    r:代表每一期收益率的一个列表'''\n",
    "    total=sum(r)\n",
    "    n=len(r)\n",
    "    mean=total/n\n",
    "    return mean"
   ],
   "metadata": {
    "collapsed": false,
    "ExecuteTime": {
     "end_time": "2024-01-20T09:48:11.258015100Z",
     "start_time": "2024-01-20T09:48:11.223755800Z"
    }
   },
   "id": "f8f6a20ed27c6a3e",
   "execution_count": 258
  },
  {
   "cell_type": "code",
   "outputs": [
    {
     "name": "stdout",
     "output_type": "stream",
     "text": [
      "上证综指平均日收益率（算术平均值） 0.000867\n"
     ]
    }
   ],
   "source": [
    "index=[0.005,-0.009,0.006,-0.0019,-0.0106,0.0025,-0.0019,0.0044,0.0133]\n",
    "mean1=A_mean(r=index)\n",
    "print('上证综指平均日收益率（算术平均值）',round(mean1,6))"
   ],
   "metadata": {
    "collapsed": false,
    "ExecuteTime": {
     "end_time": "2024-01-20T09:48:11.305924800Z",
     "start_time": "2024-01-20T09:48:11.255316700Z"
    }
   },
   "id": "a8a469f1a863c9fc",
   "execution_count": 259
  },
  {
   "cell_type": "code",
   "outputs": [
    {
     "name": "stdout",
     "output_type": "stream",
     "text": [
      "上证综指平均日收益率（算术平均值） 0.000867\n"
     ]
    }
   ],
   "source": [
    "A_mean_lambda=lambda x: sum(x)/len(x)\n",
    "mean2=A_mean_lambda(x=index)\n",
    "print('上证综指平均日收益率（算术平均值）',round(mean2,6))"
   ],
   "metadata": {
    "collapsed": false,
    "ExecuteTime": {
     "end_time": "2024-01-20T09:49:05.911940700Z",
     "start_time": "2024-01-20T09:49:05.873722100Z"
    }
   },
   "id": "dce0950815455f3c",
   "execution_count": 261
  },
  {
   "cell_type": "markdown",
   "source": [
    "## 1.6 python的句型\n",
    "### 1.6.1 条件语句"
   ],
   "metadata": {
    "collapsed": false
   },
   "id": "33854f58219359da"
  },
  {
   "cell_type": "code",
   "outputs": [
    {
     "name": "stdout",
     "output_type": "stream",
     "text": [
      "正收益 0.0197\n"
     ]
    }
   ],
   "source": [
    "r1=0.0197\n",
    "if r1>0:\n",
    "    print('正收益',r1)\n",
    "else:\n",
    "    print('不是正收益',r1)"
   ],
   "metadata": {
    "collapsed": false,
    "ExecuteTime": {
     "end_time": "2024-01-20T09:51:18.607780700Z",
     "start_time": "2024-01-20T09:51:18.547728300Z"
    }
   },
   "id": "d13f3a64a8e05c4f",
   "execution_count": 262
  },
  {
   "cell_type": "code",
   "outputs": [
    {
     "name": "stdout",
     "output_type": "stream",
     "text": [
      "不是正收益 0.0197\n"
     ]
    }
   ],
   "source": [
    "r2=-0.0133\n",
    "if r2>0:\n",
    "    print('正收益',r2)\n",
    "elif r2==0:\n",
    "    print('零收益',r2)\n",
    "else:\n",
    "    print('负收益',r1)"
   ],
   "metadata": {
    "collapsed": false,
    "ExecuteTime": {
     "end_time": "2024-01-20T09:52:24.110632800Z",
     "start_time": "2024-01-20T09:52:24.038432700Z"
    }
   },
   "id": "995fe4b913c3df04",
   "execution_count": 263
  },
  {
   "cell_type": "markdown",
   "source": [
    "### 1.6.2 循环语句"
   ],
   "metadata": {
    "collapsed": false
   },
   "id": "d839d42a67eef54b"
  },
  {
   "cell_type": "markdown",
   "source": [
    "#### 1.6.2.1 for循环"
   ],
   "metadata": {
    "collapsed": false
   },
   "id": "95dad4042763358f"
  },
  {
   "cell_type": "code",
   "outputs": [
    {
     "name": "stdout",
     "output_type": "stream",
     "text": [
      "上证综指平均日收益率（几何平均值） 0.000841\n"
     ]
    }
   ],
   "source": [
    "def G_mean(r):\n",
    "    '''定义一个计算几何平均收益率的函数\n",
    "    r:代表包括收益率的一个列表'''\n",
    "    total=1\n",
    "    n=len(r)\n",
    "    for i in r:\n",
    "        total=total*(1+i)\n",
    "    mean=pow(total,1/n)-1\n",
    "    return mean\n",
    "mean3=G_mean(r=index)\n",
    "print('上证综指平均日收益率（几何平均值）',round(mean3,6))"
   ],
   "metadata": {
    "collapsed": false,
    "ExecuteTime": {
     "end_time": "2024-01-20T12:43:22.777044900Z",
     "start_time": "2024-01-20T12:43:22.731348600Z"
    }
   },
   "id": "7b0f2a4bd52cfbaa",
   "execution_count": 264
  },
  {
   "cell_type": "markdown",
   "source": [
    "#### 1.6.2.2 while循环"
   ],
   "metadata": {
    "collapsed": false
   },
   "id": "d6404f1c527e5eb5"
  },
  {
   "cell_type": "code",
   "outputs": [
    {
     "name": "stdout",
     "output_type": "stream",
     "text": [
      "输出数字是： 0\n",
      "输出数字是： 1\n",
      "输出数字是： 2\n",
      "输出数字是： 3\n",
      "输出数字是： 4\n",
      "输出数字是： 5\n",
      "输出数字是： 6\n",
      "输出数字是： 7\n",
      "输出数字是： 8\n",
      "完\n"
     ]
    }
   ],
   "source": [
    "n=0\n",
    "while n<=8:\n",
    "    print('输出数字是：',n)\n",
    "    n+=1\n",
    "print('完')"
   ],
   "metadata": {
    "collapsed": false,
    "ExecuteTime": {
     "end_time": "2024-01-20T12:45:30.459881200Z",
     "start_time": "2024-01-20T12:45:30.420928200Z"
    }
   },
   "id": "56fde330ea6277ab",
   "execution_count": 265
  },
  {
   "cell_type": "code",
   "outputs": [
    {
     "name": "stdout",
     "output_type": "stream",
     "text": [
      "[0, 1, 2, 3, 4, 5, 6, 7, 8]\n"
     ]
    }
   ],
   "source": [
    "# while循环\n",
    "n=0\n",
    "list_range=[]\n",
    "while n<9:\n",
    "    list_range.append(n)\n",
    "    n+=1\n",
    "print(list_range)"
   ],
   "metadata": {
    "collapsed": false,
    "ExecuteTime": {
     "end_time": "2024-01-20T12:46:43.244376600Z",
     "start_time": "2024-01-20T12:46:43.212185900Z"
    }
   },
   "id": "e676642be80befce",
   "execution_count": 267
  },
  {
   "cell_type": "markdown",
   "source": [
    "### 1.6.3 条件语句和循环语句结合"
   ],
   "metadata": {
    "collapsed": false
   },
   "id": "cfc527a56682579a"
  },
  {
   "cell_type": "code",
   "outputs": [
    {
     "name": "stdout",
     "output_type": "stream",
     "text": [
      "涨跌幅 0.0192\n",
      "涨跌幅 -0.0001\n",
      "涨跌幅 0.006\n",
      "涨跌幅 0.0074\n"
     ]
    }
   ],
   "source": [
    "r_list=[0.0192,-0.0001,0.0060,0.0074,-0.0127,-0.0067,0.0095,-0.0095,0.0112]\n",
    "for i in r_list:\n",
    "    if i <-0.01:\n",
    "        break\n",
    "    print('涨跌幅',i)\n",
    "    "
   ],
   "metadata": {
    "collapsed": false,
    "ExecuteTime": {
     "end_time": "2024-01-20T12:55:58.589615900Z",
     "start_time": "2024-01-20T12:55:58.551766400Z"
    }
   },
   "id": "24e2029403136ff3",
   "execution_count": 270
  },
  {
   "cell_type": "code",
   "outputs": [
    {
     "name": "stdout",
     "output_type": "stream",
     "text": [
      "跌幅超过1%的首个数据： -0.0127\n"
     ]
    }
   ],
   "source": [
    "for i in r_list:\n",
    "    if i<-0.01:\n",
    "        break\n",
    "print('跌幅超过1%的首个数据：',i)"
   ],
   "metadata": {
    "collapsed": false,
    "ExecuteTime": {
     "end_time": "2024-01-20T12:57:28.194746Z",
     "start_time": "2024-01-20T12:57:28.139876900Z"
    }
   },
   "id": "c17c611c85dd63c0",
   "execution_count": 271
  },
  {
   "cell_type": "code",
   "outputs": [
    {
     "name": "stdout",
     "output_type": "stream",
     "text": [
      "下跌数据 -0.0001\n",
      "下跌数据 -0.0127\n",
      "下跌数据 -0.0067\n",
      "下跌数据 -0.0095\n"
     ]
    }
   ],
   "source": [
    "for i in r_list:\n",
    "    if i>0:\n",
    "        continue\n",
    "    print('下跌数据',i)"
   ],
   "metadata": {
    "collapsed": false,
    "ExecuteTime": {
     "end_time": "2024-01-20T13:02:30.243414800Z",
     "start_time": "2024-01-20T13:02:30.175254300Z"
    }
   },
   "id": "662565fe7d775781",
   "execution_count": 272
  },
  {
   "cell_type": "code",
   "outputs": [
    {
     "name": "stdout",
     "output_type": "stream",
     "text": [
      "下跌数据 -0.0001\n",
      "下跌数据 -0.0127\n",
      "下跌数据 -0.0067\n",
      "下跌数据 -0.0095\n"
     ]
    }
   ],
   "source": [
    "for i in r_list:\n",
    "    if i>0:\n",
    "        pass\n",
    "    else:\n",
    "        print('下跌数据',i)"
   ],
   "metadata": {
    "collapsed": false,
    "ExecuteTime": {
     "end_time": "2024-01-20T13:03:25.917599600Z",
     "start_time": "2024-01-20T13:03:25.879922500Z"
    }
   },
   "id": "ee0e54c85b4ef6b6",
   "execution_count": 273
  },
  {
   "cell_type": "code",
   "outputs": [
    {
     "name": "stdout",
     "output_type": "stream",
     "text": [
      "涨幅超过0.8%的数据列表：\n",
      " [0.0192, 0.0095, 0.0112]\n",
      "跌幅超过0.8%的数据列表：\n",
      " [-0.0127, -0.0095]\n",
      "涨跌幅处于-0.8%至0.8%区间的数据列表：\n",
      " [-0.0001, 0.006, 0.0074, -0.0067]\n"
     ]
    }
   ],
   "source": [
    "r3=[]\n",
    "r4=[]\n",
    "r5=[]\n",
    "for i in r_list:\n",
    "    if i>0.008:\n",
    "        r3.append(i)\n",
    "    elif i<-0.008:\n",
    "        r4.append(i)\n",
    "    else:\n",
    "        r5.append(i)\n",
    "print('涨幅超过0.8%的数据列表：\\n',r3)\n",
    "print('跌幅超过0.8%的数据列表：\\n',r4)\n",
    "print('涨跌幅处于-0.8%至0.8%区间的数据列表：\\n',r5)"
   ],
   "metadata": {
    "collapsed": false,
    "ExecuteTime": {
     "end_time": "2024-01-20T13:06:53.653394300Z",
     "start_time": "2024-01-20T13:06:53.614214400Z"
    }
   },
   "id": "b8e84485480163b9",
   "execution_count": 275
  },
  {
   "cell_type": "markdown",
   "source": [
    "## 1.7 模块的导入和math模块"
   ],
   "metadata": {
    "collapsed": false
   },
   "id": "408a5b33b72ef35d"
  },
  {
   "cell_type": "code",
   "outputs": [
    {
     "name": "stdout",
     "output_type": "stream",
     "text": [
      "2.995732273553991\n",
      "7.38905609893065\n"
     ]
    }
   ],
   "source": [
    "import math\n",
    "import matplotlib as mp\n",
    "import matplotlib.pyplot as plt\n",
    "from math import exp, log, sqrt\n",
    "print(log(20))\n",
    "print(exp(2))"
   ],
   "metadata": {
    "collapsed": false,
    "ExecuteTime": {
     "end_time": "2024-01-20T13:10:19.487627100Z",
     "start_time": "2024-01-20T13:10:18.868176700Z"
    }
   },
   "id": "3d51f60afc516525",
   "execution_count": 276
  },
  {
   "cell_type": "code",
   "outputs": [
    {
     "data": {
      "text/plain": "['__doc__',\n '__loader__',\n '__name__',\n '__package__',\n '__spec__',\n 'acos',\n 'acosh',\n 'asin',\n 'asinh',\n 'atan',\n 'atan2',\n 'atanh',\n 'cbrt',\n 'ceil',\n 'comb',\n 'copysign',\n 'cos',\n 'cosh',\n 'degrees',\n 'dist',\n 'e',\n 'erf',\n 'erfc',\n 'exp',\n 'exp2',\n 'expm1',\n 'fabs',\n 'factorial',\n 'floor',\n 'fmod',\n 'frexp',\n 'fsum',\n 'gamma',\n 'gcd',\n 'hypot',\n 'inf',\n 'isclose',\n 'isfinite',\n 'isinf',\n 'isnan',\n 'isqrt',\n 'lcm',\n 'ldexp',\n 'lgamma',\n 'log',\n 'log10',\n 'log1p',\n 'log2',\n 'modf',\n 'nan',\n 'nextafter',\n 'perm',\n 'pi',\n 'pow',\n 'prod',\n 'radians',\n 'remainder',\n 'sin',\n 'sinh',\n 'sqrt',\n 'tan',\n 'tanh',\n 'tau',\n 'trunc',\n 'ulp']"
     },
     "execution_count": 277,
     "metadata": {},
     "output_type": "execute_result"
    }
   ],
   "source": [
    "dir(math)"
   ],
   "metadata": {
    "collapsed": false,
    "ExecuteTime": {
     "end_time": "2024-01-20T13:10:29.842634700Z",
     "start_time": "2024-01-20T13:10:29.778592800Z"
    }
   },
   "id": "879b946057fc188c",
   "execution_count": 277
  },
  {
   "cell_type": "code",
   "outputs": [
    {
     "data": {
      "text/plain": "6"
     },
     "execution_count": 278,
     "metadata": {},
     "output_type": "execute_result"
    }
   ],
   "source": [
    "import math\n",
    "x1=5.7\n",
    "math.ceil(x1)"
   ],
   "metadata": {
    "collapsed": false,
    "ExecuteTime": {
     "end_time": "2024-01-20T13:11:18.857028800Z",
     "start_time": "2024-01-20T13:11:18.800436300Z"
    }
   },
   "id": "a782bc820aaf8225",
   "execution_count": 278
  },
  {
   "cell_type": "code",
   "outputs": [
    {
     "data": {
      "text/plain": "0.9933903797222716"
     },
     "execution_count": 279,
     "metadata": {},
     "output_type": "execute_result"
    }
   ],
   "source": [
    "x2=69\n",
    "math.cos(x2)"
   ],
   "metadata": {
    "collapsed": false,
    "ExecuteTime": {
     "end_time": "2024-01-20T13:11:46.185672200Z",
     "start_time": "2024-01-20T13:11:46.133843100Z"
    }
   },
   "id": "5221ccd05cd1b105",
   "execution_count": 279
  },
  {
   "cell_type": "code",
   "outputs": [
    {
     "data": {
      "text/plain": "2.718281828459045"
     },
     "execution_count": 280,
     "metadata": {},
     "output_type": "execute_result"
    }
   ],
   "source": [
    "math.e"
   ],
   "metadata": {
    "collapsed": false,
    "ExecuteTime": {
     "end_time": "2024-01-20T13:11:56.647839600Z",
     "start_time": "2024-01-20T13:11:56.582366300Z"
    }
   },
   "id": "bfdfb65ed96b4ee8",
   "execution_count": 280
  },
  {
   "cell_type": "code",
   "outputs": [
    {
     "data": {
      "text/plain": "54.598150033144236"
     },
     "execution_count": 281,
     "metadata": {},
     "output_type": "execute_result"
    }
   ],
   "source": [
    "x3=4\n",
    "math.exp(x3)"
   ],
   "metadata": {
    "collapsed": false,
    "ExecuteTime": {
     "end_time": "2024-01-20T13:12:17.622317900Z",
     "start_time": "2024-01-20T13:12:17.575336Z"
    }
   },
   "id": "9d5dad251e60b47e",
   "execution_count": 281
  },
  {
   "cell_type": "code",
   "outputs": [
    {
     "data": {
      "text/plain": "54.59815003314423"
     },
     "execution_count": 282,
     "metadata": {},
     "output_type": "execute_result"
    }
   ],
   "source": [
    "pow(math.e,x3)"
   ],
   "metadata": {
    "collapsed": false,
    "ExecuteTime": {
     "end_time": "2024-01-20T13:12:44.337172400Z",
     "start_time": "2024-01-20T13:12:44.288374400Z"
    }
   },
   "id": "8b326552466e76bb",
   "execution_count": 282
  },
  {
   "cell_type": "code",
   "outputs": [
    {
     "data": {
      "text/plain": "8.8"
     },
     "execution_count": 283,
     "metadata": {},
     "output_type": "execute_result"
    }
   ],
   "source": [
    "x4=-8.8\n",
    "math.fabs(x4)"
   ],
   "metadata": {
    "collapsed": false,
    "ExecuteTime": {
     "end_time": "2024-01-20T13:13:06.789040300Z",
     "start_time": "2024-01-20T13:13:06.749139100Z"
    }
   },
   "id": "5e523d6983b8a1f5",
   "execution_count": 283
  },
  {
   "cell_type": "code",
   "outputs": [
    {
     "data": {
      "text/plain": "8.8"
     },
     "execution_count": 284,
     "metadata": {},
     "output_type": "execute_result"
    }
   ],
   "source": [
    "abs(x4)"
   ],
   "metadata": {
    "collapsed": false,
    "ExecuteTime": {
     "end_time": "2024-01-20T13:13:19.673695400Z",
     "start_time": "2024-01-20T13:13:19.599782600Z"
    }
   },
   "id": "7e5bb1d5ad247c9c",
   "execution_count": 284
  },
  {
   "cell_type": "code",
   "outputs": [
    {
     "data": {
      "text/plain": "40320"
     },
     "execution_count": 285,
     "metadata": {},
     "output_type": "execute_result"
    }
   ],
   "source": [
    "x5=8\n",
    "math.factorial(x5)"
   ],
   "metadata": {
    "collapsed": false,
    "ExecuteTime": {
     "end_time": "2024-01-20T13:13:39.726409900Z",
     "start_time": "2024-01-20T13:13:39.644361800Z"
    }
   },
   "id": "d0f80e30dd79b369",
   "execution_count": 285
  },
  {
   "cell_type": "code",
   "outputs": [
    {
     "data": {
      "text/plain": "5"
     },
     "execution_count": 286,
     "metadata": {},
     "output_type": "execute_result"
    }
   ],
   "source": [
    "x6=5.8\n",
    "math.floor(x6)"
   ],
   "metadata": {
    "collapsed": false,
    "ExecuteTime": {
     "end_time": "2024-01-20T13:13:59.223191700Z",
     "start_time": "2024-01-20T13:13:59.169992Z"
    }
   },
   "id": "37a9f23abf86f893",
   "execution_count": 286
  },
  {
   "cell_type": "code",
   "outputs": [
    {
     "data": {
      "text/plain": "0.0243"
     },
     "execution_count": 287,
     "metadata": {},
     "output_type": "execute_result"
    }
   ],
   "source": [
    "math.fsum(r_list)"
   ],
   "metadata": {
    "collapsed": false,
    "ExecuteTime": {
     "end_time": "2024-01-20T13:14:30.259479500Z",
     "start_time": "2024-01-20T13:14:30.179419Z"
    }
   },
   "id": "410a6b1e5668b4f3",
   "execution_count": 287
  },
  {
   "cell_type": "code",
   "outputs": [
    {
     "data": {
      "text/plain": "1.5"
     },
     "execution_count": 288,
     "metadata": {},
     "output_type": "execute_result"
    }
   ],
   "source": [
    "x=8\n",
    "y=4\n",
    "math.log(x,y)"
   ],
   "metadata": {
    "collapsed": false,
    "ExecuteTime": {
     "end_time": "2024-01-20T13:14:54.656638900Z",
     "start_time": "2024-01-20T13:14:54.608826300Z"
    }
   },
   "id": "ae61301d0240d120",
   "execution_count": 288
  },
  {
   "cell_type": "code",
   "outputs": [
    {
     "data": {
      "text/plain": "2.0794415416798357"
     },
     "execution_count": 289,
     "metadata": {},
     "output_type": "execute_result"
    }
   ],
   "source": [
    "math.log(x)"
   ],
   "metadata": {
    "collapsed": false,
    "ExecuteTime": {
     "end_time": "2024-01-20T13:15:12.747107Z",
     "start_time": "2024-01-20T13:15:12.700211700Z"
    }
   },
   "id": "9d146969a31eaba7",
   "execution_count": 289
  },
  {
   "cell_type": "code",
   "outputs": [
    {
     "data": {
      "text/plain": "3.0"
     },
     "execution_count": 290,
     "metadata": {},
     "output_type": "execute_result"
    }
   ],
   "source": [
    "x7=1000\n",
    "math.log10(x7)"
   ],
   "metadata": {
    "collapsed": false,
    "ExecuteTime": {
     "end_time": "2024-01-20T13:16:36.299696Z",
     "start_time": "2024-01-20T13:16:36.252765200Z"
    }
   },
   "id": "1a44bc74ea598fae",
   "execution_count": 290
  },
  {
   "cell_type": "code",
   "outputs": [
    {
     "data": {
      "text/plain": "0.4054651081081644"
     },
     "execution_count": 291,
     "metadata": {},
     "output_type": "execute_result"
    }
   ],
   "source": [
    "x8=0.5\n",
    "math.log1p(x8)"
   ],
   "metadata": {
    "collapsed": false,
    "ExecuteTime": {
     "end_time": "2024-01-20T13:17:03.109673800Z",
     "start_time": "2024-01-20T13:17:03.041743300Z"
    }
   },
   "id": "bf516a1e7baf3146",
   "execution_count": 291
  },
  {
   "cell_type": "code",
   "outputs": [
    {
     "data": {
      "text/plain": "0.4054651081081644"
     },
     "execution_count": 292,
     "metadata": {},
     "output_type": "execute_result"
    }
   ],
   "source": [
    "math.log(1+x8)"
   ],
   "metadata": {
    "collapsed": false,
    "ExecuteTime": {
     "end_time": "2024-01-20T13:17:32.202440500Z",
     "start_time": "2024-01-20T13:17:32.165291100Z"
    }
   },
   "id": "e548c5b8184b2010",
   "execution_count": 292
  },
  {
   "cell_type": "code",
   "outputs": [
    {
     "data": {
      "text/plain": "4.0"
     },
     "execution_count": 293,
     "metadata": {},
     "output_type": "execute_result"
    }
   ],
   "source": [
    "x9=16\n",
    "math.log2(x9)"
   ],
   "metadata": {
    "collapsed": false,
    "ExecuteTime": {
     "end_time": "2024-01-20T13:17:57.740767300Z",
     "start_time": "2024-01-20T13:17:57.701060700Z"
    }
   },
   "id": "62618b93d898d1af",
   "execution_count": 293
  },
  {
   "cell_type": "code",
   "outputs": [
    {
     "data": {
      "text/plain": "3.141592653589793"
     },
     "execution_count": 295,
     "metadata": {},
     "output_type": "execute_result"
    }
   ],
   "source": [
    "math.pi"
   ],
   "metadata": {
    "collapsed": false,
    "ExecuteTime": {
     "end_time": "2024-01-20T13:18:09.745803500Z",
     "start_time": "2024-01-20T13:18:09.670739700Z"
    }
   },
   "id": "fa8d81d94e44778c",
   "execution_count": 295
  },
  {
   "cell_type": "code",
   "outputs": [
    {
     "data": {
      "text/plain": "64.0"
     },
     "execution_count": 296,
     "metadata": {},
     "output_type": "execute_result"
    }
   ],
   "source": [
    "x=2\n",
    "y=6\n",
    "math.pow(x,y)"
   ],
   "metadata": {
    "collapsed": false,
    "ExecuteTime": {
     "end_time": "2024-01-20T13:22:08.975088500Z",
     "start_time": "2024-01-20T13:22:08.928686600Z"
    }
   },
   "id": "f1894b16d33d4ed9",
   "execution_count": 296
  },
  {
   "cell_type": "code",
   "outputs": [
    {
     "data": {
      "text/plain": "0.9092974268256817"
     },
     "execution_count": 297,
     "metadata": {},
     "output_type": "execute_result"
    }
   ],
   "source": [
    "x10=2\n",
    "math.sin(x10)"
   ],
   "metadata": {
    "collapsed": false,
    "ExecuteTime": {
     "end_time": "2024-01-20T13:22:29.380055200Z",
     "start_time": "2024-01-20T13:22:29.311620600Z"
    }
   },
   "id": "70a33fbf74550bd",
   "execution_count": 297
  },
  {
   "cell_type": "code",
   "outputs": [
    {
     "data": {
      "text/plain": "6.0"
     },
     "execution_count": 298,
     "metadata": {},
     "output_type": "execute_result"
    }
   ],
   "source": [
    "x11=36\n",
    "math.sqrt(x11)"
   ],
   "metadata": {
    "collapsed": false,
    "ExecuteTime": {
     "end_time": "2024-01-20T13:22:54.253803500Z",
     "start_time": "2024-01-20T13:22:54.201021400Z"
    }
   },
   "id": "fa5ac93e77eea94f",
   "execution_count": 298
  }
 ],
 "metadata": {
  "kernelspec": {
   "display_name": "Python 3",
   "language": "python",
   "name": "python3"
  },
  "language_info": {
   "codemirror_mode": {
    "name": "ipython",
    "version": 2
   },
   "file_extension": ".py",
   "mimetype": "text/x-python",
   "name": "python",
   "nbconvert_exporter": "python",
   "pygments_lexer": "ipython2",
   "version": "2.7.6"
  }
 },
 "nbformat": 4,
 "nbformat_minor": 5
}
