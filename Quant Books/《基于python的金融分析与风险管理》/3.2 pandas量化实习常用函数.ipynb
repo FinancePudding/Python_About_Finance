{
 "cells": [
  {
   "cell_type": "markdown",
   "source": [
    "## pandas量化实习常用函数介绍"
   ],
   "metadata": {
    "collapsed": false
   },
   "id": "eb479737651ca6af"
  },
  {
   "cell_type": "markdown",
   "source": [
    "## 1.多线程加速问题"
   ],
   "metadata": {
    "collapsed": false
   },
   "id": "8c83bdc66ece701e"
  },
  {
   "cell_type": "code",
   "outputs": [],
   "source": [
    "import pandas as pd\n",
    "import tushare as ts"
   ],
   "metadata": {
    "collapsed": false,
    "ExecuteTime": {
     "end_time": "2024-03-16T02:39:15.228310Z",
     "start_time": "2024-03-16T02:39:15.222534Z"
    }
   },
   "id": "4f176df18fd0f5d1",
   "execution_count": 3
  },
  {
   "cell_type": "code",
   "outputs": [
    {
     "data": {
      "text/plain": "     ts_code trade_date  open   high   low  close  pre_close  change  pct_chg  \\\n0  600000.SH   20181228  9.72   9.95  9.71   9.80       9.66    0.14   1.4493   \n1  600000.SH   20181227  9.77   9.80  9.66   9.66       9.67   -0.01  -0.1034   \n2  600000.SH   20181226  9.81   9.88  9.64   9.67       9.79   -0.12  -1.2257   \n3  600000.SH   20181225  9.77   9.86  9.60   9.79       9.91   -0.12  -1.2109   \n4  600000.SH   20181224  9.98  10.04  9.86   9.91      10.07   -0.16  -1.5889   \n\n         vol      amount  \n0  274040.28  269118.592  \n1  273475.64  266280.883  \n2  205692.02  200359.184  \n3  348103.97  337985.911  \n4  227798.82  225706.451  ",
      "text/html": "<div>\n<style scoped>\n    .dataframe tbody tr th:only-of-type {\n        vertical-align: middle;\n    }\n\n    .dataframe tbody tr th {\n        vertical-align: top;\n    }\n\n    .dataframe thead th {\n        text-align: right;\n    }\n</style>\n<table border=\"1\" class=\"dataframe\">\n  <thead>\n    <tr style=\"text-align: right;\">\n      <th></th>\n      <th>ts_code</th>\n      <th>trade_date</th>\n      <th>open</th>\n      <th>high</th>\n      <th>low</th>\n      <th>close</th>\n      <th>pre_close</th>\n      <th>change</th>\n      <th>pct_chg</th>\n      <th>vol</th>\n      <th>amount</th>\n    </tr>\n  </thead>\n  <tbody>\n    <tr>\n      <th>0</th>\n      <td>600000.SH</td>\n      <td>20181228</td>\n      <td>9.72</td>\n      <td>9.95</td>\n      <td>9.71</td>\n      <td>9.80</td>\n      <td>9.66</td>\n      <td>0.14</td>\n      <td>1.4493</td>\n      <td>274040.28</td>\n      <td>269118.592</td>\n    </tr>\n    <tr>\n      <th>1</th>\n      <td>600000.SH</td>\n      <td>20181227</td>\n      <td>9.77</td>\n      <td>9.80</td>\n      <td>9.66</td>\n      <td>9.66</td>\n      <td>9.67</td>\n      <td>-0.01</td>\n      <td>-0.1034</td>\n      <td>273475.64</td>\n      <td>266280.883</td>\n    </tr>\n    <tr>\n      <th>2</th>\n      <td>600000.SH</td>\n      <td>20181226</td>\n      <td>9.81</td>\n      <td>9.88</td>\n      <td>9.64</td>\n      <td>9.67</td>\n      <td>9.79</td>\n      <td>-0.12</td>\n      <td>-1.2257</td>\n      <td>205692.02</td>\n      <td>200359.184</td>\n    </tr>\n    <tr>\n      <th>3</th>\n      <td>600000.SH</td>\n      <td>20181225</td>\n      <td>9.77</td>\n      <td>9.86</td>\n      <td>9.60</td>\n      <td>9.79</td>\n      <td>9.91</td>\n      <td>-0.12</td>\n      <td>-1.2109</td>\n      <td>348103.97</td>\n      <td>337985.911</td>\n    </tr>\n    <tr>\n      <th>4</th>\n      <td>600000.SH</td>\n      <td>20181224</td>\n      <td>9.98</td>\n      <td>10.04</td>\n      <td>9.86</td>\n      <td>9.91</td>\n      <td>10.07</td>\n      <td>-0.16</td>\n      <td>-1.5889</td>\n      <td>227798.82</td>\n      <td>225706.451</td>\n    </tr>\n  </tbody>\n</table>\n</div>"
     },
     "execution_count": 24,
     "metadata": {},
     "output_type": "execute_result"
    }
   ],
   "source": [
    "token_key='dc0da43c9ec5549606a55f236aa4c998c9b6f3ba9f25422f8c7b3df7'\n",
    "pro=ts.pro_api(token_key)\n",
    "df = pro.daily(ts_code='600000.SH', start_date='20180101', end_date='20190101')\n",
    "df.head()"
   ],
   "metadata": {
    "collapsed": false,
    "ExecuteTime": {
     "end_time": "2024-03-16T03:14:18.135661Z",
     "start_time": "2024-03-16T03:14:17.860120Z"
    }
   },
   "id": "38c4d9f30346dce0",
   "execution_count": 24
  },
  {
   "cell_type": "code",
   "outputs": [
    {
     "data": {
      "text/plain": "False"
     },
     "execution_count": 4,
     "metadata": {},
     "output_type": "execute_result"
    }
   ],
   "source": [
    "df.empty # 查看df是否为空值"
   ],
   "metadata": {
    "collapsed": false,
    "ExecuteTime": {
     "end_time": "2024-03-16T02:39:18.971844Z",
     "start_time": "2024-03-16T02:39:18.965487Z"
    }
   },
   "id": "81a45bb772dc727",
   "execution_count": 4
  },
  {
   "cell_type": "code",
   "outputs": [
    {
     "data": {
      "text/plain": "              ts_code trade_date   open   high    low  close  pre_close  \\\ntrade_date                                                                \n2018-01-02  600000.SH   20180102  12.61  12.77  12.60  12.72      12.59   \n2018-01-03  600000.SH   20180103  12.73  12.80  12.66  12.66      12.72   \n2018-01-04  600000.SH   20180104  12.70  12.73  12.62  12.66      12.66   \n2018-01-05  600000.SH   20180105  12.67  12.71  12.62  12.69      12.66   \n2018-01-08  600000.SH   20180108  12.69  12.71  12.63  12.68      12.69   \n\n            change  pct_chg        vol      amount  \ntrade_date                                          \n2018-01-02    0.13     1.03  313230.53  398614.966  \n2018-01-03   -0.06    -0.47  378391.01  480954.809  \n2018-01-04    0.00     0.00  278838.04  353205.838  \n2018-01-05    0.03     0.24  310267.44  393058.250  \n2018-01-08   -0.01    -0.08  313898.87  397842.209  ",
      "text/html": "<div>\n<style scoped>\n    .dataframe tbody tr th:only-of-type {\n        vertical-align: middle;\n    }\n\n    .dataframe tbody tr th {\n        vertical-align: top;\n    }\n\n    .dataframe thead th {\n        text-align: right;\n    }\n</style>\n<table border=\"1\" class=\"dataframe\">\n  <thead>\n    <tr style=\"text-align: right;\">\n      <th></th>\n      <th>ts_code</th>\n      <th>trade_date</th>\n      <th>open</th>\n      <th>high</th>\n      <th>low</th>\n      <th>close</th>\n      <th>pre_close</th>\n      <th>change</th>\n      <th>pct_chg</th>\n      <th>vol</th>\n      <th>amount</th>\n    </tr>\n    <tr>\n      <th>trade_date</th>\n      <th></th>\n      <th></th>\n      <th></th>\n      <th></th>\n      <th></th>\n      <th></th>\n      <th></th>\n      <th></th>\n      <th></th>\n      <th></th>\n      <th></th>\n    </tr>\n  </thead>\n  <tbody>\n    <tr>\n      <th>2018-01-02</th>\n      <td>600000.SH</td>\n      <td>20180102</td>\n      <td>12.61</td>\n      <td>12.77</td>\n      <td>12.60</td>\n      <td>12.72</td>\n      <td>12.59</td>\n      <td>0.13</td>\n      <td>1.03</td>\n      <td>313230.53</td>\n      <td>398614.966</td>\n    </tr>\n    <tr>\n      <th>2018-01-03</th>\n      <td>600000.SH</td>\n      <td>20180103</td>\n      <td>12.73</td>\n      <td>12.80</td>\n      <td>12.66</td>\n      <td>12.66</td>\n      <td>12.72</td>\n      <td>-0.06</td>\n      <td>-0.47</td>\n      <td>378391.01</td>\n      <td>480954.809</td>\n    </tr>\n    <tr>\n      <th>2018-01-04</th>\n      <td>600000.SH</td>\n      <td>20180104</td>\n      <td>12.70</td>\n      <td>12.73</td>\n      <td>12.62</td>\n      <td>12.66</td>\n      <td>12.66</td>\n      <td>0.00</td>\n      <td>0.00</td>\n      <td>278838.04</td>\n      <td>353205.838</td>\n    </tr>\n    <tr>\n      <th>2018-01-05</th>\n      <td>600000.SH</td>\n      <td>20180105</td>\n      <td>12.67</td>\n      <td>12.71</td>\n      <td>12.62</td>\n      <td>12.69</td>\n      <td>12.66</td>\n      <td>0.03</td>\n      <td>0.24</td>\n      <td>310267.44</td>\n      <td>393058.250</td>\n    </tr>\n    <tr>\n      <th>2018-01-08</th>\n      <td>600000.SH</td>\n      <td>20180108</td>\n      <td>12.69</td>\n      <td>12.71</td>\n      <td>12.63</td>\n      <td>12.68</td>\n      <td>12.69</td>\n      <td>-0.01</td>\n      <td>-0.08</td>\n      <td>313898.87</td>\n      <td>397842.209</td>\n    </tr>\n  </tbody>\n</table>\n</div>"
     },
     "execution_count": 5,
     "metadata": {},
     "output_type": "execute_result"
    }
   ],
   "source": [
    "df.index=pd.to_datetime(df.trade_date)\n",
    "df.sort_index(inplace=True)\n",
    "df.head()"
   ],
   "metadata": {
    "collapsed": false,
    "ExecuteTime": {
     "end_time": "2024-03-16T02:39:20.877854Z",
     "start_time": "2024-03-16T02:39:20.857010Z"
    }
   },
   "id": "b44705db74b630e6",
   "execution_count": 5
  },
  {
   "cell_type": "code",
   "outputs": [
    {
     "name": "stdout",
     "output_type": "stream",
     "text": [
      "2018-01-02 00:00:00 \n",
      " ts_code        600000.SH\n",
      "trade_date      20180102\n",
      "open               12.61\n",
      "high               12.77\n",
      "low                 12.6\n",
      "close              12.72\n",
      "pre_close          12.59\n",
      "change              0.13\n",
      "pct_chg             1.03\n",
      "vol            313230.53\n",
      "amount        398614.966\n",
      "square          161.7984\n",
      "Name: 2018-01-02 00:00:00, dtype: object\n",
      "2018-01-03 00:00:00 \n",
      " ts_code        600000.SH\n",
      "trade_date      20180103\n",
      "open               12.73\n",
      "high                12.8\n",
      "low                12.66\n",
      "close              12.66\n",
      "pre_close          12.72\n",
      "change             -0.06\n",
      "pct_chg            -0.47\n",
      "vol            378391.01\n",
      "amount        480954.809\n",
      "square          160.2756\n",
      "Name: 2018-01-03 00:00:00, dtype: object\n",
      "2018-01-04 00:00:00 \n",
      " ts_code        600000.SH\n",
      "trade_date      20180104\n",
      "open                12.7\n",
      "high               12.73\n",
      "low                12.62\n",
      "close              12.66\n",
      "pre_close          12.66\n",
      "change               0.0\n",
      "pct_chg              0.0\n",
      "vol            278838.04\n",
      "amount        353205.838\n",
      "square          160.2756\n",
      "Name: 2018-01-04 00:00:00, dtype: object\n",
      "2018-01-05 00:00:00 \n",
      " ts_code       600000.SH\n",
      "trade_date     20180105\n",
      "open              12.67\n",
      "high              12.71\n",
      "low               12.62\n",
      "close             12.69\n",
      "pre_close         12.66\n",
      "change             0.03\n",
      "pct_chg            0.24\n",
      "vol           310267.44\n",
      "amount        393058.25\n",
      "square         161.0361\n",
      "Name: 2018-01-05 00:00:00, dtype: object\n",
      "2018-01-08 00:00:00 \n",
      " ts_code        600000.SH\n",
      "trade_date      20180108\n",
      "open               12.69\n",
      "high               12.71\n",
      "low                12.63\n",
      "close              12.68\n",
      "pre_close          12.69\n",
      "change             -0.01\n",
      "pct_chg            -0.08\n",
      "vol            313898.87\n",
      "amount        397842.209\n",
      "square          160.7824\n",
      "Name: 2018-01-08 00:00:00, dtype: object\n"
     ]
    }
   ],
   "source": [
    "for i,row in df.head().iterrows():\n",
    "    print(i,'\\n',row)"
   ],
   "metadata": {
    "collapsed": false,
    "ExecuteTime": {
     "end_time": "2024-03-16T03:13:31.449109Z",
     "start_time": "2024-03-16T03:13:31.440499Z"
    }
   },
   "id": "bb5ff3429d2db9db",
   "execution_count": 23
  },
  {
   "cell_type": "code",
   "outputs": [
    {
     "data": {
      "text/plain": "     ts_code trade_date  open   high   low  close  pre_close  change  pct_chg  \\\n0  600000.SH   20181228  9.72   9.95  9.71   9.80       9.66    0.14   1.4493   \n1  600000.SH   20181227  9.77   9.80  9.66   9.66       9.67   -0.01  -0.1034   \n2  600000.SH   20181226  9.81   9.88  9.64   9.67       9.79   -0.12  -1.2257   \n3  600000.SH   20181225  9.77   9.86  9.60   9.79       9.91   -0.12  -1.2109   \n4  600000.SH   20181224  9.98  10.04  9.86   9.91      10.07   -0.16  -1.5889   \n\n         vol      amount   square  \n0  274040.28  269118.592  96.0400  \n1  273475.64  266280.883  93.3156  \n2  205692.02  200359.184  93.5089  \n3  348103.97  337985.911  95.8441  \n4  227798.82  225706.451  98.2081  ",
      "text/html": "<div>\n<style scoped>\n    .dataframe tbody tr th:only-of-type {\n        vertical-align: middle;\n    }\n\n    .dataframe tbody tr th {\n        vertical-align: top;\n    }\n\n    .dataframe thead th {\n        text-align: right;\n    }\n</style>\n<table border=\"1\" class=\"dataframe\">\n  <thead>\n    <tr style=\"text-align: right;\">\n      <th></th>\n      <th>ts_code</th>\n      <th>trade_date</th>\n      <th>open</th>\n      <th>high</th>\n      <th>low</th>\n      <th>close</th>\n      <th>pre_close</th>\n      <th>change</th>\n      <th>pct_chg</th>\n      <th>vol</th>\n      <th>amount</th>\n      <th>square</th>\n    </tr>\n  </thead>\n  <tbody>\n    <tr>\n      <th>0</th>\n      <td>600000.SH</td>\n      <td>20181228</td>\n      <td>9.72</td>\n      <td>9.95</td>\n      <td>9.71</td>\n      <td>9.80</td>\n      <td>9.66</td>\n      <td>0.14</td>\n      <td>1.4493</td>\n      <td>274040.28</td>\n      <td>269118.592</td>\n      <td>96.0400</td>\n    </tr>\n    <tr>\n      <th>1</th>\n      <td>600000.SH</td>\n      <td>20181227</td>\n      <td>9.77</td>\n      <td>9.80</td>\n      <td>9.66</td>\n      <td>9.66</td>\n      <td>9.67</td>\n      <td>-0.01</td>\n      <td>-0.1034</td>\n      <td>273475.64</td>\n      <td>266280.883</td>\n      <td>93.3156</td>\n    </tr>\n    <tr>\n      <th>2</th>\n      <td>600000.SH</td>\n      <td>20181226</td>\n      <td>9.81</td>\n      <td>9.88</td>\n      <td>9.64</td>\n      <td>9.67</td>\n      <td>9.79</td>\n      <td>-0.12</td>\n      <td>-1.2257</td>\n      <td>205692.02</td>\n      <td>200359.184</td>\n      <td>93.5089</td>\n    </tr>\n    <tr>\n      <th>3</th>\n      <td>600000.SH</td>\n      <td>20181225</td>\n      <td>9.77</td>\n      <td>9.86</td>\n      <td>9.60</td>\n      <td>9.79</td>\n      <td>9.91</td>\n      <td>-0.12</td>\n      <td>-1.2109</td>\n      <td>348103.97</td>\n      <td>337985.911</td>\n      <td>95.8441</td>\n    </tr>\n    <tr>\n      <th>4</th>\n      <td>600000.SH</td>\n      <td>20181224</td>\n      <td>9.98</td>\n      <td>10.04</td>\n      <td>9.86</td>\n      <td>9.91</td>\n      <td>10.07</td>\n      <td>-0.16</td>\n      <td>-1.5889</td>\n      <td>227798.82</td>\n      <td>225706.451</td>\n      <td>98.2081</td>\n    </tr>\n  </tbody>\n</table>\n</div>"
     },
     "execution_count": 25,
     "metadata": {},
     "output_type": "execute_result"
    }
   ],
   "source": [
    "import time\n",
    "\n",
    "def square(row):\n",
    "    close=row['close']\n",
    "    time.sleep(0.01)\n",
    "    return close*close\n",
    "\n",
    "df1=df\n",
    "df1['square']=df1.apply(square,axis=1)\n",
    "df1.head()"
   ],
   "metadata": {
    "collapsed": false,
    "ExecuteTime": {
     "end_time": "2024-03-16T03:23:54.191195Z",
     "start_time": "2024-03-16T03:23:51.617024Z"
    }
   },
   "id": "5ff92b353755911f",
   "execution_count": 25
  },
  {
   "cell_type": "code",
   "outputs": [],
   "source": [
    "import threading\n",
    "threads=[]\n",
    "for _,row in df1.iterrows():\n",
    "    t=threading.Thread(target=square,args=(row,))\n",
    "    t.start()\n",
    "    threads.append(t)\n",
    "for t in threads:\n",
    "    t.join()"
   ],
   "metadata": {
    "collapsed": false,
    "ExecuteTime": {
     "end_time": "2024-03-16T03:26:54.525391Z",
     "start_time": "2024-03-16T03:26:54.419734Z"
    }
   },
   "id": "312678557742c323",
   "execution_count": 26
  },
  {
   "cell_type": "code",
   "outputs": [
    {
     "name": "stdout",
     "output_type": "stream",
     "text": [
      "     ts_code trade_date  open   high   low  close  pre_close  change  pct_chg  \\\n",
      "0  600000.SH   20181228  9.72   9.95  9.71   9.80       9.66    0.14   1.4493   \n",
      "1  600000.SH   20181227  9.77   9.80  9.66   9.66       9.67   -0.01  -0.1034   \n",
      "2  600000.SH   20181226  9.81   9.88  9.64   9.67       9.79   -0.12  -1.2257   \n",
      "3  600000.SH   20181225  9.77   9.86  9.60   9.79       9.91   -0.12  -1.2109   \n",
      "4  600000.SH   20181224  9.98  10.04  9.86   9.91      10.07   -0.16  -1.5889   \n",
      "\n",
      "         vol      amount   square  \n",
      "0  274040.28  269118.592  96.0400  \n",
      "1  273475.64  266280.883  93.3156  \n",
      "2  205692.02  200359.184  93.5089  \n",
      "3  348103.97  337985.911  95.8441  \n",
      "4  227798.82  225706.451  98.2081  \n"
     ]
    }
   ],
   "source": [
    "import threading\n",
    "from queue import Queue\n",
    "\n",
    "q=Queue()\n",
    "\n",
    "def square(row,q):\n",
    "    close=row['close']\n",
    "    q.put(close*close)\n",
    "    time.sleep(0.1)\n",
    "    \n",
    "def threads_square(df,q):\n",
    "    threads=[]\n",
    "    for _,row in df.iterrows():\n",
    "        t=threading.Thread(target=square,args=(row,q))\n",
    "        t.start()\n",
    "        threads.append(t)\n",
    "    for t in threads:\n",
    "        t.join()\n",
    "    results = []\n",
    "    while not q.empty():\n",
    "        results.append(q.get())\n",
    "    return results\n",
    "\n",
    "df2=df\n",
    "df2['square']=threads_square(df2,q)\n",
    "print(df2.head())    "
   ],
   "metadata": {
    "collapsed": false,
    "ExecuteTime": {
     "end_time": "2024-03-16T03:27:30.679049Z",
     "start_time": "2024-03-16T03:27:30.483340Z"
    }
   },
   "id": "6e595d50fd93a966",
   "execution_count": 27
  },
  {
   "cell_type": "code",
   "outputs": [
    {
     "data": {
      "text/plain": "       ts_code trade_date   open   high    low  close  pre_close  change  \\\n34   600000.SH   20181112  10.77  10.95  10.75  10.80      10.75    0.05   \n36   600000.SH   20181108  11.05  11.10  10.90  11.06      10.90    0.16   \n38   600000.SH   20181106  11.13  11.15  11.00  11.03      11.14   -0.11   \n109  600000.SH   20180720   9.56   9.95   9.47   9.87       9.56    0.31   \n98   600000.SH   20180806   9.97  10.03   9.87   9.91       9.83    0.08   \n204  600000.SH   20180302  12.40  12.46  12.36  12.41      12.47   -0.06   \n20   600000.SH   20181130  10.65  10.75  10.62  10.71      10.63    0.08   \n54   600000.SH   20181015  10.05  10.16   9.97  10.03      10.03    0.00   \n162  600000.SH   20180507  10.82  10.89  10.76  10.84      10.83    0.01   \n222  600000.SH   20180130  13.45  13.49  13.09  13.11      13.46   -0.35   \n112  600000.SH   20180717   9.41   9.48   9.38   9.44       9.41    0.03   \n48   600000.SH   20181023  10.64  10.70  10.45  10.45      10.62   -0.17   \n140  600000.SH   20180606  10.64  10.64  10.53  10.55      10.66   -0.11   \n127  600000.SH   20180626   9.60   9.60   9.35   9.48       9.56   -0.08   \n117  600000.SH   20180710   9.61   9.65   9.50   9.57       9.60   -0.03   \n174  600000.SH   20180417  11.56  11.70  11.55  11.55      11.55    0.00   \n2    600000.SH   20181226   9.81   9.88   9.64   9.67       9.79   -0.12   \n3    600000.SH   20181225   9.77   9.86   9.60   9.79       9.91   -0.12   \n116  600000.SH   20180711   9.37   9.44   9.32   9.38       9.57   -0.19   \n207  600000.SH   20180227  12.75  12.76  12.61  12.69      12.73   -0.04   \n\n     pct_chg         vol       amount    square  \n34    0.4651   270158.27   292478.247  116.6400  \n36    1.4679   199916.83   220506.116  122.3236  \n38   -0.9874   184224.77   203565.760  121.6609  \n109   3.2427   332756.50   325018.010   97.4169  \n98    0.8138   174444.92   173559.265   98.2081  \n204  -0.4800   230241.32   285473.130  154.0081  \n20    0.7526   285726.51   305468.672  114.7041  \n54    0.0000   139578.44   140122.866  100.6009  \n162   0.0900   274253.78   297162.770  117.5056  \n222  -2.6000  1078040.18  1429924.976  171.8721  \n112   0.3200   137134.95   129512.091   89.1136  \n48   -1.6008   380890.35   403493.088  109.2025  \n140  -1.0300   149836.03   158227.437  111.3025  \n127  -0.8400   244240.95   231698.549   89.8704  \n117  -0.3100   124028.37   118668.133   91.5849  \n174   0.0000   254699.83   296234.022  133.4025  \n2    -1.2257   205692.02   200359.184   93.5089  \n3    -1.2109   348103.97   337985.911   95.8441  \n116  -1.9900   152039.33   142450.919   87.9844  \n207  -0.3100   485610.87   615622.149  161.0361  ",
      "text/html": "<div>\n<style scoped>\n    .dataframe tbody tr th:only-of-type {\n        vertical-align: middle;\n    }\n\n    .dataframe tbody tr th {\n        vertical-align: top;\n    }\n\n    .dataframe thead th {\n        text-align: right;\n    }\n</style>\n<table border=\"1\" class=\"dataframe\">\n  <thead>\n    <tr style=\"text-align: right;\">\n      <th></th>\n      <th>ts_code</th>\n      <th>trade_date</th>\n      <th>open</th>\n      <th>high</th>\n      <th>low</th>\n      <th>close</th>\n      <th>pre_close</th>\n      <th>change</th>\n      <th>pct_chg</th>\n      <th>vol</th>\n      <th>amount</th>\n      <th>square</th>\n    </tr>\n  </thead>\n  <tbody>\n    <tr>\n      <th>34</th>\n      <td>600000.SH</td>\n      <td>20181112</td>\n      <td>10.77</td>\n      <td>10.95</td>\n      <td>10.75</td>\n      <td>10.80</td>\n      <td>10.75</td>\n      <td>0.05</td>\n      <td>0.4651</td>\n      <td>270158.27</td>\n      <td>292478.247</td>\n      <td>116.6400</td>\n    </tr>\n    <tr>\n      <th>36</th>\n      <td>600000.SH</td>\n      <td>20181108</td>\n      <td>11.05</td>\n      <td>11.10</td>\n      <td>10.90</td>\n      <td>11.06</td>\n      <td>10.90</td>\n      <td>0.16</td>\n      <td>1.4679</td>\n      <td>199916.83</td>\n      <td>220506.116</td>\n      <td>122.3236</td>\n    </tr>\n    <tr>\n      <th>38</th>\n      <td>600000.SH</td>\n      <td>20181106</td>\n      <td>11.13</td>\n      <td>11.15</td>\n      <td>11.00</td>\n      <td>11.03</td>\n      <td>11.14</td>\n      <td>-0.11</td>\n      <td>-0.9874</td>\n      <td>184224.77</td>\n      <td>203565.760</td>\n      <td>121.6609</td>\n    </tr>\n    <tr>\n      <th>109</th>\n      <td>600000.SH</td>\n      <td>20180720</td>\n      <td>9.56</td>\n      <td>9.95</td>\n      <td>9.47</td>\n      <td>9.87</td>\n      <td>9.56</td>\n      <td>0.31</td>\n      <td>3.2427</td>\n      <td>332756.50</td>\n      <td>325018.010</td>\n      <td>97.4169</td>\n    </tr>\n    <tr>\n      <th>98</th>\n      <td>600000.SH</td>\n      <td>20180806</td>\n      <td>9.97</td>\n      <td>10.03</td>\n      <td>9.87</td>\n      <td>9.91</td>\n      <td>9.83</td>\n      <td>0.08</td>\n      <td>0.8138</td>\n      <td>174444.92</td>\n      <td>173559.265</td>\n      <td>98.2081</td>\n    </tr>\n    <tr>\n      <th>204</th>\n      <td>600000.SH</td>\n      <td>20180302</td>\n      <td>12.40</td>\n      <td>12.46</td>\n      <td>12.36</td>\n      <td>12.41</td>\n      <td>12.47</td>\n      <td>-0.06</td>\n      <td>-0.4800</td>\n      <td>230241.32</td>\n      <td>285473.130</td>\n      <td>154.0081</td>\n    </tr>\n    <tr>\n      <th>20</th>\n      <td>600000.SH</td>\n      <td>20181130</td>\n      <td>10.65</td>\n      <td>10.75</td>\n      <td>10.62</td>\n      <td>10.71</td>\n      <td>10.63</td>\n      <td>0.08</td>\n      <td>0.7526</td>\n      <td>285726.51</td>\n      <td>305468.672</td>\n      <td>114.7041</td>\n    </tr>\n    <tr>\n      <th>54</th>\n      <td>600000.SH</td>\n      <td>20181015</td>\n      <td>10.05</td>\n      <td>10.16</td>\n      <td>9.97</td>\n      <td>10.03</td>\n      <td>10.03</td>\n      <td>0.00</td>\n      <td>0.0000</td>\n      <td>139578.44</td>\n      <td>140122.866</td>\n      <td>100.6009</td>\n    </tr>\n    <tr>\n      <th>162</th>\n      <td>600000.SH</td>\n      <td>20180507</td>\n      <td>10.82</td>\n      <td>10.89</td>\n      <td>10.76</td>\n      <td>10.84</td>\n      <td>10.83</td>\n      <td>0.01</td>\n      <td>0.0900</td>\n      <td>274253.78</td>\n      <td>297162.770</td>\n      <td>117.5056</td>\n    </tr>\n    <tr>\n      <th>222</th>\n      <td>600000.SH</td>\n      <td>20180130</td>\n      <td>13.45</td>\n      <td>13.49</td>\n      <td>13.09</td>\n      <td>13.11</td>\n      <td>13.46</td>\n      <td>-0.35</td>\n      <td>-2.6000</td>\n      <td>1078040.18</td>\n      <td>1429924.976</td>\n      <td>171.8721</td>\n    </tr>\n    <tr>\n      <th>112</th>\n      <td>600000.SH</td>\n      <td>20180717</td>\n      <td>9.41</td>\n      <td>9.48</td>\n      <td>9.38</td>\n      <td>9.44</td>\n      <td>9.41</td>\n      <td>0.03</td>\n      <td>0.3200</td>\n      <td>137134.95</td>\n      <td>129512.091</td>\n      <td>89.1136</td>\n    </tr>\n    <tr>\n      <th>48</th>\n      <td>600000.SH</td>\n      <td>20181023</td>\n      <td>10.64</td>\n      <td>10.70</td>\n      <td>10.45</td>\n      <td>10.45</td>\n      <td>10.62</td>\n      <td>-0.17</td>\n      <td>-1.6008</td>\n      <td>380890.35</td>\n      <td>403493.088</td>\n      <td>109.2025</td>\n    </tr>\n    <tr>\n      <th>140</th>\n      <td>600000.SH</td>\n      <td>20180606</td>\n      <td>10.64</td>\n      <td>10.64</td>\n      <td>10.53</td>\n      <td>10.55</td>\n      <td>10.66</td>\n      <td>-0.11</td>\n      <td>-1.0300</td>\n      <td>149836.03</td>\n      <td>158227.437</td>\n      <td>111.3025</td>\n    </tr>\n    <tr>\n      <th>127</th>\n      <td>600000.SH</td>\n      <td>20180626</td>\n      <td>9.60</td>\n      <td>9.60</td>\n      <td>9.35</td>\n      <td>9.48</td>\n      <td>9.56</td>\n      <td>-0.08</td>\n      <td>-0.8400</td>\n      <td>244240.95</td>\n      <td>231698.549</td>\n      <td>89.8704</td>\n    </tr>\n    <tr>\n      <th>117</th>\n      <td>600000.SH</td>\n      <td>20180710</td>\n      <td>9.61</td>\n      <td>9.65</td>\n      <td>9.50</td>\n      <td>9.57</td>\n      <td>9.60</td>\n      <td>-0.03</td>\n      <td>-0.3100</td>\n      <td>124028.37</td>\n      <td>118668.133</td>\n      <td>91.5849</td>\n    </tr>\n    <tr>\n      <th>174</th>\n      <td>600000.SH</td>\n      <td>20180417</td>\n      <td>11.56</td>\n      <td>11.70</td>\n      <td>11.55</td>\n      <td>11.55</td>\n      <td>11.55</td>\n      <td>0.00</td>\n      <td>0.0000</td>\n      <td>254699.83</td>\n      <td>296234.022</td>\n      <td>133.4025</td>\n    </tr>\n    <tr>\n      <th>2</th>\n      <td>600000.SH</td>\n      <td>20181226</td>\n      <td>9.81</td>\n      <td>9.88</td>\n      <td>9.64</td>\n      <td>9.67</td>\n      <td>9.79</td>\n      <td>-0.12</td>\n      <td>-1.2257</td>\n      <td>205692.02</td>\n      <td>200359.184</td>\n      <td>93.5089</td>\n    </tr>\n    <tr>\n      <th>3</th>\n      <td>600000.SH</td>\n      <td>20181225</td>\n      <td>9.77</td>\n      <td>9.86</td>\n      <td>9.60</td>\n      <td>9.79</td>\n      <td>9.91</td>\n      <td>-0.12</td>\n      <td>-1.2109</td>\n      <td>348103.97</td>\n      <td>337985.911</td>\n      <td>95.8441</td>\n    </tr>\n    <tr>\n      <th>116</th>\n      <td>600000.SH</td>\n      <td>20180711</td>\n      <td>9.37</td>\n      <td>9.44</td>\n      <td>9.32</td>\n      <td>9.38</td>\n      <td>9.57</td>\n      <td>-0.19</td>\n      <td>-1.9900</td>\n      <td>152039.33</td>\n      <td>142450.919</td>\n      <td>87.9844</td>\n    </tr>\n    <tr>\n      <th>207</th>\n      <td>600000.SH</td>\n      <td>20180227</td>\n      <td>12.75</td>\n      <td>12.76</td>\n      <td>12.61</td>\n      <td>12.69</td>\n      <td>12.73</td>\n      <td>-0.04</td>\n      <td>-0.3100</td>\n      <td>485610.87</td>\n      <td>615622.149</td>\n      <td>161.0361</td>\n    </tr>\n  </tbody>\n</table>\n</div>"
     },
     "execution_count": 28,
     "metadata": {},
     "output_type": "execute_result"
    }
   ],
   "source": [
    "df2.sample(n=20)  "
   ],
   "metadata": {
    "collapsed": false,
    "ExecuteTime": {
     "end_time": "2024-03-16T03:28:34.758431Z",
     "start_time": "2024-03-16T03:28:34.735272Z"
    }
   },
   "id": "9431c112a5df9a60",
   "execution_count": 28
  },
  {
   "cell_type": "markdown",
   "source": [
    "#### 注意：在使用多进程时，queue.Queue() 的 put() 和 get() 操作本身是线程安全的，但是在多进程环境中，由于多个进程之间的并发执行，无法保证 put() 和 get() 操作的顺序。因此，这两个操作可能会出现乱序的情况。"
   ],
   "metadata": {
    "collapsed": false
   },
   "id": "ca71c5153b910147"
  },
  {
   "cell_type": "code",
   "outputs": [
    {
     "name": "stdout",
     "output_type": "stream",
     "text": [
      "       ts_code trade_date   open   high    low  close  pre_close  change  \\\n",
      "227  600000.SH   20180123  12.75  12.92  12.68  12.90      12.77    0.13   \n",
      "59   600000.SH   20181008  10.39  10.48  10.15  10.16      10.62   -0.46   \n",
      "109  600000.SH   20180720   9.56   9.95   9.47   9.87       9.56    0.31   \n",
      "240  600000.SH   20180104  12.70  12.73  12.62  12.66      12.66    0.00   \n",
      "19   600000.SH   20181203  10.99  11.05  10.84  11.02      10.71    0.31   \n",
      "41   600000.SH   20181101  11.05  11.09  10.86  10.89      10.98   -0.09   \n",
      "226  600000.SH   20180124  12.97  14.00  12.89  13.57      12.90    0.67   \n",
      "189  600000.SH   20180323  12.00  12.06  11.64  11.71      12.25   -0.54   \n",
      "239  600000.SH   20180105  12.67  12.71  12.62  12.69      12.66    0.03   \n",
      "72   600000.SH   20180911  10.22  10.27   9.98  10.02      10.18   -0.16   \n",
      "184  600000.SH   20180330  11.63  11.69  11.61  11.65      11.62    0.03   \n",
      "29   600000.SH   20181119  10.86  10.90  10.77  10.88      10.76    0.12   \n",
      "168  600000.SH   20180425  11.71  11.77  11.65  11.66      11.78   -0.12   \n",
      "43   600000.SH   20181030  10.93  11.05  10.89  10.95      10.79    0.16   \n",
      "195  600000.SH   20180315  12.35  12.41  12.34  12.39      12.39    0.00   \n",
      "213  600000.SH   20180212  12.66  12.68  12.43  12.49      12.78   -0.29   \n",
      "194  600000.SH   20180316  12.36  12.40  12.30  12.30      12.39   -0.09   \n",
      "222  600000.SH   20180130  13.45  13.49  13.09  13.11      13.46   -0.35   \n",
      "102  600000.SH   20180731  10.12  10.20  10.00  10.17      10.13    0.04   \n",
      "22   600000.SH   20181128  10.56  10.62  10.50  10.58      10.49    0.09   \n",
      "\n",
      "     pct_chg         vol       amount    square    square  \n",
      "227   1.0200  2178274.57  2791828.653  166.4100  166.4100  \n",
      "59   -4.3315   419572.76   432913.252  103.2256  103.2256  \n",
      "109   3.2427   332756.50   325018.010   97.4169   97.4169  \n",
      "240   0.0000   278838.04   353205.838  160.2756  160.2756  \n",
      "19    2.8945   430490.70   472438.382  121.4404  121.4404  \n",
      "41   -0.8197   235053.22   257781.673  118.5921  118.5921  \n",
      "226   5.1900  3796536.29  5099364.114  184.1449  184.1449  \n",
      "189  -4.4100   571063.91   676679.666  137.1241  137.1241  \n",
      "239   0.2400   310267.44   393058.250  161.0361  161.0361  \n",
      "72   -1.5717   196890.42   199401.394  100.4004  100.4004  \n",
      "184   0.2600   232719.65   270987.701  135.7225  135.7225  \n",
      "29    1.1152   213847.93   231999.662  118.3744  118.3744  \n",
      "168  -1.0200   160826.34   188149.247  135.9556  135.9556  \n",
      "43    1.4829   330860.49   363018.055  119.9025  119.9025  \n",
      "195   0.0000   172877.74   213972.089  153.5121  153.5121  \n",
      "213  -2.2700   647991.97   811027.710  156.0001  156.0001  \n",
      "194  -0.7300   267813.99   330778.426  151.2900  151.2900  \n",
      "222  -2.6000  1078040.18  1429924.976  171.8721  171.8721  \n",
      "102   0.3949   182030.08   184265.064  103.4289  103.4289  \n",
      "22    0.8580   183396.21   193914.889  111.9364  111.9364  \n"
     ]
    }
   ],
   "source": [
    "import threading\n",
    "from queue import Queue\n",
    "\n",
    "q=Queue()\n",
    "\n",
    "def square(row,q):\n",
    "    row_list=row.to_list()\n",
    "    row_list.insert(-1,row.close**2)\n",
    "    q.put(row_list)\n",
    "    time.sleep(0.1)\n",
    "    \n",
    "def threads_square(df,q):\n",
    "    threads=[]\n",
    "    for _,row in df.iterrows():\n",
    "        t=threading.Thread(target=square,args=(row,q))\n",
    "        t.start()\n",
    "        threads.append(t)\n",
    "    for t in threads:\n",
    "        t.join()\n",
    "    results = []\n",
    "    while not q.empty():\n",
    "        results.append(q.get())\n",
    "    return results\n",
    "\n",
    "column=df.columns.to_list()\n",
    "column.insert(-1,'square')\n",
    "data=threads_square(df,q)\n",
    "df_new=pd.DataFrame(data,columns=column)\n",
    "print(df_new.sample(n=20))    "
   ],
   "metadata": {
    "collapsed": false,
    "ExecuteTime": {
     "end_time": "2024-03-16T03:31:08.309444Z",
     "start_time": "2024-03-16T03:31:08.089902Z"
    }
   },
   "id": "8c99354fc2818055",
   "execution_count": 31
  },
  {
   "cell_type": "markdown",
   "source": [
    "[**pandas练习题网址**](https://github.com/guipsamora/pandas_exercises)"
   ],
   "metadata": {
    "collapsed": false
   },
   "id": "37c48130df047897"
  },
  {
   "cell_type": "markdown",
   "source": [
    "## 2.金融时间序列的问题"
   ],
   "metadata": {
    "collapsed": false
   },
   "id": "a2b063eda7cda396"
  },
  {
   "cell_type": "code",
   "outputs": [],
   "source": [
    "# 时间序列的处理\n",
    "date = pd.date_range('20180101', '20180430')\n",
    "date = pd.to_datetime(date)\n",
    "datetime = date[0]"
   ],
   "metadata": {
    "collapsed": false,
    "ExecuteTime": {
     "end_time": "2024-03-15T04:58:17.346947Z",
     "start_time": "2024-03-15T04:58:17.342799Z"
    }
   },
   "id": "3cee79b411e4bc7e",
   "execution_count": 20
  },
  {
   "cell_type": "code",
   "outputs": [
    {
     "name": "stdout",
     "output_type": "stream",
     "text": [
      "2018-01-01 00:00:00\n",
      "2018-01-02 01:01:01\n",
      "2019-01-01 01:01:01\n"
     ]
    }
   ],
   "source": [
    "# 时间向后推移\n",
    "dt_delta=datetime+pd.Timedelta(days=1,hours=1,minutes=1,seconds=1)\n",
    "dt_replace=datetime.replace(year=2019,month=1,day=1,hour=1,minute=1,second=1)\n",
    "print(datetime)\n",
    "print(dt_delta)\n",
    "print(dt_replace)"
   ],
   "metadata": {
    "collapsed": false,
    "ExecuteTime": {
     "end_time": "2024-03-15T04:39:25.672969Z",
     "start_time": "2024-03-15T04:39:25.668575Z"
    }
   },
   "id": "29cf9ed7faf0c547",
   "execution_count": 6
  },
  {
   "cell_type": "code",
   "outputs": [
    {
     "name": "stdout",
     "output_type": "stream",
     "text": [
      "2018-01-11 00:00:00\n",
      "2018-01-05 00:00:00\n"
     ]
    }
   ],
   "source": [
    "# 时间向后延迟\n",
    "print(datetime+pd.DateOffset(days=10))\n",
    "# 时间的替换\n",
    "print(datetime+pd.DateOffset(day=5))"
   ],
   "metadata": {
    "collapsed": false,
    "ExecuteTime": {
     "end_time": "2024-03-15T04:42:13.953304Z",
     "start_time": "2024-03-15T04:42:13.948733Z"
    }
   },
   "id": "541014577f87c8a9",
   "execution_count": 10
  },
  {
   "cell_type": "code",
   "outputs": [
    {
     "data": {
      "text/plain": "'2018-01-01'"
     },
     "execution_count": 12,
     "metadata": {},
     "output_type": "execute_result"
    }
   ],
   "source": [
    "datetime.strftime('%Y%m%d')\n",
    "datetime.strftime('%Y-%m-%d')"
   ],
   "metadata": {
    "collapsed": false,
    "ExecuteTime": {
     "end_time": "2024-03-15T04:44:35.908177Z",
     "start_time": "2024-03-15T04:44:35.902192Z"
    }
   },
   "id": "9a11ddf376eb03c5",
   "execution_count": 12
  },
  {
   "cell_type": "code",
   "outputs": [
    {
     "data": {
      "text/plain": "datetime.time(0, 0)"
     },
     "execution_count": 18,
     "metadata": {},
     "output_type": "execute_result"
    }
   ],
   "source": [
    "datetime.date()\n",
    "datetime.time()"
   ],
   "metadata": {
    "collapsed": false,
    "ExecuteTime": {
     "end_time": "2024-03-15T04:55:29.911301Z",
     "start_time": "2024-03-15T04:55:29.906753Z"
    }
   },
   "id": "c3a7aacb995ef22f",
   "execution_count": 18
  },
  {
   "cell_type": "code",
   "outputs": [
    {
     "data": {
      "text/plain": "Timestamp('2024-03-15 12:58:20.729389')"
     },
     "execution_count": 21,
     "metadata": {},
     "output_type": "execute_result"
    }
   ],
   "source": [
    "datetime.today()"
   ],
   "metadata": {
    "collapsed": false,
    "ExecuteTime": {
     "end_time": "2024-03-15T04:58:20.733722Z",
     "start_time": "2024-03-15T04:58:20.728389Z"
    }
   },
   "id": "b8457af0310c549e",
   "execution_count": 21
  },
  {
   "cell_type": "markdown",
   "source": [
    "## 3.占位符问题"
   ],
   "metadata": {
    "collapsed": false
   },
   "id": "412ccd8842eb1180"
  },
  {
   "cell_type": "code",
   "outputs": [
    {
     "data": {
      "text/plain": "'1.23'"
     },
     "execution_count": 23,
     "metadata": {},
     "output_type": "execute_result"
    }
   ],
   "source": [
    "# 小数占位符\n",
    "\"{:.2f}\".format(1.23456789)"
   ],
   "metadata": {
    "collapsed": false,
    "ExecuteTime": {
     "end_time": "2024-03-15T05:01:22.711748Z",
     "start_time": "2024-03-15T05:01:22.706526Z"
    }
   },
   "id": "7ac708c139321b9e",
   "execution_count": 23
  },
  {
   "cell_type": "code",
   "outputs": [
    {
     "data": {
      "text/plain": "'1.23'"
     },
     "execution_count": 24,
     "metadata": {},
     "output_type": "execute_result"
    }
   ],
   "source": [
    "# 字符串占位符\n",
    "\"%s\"%1.23"
   ],
   "metadata": {
    "collapsed": false,
    "ExecuteTime": {
     "end_time": "2024-03-15T05:02:24.706925Z",
     "start_time": "2024-03-15T05:02:24.702232Z"
    }
   },
   "id": "e1c05e1e79e2f8ce",
   "execution_count": 24
  },
  {
   "cell_type": "code",
   "outputs": [
    {
     "data": {
      "text/plain": "'1'"
     },
     "execution_count": 25,
     "metadata": {},
     "output_type": "execute_result"
    }
   ],
   "source": [
    "# 整数占位符\n",
    "\"%d\"%1.23"
   ],
   "metadata": {
    "collapsed": false,
    "ExecuteTime": {
     "end_time": "2024-03-15T05:02:45.491200Z",
     "start_time": "2024-03-15T05:02:45.486246Z"
    }
   },
   "id": "770437096aa3c880",
   "execution_count": 25
  },
  {
   "cell_type": "code",
   "outputs": [
    {
     "data": {
      "text/plain": "'1,2,1'"
     },
     "execution_count": 26,
     "metadata": {},
     "output_type": "execute_result"
    }
   ],
   "source": [
    "\"{0},{1},{0}\".format(1,2)"
   ],
   "metadata": {
    "collapsed": false,
    "ExecuteTime": {
     "end_time": "2024-03-15T05:03:59.839428Z",
     "start_time": "2024-03-15T05:03:59.834206Z"
    }
   },
   "id": "25030cf591edd4b3",
   "execution_count": 26
  },
  {
   "cell_type": "code",
   "outputs": [
    {
     "data": {
      "text/plain": "'123,小花'"
     },
     "execution_count": 28,
     "metadata": {},
     "output_type": "execute_result"
    }
   ],
   "source": [
    "code=123\n",
    "name='小花'\n",
    "f'{code},{name}'"
   ],
   "metadata": {
    "collapsed": false,
    "ExecuteTime": {
     "end_time": "2024-03-15T05:04:50.020111Z",
     "start_time": "2024-03-15T05:04:50.014950Z"
    }
   },
   "id": "ff301291410493f",
   "execution_count": 28
  }
 ],
 "metadata": {
  "kernelspec": {
   "display_name": "Python 3",
   "language": "python",
   "name": "python3"
  },
  "language_info": {
   "codemirror_mode": {
    "name": "ipython",
    "version": 2
   },
   "file_extension": ".py",
   "mimetype": "text/x-python",
   "name": "python",
   "nbconvert_exporter": "python",
   "pygments_lexer": "ipython2",
   "version": "2.7.6"
  }
 },
 "nbformat": 4,
 "nbformat_minor": 5
}
