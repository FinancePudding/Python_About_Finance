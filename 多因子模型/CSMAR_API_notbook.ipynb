{
 "cells": [
  {
   "cell_type": "markdown",
   "source": [
    "## CSMAR国泰安数据库API优化"
   ],
   "metadata": {
    "collapsed": false
   },
   "id": "fb9bcdef2f4fbb34"
  },
  {
   "cell_type": "code",
   "execution_count": 1,
   "id": "initial_id",
   "metadata": {
    "collapsed": true,
    "ExecuteTime": {
     "end_time": "2024-02-26T14:36:56.729432300Z",
     "start_time": "2024-02-26T14:36:56.374516900Z"
    }
   },
   "outputs": [
    {
     "name": "stderr",
     "output_type": "stream",
     "text": [
      "D:\\Anaconda\\Lib\\site-packages\\pandas\\core\\arrays\\masked.py:60: UserWarning: Pandas requires version '1.3.6' or newer of 'bottleneck' (version '1.3.5' currently installed).\n",
      "  from pandas.core import (\n"
     ]
    }
   ],
   "source": [
    "# 导入数据包，具体安装教程见Fama-French五因子模型的视频集合，具体内容请关注“金融pudding”获取学习资源\n",
    "# csmarapi的安装包需要在官网上下载安装\n",
    "from csmarapi.CsmarService import CsmarService\n",
    "import pandas as pd  \n",
    "# 这里设置成让pandas输出结果的时候能全部输出，方便进行交互式获取数据\n",
    "pd.set_option('display.max_columns',None)\n",
    "pd.set_option('display.max_rows',None)\n",
    "# 调取相应的服务\n",
    "csmar = CsmarService()"
   ]
  },
  {
   "cell_type": "markdown",
   "source": [
    "### 由于上一次密码和账号泄露，导致我的邮箱差点被查封，所以这里需要大家使用自己的账户进行相应的登录操作，如果没有也可以通过笔记来大致学习一下如何调用相应的函数，获取相应的数据"
   ],
   "metadata": {
    "collapsed": false
   },
   "id": "dcc4065920b4894c"
  },
  {
   "cell_type": "code",
   "outputs": [
    {
     "name": "stderr",
     "output_type": "stream",
     "text": [
      "Mon 26 Feb 2024 22:37:20 CsmarService.py INFO User login succeed\n"
     ]
    }
   ],
   "source": [
    "# 用户名是相应学校的教育邮箱\n",
    "username='xxxx@edu.com.cn'\n",
    "# 登陆密码\n",
    "password='abcd123'\n",
    "# 登录\n",
    "csmar.login(username, password,'0')"
   ],
   "metadata": {
    "collapsed": false,
    "ExecuteTime": {
     "end_time": "2024-02-26T14:37:20.718269400Z",
     "start_time": "2024-02-26T14:37:20.250061500Z"
    }
   },
   "id": "4c893b33d8e55fb2",
   "execution_count": 2
  },
  {
   "cell_type": "code",
   "outputs": [],
   "source": [
    "# 定义一个可以将CSMAR数据库中的数据格式转换成DataFrame格式的文档\n",
    "def to_df(dic):\n",
    "    cols = list(dic[0].keys())\n",
    "    row_num = len(dic)\n",
    "    lists=[[dic[0][key]]*row_num for key in cols]\n",
    "    for i in range(1,row_num):\n",
    "        for j,key in enumerate(cols):\n",
    "            lists[j][i]=dic[i][key]\n",
    "    df=pd.DataFrame({col:value for col,value in zip(cols,lists)})\n",
    "    return df"
   ],
   "metadata": {
    "collapsed": false,
    "ExecuteTime": {
     "end_time": "2024-02-26T14:39:47.006052800Z",
     "start_time": "2024-02-26T14:39:46.999855100Z"
    }
   },
   "id": "27037a226891a81c",
   "execution_count": 3
  },
  {
   "cell_type": "code",
   "outputs": [],
   "source": [
    "#  获取个人账户中所购买的数据库列表，并全部打印出来。\n",
    "def Database():\n",
    "    database = csmar.getListDbs()\n",
    "    database = to_df(database)\n",
    "    return database"
   ],
   "metadata": {
    "collapsed": false,
    "ExecuteTime": {
     "end_time": "2024-02-26T14:39:50.505924600Z",
     "start_time": "2024-02-26T14:39:50.501920700Z"
    }
   },
   "id": "bd9e6f26dfd52046",
   "execution_count": 4
  },
  {
   "cell_type": "code",
   "outputs": [
    {
     "data": {
      "text/plain": "     databaseName startTime endTime\n0   Fama-French因子                  \n1        上市公司人物特征                  \n2          上市公司贷款                  \n3            世界经济                  \n4            业绩预告                  \n5            事件研究                  \n6            保险行业                  \n7          债券市场交易                  \n8             停复牌                  \n9            公募基金                  \n10           关联交易                  \n11          内部人交易                  \n12           内部控制                  \n13          分析师预测                  \n14           动量因子                  \n15           区域经济                  \n16           商品期货                  \n17           基本分析                  \n18           基金评价                  \n19           基金评级                  \n20           外汇市场                  \n21           大宗交易                  \n22           宏观经济                  \n23         工业行业统计                  \n24           市场指数                  \n25     年、中、季报公布日期                  \n26           并购重组                  \n27           影子银行                  \n28          房地产行业                  \n29          投资者情绪                  \n30   操控性与非操控性应计利润                  \n31           收益波动                  \n32           收益预测                  \n33           数字经济                  \n34             新闻                  \n35           日历效应                  \n36          机构投资者                  \n37         民营上市公司                  \n38           治理结构                  \n39         海外上市公司                  \n40         盈余反应系数                  \n41            碳中和                  \n42           红利分配                  \n43           绿色金融                  \n44             股东                  \n45           股利政策                  \n46         股权分置改革                  \n47         股票市场交易                  \n48       股票市场衍生指标                  \n49           能源行业                  \n50         融资分级基金                  \n51       财务报告审计意见                  \n52           财务报表                  \n53         财务报表附注                  \n54         财务指标分析                  \n55      货币市场与政策工具                  \n56           资本结构                  \n57       资本资产定价模型                  \n58          进出口统计                  \n59           违规处理                  \n60       金融机构分支机构                  \n61           银行体系                  \n62           银行财务                  \n63          银行间交易                  \n64        风险评价系数β                  \n65     首次公开发行（A股）                  ",
      "text/html": "<div>\n<style scoped>\n    .dataframe tbody tr th:only-of-type {\n        vertical-align: middle;\n    }\n\n    .dataframe tbody tr th {\n        vertical-align: top;\n    }\n\n    .dataframe thead th {\n        text-align: right;\n    }\n</style>\n<table border=\"1\" class=\"dataframe\">\n  <thead>\n    <tr style=\"text-align: right;\">\n      <th></th>\n      <th>databaseName</th>\n      <th>startTime</th>\n      <th>endTime</th>\n    </tr>\n  </thead>\n  <tbody>\n    <tr>\n      <th>0</th>\n      <td>Fama-French因子</td>\n      <td></td>\n      <td></td>\n    </tr>\n    <tr>\n      <th>1</th>\n      <td>上市公司人物特征</td>\n      <td></td>\n      <td></td>\n    </tr>\n    <tr>\n      <th>2</th>\n      <td>上市公司贷款</td>\n      <td></td>\n      <td></td>\n    </tr>\n    <tr>\n      <th>3</th>\n      <td>世界经济</td>\n      <td></td>\n      <td></td>\n    </tr>\n    <tr>\n      <th>4</th>\n      <td>业绩预告</td>\n      <td></td>\n      <td></td>\n    </tr>\n    <tr>\n      <th>5</th>\n      <td>事件研究</td>\n      <td></td>\n      <td></td>\n    </tr>\n    <tr>\n      <th>6</th>\n      <td>保险行业</td>\n      <td></td>\n      <td></td>\n    </tr>\n    <tr>\n      <th>7</th>\n      <td>债券市场交易</td>\n      <td></td>\n      <td></td>\n    </tr>\n    <tr>\n      <th>8</th>\n      <td>停复牌</td>\n      <td></td>\n      <td></td>\n    </tr>\n    <tr>\n      <th>9</th>\n      <td>公募基金</td>\n      <td></td>\n      <td></td>\n    </tr>\n    <tr>\n      <th>10</th>\n      <td>关联交易</td>\n      <td></td>\n      <td></td>\n    </tr>\n    <tr>\n      <th>11</th>\n      <td>内部人交易</td>\n      <td></td>\n      <td></td>\n    </tr>\n    <tr>\n      <th>12</th>\n      <td>内部控制</td>\n      <td></td>\n      <td></td>\n    </tr>\n    <tr>\n      <th>13</th>\n      <td>分析师预测</td>\n      <td></td>\n      <td></td>\n    </tr>\n    <tr>\n      <th>14</th>\n      <td>动量因子</td>\n      <td></td>\n      <td></td>\n    </tr>\n    <tr>\n      <th>15</th>\n      <td>区域经济</td>\n      <td></td>\n      <td></td>\n    </tr>\n    <tr>\n      <th>16</th>\n      <td>商品期货</td>\n      <td></td>\n      <td></td>\n    </tr>\n    <tr>\n      <th>17</th>\n      <td>基本分析</td>\n      <td></td>\n      <td></td>\n    </tr>\n    <tr>\n      <th>18</th>\n      <td>基金评价</td>\n      <td></td>\n      <td></td>\n    </tr>\n    <tr>\n      <th>19</th>\n      <td>基金评级</td>\n      <td></td>\n      <td></td>\n    </tr>\n    <tr>\n      <th>20</th>\n      <td>外汇市场</td>\n      <td></td>\n      <td></td>\n    </tr>\n    <tr>\n      <th>21</th>\n      <td>大宗交易</td>\n      <td></td>\n      <td></td>\n    </tr>\n    <tr>\n      <th>22</th>\n      <td>宏观经济</td>\n      <td></td>\n      <td></td>\n    </tr>\n    <tr>\n      <th>23</th>\n      <td>工业行业统计</td>\n      <td></td>\n      <td></td>\n    </tr>\n    <tr>\n      <th>24</th>\n      <td>市场指数</td>\n      <td></td>\n      <td></td>\n    </tr>\n    <tr>\n      <th>25</th>\n      <td>年、中、季报公布日期</td>\n      <td></td>\n      <td></td>\n    </tr>\n    <tr>\n      <th>26</th>\n      <td>并购重组</td>\n      <td></td>\n      <td></td>\n    </tr>\n    <tr>\n      <th>27</th>\n      <td>影子银行</td>\n      <td></td>\n      <td></td>\n    </tr>\n    <tr>\n      <th>28</th>\n      <td>房地产行业</td>\n      <td></td>\n      <td></td>\n    </tr>\n    <tr>\n      <th>29</th>\n      <td>投资者情绪</td>\n      <td></td>\n      <td></td>\n    </tr>\n    <tr>\n      <th>30</th>\n      <td>操控性与非操控性应计利润</td>\n      <td></td>\n      <td></td>\n    </tr>\n    <tr>\n      <th>31</th>\n      <td>收益波动</td>\n      <td></td>\n      <td></td>\n    </tr>\n    <tr>\n      <th>32</th>\n      <td>收益预测</td>\n      <td></td>\n      <td></td>\n    </tr>\n    <tr>\n      <th>33</th>\n      <td>数字经济</td>\n      <td></td>\n      <td></td>\n    </tr>\n    <tr>\n      <th>34</th>\n      <td>新闻</td>\n      <td></td>\n      <td></td>\n    </tr>\n    <tr>\n      <th>35</th>\n      <td>日历效应</td>\n      <td></td>\n      <td></td>\n    </tr>\n    <tr>\n      <th>36</th>\n      <td>机构投资者</td>\n      <td></td>\n      <td></td>\n    </tr>\n    <tr>\n      <th>37</th>\n      <td>民营上市公司</td>\n      <td></td>\n      <td></td>\n    </tr>\n    <tr>\n      <th>38</th>\n      <td>治理结构</td>\n      <td></td>\n      <td></td>\n    </tr>\n    <tr>\n      <th>39</th>\n      <td>海外上市公司</td>\n      <td></td>\n      <td></td>\n    </tr>\n    <tr>\n      <th>40</th>\n      <td>盈余反应系数</td>\n      <td></td>\n      <td></td>\n    </tr>\n    <tr>\n      <th>41</th>\n      <td>碳中和</td>\n      <td></td>\n      <td></td>\n    </tr>\n    <tr>\n      <th>42</th>\n      <td>红利分配</td>\n      <td></td>\n      <td></td>\n    </tr>\n    <tr>\n      <th>43</th>\n      <td>绿色金融</td>\n      <td></td>\n      <td></td>\n    </tr>\n    <tr>\n      <th>44</th>\n      <td>股东</td>\n      <td></td>\n      <td></td>\n    </tr>\n    <tr>\n      <th>45</th>\n      <td>股利政策</td>\n      <td></td>\n      <td></td>\n    </tr>\n    <tr>\n      <th>46</th>\n      <td>股权分置改革</td>\n      <td></td>\n      <td></td>\n    </tr>\n    <tr>\n      <th>47</th>\n      <td>股票市场交易</td>\n      <td></td>\n      <td></td>\n    </tr>\n    <tr>\n      <th>48</th>\n      <td>股票市场衍生指标</td>\n      <td></td>\n      <td></td>\n    </tr>\n    <tr>\n      <th>49</th>\n      <td>能源行业</td>\n      <td></td>\n      <td></td>\n    </tr>\n    <tr>\n      <th>50</th>\n      <td>融资分级基金</td>\n      <td></td>\n      <td></td>\n    </tr>\n    <tr>\n      <th>51</th>\n      <td>财务报告审计意见</td>\n      <td></td>\n      <td></td>\n    </tr>\n    <tr>\n      <th>52</th>\n      <td>财务报表</td>\n      <td></td>\n      <td></td>\n    </tr>\n    <tr>\n      <th>53</th>\n      <td>财务报表附注</td>\n      <td></td>\n      <td></td>\n    </tr>\n    <tr>\n      <th>54</th>\n      <td>财务指标分析</td>\n      <td></td>\n      <td></td>\n    </tr>\n    <tr>\n      <th>55</th>\n      <td>货币市场与政策工具</td>\n      <td></td>\n      <td></td>\n    </tr>\n    <tr>\n      <th>56</th>\n      <td>资本结构</td>\n      <td></td>\n      <td></td>\n    </tr>\n    <tr>\n      <th>57</th>\n      <td>资本资产定价模型</td>\n      <td></td>\n      <td></td>\n    </tr>\n    <tr>\n      <th>58</th>\n      <td>进出口统计</td>\n      <td></td>\n      <td></td>\n    </tr>\n    <tr>\n      <th>59</th>\n      <td>违规处理</td>\n      <td></td>\n      <td></td>\n    </tr>\n    <tr>\n      <th>60</th>\n      <td>金融机构分支机构</td>\n      <td></td>\n      <td></td>\n    </tr>\n    <tr>\n      <th>61</th>\n      <td>银行体系</td>\n      <td></td>\n      <td></td>\n    </tr>\n    <tr>\n      <th>62</th>\n      <td>银行财务</td>\n      <td></td>\n      <td></td>\n    </tr>\n    <tr>\n      <th>63</th>\n      <td>银行间交易</td>\n      <td></td>\n      <td></td>\n    </tr>\n    <tr>\n      <th>64</th>\n      <td>风险评价系数β</td>\n      <td></td>\n      <td></td>\n    </tr>\n    <tr>\n      <th>65</th>\n      <td>首次公开发行（A股）</td>\n      <td></td>\n      <td></td>\n    </tr>\n  </tbody>\n</table>\n</div>"
     },
     "execution_count": 13,
     "metadata": {},
     "output_type": "execute_result"
    }
   ],
   "source": [
    "Database()"
   ],
   "metadata": {
    "collapsed": false,
    "ExecuteTime": {
     "end_time": "2024-02-26T14:43:08.113573600Z",
     "start_time": "2024-02-26T14:43:07.377333600Z"
    }
   },
   "id": "d7192083a4e8db1f",
   "execution_count": 13
  },
  {
   "cell_type": "code",
   "outputs": [],
   "source": [
    "# 获取具体数据库中的数据表以及相应的数据字典\n",
    "def Tables(Database_Name):\n",
    "    Tables = csmar.getListTables(Database_Name)\n",
    "    Tables = to_df(Tables)\n",
    "    return Tables"
   ],
   "metadata": {
    "collapsed": false,
    "ExecuteTime": {
     "end_time": "2024-02-26T14:39:52.892508300Z",
     "start_time": "2024-02-26T14:39:52.889000200Z"
    }
   },
   "id": "eba66c21807c16a",
   "execution_count": 5
  },
  {
   "cell_type": "code",
   "outputs": [
    {
     "data": {
      "text/plain": "                  table   tableName startTime endTime\n0     STK_MKT_THRFACDAY  三因子模型指标(日)                  \n1    STK_MKT_THRFACWEEK  三因子模型指标(周)                  \n2   STK_MKT_THRFACMONTH  三因子模型指标(月)                  \n3    STK_MKT_FIVEFACDAY  五因子模型指标(日)                  \n4   STK_MKT_FIVEFACWEEK  五因子模型指标(周)                  \n5  STK_MKT_FIVEFACMONTH  五因子模型指标(月)                  ",
      "text/html": "<div>\n<style scoped>\n    .dataframe tbody tr th:only-of-type {\n        vertical-align: middle;\n    }\n\n    .dataframe tbody tr th {\n        vertical-align: top;\n    }\n\n    .dataframe thead th {\n        text-align: right;\n    }\n</style>\n<table border=\"1\" class=\"dataframe\">\n  <thead>\n    <tr style=\"text-align: right;\">\n      <th></th>\n      <th>table</th>\n      <th>tableName</th>\n      <th>startTime</th>\n      <th>endTime</th>\n    </tr>\n  </thead>\n  <tbody>\n    <tr>\n      <th>0</th>\n      <td>STK_MKT_THRFACDAY</td>\n      <td>三因子模型指标(日)</td>\n      <td></td>\n      <td></td>\n    </tr>\n    <tr>\n      <th>1</th>\n      <td>STK_MKT_THRFACWEEK</td>\n      <td>三因子模型指标(周)</td>\n      <td></td>\n      <td></td>\n    </tr>\n    <tr>\n      <th>2</th>\n      <td>STK_MKT_THRFACMONTH</td>\n      <td>三因子模型指标(月)</td>\n      <td></td>\n      <td></td>\n    </tr>\n    <tr>\n      <th>3</th>\n      <td>STK_MKT_FIVEFACDAY</td>\n      <td>五因子模型指标(日)</td>\n      <td></td>\n      <td></td>\n    </tr>\n    <tr>\n      <th>4</th>\n      <td>STK_MKT_FIVEFACWEEK</td>\n      <td>五因子模型指标(周)</td>\n      <td></td>\n      <td></td>\n    </tr>\n    <tr>\n      <th>5</th>\n      <td>STK_MKT_FIVEFACMONTH</td>\n      <td>五因子模型指标(月)</td>\n      <td></td>\n      <td></td>\n    </tr>\n  </tbody>\n</table>\n</div>"
     },
     "execution_count": 19,
     "metadata": {},
     "output_type": "execute_result"
    }
   ],
   "source": [
    "Tables('Fama-French因子')"
   ],
   "metadata": {
    "collapsed": false,
    "ExecuteTime": {
     "end_time": "2024-02-26T14:44:22.140457400Z",
     "start_time": "2024-02-26T14:44:21.726894600Z"
    }
   },
   "id": "779aac33dd81230",
   "execution_count": 19
  },
  {
   "cell_type": "code",
   "outputs": [],
   "source": [
    "# 进行数据预览以及具体字段的查询\n",
    "def Fields_And_Preview(Tables_Name):\n",
    "    Fields = csmar.getListFields(Tables_Name)\n",
    "    Fields=to_df(Fields)\n",
    "    Preview = csmar.preview(Tables_Name)\n",
    "    Preview=to_df(Preview)\n",
    "    return Fields,Preview"
   ],
   "metadata": {
    "collapsed": false,
    "ExecuteTime": {
     "end_time": "2024-02-26T14:39:53.671423500Z",
     "start_time": "2024-02-26T14:39:53.668912800Z"
    }
   },
   "id": "85d95bf344b2a050",
   "execution_count": 6
  },
  {
   "cell_type": "code",
   "outputs": [
    {
     "data": {
      "text/plain": "(          field         fieldName fieldType ableNull fieldKey\n 0  MarkettypeID          股票市场类型编码   varchar      YES         \n 1  TradingMonth              交易月份   varchar      YES     Date\n 2  RiskPremium1  市场风险溢价因子(流通市值加权)   decimal      YES         \n 3  RiskPremium2   市场风险溢价因子(总市值加权)   decimal      YES         \n 4          SMB1      市值因子(流通市值加权)   decimal      YES         \n 5          SMB2       市值因子(总市值加权)   decimal      YES         \n 6          HML1   账面市值比因子(流通市值加权)   decimal      YES         \n 7          HML2    账面市值比因子(总市值加权)   decimal      YES         ,\n    MarkettypeID TradingMonth  RiskPremium1  RiskPremium2      SMB1      SMB2  \\\n 0         P9712      2018-01      0.056083      0.045083 -0.076725 -0.074070   \n 1         P9713      2018-01      0.055083      0.044083 -0.076156 -0.073816   \n 2         P9710      2018-01      0.049083      0.036083 -0.078093 -0.074534   \n 3         P9709      2018-01      0.050083      0.037083 -0.078864 -0.075029   \n 4         P9707      2018-01      0.002083      0.000083 -0.051616 -0.052022   \n 5         P9706      2018-01      0.056083      0.045083 -0.076725 -0.074070   \n 6         P9705      2018-01     -0.041917     -0.050917 -0.033119 -0.030106   \n 7         P9714      2018-01      0.050083      0.037083 -0.078864 -0.075029   \n 8         P9715      2018-01      0.049083      0.036083 -0.078093 -0.074534   \n 9         P9715      2018-02     -0.061917     -0.057917 -0.000907 -0.001773   \n 10        P9714      2018-02     -0.062917     -0.057917  0.000953 -0.000509   \n 11        P9710      2018-02     -0.061917     -0.057917 -0.000907 -0.001773   \n 12        P9709      2018-02     -0.062917     -0.057917  0.000953 -0.000509   \n 13        P9707      2018-02     -0.042917     -0.041917 -0.011199 -0.009302   \n 14        P9706      2018-02     -0.064917     -0.061917 -0.003768 -0.004993   \n 15        P9705      2018-02     -0.012917     -0.013917 -0.045905 -0.050225   \n 16        P9712      2018-02     -0.064917     -0.061917 -0.003768 -0.004993   \n 17        P9713      2018-02     -0.064917     -0.060917 -0.004890 -0.005873   \n 18        P9713      2018-03     -0.027917     -0.022917  0.058700  0.057616   \n 19        P9712      2018-03     -0.027917     -0.022917  0.059457  0.058173   \n 20        P9710      2018-03     -0.020917     -0.012917  0.064342  0.065034   \n 21        P9709      2018-03     -0.020917     -0.013917  0.064936  0.065599   \n 22        P9707      2018-03     -0.005917     -0.005917  0.042402  0.040554   \n 23        P9706      2018-03     -0.027917     -0.022917  0.059457  0.058173   \n 24        P9705      2018-03      0.098083      0.105083  0.040516  0.059190   \n 25        P9714      2018-03     -0.020917     -0.013917  0.064936  0.065599   \n 26        P9715      2018-03     -0.020917     -0.012917  0.064342  0.065034   \n 27        P9715      2018-04     -0.034917     -0.035917 -0.009148 -0.003171   \n 28        P9714      2018-04     -0.033917     -0.034917 -0.008043 -0.002495   \n 29        P9710      2018-04     -0.034917     -0.035917 -0.009148 -0.003171   \n 30        P9709      2018-04     -0.033917     -0.034917 -0.008043 -0.002495   \n 31        P9707      2018-04     -0.075917     -0.072917 -0.000682 -0.008466   \n 32        P9706      2018-04     -0.033917     -0.034917 -0.012844 -0.007962   \n 33        P9705      2018-04     -0.037917     -0.034917  0.025528  0.031467   \n 34        P9712      2018-04     -0.033917     -0.034917 -0.012844 -0.007962   \n 35        P9713      2018-04     -0.034917     -0.035917 -0.013675 -0.008391   \n 36        P9713      2018-05      0.000083      0.001083 -0.024143 -0.017094   \n 37        P9712      2018-05      0.000083      0.001083 -0.023304 -0.016404   \n 38        P9710      2018-05     -0.001917     -0.001917 -0.025200 -0.017981   \n 39        P9709      2018-05     -0.001917     -0.001917 -0.024891 -0.017530   \n 40        P9707      2018-05      0.000083     -0.000917 -0.045152 -0.045439   \n 41        P9706      2018-05      0.000083      0.001083 -0.023304 -0.016404   \n 42        P9705      2018-05     -0.034917     -0.030917  0.029462  0.026611   \n 43        P9714      2018-05     -0.001917     -0.001917 -0.024891 -0.017530   \n 44        P9715      2018-05     -0.001917     -0.001917 -0.025200 -0.017981   \n 45        P9713      2018-06     -0.077917     -0.080917 -0.036905 -0.034222   \n 46        P9715      2018-06     -0.077917     -0.080917 -0.034910 -0.031354   \n 47        P9710      2018-06     -0.077917     -0.080917 -0.034910 -0.031354   \n 48        P9709      2018-06     -0.078917     -0.081917 -0.035656 -0.032025   \n 49        P9707      2018-06     -0.056917     -0.051917 -0.016961 -0.014853   \n 50        P9706      2018-06     -0.077917     -0.081917 -0.038000 -0.035198   \n 51        P9705      2018-06     -0.089917     -0.085917 -0.006199 -0.005825   \n 52        P9712      2018-06     -0.077917     -0.081917 -0.038000 -0.035198   \n 53        P9714      2018-06     -0.078917     -0.081917 -0.035656 -0.032025   \n 54        P9712      2018-07      0.020083      0.014083 -0.008563 -0.011938   \n 55        P9710      2018-07      0.017083      0.009083 -0.015986 -0.021083   \n 56        P9709      2018-07      0.017083      0.009083 -0.015748 -0.020793   \n 57        P9707      2018-07      0.006083      0.003083  0.001238 -0.014506   \n 58        P9706      2018-07      0.020083      0.014083 -0.008563 -0.011938   \n 59        P9705      2018-07     -0.027917     -0.033917  0.008373  0.000208   \n 60        P9715      2018-07      0.017083      0.009083 -0.015986 -0.021083   \n 61        P9713      2018-07      0.020083      0.013083 -0.008733 -0.012378   \n 62        P9714      2018-07      0.017083      0.009083 -0.015748 -0.020793   \n 63        P9713      2018-08     -0.051917     -0.057917 -0.022482 -0.024327   \n 64        P9715      2018-08     -0.052917     -0.059917 -0.025220 -0.026381   \n 65        P9710      2018-08     -0.052917     -0.059917 -0.025220 -0.026381   \n 66        P9709      2018-08     -0.053917     -0.059917 -0.025413 -0.026456   \n 67        P9707      2018-08     -0.044917     -0.043917  0.023546  0.022534   \n 68        P9706      2018-08     -0.051917     -0.057917 -0.023000 -0.024739   \n 69        P9705      2018-08     -0.082917     -0.085917 -0.006676 -0.009215   \n 70        P9712      2018-08     -0.051917     -0.057917 -0.023000 -0.024739   \n 71        P9714      2018-08     -0.053917     -0.059917 -0.025413 -0.026456   \n 72        P9710      2018-09      0.029083      0.023083 -0.040618 -0.042400   \n 73        P9709      2018-09      0.029083      0.024083 -0.041685 -0.043459   \n 74        P9707      2018-09     -0.011917     -0.009917  0.006460  0.002664   \n 75        P9706      2018-09      0.032083      0.028083 -0.042418 -0.043942   \n 76        P9705      2018-09     -0.014917     -0.015917  0.004350 -0.001481   \n 77        P9712      2018-09      0.032083      0.028083 -0.042418 -0.043942   \n 78        P9715      2018-09      0.029083      0.023083 -0.040618 -0.042400   \n 79        P9713      2018-09      0.031083      0.027083 -0.041355 -0.042883   \n 80        P9714      2018-09      0.029083      0.024083 -0.041685 -0.043459   \n 81        P9715      2018-10     -0.081917     -0.082917 -0.008040 -0.006721   \n 82        P9713      2018-10     -0.079917     -0.081917 -0.006900 -0.006720   \n 83        P9712      2018-10     -0.079917     -0.081917 -0.007128 -0.007415   \n 84        P9710      2018-10     -0.081917     -0.082917 -0.008040 -0.006721   \n 85        P9709      2018-10     -0.081917     -0.082917 -0.008421 -0.007375   \n 86        P9707      2018-10     -0.097917     -0.099917 -0.007651 -0.011385   \n 87        P9706      2018-10     -0.079917     -0.081917 -0.007128 -0.007415   \n 88        P9705      2018-10     -0.107917     -0.096917  0.022434  0.030491   \n 89        P9714      2018-10     -0.081917     -0.082917 -0.008421 -0.007375   \n 90        P9710      2018-11      0.001083      0.003083  0.064715  0.056846   \n 91        P9709      2018-11      0.001083      0.003083  0.065247  0.057225   \n 92        P9707      2018-11      0.001083      0.002083  0.020240  0.013464   \n 93        P9706      2018-11     -0.001917      0.000083  0.069074  0.062831   \n 94        P9705      2018-11      0.047083      0.048083  0.005053 -0.004870   \n 95        P9712      2018-11     -0.001917      0.000083  0.069074  0.062831   \n 96        P9713      2018-11     -0.001917      0.000083  0.068464  0.062251   \n 97        P9715      2018-11      0.001083      0.003083  0.064715  0.056846   \n 98        P9714      2018-11      0.001083      0.003083  0.065247  0.057225   \n 99        P9715      2018-12     -0.043917     -0.043917  0.002037  0.004633   \n \n         HML1      HML2  \n 0   0.074501  0.071997  \n 1   0.074201  0.071714  \n 2   0.072272  0.070302  \n 3   0.072665  0.070563  \n 4   0.004950  0.012113  \n 5   0.074501  0.071997  \n 6   0.013357  0.012231  \n 7   0.072665  0.070563  \n 8   0.072272  0.070302  \n 9  -0.019557 -0.018649  \n 10 -0.019362 -0.019140  \n 11 -0.019557 -0.018649  \n 12 -0.019362 -0.019140  \n 13  0.023077  0.021868  \n 14 -0.014218 -0.012646  \n 15  0.026097  0.029189  \n 16 -0.014218 -0.012646  \n 17 -0.013593 -0.011873  \n 18 -0.053402 -0.051804  \n 19 -0.053317 -0.052232  \n 20 -0.060297 -0.062021  \n 21 -0.060283 -0.061875  \n 22 -0.020890 -0.019148  \n 23 -0.053317 -0.052232  \n 24 -0.011195 -0.014614  \n 25 -0.060283 -0.061875  \n 26 -0.060297 -0.062021  \n 27  0.011389  0.011721  \n 28  0.014989  0.014175  \n 29  0.011389  0.011721  \n 30  0.014989  0.014175  \n 31 -0.082667 -0.076200  \n 32  0.019126  0.019126  \n 33 -0.019611 -0.018153  \n 34  0.019126  0.019126  \n 35  0.015272  0.016561  \n 36 -0.012163 -0.003337  \n 37 -0.011074 -0.002861  \n 38 -0.008169  0.001181  \n 39 -0.007945  0.001248  \n 40 -0.020372 -0.011659  \n 41 -0.011074 -0.002861  \n 42 -0.016864 -0.009427  \n 43 -0.007945  0.001248  \n 44 -0.008169  0.001181  \n 45  0.036008  0.035508  \n 46  0.030515  0.029353  \n 47  0.030515  0.029353  \n 48  0.029824  0.028554  \n 49  0.011781  0.019350  \n 50  0.035502  0.035218  \n 51 -0.012377 -0.012610  \n 52  0.035502  0.035218  \n 53  0.029824  0.028554  \n 54  0.027707  0.023125  \n 55  0.029812  0.027536  \n 56  0.029431  0.027301  \n 57 -0.016675 -0.008713  \n 58  0.027707  0.023125  \n 59 -0.005649 -0.010122  \n 60  0.029812  0.027536  \n 61  0.028267  0.023632  \n 62  0.029431  0.027301  \n 63  0.027051  0.019884  \n 64  0.024464  0.017655  \n 65  0.024464  0.017655  \n 66  0.025030  0.017904  \n 67 -0.019730 -0.012482  \n 68  0.028159  0.020737  \n 69 -0.022034 -0.027814  \n 70  0.028159  0.020737  \n 71  0.025030  0.017904  \n 72  0.016302  0.017233  \n 73  0.017158  0.017974  \n 74 -0.026884 -0.012376  \n 75  0.017627  0.018956  \n 76 -0.020585 -0.023956  \n 77  0.017627  0.018956  \n 78  0.016302  0.017233  \n 79  0.017008  0.018460  \n 80  0.017158  0.017974  \n 81  0.052716  0.052835  \n 82  0.051672  0.053180  \n 83  0.053457  0.054707  \n 84  0.052716  0.052835  \n 85  0.054115  0.054127  \n 86 -0.028962 -0.025653  \n 87  0.053457  0.054707  \n 88  0.025313  0.020908  \n 89  0.054115  0.054127  \n 90 -0.048687 -0.049498  \n 91 -0.048612 -0.049444  \n 92 -0.026754 -0.039567  \n 93 -0.053119 -0.054182  \n 94  0.000671 -0.004823  \n 95 -0.053119 -0.054182  \n 96 -0.052770 -0.053973  \n 97 -0.048687 -0.049498  \n 98 -0.048612 -0.049444  \n 99  0.006401  0.009896  )"
     },
     "execution_count": 21,
     "metadata": {},
     "output_type": "execute_result"
    }
   ],
   "source": [
    "# 这里MarkettypeID代码具体表示意思可以参考官网相关解释\n",
    "Fields_And_Preview('STK_MKT_THRFACMONTH')"
   ],
   "metadata": {
    "collapsed": false,
    "ExecuteTime": {
     "end_time": "2024-02-26T14:44:49.036777300Z",
     "start_time": "2024-02-26T14:44:48.170042700Z"
    }
   },
   "id": "92b0dcd05e503cdb",
   "execution_count": 21
  },
  {
   "cell_type": "markdown",
   "source": [
    "### 注意这里的condition_factor需要输入相应的sql语言进行筛选，所以需要投资者自己学习\n",
    "### 网址：[SQL菜鸟教程](https://www.runoob.com/sql/sql-tutorial.html)"
   ],
   "metadata": {
    "collapsed": false
   },
   "id": "e84c6dd177ff53b2"
  },
  {
   "cell_type": "code",
   "outputs": [],
   "source": [
    "# 请求获取数据\n",
    "def query(columns_list,condition_factor,tableName_factor,start_date,end_date):\n",
    "    df=csmar.query_df(columns_list,condition_factor,tableName_factor,start_date,end_date)\n",
    "    return df"
   ],
   "metadata": {
    "collapsed": false,
    "ExecuteTime": {
     "end_time": "2024-02-26T14:39:54.614958Z",
     "start_time": "2024-02-26T14:39:54.607449800Z"
    }
   },
   "id": "237aa2c289d99a09",
   "execution_count": 7
  },
  {
   "cell_type": "code",
   "outputs": [],
   "source": [
    "def get_data():\n",
    "    Database1=Database()\n",
    "    Database1_Name=Database1.databaseName\n",
    "    print('1.尊敬的VIP用户，您购买的数据如下：\\n',Database1_Name)\n",
    "    z=int(input('请输入您想要查询的数据库索引：\\n'))\n",
    "    #获取数据库中的所有的数据表清单\n",
    "    Tables1=Tables(Database1_Name[z])\n",
    "    Tables1_Name=Tables1.iloc[:,0:2]\n",
    "    print('2.在%s数据库中所包含所有表格如下：\\n'%Database1_Name[z],Tables1_Name)\n",
    "    #获取数据预览和表格所含数据类型\n",
    "    m=int(input('请输入您想要获取的数据表格索引：\\n'))\n",
    "    Fields1,Data1=Fields_And_Preview(Tables1.iloc[:,0][m])\n",
    "    print('3.%s数据表中包含的内容如下：\\n'%Tables1.iloc[:,0][m],Fields1)\n",
    "    print('4.%s数据表的预览如下：\\n'%Tables1.iloc[:,0][m],Data1.head(10))\n",
    "    tableName=Tables1.iloc[:,0][m]\n",
    "    #这里默认输出所有列的数据\n",
    "    columns=list(Data1.columns)\n",
    "    condition=str(input('请输入您筛选数据的条件：\\n'))\n",
    "    start_date=input(\"请输入您想要获取数据的开始日期，例如'2010-01-01':\\n\")\n",
    "    end_date=input(\"请输入您想要获取数据的结束日期，例如'2010-02-01':\\n\")\n",
    "    df=query(columns, condition, tableName, start_date, end_date)\n",
    "    print('5.您选择导出数据预览如下：\\n',df.head())\n",
    "    print('数据导出成功！')\n",
    "    return df"
   ],
   "metadata": {
    "collapsed": false,
    "ExecuteTime": {
     "end_time": "2024-02-26T14:39:55.512672Z",
     "start_time": "2024-02-26T14:39:55.511667900Z"
    }
   },
   "id": "61c4559bee2279a5",
   "execution_count": 8
  },
  {
   "cell_type": "code",
   "outputs": [
    {
     "name": "stdout",
     "output_type": "stream",
     "text": [
      "1.尊敬的VIP用户，您购买的数据如下：\n",
      " 0     Fama-French因子\n",
      "1          上市公司人物特征\n",
      "2            上市公司贷款\n",
      "3              世界经济\n",
      "4              业绩预告\n",
      "5              事件研究\n",
      "6              保险行业\n",
      "7            债券市场交易\n",
      "8               停复牌\n",
      "9              公募基金\n",
      "10             关联交易\n",
      "11            内部人交易\n",
      "12             内部控制\n",
      "13            分析师预测\n",
      "14             动量因子\n",
      "15             区域经济\n",
      "16             商品期货\n",
      "17             基本分析\n",
      "18             基金评价\n",
      "19             基金评级\n",
      "20             外汇市场\n",
      "21             大宗交易\n",
      "22             宏观经济\n",
      "23           工业行业统计\n",
      "24             市场指数\n",
      "25       年、中、季报公布日期\n",
      "26             并购重组\n",
      "27             影子银行\n",
      "28            房地产行业\n",
      "29            投资者情绪\n",
      "30     操控性与非操控性应计利润\n",
      "31             收益波动\n",
      "32             收益预测\n",
      "33             数字经济\n",
      "34               新闻\n",
      "35             日历效应\n",
      "36            机构投资者\n",
      "37           民营上市公司\n",
      "38             治理结构\n",
      "39           海外上市公司\n",
      "40           盈余反应系数\n",
      "41              碳中和\n",
      "42             红利分配\n",
      "43             绿色金融\n",
      "44               股东\n",
      "45             股利政策\n",
      "46           股权分置改革\n",
      "47           股票市场交易\n",
      "48         股票市场衍生指标\n",
      "49             能源行业\n",
      "50           融资分级基金\n",
      "51         财务报告审计意见\n",
      "52             财务报表\n",
      "53           财务报表附注\n",
      "54           财务指标分析\n",
      "55        货币市场与政策工具\n",
      "56             资本结构\n",
      "57         资本资产定价模型\n",
      "58            进出口统计\n",
      "59             违规处理\n",
      "60         金融机构分支机构\n",
      "61             银行体系\n",
      "62             银行财务\n",
      "63            银行间交易\n",
      "64          风险评价系数β\n",
      "65       首次公开发行（A股）\n",
      "Name: databaseName, dtype: object\n",
      "2.在Fama-French因子数据库中所包含所有表格如下：\n",
      "                   table   tableName\n",
      "0     STK_MKT_THRFACDAY  三因子模型指标(日)\n",
      "1    STK_MKT_THRFACWEEK  三因子模型指标(周)\n",
      "2   STK_MKT_THRFACMONTH  三因子模型指标(月)\n",
      "3    STK_MKT_FIVEFACDAY  五因子模型指标(日)\n",
      "4   STK_MKT_FIVEFACWEEK  五因子模型指标(周)\n",
      "5  STK_MKT_FIVEFACMONTH  五因子模型指标(月)\n",
      "3.STK_MKT_THRFACMONTH数据表中包含的内容如下：\n",
      "           field         fieldName fieldType ableNull fieldKey\n",
      "0  MarkettypeID          股票市场类型编码   varchar      YES         \n",
      "1  TradingMonth              交易月份   varchar      YES     Date\n",
      "2  RiskPremium1  市场风险溢价因子(流通市值加权)   decimal      YES         \n",
      "3  RiskPremium2   市场风险溢价因子(总市值加权)   decimal      YES         \n",
      "4          SMB1      市值因子(流通市值加权)   decimal      YES         \n",
      "5          SMB2       市值因子(总市值加权)   decimal      YES         \n",
      "6          HML1   账面市值比因子(流通市值加权)   decimal      YES         \n",
      "7          HML2    账面市值比因子(总市值加权)   decimal      YES         \n",
      "4.STK_MKT_THRFACMONTH数据表的预览如下：\n",
      "   MarkettypeID TradingMonth  RiskPremium1  RiskPremium2      SMB1      SMB2  \\\n",
      "0        P9712      2018-01      0.056083      0.045083 -0.076725 -0.074070   \n",
      "1        P9713      2018-01      0.055083      0.044083 -0.076156 -0.073816   \n",
      "2        P9710      2018-01      0.049083      0.036083 -0.078093 -0.074534   \n",
      "3        P9709      2018-01      0.050083      0.037083 -0.078864 -0.075029   \n",
      "4        P9707      2018-01      0.002083      0.000083 -0.051616 -0.052022   \n",
      "5        P9706      2018-01      0.056083      0.045083 -0.076725 -0.074070   \n",
      "6        P9705      2018-01     -0.041917     -0.050917 -0.033119 -0.030106   \n",
      "7        P9714      2018-01      0.050083      0.037083 -0.078864 -0.075029   \n",
      "8        P9715      2018-01      0.049083      0.036083 -0.078093 -0.074534   \n",
      "9        P9715      2018-02     -0.061917     -0.057917 -0.000907 -0.001773   \n",
      "\n",
      "       HML1      HML2  \n",
      "0  0.074501  0.071997  \n",
      "1  0.074201  0.071714  \n",
      "2  0.072272  0.070302  \n",
      "3  0.072665  0.070563  \n",
      "4  0.004950  0.012113  \n",
      "5  0.074501  0.071997  \n",
      "6  0.013357  0.012231  \n",
      "7  0.072665  0.070563  \n",
      "8  0.072272  0.070302  \n",
      "9 -0.019557 -0.018649  \n",
      "5.您选择导出数据预览如下：\n",
      "   MarkettypeID TradingMonth  RiskPremium1  RiskPremium2      SMB1      SMB2  \\\n",
      "0        P9712      2010-01     -0.090081     -0.087159  0.072028  0.068575   \n",
      "1        P9712      2010-02      0.023891      0.020819  0.065069  0.064170   \n",
      "2        P9712      2010-03      0.022927      0.019526  0.021816  0.017912   \n",
      "3        P9712      2010-04     -0.079667     -0.079338  0.008749 -0.000536   \n",
      "4        P9712      2010-05     -0.085487     -0.088854  0.003087  0.009890   \n",
      "\n",
      "       HML1      HML2  \n",
      "0 -0.018919 -0.019892  \n",
      "1 -0.019492 -0.033610  \n",
      "2 -0.005504 -0.007244  \n",
      "3 -0.019223 -0.023727  \n",
      "4 -0.002986  0.006773  \n",
      "数据导出成功！\n"
     ]
    }
   ],
   "source": [
    "# 依次输入 0、2、MarkettypeID='P9712'、2010-01-01、'2010-10-01'\n",
    "test_data=get_data()"
   ],
   "metadata": {
    "collapsed": false,
    "ExecuteTime": {
     "end_time": "2024-02-26T14:50:47.894394400Z",
     "start_time": "2024-02-26T14:49:56.201699300Z"
    }
   },
   "id": "cf34eca48e9f0cfd",
   "execution_count": 24
  },
  {
   "cell_type": "markdown",
   "source": [
    "### 注：上述get_data()函数仅适用于单只股票或者标的资产的获取，如果存在多只股票还是使用官方的query函数更加方便一些。不过调用该函数可以很快的知道相应数据表中包含哪些数据信息，对于投资者来说依然具有很大帮助\n"
   ],
   "metadata": {
    "collapsed": false
   },
   "id": "1a8194a0e99319f5"
  }
 ],
 "metadata": {
  "kernelspec": {
   "display_name": "Python 3",
   "language": "python",
   "name": "python3"
  },
  "language_info": {
   "codemirror_mode": {
    "name": "ipython",
    "version": 2
   },
   "file_extension": ".py",
   "mimetype": "text/x-python",
   "name": "python",
   "nbconvert_exporter": "python",
   "pygments_lexer": "ipython2",
   "version": "2.7.6"
  }
 },
 "nbformat": 4,
 "nbformat_minor": 5
}
