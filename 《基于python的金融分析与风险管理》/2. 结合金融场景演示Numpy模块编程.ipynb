{
 "cells": [
  {
   "cell_type": "markdown",
   "source": [
    "# 第二章：结合金融场景演示Numpy模块编程"
   ],
   "metadata": {
    "collapsed": false
   },
   "id": "83a856f4a2cf88a8"
  },
  {
   "cell_type": "markdown",
   "source": [
    "## 2.1 从一个投资案例讲起"
   ],
   "metadata": {
    "collapsed": false
   },
   "id": "c78379399be59299"
  },
  {
   "cell_type": "code",
   "outputs": [],
   "source": [
    "return_May25=[-0.035099,-0.013892,0.005848,0.021242]\n",
    "weight_list=[0.15,0.2,0.25,0.4]\n",
    "n=len(weight_list)"
   ],
   "metadata": {
    "collapsed": false,
    "ExecuteTime": {
     "end_time": "2024-01-29T12:49:32.245831900Z",
     "start_time": "2024-01-29T12:49:32.241104400Z"
    }
   },
   "id": "de18417dcede01cc",
   "execution_count": 1
  },
  {
   "cell_type": "code",
   "outputs": [
    {
     "name": "stdout",
     "output_type": "stream",
     "text": [
      "2020年5月25日投资组合的收益率 0.001916\n"
     ]
    }
   ],
   "source": [
    "return_weight=[]\n",
    "for i in range(n):\n",
    "    return_weight.append(return_May25[i]*weight_list[i])\n",
    "return_port_May25=sum(return_weight)\n",
    "print('2020年5月25日投资组合的收益率',round(return_port_May25,6))"
   ],
   "metadata": {
    "collapsed": false,
    "ExecuteTime": {
     "end_time": "2024-01-29T12:51:34.973055100Z",
     "start_time": "2024-01-29T12:51:34.962974700Z"
    }
   },
   "id": "5d0574ab64e7a485",
   "execution_count": 2
  },
  {
   "cell_type": "code",
   "outputs": [
    {
     "data": {
      "text/plain": "'1.24.3'"
     },
     "execution_count": 3,
     "metadata": {},
     "output_type": "execute_result"
    }
   ],
   "source": [
    "import numpy as np\n",
    "np.__version__"
   ],
   "metadata": {
    "collapsed": false,
    "ExecuteTime": {
     "end_time": "2024-01-29T12:52:06.941641200Z",
     "start_time": "2024-01-29T12:52:06.880587Z"
    }
   },
   "id": "8494449997bb5aa1",
   "execution_count": 3
  },
  {
   "cell_type": "markdown",
   "source": [
    "## 2.2 N维数组"
   ],
   "metadata": {
    "collapsed": false
   },
   "id": "2b95f726a27adc46"
  },
  {
   "cell_type": "code",
   "outputs": [
    {
     "data": {
      "text/plain": "numpy.ndarray"
     },
     "execution_count": 4,
     "metadata": {},
     "output_type": "execute_result"
    }
   ],
   "source": [
    "# 1.直接输入法\n",
    "weight_array1=np.array([0.15,0.2,0.25,0.4])\n",
    "type(weight_array1)"
   ],
   "metadata": {
    "collapsed": false,
    "ExecuteTime": {
     "end_time": "2024-01-29T12:55:39.372193900Z",
     "start_time": "2024-01-29T12:55:39.365469200Z"
    }
   },
   "id": "56b1fdded0291dc3",
   "execution_count": 4
  },
  {
   "cell_type": "code",
   "outputs": [
    {
     "data": {
      "text/plain": "(4,)"
     },
     "execution_count": 5,
     "metadata": {},
     "output_type": "execute_result"
    }
   ],
   "source": [
    "weight_array1.shape"
   ],
   "metadata": {
    "collapsed": false,
    "ExecuteTime": {
     "end_time": "2024-01-29T12:55:54.489091600Z",
     "start_time": "2024-01-29T12:55:54.482959Z"
    }
   },
   "id": "9e59b058cbfbaccf",
   "execution_count": 5
  },
  {
   "cell_type": "code",
   "outputs": [
    {
     "data": {
      "text/plain": "(4, 5)"
     },
     "execution_count": 6,
     "metadata": {},
     "output_type": "execute_result"
    }
   ],
   "source": [
    "return_array1=np.array([\n",
    "[-0.035099,0.17230,-0.003450,-0.024551,0.039368],\n",
    "[-0.013892,0.024334,-0.033758,0.014622,0.000128],\n",
    "[0.005848,-0.02907,0.005831,0.005797,-0.005764],\n",
    "[0.021242,0.002133,-0.029803,-0.002743,-0.014301]])\n",
    "return_array1.shape"
   ],
   "metadata": {
    "collapsed": false,
    "ExecuteTime": {
     "end_time": "2024-01-29T13:02:52.909984700Z",
     "start_time": "2024-01-29T13:02:52.904823200Z"
    }
   },
   "id": "a43920d7b8097485",
   "execution_count": 6
  },
  {
   "cell_type": "code",
   "outputs": [
    {
     "data": {
      "text/plain": "array([[-3.5099e-02,  1.7230e-01, -3.4500e-03, -2.4551e-02,  3.9368e-02],\n       [-1.3892e-02,  2.4334e-02, -3.3758e-02,  1.4622e-02,  1.2800e-04],\n       [ 5.8480e-03, -2.9070e-02,  5.8310e-03,  5.7970e-03, -5.7640e-03],\n       [ 2.1242e-02,  2.1330e-03, -2.9803e-02, -2.7430e-03, -1.4301e-02]])"
     },
     "execution_count": 8,
     "metadata": {},
     "output_type": "execute_result"
    }
   ],
   "source": [
    "# 2.将列表转化为数组\n",
    "return_list=[\n",
    "-0.035099,0.17230,-0.003450,-0.024551,0.039368,\n",
    "-0.013892,0.024334,-0.033758,0.014622,0.000128,\n",
    "0.005848,-0.02907,0.005831,0.005797,-0.005764,\n",
    "0.021242,0.002133,-0.029803,-0.002743,-0.014301]\n",
    "return_array2=np.array(return_list)\n",
    "return_array2=return_array2.reshape(4,5)\n",
    "return_array2"
   ],
   "metadata": {
    "collapsed": false,
    "ExecuteTime": {
     "end_time": "2024-01-29T13:08:40.325195800Z",
     "start_time": "2024-01-29T13:08:40.318927200Z"
    }
   },
   "id": "739bad408d344a31",
   "execution_count": 8
  },
  {
   "cell_type": "code",
   "outputs": [
    {
     "data": {
      "text/plain": "array([0.15, 0.2 , 0.25, 0.4 ])"
     },
     "execution_count": 9,
     "metadata": {},
     "output_type": "execute_result"
    }
   ],
   "source": [
    "# 3.查看数组的属性\n",
    "weight_array2=np.array(weight_list)\n",
    "weight_array2"
   ],
   "metadata": {
    "collapsed": false,
    "ExecuteTime": {
     "end_time": "2024-01-29T13:10:00.464572600Z",
     "start_time": "2024-01-29T13:10:00.453609100Z"
    }
   },
   "id": "306b9247e31f28da",
   "execution_count": 9
  },
  {
   "cell_type": "code",
   "outputs": [
    {
     "data": {
      "text/plain": "array([-3.5099e-02,  1.7230e-01, -3.4500e-03, -2.4551e-02,  3.9368e-02,\n       -1.3892e-02,  2.4334e-02, -3.3758e-02,  1.4622e-02,  1.2800e-04,\n        5.8480e-03, -2.9070e-02,  5.8310e-03,  5.7970e-03, -5.7640e-03,\n        2.1242e-02,  2.1330e-03, -2.9803e-02, -2.7430e-03, -1.4301e-02])"
     },
     "execution_count": 10,
     "metadata": {},
     "output_type": "execute_result"
    }
   ],
   "source": [
    "return_array3=return_array2.ravel() #将二维数组降至一维\n",
    "return_array3"
   ],
   "metadata": {
    "collapsed": false,
    "ExecuteTime": {
     "end_time": "2024-01-29T13:11:38.228979400Z",
     "start_time": "2024-01-29T13:11:38.212501700Z"
    }
   },
   "id": "2cbd79bc0cbb89a8",
   "execution_count": 10
  },
  {
   "cell_type": "code",
   "outputs": [
    {
     "data": {
      "text/plain": "1"
     },
     "execution_count": 11,
     "metadata": {},
     "output_type": "execute_result"
    }
   ],
   "source": [
    "weight_array1.ndim"
   ],
   "metadata": {
    "collapsed": false,
    "ExecuteTime": {
     "end_time": "2024-01-29T13:12:58.572605300Z",
     "start_time": "2024-01-29T13:12:58.564884700Z"
    }
   },
   "id": "2252e3120b513ec7",
   "execution_count": 11
  },
  {
   "cell_type": "code",
   "outputs": [
    {
     "data": {
      "text/plain": "2"
     },
     "execution_count": 12,
     "metadata": {},
     "output_type": "execute_result"
    }
   ],
   "source": [
    "return_array1.ndim"
   ],
   "metadata": {
    "collapsed": false,
    "ExecuteTime": {
     "end_time": "2024-01-29T13:13:13.942858300Z",
     "start_time": "2024-01-29T13:13:13.936505500Z"
    }
   },
   "id": "ccca00252587c5b",
   "execution_count": 12
  },
  {
   "cell_type": "code",
   "outputs": [
    {
     "data": {
      "text/plain": "4"
     },
     "execution_count": 13,
     "metadata": {},
     "output_type": "execute_result"
    }
   ],
   "source": [
    "weight_array1.size"
   ],
   "metadata": {
    "collapsed": false,
    "ExecuteTime": {
     "end_time": "2024-01-29T13:13:28.344608600Z",
     "start_time": "2024-01-29T13:13:28.337534600Z"
    }
   },
   "id": "52c3e230c02dbded",
   "execution_count": 13
  },
  {
   "cell_type": "code",
   "outputs": [
    {
     "data": {
      "text/plain": "20"
     },
     "execution_count": 14,
     "metadata": {},
     "output_type": "execute_result"
    }
   ],
   "source": [
    "return_array1.size"
   ],
   "metadata": {
    "collapsed": false,
    "ExecuteTime": {
     "end_time": "2024-01-29T13:13:40.683847800Z",
     "start_time": "2024-01-29T13:13:40.671994200Z"
    }
   },
   "id": "810f161ffd09f211",
   "execution_count": 14
  },
  {
   "cell_type": "code",
   "outputs": [
    {
     "data": {
      "text/plain": "dtype('float64')"
     },
     "execution_count": 15,
     "metadata": {},
     "output_type": "execute_result"
    }
   ],
   "source": [
    "weight_array1.dtype"
   ],
   "metadata": {
    "collapsed": false,
    "ExecuteTime": {
     "end_time": "2024-01-29T13:14:01.727329Z",
     "start_time": "2024-01-29T13:14:01.722266200Z"
    }
   },
   "id": "f65cef2d39a4e19d",
   "execution_count": 15
  },
  {
   "cell_type": "code",
   "outputs": [
    {
     "data": {
      "text/plain": "dtype('float64')"
     },
     "execution_count": 16,
     "metadata": {},
     "output_type": "execute_result"
    }
   ],
   "source": [
    "return_array1.dtype"
   ],
   "metadata": {
    "collapsed": false,
    "ExecuteTime": {
     "end_time": "2024-01-29T13:14:07.220671100Z",
     "start_time": "2024-01-29T13:14:07.213597100Z"
    }
   },
   "id": "ef74b421b9f217cb",
   "execution_count": 16
  },
  {
   "cell_type": "code",
   "outputs": [
    {
     "data": {
      "text/plain": "array([0, 1, 2, 3, 4, 5, 6, 7, 8, 9])"
     },
     "execution_count": 18,
     "metadata": {},
     "output_type": "execute_result"
    }
   ],
   "source": [
    "# 整数数列的数组\n",
    "a=np.arange(10)\n",
    "a"
   ],
   "metadata": {
    "collapsed": false,
    "ExecuteTime": {
     "end_time": "2024-01-29T13:15:52.634104Z",
     "start_time": "2024-01-29T13:15:52.626691400Z"
    }
   },
   "id": "3b7351c0338baaab",
   "execution_count": 18
  },
  {
   "cell_type": "code",
   "outputs": [
    {
     "data": {
      "text/plain": "array([ 1,  4,  7, 10, 13, 16])"
     },
     "execution_count": 20,
     "metadata": {},
     "output_type": "execute_result"
    }
   ],
   "source": [
    "b=np.arange(1,18,3)\n",
    "b"
   ],
   "metadata": {
    "collapsed": false,
    "ExecuteTime": {
     "end_time": "2024-01-29T13:17:17.928018800Z",
     "start_time": "2024-01-29T13:17:17.918012900Z"
    }
   },
   "id": "833fec9985f46d3d",
   "execution_count": 20
  },
  {
   "cell_type": "code",
   "outputs": [
    {
     "data": {
      "text/plain": "array([  0.,   2.,   4.,   6.,   8.,  10.,  12.,  14.,  16.,  18.,  20.,\n        22.,  24.,  26.,  28.,  30.,  32.,  34.,  36.,  38.,  40.,  42.,\n        44.,  46.,  48.,  50.,  52.,  54.,  56.,  58.,  60.,  62.,  64.,\n        66.,  68.,  70.,  72.,  74.,  76.,  78.,  80.,  82.,  84.,  86.,\n        88.,  90.,  92.,  94.,  96.,  98., 100.])"
     },
     "execution_count": 22,
     "metadata": {},
     "output_type": "execute_result"
    }
   ],
   "source": [
    "c=np.linspace(0,100,51)\n",
    "c"
   ],
   "metadata": {
    "collapsed": false,
    "ExecuteTime": {
     "end_time": "2024-01-29T13:17:52.261582900Z",
     "start_time": "2024-01-29T13:17:52.253548900Z"
    }
   },
   "id": "cae8d65116308e83",
   "execution_count": 22
  },
  {
   "cell_type": "code",
   "outputs": [
    {
     "data": {
      "text/plain": "51"
     },
     "execution_count": 23,
     "metadata": {},
     "output_type": "execute_result"
    }
   ],
   "source": [
    "len(c)"
   ],
   "metadata": {
    "collapsed": false,
    "ExecuteTime": {
     "end_time": "2024-01-29T13:18:04.384082200Z",
     "start_time": "2024-01-29T13:18:04.365892500Z"
    }
   },
   "id": "c4edb56001d3d869",
   "execution_count": 23
  },
  {
   "cell_type": "code",
   "outputs": [
    {
     "data": {
      "text/plain": "array([0., 0., 0., 0., 0., 0., 0., 0.])"
     },
     "execution_count": 24,
     "metadata": {},
     "output_type": "execute_result"
    }
   ],
   "source": [
    "# 3.元素为0的数组\n",
    "zero_array1=np.zeros(8)\n",
    "zero_array1"
   ],
   "metadata": {
    "collapsed": false,
    "ExecuteTime": {
     "end_time": "2024-01-29T13:19:40.242258200Z",
     "start_time": "2024-01-29T13:19:40.235640600Z"
    }
   },
   "id": "3557f855e1c6dc9b",
   "execution_count": 24
  },
  {
   "cell_type": "markdown",
   "source": [],
   "metadata": {
    "collapsed": false
   },
   "id": "a12a5789000f59d3"
  },
  {
   "cell_type": "code",
   "outputs": [
    {
     "data": {
      "text/plain": "array([[0., 0., 0., 0., 0., 0., 0.],\n       [0., 0., 0., 0., 0., 0., 0.],\n       [0., 0., 0., 0., 0., 0., 0.],\n       [0., 0., 0., 0., 0., 0., 0.],\n       [0., 0., 0., 0., 0., 0., 0.]])"
     },
     "execution_count": 26,
     "metadata": {},
     "output_type": "execute_result"
    }
   ],
   "source": [
    "zero_array2=np.zeros((5,7))\n",
    "zero_array2"
   ],
   "metadata": {
    "collapsed": false,
    "ExecuteTime": {
     "end_time": "2024-01-29T13:20:42.556026400Z",
     "start_time": "2024-01-29T13:20:42.549455200Z"
    }
   },
   "id": "7c3ddd700d40dbcc",
   "execution_count": 26
  },
  {
   "cell_type": "code",
   "outputs": [
    {
     "data": {
      "text/plain": "array([0., 0., 0., 0.])"
     },
     "execution_count": 27,
     "metadata": {},
     "output_type": "execute_result"
    }
   ],
   "source": [
    "zero_weight=np.zeros_like(weight_array1)\n",
    "zero_weight"
   ],
   "metadata": {
    "collapsed": false,
    "ExecuteTime": {
     "end_time": "2024-01-29T13:21:58.983799100Z",
     "start_time": "2024-01-29T13:21:58.969395200Z"
    }
   },
   "id": "2615731173bcbdb3",
   "execution_count": 27
  },
  {
   "cell_type": "code",
   "outputs": [
    {
     "data": {
      "text/plain": "array([[0., 0., 0., 0., 0.],\n       [0., 0., 0., 0., 0.],\n       [0., 0., 0., 0., 0.],\n       [0., 0., 0., 0., 0.]])"
     },
     "execution_count": 28,
     "metadata": {},
     "output_type": "execute_result"
    }
   ],
   "source": [
    "zero_return=np.zeros_like(return_array1)\n",
    "zero_return"
   ],
   "metadata": {
    "collapsed": false,
    "ExecuteTime": {
     "end_time": "2024-01-29T13:23:37.644680200Z",
     "start_time": "2024-01-29T13:23:37.626590200Z"
    }
   },
   "id": "58210273f1d4ee33",
   "execution_count": 28
  },
  {
   "cell_type": "code",
   "outputs": [
    {
     "data": {
      "text/plain": "array([1., 1., 1., 1.])"
     },
     "execution_count": 29,
     "metadata": {},
     "output_type": "execute_result"
    }
   ],
   "source": [
    "one_weight=np.ones_like(weight_array1)\n",
    "one_weight"
   ],
   "metadata": {
    "collapsed": false,
    "ExecuteTime": {
     "end_time": "2024-01-29T13:25:17.644960400Z",
     "start_time": "2024-01-29T13:25:17.632532200Z"
    }
   },
   "id": "9db174a36a7d81a3",
   "execution_count": 29
  },
  {
   "cell_type": "code",
   "outputs": [
    {
     "data": {
      "text/plain": "array([[1., 1., 1., 1., 1.],\n       [1., 1., 1., 1., 1.],\n       [1., 1., 1., 1., 1.],\n       [1., 1., 1., 1., 1.]])"
     },
     "execution_count": 30,
     "metadata": {},
     "output_type": "execute_result"
    }
   ],
   "source": [
    "one_return=np.ones_like(return_array1)\n",
    "one_return"
   ],
   "metadata": {
    "collapsed": false,
    "ExecuteTime": {
     "end_time": "2024-01-29T13:25:57.228334500Z",
     "start_time": "2024-01-29T13:25:57.217774400Z"
    }
   },
   "id": "f0ea7b2bc6c8f24e",
   "execution_count": 30
  },
  {
   "cell_type": "code",
   "outputs": [
    {
     "data": {
      "text/plain": "array([[1., 0., 0., 0., 0., 0.],\n       [0., 1., 0., 0., 0., 0.],\n       [0., 0., 1., 0., 0., 0.],\n       [0., 0., 0., 1., 0., 0.],\n       [0., 0., 0., 0., 1., 0.],\n       [0., 0., 0., 0., 0., 1.]])"
     },
     "execution_count": 32,
     "metadata": {},
     "output_type": "execute_result"
    }
   ],
   "source": [
    "d=np.eye(6)\n",
    "d"
   ],
   "metadata": {
    "collapsed": false,
    "ExecuteTime": {
     "end_time": "2024-01-29T13:26:40.317965200Z",
     "start_time": "2024-01-29T13:26:40.309317300Z"
    }
   },
   "id": "2e1306501647b540",
   "execution_count": 32
  },
  {
   "cell_type": "markdown",
   "source": [
    "## 2.3 数组的相关功能"
   ],
   "metadata": {
    "collapsed": false
   },
   "id": "9a5f49d710d7cb89"
  },
  {
   "cell_type": "code",
   "outputs": [
    {
     "data": {
      "text/plain": "0.014622"
     },
     "execution_count": 33,
     "metadata": {},
     "output_type": "execute_result"
    }
   ],
   "source": [
    "return_array1[1,3]"
   ],
   "metadata": {
    "collapsed": false,
    "ExecuteTime": {
     "end_time": "2024-01-29T13:27:32.859361Z",
     "start_time": "2024-01-29T13:27:32.846102500Z"
    }
   },
   "id": "6353dd1ce4e3fdea",
   "execution_count": 33
  },
  {
   "cell_type": "code",
   "outputs": [
    {
     "data": {
      "text/plain": "(array([0, 0, 1, 1, 3], dtype=int64), array([1, 4, 1, 3, 0], dtype=int64))"
     },
     "execution_count": 35,
     "metadata": {},
     "output_type": "execute_result"
    }
   ],
   "source": [
    "np.where(return_array1>0.014)"
   ],
   "metadata": {
    "collapsed": false,
    "ExecuteTime": {
     "end_time": "2024-01-29T13:29:14.419167800Z",
     "start_time": "2024-01-29T13:29:14.394891500Z"
    }
   },
   "id": "c26ccd80dd399d16",
   "execution_count": 35
  },
  {
   "cell_type": "code",
   "outputs": [
    {
     "data": {
      "text/plain": "array([[ 0.024334, -0.033758,  0.014622],\n       [-0.02907 ,  0.005831,  0.005797]])"
     },
     "execution_count": 36,
     "metadata": {},
     "output_type": "execute_result"
    }
   ],
   "source": [
    "return_array1[1:3,1:4]"
   ],
   "metadata": {
    "collapsed": false,
    "ExecuteTime": {
     "end_time": "2024-01-29T13:31:16.847660900Z",
     "start_time": "2024-01-29T13:31:16.833795200Z"
    }
   },
   "id": "2656d2d71784f950",
   "execution_count": 36
  },
  {
   "cell_type": "code",
   "outputs": [
    {
     "data": {
      "text/plain": "array([-0.013892,  0.024334, -0.033758,  0.014622,  0.000128])"
     },
     "execution_count": 37,
     "metadata": {},
     "output_type": "execute_result"
    }
   ],
   "source": [
    "return_array1[1]"
   ],
   "metadata": {
    "collapsed": false,
    "ExecuteTime": {
     "end_time": "2024-01-29T13:31:51.407283600Z",
     "start_time": "2024-01-29T13:31:51.398164Z"
    }
   },
   "id": "2552ab1b671ff3e4",
   "execution_count": 37
  },
  {
   "cell_type": "code",
   "outputs": [
    {
     "data": {
      "text/plain": "array([[-3.5099e-02,  1.7230e-01, -3.4500e-03, -2.4551e-02,  3.9368e-02],\n       [-1.3892e-02,  2.4334e-02, -3.3758e-02,  1.4622e-02,  1.2800e-04]])"
     },
     "execution_count": 38,
     "metadata": {},
     "output_type": "execute_result"
    }
   ],
   "source": [
    "return_array1[:2]"
   ],
   "metadata": {
    "collapsed": false,
    "ExecuteTime": {
     "end_time": "2024-01-29T13:31:58.396503300Z",
     "start_time": "2024-01-29T13:31:58.379383600Z"
    }
   },
   "id": "2a42a30651a99511",
   "execution_count": 38
  },
  {
   "cell_type": "code",
   "outputs": [
    {
     "data": {
      "text/plain": "array([[-3.5099e-02, -2.9070e-02, -3.3758e-02, -2.4551e-02, -1.4301e-02],\n       [-1.3892e-02,  2.1330e-03, -2.9803e-02, -2.7430e-03, -5.7640e-03],\n       [ 5.8480e-03,  2.4334e-02, -3.4500e-03,  5.7970e-03,  1.2800e-04],\n       [ 2.1242e-02,  1.7230e-01,  5.8310e-03,  1.4622e-02,  3.9368e-02]])"
     },
     "execution_count": 39,
     "metadata": {},
     "output_type": "execute_result"
    }
   ],
   "source": [
    "np.sort(return_array1,axis=0)"
   ],
   "metadata": {
    "collapsed": false,
    "ExecuteTime": {
     "end_time": "2024-01-29T13:38:06.117452900Z",
     "start_time": "2024-01-29T13:38:06.108780900Z"
    }
   },
   "id": "e2ecd0f37af6a355",
   "execution_count": 39
  },
  {
   "cell_type": "code",
   "outputs": [
    {
     "data": {
      "text/plain": "array([[-3.5099e-02, -2.4551e-02, -3.4500e-03,  3.9368e-02,  1.7230e-01],\n       [-3.3758e-02, -1.3892e-02,  1.2800e-04,  1.4622e-02,  2.4334e-02],\n       [-2.9070e-02, -5.7640e-03,  5.7970e-03,  5.8310e-03,  5.8480e-03],\n       [-2.9803e-02, -1.4301e-02, -2.7430e-03,  2.1330e-03,  2.1242e-02]])"
     },
     "execution_count": 40,
     "metadata": {},
     "output_type": "execute_result"
    }
   ],
   "source": [
    "np.sort(return_array1,axis=1)"
   ],
   "metadata": {
    "collapsed": false,
    "ExecuteTime": {
     "end_time": "2024-01-29T13:41:10.975167700Z",
     "start_time": "2024-01-29T13:41:10.964411300Z"
    }
   },
   "id": "c55c6a3985ee395f",
   "execution_count": 40
  },
  {
   "cell_type": "code",
   "outputs": [
    {
     "data": {
      "text/plain": "array([[-3.5099e-02, -2.4551e-02, -3.4500e-03,  3.9368e-02,  1.7230e-01],\n       [-3.3758e-02, -1.3892e-02,  1.2800e-04,  1.4622e-02,  2.4334e-02],\n       [-2.9070e-02, -5.7640e-03,  5.7970e-03,  5.8310e-03,  5.8480e-03],\n       [-2.9803e-02, -1.4301e-02, -2.7430e-03,  2.1330e-03,  2.1242e-02]])"
     },
     "execution_count": 41,
     "metadata": {},
     "output_type": "execute_result"
    }
   ],
   "source": [
    "np.sort(return_array1)"
   ],
   "metadata": {
    "collapsed": false,
    "ExecuteTime": {
     "end_time": "2024-01-29T13:41:30.887820800Z",
     "start_time": "2024-01-29T13:41:30.875896700Z"
    }
   },
   "id": "7dc8be219bdd60c7",
   "execution_count": 41
  },
  {
   "cell_type": "code",
   "outputs": [
    {
     "data": {
      "text/plain": "array([[ 0.005848, -0.002907,  0.005831,  0.005797, -0.005764],\n       [ 0.021242, -0.002133, -0.029803, -0.002743, -0.014301]])"
     },
     "execution_count": 44,
     "metadata": {},
     "output_type": "execute_result"
    }
   ],
   "source": [
    "return_BOC=np.array([0.005848,-0.002907,0.005831,0.005797,-0.005764])\n",
    "return_SAIC=np.array([0.021242,-0.002133,-0.029803,-0.002743,-0.014301])\n",
    "return_2stock=np.append([return_BOC],[return_SAIC],axis=0)\n",
    "return_2stock"
   ],
   "metadata": {
    "collapsed": false,
    "ExecuteTime": {
     "end_time": "2024-01-29T13:46:06.363168100Z",
     "start_time": "2024-01-29T13:46:06.354980600Z"
    }
   },
   "id": "a8ac1cac21ce610f",
   "execution_count": 44
  },
  {
   "cell_type": "code",
   "outputs": [
    {
     "data": {
      "text/plain": "array([[ 0.005848, -0.002907,  0.005831,  0.005797, -0.005764,  0.021242,\n        -0.002133, -0.029803, -0.002743, -0.014301]])"
     },
     "execution_count": 46,
     "metadata": {},
     "output_type": "execute_result"
    }
   ],
   "source": [
    "return_2stock_new1=np.append([return_BOC],[return_SAIC],axis=1)\n",
    "return_2stock_new1"
   ],
   "metadata": {
    "collapsed": false,
    "ExecuteTime": {
     "end_time": "2024-01-29T13:46:49.227532100Z",
     "start_time": "2024-01-29T13:46:49.217186300Z"
    }
   },
   "id": "c704a3caf67165b1",
   "execution_count": 46
  },
  {
   "cell_type": "code",
   "outputs": [
    {
     "data": {
      "text/plain": "array([ 0.005848, -0.002907,  0.005831,  0.005797, -0.005764,  0.021242,\n       -0.002133, -0.029803, -0.002743, -0.014301])"
     },
     "execution_count": 47,
     "metadata": {},
     "output_type": "execute_result"
    }
   ],
   "source": [
    "return_2stock_new2=np.append([return_BOC],[return_SAIC])\n",
    "return_2stock_new2"
   ],
   "metadata": {
    "collapsed": false,
    "ExecuteTime": {
     "end_time": "2024-01-29T13:49:45.225925900Z",
     "start_time": "2024-01-29T13:49:45.208393800Z"
    }
   },
   "id": "a8e20a40a5f8b813",
   "execution_count": 47
  },
  {
   "cell_type": "code",
   "outputs": [
    {
     "data": {
      "text/plain": "array([[-0.035099,  0.01723 , -0.00345 , -0.024551,  0.039368],\n       [-0.013892,  0.024334, -0.033758,  0.014622,  0.000128],\n       [ 0.005848, -0.002907,  0.005831,  0.005797, -0.005764],\n       [ 0.021242, -0.002133, -0.029803, -0.002743, -0.014301]])"
     },
     "execution_count": 48,
     "metadata": {},
     "output_type": "execute_result"
    }
   ],
   "source": [
    "return_CAST=np.array([-0.035099,0.017230,-0.003450,-0.024551,0.039368])\n",
    "return_CSS=np.array([-0.013892,0.024334,-0.033758,0.014622,0.000128])\n",
    "return_4stock=np.concatenate(([return_CAST],[return_CSS],[return_BOC],[return_SAIC]),axis=0)\n",
    "return_4stock"
   ],
   "metadata": {
    "collapsed": false,
    "ExecuteTime": {
     "end_time": "2024-01-29T13:53:53.919733300Z",
     "start_time": "2024-01-29T13:53:53.901912900Z"
    }
   },
   "id": "1e38648eaf5f119f",
   "execution_count": 48
  },
  {
   "cell_type": "code",
   "outputs": [
    {
     "data": {
      "text/plain": "array([[-0.035099,  0.01723 , -0.00345 , -0.024551,  0.039368, -0.013892,\n         0.024334, -0.033758,  0.014622,  0.000128,  0.005848, -0.002907,\n         0.005831,  0.005797, -0.005764,  0.021242, -0.002133, -0.029803,\n        -0.002743, -0.014301]])"
     },
     "execution_count": 51,
     "metadata": {},
     "output_type": "execute_result"
    }
   ],
   "source": [
    "return_4stock_new1=np.concatenate(([return_CAST],[return_CSS],[return_BOC],[return_SAIC]),axis=1)\n",
    "return_4stock_new1"
   ],
   "metadata": {
    "collapsed": false,
    "ExecuteTime": {
     "end_time": "2024-01-29T13:55:56.229036200Z",
     "start_time": "2024-01-29T13:55:56.220969300Z"
    }
   },
   "id": "53895e64438f08f5",
   "execution_count": 51
  },
  {
   "cell_type": "code",
   "outputs": [
    {
     "data": {
      "text/plain": "array([[-0.035099,  0.01723 , -0.00345 , -0.024551,  0.039368],\n       [-0.013892,  0.024334, -0.033758,  0.014622,  0.000128],\n       [ 0.005848, -0.002907,  0.005831,  0.005797, -0.005764],\n       [ 0.021242, -0.002133, -0.029803, -0.002743, -0.014301]])"
     },
     "execution_count": 50,
     "metadata": {},
     "output_type": "execute_result"
    }
   ],
   "source": [
    "return_4stock_new2=np.concatenate(([return_CAST],[return_CSS],[return_BOC],[return_SAIC]))\n",
    "return_4stock_new2"
   ],
   "metadata": {
    "collapsed": false,
    "ExecuteTime": {
     "end_time": "2024-01-29T13:55:53.831384600Z",
     "start_time": "2024-01-29T13:55:53.820278200Z"
    }
   },
   "id": "3f75a8ca1eea050a",
   "execution_count": 50
  },
  {
   "cell_type": "markdown",
   "source": [
    "## 2.4 数组的相关运算"
   ],
   "metadata": {
    "collapsed": false
   },
   "id": "f86b8bfa1eccd75b"
  },
  {
   "cell_type": "code",
   "outputs": [
    {
     "data": {
      "text/plain": "array([-0.021901,  0.169697, -0.06118 , -0.006875,  0.019431])"
     },
     "execution_count": 52,
     "metadata": {},
     "output_type": "execute_result"
    }
   ],
   "source": [
    "return_array1.sum(axis=0)  # 按列求和"
   ],
   "metadata": {
    "collapsed": false,
    "ExecuteTime": {
     "end_time": "2024-01-29T13:56:49.418410100Z",
     "start_time": "2024-01-29T13:56:49.406215300Z"
    }
   },
   "id": "9c9fa98d8fb35652",
   "execution_count": 52
  },
  {
   "cell_type": "code",
   "outputs": [
    {
     "data": {
      "text/plain": "array([ 0.148568, -0.008566, -0.017358, -0.023472])"
     },
     "execution_count": 53,
     "metadata": {},
     "output_type": "execute_result"
    }
   ],
   "source": [
    "return_array1.sum(axis=1) # 按行求和"
   ],
   "metadata": {
    "collapsed": false,
    "ExecuteTime": {
     "end_time": "2024-01-29T13:57:14.284605500Z",
     "start_time": "2024-01-29T13:57:14.276665600Z"
    }
   },
   "id": "a028a412d4e30a86",
   "execution_count": 53
  },
  {
   "cell_type": "code",
   "outputs": [
    {
     "data": {
      "text/plain": "0.09917200000000002"
     },
     "execution_count": 54,
     "metadata": {},
     "output_type": "execute_result"
    }
   ],
   "source": [
    "return_array1.sum() # 全部元素之和"
   ],
   "metadata": {
    "collapsed": false,
    "ExecuteTime": {
     "end_time": "2024-01-29T13:57:23.550441Z",
     "start_time": "2024-01-29T13:57:23.539150300Z"
    }
   },
   "id": "59b8745a7939b7c5",
   "execution_count": 54
  },
  {
   "cell_type": "code",
   "outputs": [
    {
     "data": {
      "text/plain": "array([ 6.05706573e-08, -2.59976845e-07, -2.02394557e-08,  5.70827745e-09,\n        4.15378200e-10])"
     },
     "execution_count": 55,
     "metadata": {},
     "output_type": "execute_result"
    }
   ],
   "source": [
    "return_array1.prod(axis=0)"
   ],
   "metadata": {
    "collapsed": false,
    "ExecuteTime": {
     "end_time": "2024-01-29T13:58:41.619418700Z",
     "start_time": "2024-01-29T13:58:41.585296Z"
    }
   },
   "id": "f61e10453658b161",
   "execution_count": 55
  },
  {
   "cell_type": "code",
   "outputs": [
    {
     "data": {
      "text/plain": "array([-2.01656235e-08,  2.13585486e-11,  3.31224696e-11, -5.29710348e-11])"
     },
     "execution_count": 56,
     "metadata": {},
     "output_type": "execute_result"
    }
   ],
   "source": [
    "return_array1.prod(axis=1)"
   ],
   "metadata": {
    "collapsed": false,
    "ExecuteTime": {
     "end_time": "2024-01-29T13:58:57.328156Z",
     "start_time": "2024-01-29T13:58:57.309182300Z"
    }
   },
   "id": "44698ff6447b58bc",
   "execution_count": 56
  },
  {
   "cell_type": "code",
   "outputs": [
    {
     "data": {
      "text/plain": "7.556915345169367e-40"
     },
     "execution_count": 57,
     "metadata": {},
     "output_type": "execute_result"
    }
   ],
   "source": [
    "return_array1.prod()"
   ],
   "metadata": {
    "collapsed": false,
    "ExecuteTime": {
     "end_time": "2024-01-29T13:59:07.341672300Z",
     "start_time": "2024-01-29T13:59:07.328380900Z"
    }
   },
   "id": "c8cf6d07657e7d85",
   "execution_count": 57
  },
  {
   "cell_type": "code",
   "outputs": [
    {
     "data": {
      "text/plain": "array([0.021242, 0.1723  , 0.005831, 0.014622, 0.039368])"
     },
     "execution_count": 58,
     "metadata": {},
     "output_type": "execute_result"
    }
   ],
   "source": [
    "return_array1.max(axis=0)"
   ],
   "metadata": {
    "collapsed": false,
    "ExecuteTime": {
     "end_time": "2024-01-29T13:59:43.651147400Z",
     "start_time": "2024-01-29T13:59:43.640358300Z"
    }
   },
   "id": "135afdaa35820da0",
   "execution_count": 58
  },
  {
   "cell_type": "code",
   "outputs": [
    {
     "data": {
      "text/plain": "array([0.1723  , 0.024334, 0.005848, 0.021242])"
     },
     "execution_count": 59,
     "metadata": {},
     "output_type": "execute_result"
    }
   ],
   "source": [
    "return_array1.max(axis=1)"
   ],
   "metadata": {
    "collapsed": false,
    "ExecuteTime": {
     "end_time": "2024-01-29T13:59:55.123087500Z",
     "start_time": "2024-01-29T13:59:55.085230800Z"
    }
   },
   "id": "e275312f004a0411",
   "execution_count": 59
  },
  {
   "cell_type": "code",
   "outputs": [
    {
     "data": {
      "text/plain": "0.1723"
     },
     "execution_count": 60,
     "metadata": {},
     "output_type": "execute_result"
    }
   ],
   "source": [
    "return_array1.max()"
   ],
   "metadata": {
    "collapsed": false,
    "ExecuteTime": {
     "end_time": "2024-01-29T14:00:03.637344100Z",
     "start_time": "2024-01-29T14:00:03.610003400Z"
    }
   },
   "id": "be06acbd58cafc0f",
   "execution_count": 60
  },
  {
   "cell_type": "code",
   "outputs": [
    {
     "data": {
      "text/plain": "array([-0.035099, -0.02907 , -0.033758, -0.024551, -0.014301])"
     },
     "execution_count": 61,
     "metadata": {},
     "output_type": "execute_result"
    }
   ],
   "source": [
    "return_array1.min(axis=0)"
   ],
   "metadata": {
    "collapsed": false,
    "ExecuteTime": {
     "end_time": "2024-01-29T14:00:16.842883500Z",
     "start_time": "2024-01-29T14:00:16.813499300Z"
    }
   },
   "id": "2b46943430105dd3",
   "execution_count": 61
  },
  {
   "cell_type": "code",
   "outputs": [
    {
     "data": {
      "text/plain": "array([-0.035099, -0.033758, -0.02907 , -0.029803])"
     },
     "execution_count": 62,
     "metadata": {},
     "output_type": "execute_result"
    }
   ],
   "source": [
    "return_array1.min(axis=1)"
   ],
   "metadata": {
    "collapsed": false,
    "ExecuteTime": {
     "end_time": "2024-01-29T14:00:21.979955400Z",
     "start_time": "2024-01-29T14:00:21.960207700Z"
    }
   },
   "id": "d8eae68b4f65ff4a",
   "execution_count": 62
  },
  {
   "cell_type": "code",
   "outputs": [
    {
     "data": {
      "text/plain": "-0.035099"
     },
     "execution_count": 63,
     "metadata": {},
     "output_type": "execute_result"
    }
   ],
   "source": [
    "return_array1.min()"
   ],
   "metadata": {
    "collapsed": false,
    "ExecuteTime": {
     "end_time": "2024-01-29T14:00:29.337399900Z",
     "start_time": "2024-01-29T14:00:29.328859600Z"
    }
   },
   "id": "f6ed9140b879b79e",
   "execution_count": 63
  },
  {
   "cell_type": "code",
   "outputs": [
    {
     "data": {
      "text/plain": "array([-0.00547525,  0.04242425, -0.015295  , -0.00171875,  0.00485775])"
     },
     "execution_count": 64,
     "metadata": {},
     "output_type": "execute_result"
    }
   ],
   "source": [
    "return_array1.mean(axis=0)"
   ],
   "metadata": {
    "collapsed": false,
    "ExecuteTime": {
     "end_time": "2024-01-29T14:02:10.289757600Z",
     "start_time": "2024-01-29T14:02:10.281150Z"
    }
   },
   "id": "d5829289c7d071f7",
   "execution_count": 64
  },
  {
   "cell_type": "code",
   "outputs": [
    {
     "data": {
      "text/plain": "array([ 0.0297136, -0.0017132, -0.0034716, -0.0046944])"
     },
     "execution_count": 65,
     "metadata": {},
     "output_type": "execute_result"
    }
   ],
   "source": [
    "return_array1.mean(axis=1)"
   ],
   "metadata": {
    "collapsed": false,
    "ExecuteTime": {
     "end_time": "2024-01-29T14:02:17.790293400Z",
     "start_time": "2024-01-29T14:02:17.776329300Z"
    }
   },
   "id": "2d624bddcb765f8e",
   "execution_count": 65
  },
  {
   "cell_type": "code",
   "outputs": [
    {
     "data": {
      "text/plain": "0.004958600000000001"
     },
     "execution_count": 66,
     "metadata": {},
     "output_type": "execute_result"
    }
   ],
   "source": [
    "return_array1.mean()"
   ],
   "metadata": {
    "collapsed": false,
    "ExecuteTime": {
     "end_time": "2024-01-29T14:02:30.587209400Z",
     "start_time": "2024-01-29T14:02:30.563963700Z"
    }
   },
   "id": "676093ff40cf25f7",
   "execution_count": 66
  },
  {
   "cell_type": "code",
   "outputs": [
    {
     "data": {
      "text/plain": "array([0.00044761, 0.00598245, 0.00028449, 0.00021147, 0.0004233 ])"
     },
     "execution_count": 67,
     "metadata": {},
     "output_type": "execute_result"
    }
   ],
   "source": [
    "return_array1.var(axis=0)"
   ],
   "metadata": {
    "collapsed": false,
    "ExecuteTime": {
     "end_time": "2024-01-29T14:02:41.429567200Z",
     "start_time": "2024-01-29T14:02:41.398520600Z"
    }
   },
   "id": "f05032c63cae9b23",
   "execution_count": 67
  },
  {
   "cell_type": "code",
   "outputs": [
    {
     "data": {
      "text/plain": "array([0.00573385, 0.00042478, 0.00018397, 0.00028917])"
     },
     "execution_count": 68,
     "metadata": {},
     "output_type": "execute_result"
    }
   ],
   "source": [
    "return_array1.var(axis=1)"
   ],
   "metadata": {
    "collapsed": false,
    "ExecuteTime": {
     "end_time": "2024-01-29T14:02:48.924950500Z",
     "start_time": "2024-01-29T14:02:48.916051400Z"
    }
   },
   "id": "13db142f667733bb",
   "execution_count": 68
  },
  {
   "cell_type": "code",
   "outputs": [
    {
     "data": {
      "text/plain": "0.0018633324640400003"
     },
     "execution_count": 69,
     "metadata": {},
     "output_type": "execute_result"
    }
   ],
   "source": [
    "return_array1.var()"
   ],
   "metadata": {
    "collapsed": false,
    "ExecuteTime": {
     "end_time": "2024-01-29T14:02:56.336867100Z",
     "start_time": "2024-01-29T14:02:56.314409600Z"
    }
   },
   "id": "ae4c35994890b9fd",
   "execution_count": 69
  },
  {
   "cell_type": "code",
   "outputs": [
    {
     "data": {
      "text/plain": "array([0.02115677, 0.07734627, 0.01686695, 0.0145419 , 0.0205743 ])"
     },
     "execution_count": 70,
     "metadata": {},
     "output_type": "execute_result"
    }
   ],
   "source": [
    "return_array1.std(axis=0)"
   ],
   "metadata": {
    "collapsed": false,
    "ExecuteTime": {
     "end_time": "2024-01-29T14:03:10.783393Z",
     "start_time": "2024-01-29T14:03:10.728292700Z"
    }
   },
   "id": "caa456f1a7597124",
   "execution_count": 70
  },
  {
   "cell_type": "code",
   "outputs": [
    {
     "data": {
      "text/plain": "array([0.07572217, 0.02061008, 0.01356343, 0.01700498])"
     },
     "execution_count": 71,
     "metadata": {},
     "output_type": "execute_result"
    }
   ],
   "source": [
    "return_array1.std(axis=1)"
   ],
   "metadata": {
    "collapsed": false,
    "ExecuteTime": {
     "end_time": "2024-01-29T14:03:21.501575600Z",
     "start_time": "2024-01-29T14:03:21.463385600Z"
    }
   },
   "id": "6fbe9136f2e448dc",
   "execution_count": 71
  },
  {
   "cell_type": "code",
   "outputs": [
    {
     "data": {
      "text/plain": "0.043166334846034826"
     },
     "execution_count": 72,
     "metadata": {},
     "output_type": "execute_result"
    }
   ],
   "source": [
    "return_array1.std()"
   ],
   "metadata": {
    "collapsed": false,
    "ExecuteTime": {
     "end_time": "2024-01-29T14:03:31.133178600Z",
     "start_time": "2024-01-29T14:03:31.109624200Z"
    }
   },
   "id": "6e94fc59ade7695c",
   "execution_count": 72
  },
  {
   "cell_type": "code",
   "outputs": [
    {
     "name": "stderr",
     "output_type": "stream",
     "text": [
      "C:\\Users\\Zhang ZhiXin\\AppData\\Local\\Temp\\ipykernel_20036\\2539222511.py:1: RuntimeWarning: invalid value encountered in sqrt\n",
      "  np.sqrt(return_array1)\n"
     ]
    },
    {
     "data": {
      "text/plain": "array([[       nan, 0.41509035,        nan,        nan, 0.19841371],\n       [       nan, 0.15599359,        nan, 0.12092146, 0.01131371],\n       [0.07647222,        nan, 0.07636098, 0.07613803,        nan],\n       [0.14574636, 0.04618441,        nan,        nan,        nan]])"
     },
     "execution_count": 73,
     "metadata": {},
     "output_type": "execute_result"
    }
   ],
   "source": [
    "np.sqrt(return_array1)  # 这里由于存在负数，所以会存在报错"
   ],
   "metadata": {
    "collapsed": false,
    "ExecuteTime": {
     "end_time": "2024-01-29T14:04:19.377327600Z",
     "start_time": "2024-01-29T14:04:19.350728Z"
    }
   },
   "id": "6d0f6133e892de22",
   "execution_count": 73
  },
  {
   "cell_type": "code",
   "outputs": [
    {
     "data": {
      "text/plain": "array([[1.23193980e-03, 2.96872900e-02, 1.19025000e-05, 6.02751601e-04,\n        1.54983942e-03],\n       [1.92987664e-04, 5.92143556e-04, 1.13960256e-03, 2.13802884e-04,\n        1.63840000e-08],\n       [3.41991040e-05, 8.45064900e-04, 3.40005610e-05, 3.36052090e-05,\n        3.32236960e-05],\n       [4.51222564e-04, 4.54968900e-06, 8.88218809e-04, 7.52404900e-06,\n        2.04518601e-04]])"
     },
     "execution_count": 75,
     "metadata": {},
     "output_type": "execute_result"
    }
   ],
   "source": [
    "np.square(return_array1) # 对每个元素计算平方"
   ],
   "metadata": {
    "collapsed": false,
    "ExecuteTime": {
     "end_time": "2024-01-29T14:05:40.455799100Z",
     "start_time": "2024-01-29T14:05:40.444690500Z"
    }
   },
   "id": "51e4343b8878a29d",
   "execution_count": 75
  },
  {
   "cell_type": "code",
   "outputs": [
    {
     "data": {
      "text/plain": "array([[0.96550983, 1.18803419, 0.99655594, 0.97574792, 1.04015319],\n       [0.98620405, 1.02463249, 0.96680544, 1.01472942, 1.00012801],\n       [1.00586513, 0.97134847, 1.00584803, 1.00581384, 0.99425258],\n       [1.02146922, 1.00213528, 0.97063673, 0.99726076, 0.98580077]])"
     },
     "execution_count": 76,
     "metadata": {},
     "output_type": "execute_result"
    }
   ],
   "source": [
    "np.exp(return_array1) # 对每一个元素计算以e为底的指数次方"
   ],
   "metadata": {
    "collapsed": false,
    "ExecuteTime": {
     "end_time": "2024-01-29T14:05:52.805565900Z",
     "start_time": "2024-01-29T14:05:52.788324200Z"
    }
   },
   "id": "7446ad4c862bcb87",
   "execution_count": 76
  },
  {
   "cell_type": "code",
   "outputs": [
    {
     "name": "stderr",
     "output_type": "stream",
     "text": [
      "C:\\Users\\Zhang ZhiXin\\AppData\\Local\\Temp\\ipykernel_20036\\2476508234.py:1: RuntimeWarning: invalid value encountered in log\n",
      "  np.log(return_array1)  # 对每个元素计算自然对数\n"
     ]
    },
    {
     "data": {
      "text/plain": "array([[        nan, -1.75851814,         nan,         nan, -3.23480198],\n       [        nan, -3.71588073,         nan, -4.22522804, -8.96348029],\n       [-5.14165556,         nan, -5.14456677, -5.15041474,         nan],\n       [-3.85177493, -6.15022584,         nan,         nan,         nan]])"
     },
     "execution_count": 77,
     "metadata": {},
     "output_type": "execute_result"
    }
   ],
   "source": [
    "np.log(return_array1)  # 对每个元素计算自然对数"
   ],
   "metadata": {
    "collapsed": false,
    "ExecuteTime": {
     "end_time": "2024-01-29T14:07:03.297873100Z",
     "start_time": "2024-01-29T14:07:03.265056400Z"
    }
   },
   "id": "b3baf324cdfda079",
   "execution_count": 77
  },
  {
   "cell_type": "code",
   "outputs": [
    {
     "name": "stderr",
     "output_type": "stream",
     "text": [
      "C:\\Users\\Zhang ZhiXin\\AppData\\Local\\Temp\\ipykernel_20036\\2588867951.py:1: RuntimeWarning: invalid value encountered in log2\n",
      "  np.log2(return_array1)\n"
     ]
    },
    {
     "data": {
      "text/plain": "array([[         nan,  -2.53700539,          nan,          nan,\n         -4.66683277],\n       [         nan,  -5.3608827 ,          nan,  -6.09571553,\n        -12.93156857],\n       [ -7.41784097,          nan,  -7.42204096,  -7.4304778 ,\n                 nan],\n       [ -5.55693658,  -8.87290032,          nan,          nan,\n                 nan]])"
     },
     "execution_count": 78,
     "metadata": {},
     "output_type": "execute_result"
    }
   ],
   "source": [
    "np.log2(return_array1)"
   ],
   "metadata": {
    "collapsed": false,
    "ExecuteTime": {
     "end_time": "2024-01-29T14:07:27.806284600Z",
     "start_time": "2024-01-29T14:07:27.776291100Z"
    }
   },
   "id": "e4ac8bbba4ef98e6",
   "execution_count": 78
  },
  {
   "cell_type": "code",
   "outputs": [
    {
     "name": "stderr",
     "output_type": "stream",
     "text": [
      "C:\\Users\\Zhang ZhiXin\\AppData\\Local\\Temp\\ipykernel_20036\\3084611911.py:1: RuntimeWarning: invalid value encountered in log10\n",
      "  np.log10(return_array1)\n"
     ]
    },
    {
     "data": {
      "text/plain": "array([[        nan, -0.76371472,         nan,         nan, -1.40485665],\n       [        nan, -1.6137865 ,         nan, -1.83499322, -3.89279003],\n       [-2.23299264,         nan, -2.23425696, -2.2367967 ,         nan],\n       [-1.6728046 , -2.67100914,         nan,         nan,         nan]])"
     },
     "execution_count": 79,
     "metadata": {},
     "output_type": "execute_result"
    }
   ],
   "source": [
    "np.log10(return_array1)"
   ],
   "metadata": {
    "collapsed": false,
    "ExecuteTime": {
     "end_time": "2024-01-29T14:07:34.264100100Z",
     "start_time": "2024-01-29T14:07:34.235969700Z"
    }
   },
   "id": "f6927afbd7de2875",
   "execution_count": 79
  },
  {
   "cell_type": "code",
   "outputs": [
    {
     "data": {
      "text/plain": "array([[-3.57297736e-02,  1.58967631e-01, -3.45596497e-03,\n        -2.48574012e-02,  3.86128361e-02],\n       [-1.39893969e-02,  2.40426453e-02, -3.43409585e-02,\n         1.45161293e-02,  1.27991809e-04],\n       [ 5.83096682e-03, -2.95009039e-02,  5.81406552e-03,\n         5.78026205e-03, -5.78067596e-03],\n       [ 2.10195336e-02,  2.13072839e-03, -3.02561353e-02,\n        -2.74676892e-03, -1.44042448e-02]])"
     },
     "execution_count": 80,
     "metadata": {},
     "output_type": "execute_result"
    }
   ],
   "source": [
    "np.log1p(return_array1) # 对（1+每个元素）计算自然对数"
   ],
   "metadata": {
    "collapsed": false,
    "ExecuteTime": {
     "end_time": "2024-01-29T14:08:55.110405200Z",
     "start_time": "2024-01-29T14:08:55.080052400Z"
    }
   },
   "id": "4d0f4f4a1e225067",
   "execution_count": 80
  },
  {
   "cell_type": "code",
   "outputs": [
    {
     "data": {
      "text/plain": "array([[0.964901, 1.1723  , 0.99655 , 0.975449, 1.039368],\n       [0.986108, 1.024334, 0.966242, 1.014622, 1.000128],\n       [1.005848, 0.97093 , 1.005831, 1.005797, 0.994236],\n       [1.021242, 1.002133, 0.970197, 0.997257, 0.985699]])"
     },
     "execution_count": 81,
     "metadata": {},
     "output_type": "execute_result"
    }
   ],
   "source": [
    "new_array1=return_array1+one_return \n",
    "new_array1"
   ],
   "metadata": {
    "collapsed": false,
    "ExecuteTime": {
     "end_time": "2024-01-29T14:10:20.451047600Z",
     "start_time": "2024-01-29T14:10:20.416247200Z"
    }
   },
   "id": "257ed8eb148d95e7",
   "execution_count": 81
  },
  {
   "cell_type": "code",
   "outputs": [
    {
     "data": {
      "text/plain": "array([[-1.035099, -0.8277  , -1.00345 , -1.024551, -0.960632],\n       [-1.013892, -0.975666, -1.033758, -0.985378, -0.999872],\n       [-0.994152, -1.02907 , -0.994169, -0.994203, -1.005764],\n       [-0.978758, -0.997867, -1.029803, -1.002743, -1.014301]])"
     },
     "execution_count": 82,
     "metadata": {},
     "output_type": "execute_result"
    }
   ],
   "source": [
    "new_array2=return_array1-one_return\n",
    "new_array2"
   ],
   "metadata": {
    "collapsed": false,
    "ExecuteTime": {
     "end_time": "2024-01-29T14:10:53.763551400Z",
     "start_time": "2024-01-29T14:10:53.730696300Z"
    }
   },
   "id": "94905101c1f03f88",
   "execution_count": 82
  },
  {
   "cell_type": "code",
   "outputs": [
    {
     "data": {
      "text/plain": "array([[ 3.63309398e-02, -1.42612710e-01,  3.46190250e-03,\n         2.51537516e-02, -3.78181606e-02],\n       [ 1.40849877e-02, -2.37418564e-02,  3.48976026e-02,\n        -1.44081971e-02, -1.27983616e-04],\n       [-5.81380090e-03,  2.99150649e-02, -5.79699944e-03,\n        -5.76339479e-03,  5.79722370e-03],\n       [-2.07907774e-02, -2.12845031e-03,  3.06912188e-02,\n         2.75052405e-03,  1.45055186e-02]])"
     },
     "execution_count": 84,
     "metadata": {},
     "output_type": "execute_result"
    }
   ],
   "source": [
    "new_array3=return_array1*new_array2\n",
    "new_array3"
   ],
   "metadata": {
    "collapsed": false,
    "ExecuteTime": {
     "end_time": "2024-01-29T14:11:32.580076900Z",
     "start_time": "2024-01-29T14:11:32.566069Z"
    }
   },
   "id": "5cef5e1ea2aa1cae",
   "execution_count": 84
  },
  {
   "cell_type": "code",
   "outputs": [
    {
     "data": {
      "text/plain": "array([[-0.93218233, -1.41633442, -0.99312372, -0.95207462, -1.08196271],\n       [-0.97259669, -1.04988182, -0.93468878, -1.02967795, -1.00025603],\n       [-1.0117648 , -0.94350239, -1.0117304 , -1.0116616 , -0.98853807],\n       [-1.04340603, -1.00427512, -0.94211903, -0.99452901, -0.97180127]])"
     },
     "execution_count": 85,
     "metadata": {},
     "output_type": "execute_result"
    }
   ],
   "source": [
    "new_array4=new_array1/new_array2\n",
    "new_array4"
   ],
   "metadata": {
    "collapsed": false,
    "ExecuteTime": {
     "end_time": "2024-01-29T14:11:56.676427800Z",
     "start_time": "2024-01-29T14:11:56.651454Z"
    }
   },
   "id": "77fcf1c052e0842c",
   "execution_count": 85
  },
  {
   "cell_type": "code",
   "outputs": [
    {
     "data": {
      "text/plain": "array([[1.03767627, 0.87671132, 1.00347391, 1.02579475, 0.96358678],\n       [1.0142848 , 0.9768154 , 1.0361379 , 0.98579794, 0.99987203],\n       [0.9942199 , 1.03082401, 0.99423651, 0.99426973, 1.00583093],\n       [0.97963714, 0.99787608, 1.03164835, 1.0027581 , 1.01471749]])"
     },
     "execution_count": 86,
     "metadata": {},
     "output_type": "execute_result"
    }
   ],
   "source": [
    "new_array5=new_array1**new_array2\n",
    "new_array5"
   ],
   "metadata": {
    "collapsed": false,
    "ExecuteTime": {
     "end_time": "2024-01-29T14:12:42.497608600Z",
     "start_time": "2024-01-29T14:12:42.460998200Z"
    }
   },
   "id": "58a12752f1417389",
   "execution_count": 86
  },
  {
   "cell_type": "code",
   "outputs": [
    {
     "data": {
      "text/plain": "array([[1.03767627, 0.87671132, 1.00347391, 1.02579475, 0.96358678],\n       [1.0142848 , 0.9768154 , 1.0361379 , 0.98579794, 0.99987203],\n       [0.9942199 , 1.03082401, 0.99423651, 0.99426973, 1.00583093],\n       [0.97963714, 0.99787608, 1.03164835, 1.0027581 , 1.01471749]])"
     },
     "execution_count": 87,
     "metadata": {},
     "output_type": "execute_result"
    }
   ],
   "source": [
    "new_array6=pow(new_array1,new_array2)\n",
    "new_array6"
   ],
   "metadata": {
    "collapsed": false,
    "ExecuteTime": {
     "end_time": "2024-01-29T14:13:13.019173100Z",
     "start_time": "2024-01-29T14:13:12.991943300Z"
    }
   },
   "id": "22bc335437fd8b42",
   "execution_count": 87
  },
  {
   "cell_type": "code",
   "outputs": [
    {
     "data": {
      "text/plain": "array([[2.03767627, 0.87671132, 2.00347391, 1.02579475, 1.96358678],\n       [2.0142848 , 0.9768154 , 2.0361379 , 0.98579794, 1.99987203],\n       [1.9942199 , 1.03082401, 1.99423651, 0.99426973, 2.00583093],\n       [1.97963714, 0.99787608, 2.03164835, 1.0027581 , 2.01471749]])"
     },
     "execution_count": 88,
     "metadata": {},
     "output_type": "execute_result"
    }
   ],
   "source": [
    "new_array7=new_array6+np.array([1,0,1,0,1])\n",
    "new_array7"
   ],
   "metadata": {
    "collapsed": false,
    "ExecuteTime": {
     "end_time": "2024-01-29T14:14:12.375975100Z",
     "start_time": "2024-01-29T14:14:12.347018300Z"
    }
   },
   "id": "aab4da5cd1afbea0",
   "execution_count": 88
  },
  {
   "cell_type": "code",
   "outputs": [
    {
     "data": {
      "text/plain": "array([[0.964901, 1.1723  , 0.99655 , 0.975449, 1.039368],\n       [0.986108, 1.024334, 0.966242, 1.014622, 1.000128],\n       [1.005848, 0.97093 , 1.005831, 1.005797, 0.994236],\n       [1.021242, 1.002133, 0.970197, 0.997257, 0.985699]])"
     },
     "execution_count": 89,
     "metadata": {},
     "output_type": "execute_result"
    }
   ],
   "source": [
    "new_array8=return_array1+1\n",
    "new_array8"
   ],
   "metadata": {
    "collapsed": false,
    "ExecuteTime": {
     "end_time": "2024-01-29T14:15:01.362223900Z",
     "start_time": "2024-01-29T14:15:01.332738800Z"
    }
   },
   "id": "63d754c0f5fcf671",
   "execution_count": 89
  },
  {
   "cell_type": "code",
   "outputs": [
    {
     "data": {
      "text/plain": "array([[-1.035099, -0.8277  , -1.00345 , -1.024551, -0.960632],\n       [-1.013892, -0.975666, -1.033758, -0.985378, -0.999872],\n       [-0.994152, -1.02907 , -0.994169, -0.994203, -1.005764],\n       [-0.978758, -0.997867, -1.029803, -1.002743, -1.014301]])"
     },
     "execution_count": 91,
     "metadata": {},
     "output_type": "execute_result"
    }
   ],
   "source": [
    "new_array9=return_array1-1\n",
    "new_array9"
   ],
   "metadata": {
    "collapsed": false,
    "ExecuteTime": {
     "end_time": "2024-01-29T14:15:28.094327Z",
     "start_time": "2024-01-29T14:15:28.074682100Z"
    }
   },
   "id": "645df6c7231a7cbb",
   "execution_count": 91
  },
  {
   "cell_type": "code",
   "outputs": [
    {
     "data": {
      "text/plain": "array([[-7.0198e-02,  3.4460e-01, -6.9000e-03, -4.9102e-02,  7.8736e-02],\n       [-2.7784e-02,  4.8668e-02, -6.7516e-02,  2.9244e-02,  2.5600e-04],\n       [ 1.1696e-02, -5.8140e-02,  1.1662e-02,  1.1594e-02, -1.1528e-02],\n       [ 4.2484e-02,  4.2660e-03, -5.9606e-02, -5.4860e-03, -2.8602e-02]])"
     },
     "execution_count": 92,
     "metadata": {},
     "output_type": "execute_result"
    }
   ],
   "source": [
    "new_array10=return_array1*2\n",
    "new_array10"
   ],
   "metadata": {
    "collapsed": false,
    "ExecuteTime": {
     "end_time": "2024-01-29T14:15:58.779910300Z",
     "start_time": "2024-01-29T14:15:58.749997500Z"
    }
   },
   "id": "bc193191bc5192ca",
   "execution_count": 92
  },
  {
   "cell_type": "code",
   "outputs": [
    {
     "data": {
      "text/plain": "array([[-1.75495e-02,  8.61500e-02, -1.72500e-03, -1.22755e-02,\n         1.96840e-02],\n       [-6.94600e-03,  1.21670e-02, -1.68790e-02,  7.31100e-03,\n         6.40000e-05],\n       [ 2.92400e-03, -1.45350e-02,  2.91550e-03,  2.89850e-03,\n        -2.88200e-03],\n       [ 1.06210e-02,  1.06650e-03, -1.49015e-02, -1.37150e-03,\n        -7.15050e-03]])"
     },
     "execution_count": 93,
     "metadata": {},
     "output_type": "execute_result"
    }
   ],
   "source": [
    "new_array11=return_array1/2\n",
    "new_array11"
   ],
   "metadata": {
    "collapsed": false,
    "ExecuteTime": {
     "end_time": "2024-01-29T14:16:18.475024300Z",
     "start_time": "2024-01-29T14:16:18.441500100Z"
    }
   },
   "id": "6bd1d8eaffa33362",
   "execution_count": 93
  },
  {
   "cell_type": "code",
   "outputs": [
    {
     "data": {
      "text/plain": "array([[1.23193980e-03, 2.96872900e-02, 1.19025000e-05, 6.02751601e-04,\n        1.54983942e-03],\n       [1.92987664e-04, 5.92143556e-04, 1.13960256e-03, 2.13802884e-04,\n        1.63840000e-08],\n       [3.41991040e-05, 8.45064900e-04, 3.40005610e-05, 3.36052090e-05,\n        3.32236960e-05],\n       [4.51222564e-04, 4.54968900e-06, 8.88218809e-04, 7.52404900e-06,\n        2.04518601e-04]])"
     },
     "execution_count": 94,
     "metadata": {},
     "output_type": "execute_result"
    }
   ],
   "source": [
    "new_array12=return_array1**2\n",
    "new_array12"
   ],
   "metadata": {
    "collapsed": false,
    "ExecuteTime": {
     "end_time": "2024-01-29T14:16:47.049714500Z",
     "start_time": "2024-01-29T14:16:47.016352100Z"
    }
   },
   "id": "896da7b1877e8f18",
   "execution_count": 94
  },
  {
   "cell_type": "code",
   "outputs": [
    {
     "data": {
      "text/plain": "array([[1.23193980e-03, 2.96872900e-02, 1.19025000e-05, 6.02751601e-04,\n        1.54983942e-03],\n       [1.92987664e-04, 5.92143556e-04, 1.13960256e-03, 2.13802884e-04,\n        1.63840000e-08],\n       [3.41991040e-05, 8.45064900e-04, 3.40005610e-05, 3.36052090e-05,\n        3.32236960e-05],\n       [4.51222564e-04, 4.54968900e-06, 8.88218809e-04, 7.52404900e-06,\n        2.04518601e-04]])"
     },
     "execution_count": 95,
     "metadata": {},
     "output_type": "execute_result"
    }
   ],
   "source": [
    "new_array13=pow(return_array1,2)\n",
    "new_array13"
   ],
   "metadata": {
    "collapsed": false,
    "ExecuteTime": {
     "end_time": "2024-01-29T14:17:23.028703100Z",
     "start_time": "2024-01-29T14:17:22.997514300Z"
    }
   },
   "id": "5fc9bb67d20a49a8",
   "execution_count": 95
  },
  {
   "cell_type": "code",
   "outputs": [
    {
     "data": {
      "text/plain": "array([[-3.5099e-02,  1.7230e-01, -3.4500e-03, -2.4551e-02,  3.9368e-02],\n       [-1.3892e-02,  2.4334e-02, -3.3758e-02,  1.4622e-02,  1.2800e-04],\n       [ 5.8480e-03, -2.9070e-02,  5.8310e-03,  5.7970e-03, -5.7640e-03],\n       [ 2.1242e-02,  2.1330e-03, -2.9803e-02, -2.7430e-03, -1.4301e-02]])"
     },
     "execution_count": 96,
     "metadata": {},
     "output_type": "execute_result"
    }
   ],
   "source": [
    "return_max=np.maximum(return_array1,return_array2)\n",
    "return_max"
   ],
   "metadata": {
    "collapsed": false,
    "ExecuteTime": {
     "end_time": "2024-01-29T14:20:56.067810600Z",
     "start_time": "2024-01-29T14:20:56.028942800Z"
    }
   },
   "id": "47be778ec47f33d3",
   "execution_count": 96
  },
  {
   "cell_type": "code",
   "outputs": [
    {
     "data": {
      "text/plain": "array([[-0.035099,  0.      , -0.00345 , -0.024551,  0.      ],\n       [-0.013892,  0.      , -0.033758,  0.      ,  0.      ],\n       [ 0.      , -0.02907 ,  0.      ,  0.      , -0.005764],\n       [ 0.      ,  0.      , -0.029803, -0.002743, -0.014301]])"
     },
     "execution_count": 98,
     "metadata": {},
     "output_type": "execute_result"
    }
   ],
   "source": [
    "return_min=np.minimum(return_array1,zero_return)\n",
    "return_min"
   ],
   "metadata": {
    "collapsed": false,
    "ExecuteTime": {
     "end_time": "2024-01-29T14:21:36.933803400Z",
     "start_time": "2024-01-29T14:21:36.920174100Z"
    }
   },
   "id": "3cbcfc4d5c7258db",
   "execution_count": 98
  },
  {
   "cell_type": "code",
   "outputs": [
    {
     "data": {
      "text/plain": "array([[ 1.        ,  0.6019824 , -0.99072008, -0.0114095 ],\n       [ 0.6019824 ,  1.        , -0.66621801,  0.38847344],\n       [-0.99072008, -0.66621801,  1.        , -0.10970929],\n       [-0.0114095 ,  0.38847344, -0.10970929,  1.        ]])"
     },
     "execution_count": 99,
     "metadata": {},
     "output_type": "execute_result"
    }
   ],
   "source": [
    "corr_return=np.corrcoef(return_array1)\n",
    "corr_return"
   ],
   "metadata": {
    "collapsed": false,
    "ExecuteTime": {
     "end_time": "2024-01-29T14:22:48.583661100Z",
     "start_time": "2024-01-29T14:22:48.540712800Z"
    }
   },
   "id": "4792bc2776d02ccd",
   "execution_count": 99
  },
  {
   "cell_type": "code",
   "outputs": [
    {
     "data": {
      "text/plain": "array([1., 1., 1., 1.])"
     },
     "execution_count": 100,
     "metadata": {},
     "output_type": "execute_result"
    }
   ],
   "source": [
    "np.diag(corr_return)  # 矩阵的对角线"
   ],
   "metadata": {
    "collapsed": false,
    "ExecuteTime": {
     "end_time": "2024-01-29T14:23:55.024436600Z",
     "start_time": "2024-01-29T14:23:54.987852800Z"
    }
   },
   "id": "aba921eeb9eddc2e",
   "execution_count": 100
  },
  {
   "cell_type": "code",
   "outputs": [
    {
     "data": {
      "text/plain": "array([[ 1.        ,  0.6019824 , -0.99072008, -0.0114095 ],\n       [ 0.        ,  1.        , -0.66621801,  0.38847344],\n       [ 0.        ,  0.        ,  1.        , -0.10970929],\n       [ 0.        ,  0.        ,  0.        ,  1.        ]])"
     },
     "execution_count": 101,
     "metadata": {},
     "output_type": "execute_result"
    }
   ],
   "source": [
    "np.triu(corr_return)  # 查看矩阵的上三角"
   ],
   "metadata": {
    "collapsed": false,
    "ExecuteTime": {
     "end_time": "2024-01-29T14:24:33.624004200Z",
     "start_time": "2024-01-29T14:24:33.592403700Z"
    }
   },
   "id": "215b7b75fa8f4d79",
   "execution_count": 101
  },
  {
   "cell_type": "code",
   "outputs": [
    {
     "data": {
      "text/plain": "array([[ 1.        ,  0.        ,  0.        ,  0.        ],\n       [ 0.6019824 ,  1.        ,  0.        ,  0.        ],\n       [-0.99072008, -0.66621801,  1.        ,  0.        ],\n       [-0.0114095 ,  0.38847344, -0.10970929,  1.        ]])"
     },
     "execution_count": 102,
     "metadata": {},
     "output_type": "execute_result"
    }
   ],
   "source": [
    "np.tril(corr_return) # 查看矩阵的下三角"
   ],
   "metadata": {
    "collapsed": false,
    "ExecuteTime": {
     "end_time": "2024-01-29T14:25:10.041965700Z",
     "start_time": "2024-01-29T14:25:10.009440Z"
    }
   },
   "id": "db1729a2ced4cb81",
   "execution_count": 102
  },
  {
   "cell_type": "code",
   "outputs": [
    {
     "data": {
      "text/plain": "4.0"
     },
     "execution_count": 103,
     "metadata": {},
     "output_type": "execute_result"
    }
   ],
   "source": [
    "np.trace(corr_return) # 计算矩阵的迹"
   ],
   "metadata": {
    "collapsed": false,
    "ExecuteTime": {
     "end_time": "2024-01-29T14:26:23.148788600Z",
     "start_time": "2024-01-29T14:26:23.115825800Z"
    }
   },
   "id": "50871296aa8f95eb",
   "execution_count": 103
  },
  {
   "cell_type": "code",
   "outputs": [
    {
     "data": {
      "text/plain": "array([[-3.5099e-02, -1.3892e-02,  5.8480e-03,  2.1242e-02],\n       [ 1.7230e-01,  2.4334e-02, -2.9070e-02,  2.1330e-03],\n       [-3.4500e-03, -3.3758e-02,  5.8310e-03, -2.9803e-02],\n       [-2.4551e-02,  1.4622e-02,  5.7970e-03, -2.7430e-03],\n       [ 3.9368e-02,  1.2800e-04, -5.7640e-03, -1.4301e-02]])"
     },
     "execution_count": 104,
     "metadata": {},
     "output_type": "execute_result"
    }
   ],
   "source": [
    "np.transpose(return_array1) # 将矩阵进行转置"
   ],
   "metadata": {
    "collapsed": false,
    "ExecuteTime": {
     "end_time": "2024-01-29T14:27:51.818572900Z",
     "start_time": "2024-01-29T14:27:51.789316500Z"
    }
   },
   "id": "77ba8eb74a4918ec",
   "execution_count": 104
  },
  {
   "cell_type": "code",
   "outputs": [
    {
     "data": {
      "text/plain": "array([[-3.5099e-02, -1.3892e-02,  5.8480e-03,  2.1242e-02],\n       [ 1.7230e-01,  2.4334e-02, -2.9070e-02,  2.1330e-03],\n       [-3.4500e-03, -3.3758e-02,  5.8310e-03, -2.9803e-02],\n       [-2.4551e-02,  1.4622e-02,  5.7970e-03, -2.7430e-03],\n       [ 3.9368e-02,  1.2800e-04, -5.7640e-03, -1.4301e-02]])"
     },
     "execution_count": 105,
     "metadata": {},
     "output_type": "execute_result"
    }
   ],
   "source": [
    "return_array1.T"
   ],
   "metadata": {
    "collapsed": false,
    "ExecuteTime": {
     "end_time": "2024-01-29T14:28:13.522615700Z",
     "start_time": "2024-01-29T14:28:13.487254400Z"
    }
   },
   "id": "3a422111b7c00250",
   "execution_count": 105
  },
  {
   "cell_type": "code",
   "outputs": [
    {
     "data": {
      "text/plain": "array([ 0.00191555,  0.0242975 , -0.01773255, -0.0004062 , -0.0012306 ])"
     },
     "execution_count": 106,
     "metadata": {},
     "output_type": "execute_result"
    }
   ],
   "source": [
    "return_daily=np.dot(weight_array1,return_array1)\n",
    "return_daily"
   ],
   "metadata": {
    "collapsed": false,
    "ExecuteTime": {
     "end_time": "2024-01-30T12:11:51.482405500Z",
     "start_time": "2024-01-30T12:11:51.390645200Z"
    }
   },
   "id": "652835a01cd94cb4",
   "execution_count": 106
  },
  {
   "cell_type": "code",
   "outputs": [
    {
     "data": {
      "text/plain": "0.0013592255406674886"
     },
     "execution_count": 107,
     "metadata": {},
     "output_type": "execute_result"
    }
   ],
   "source": [
    "import numpy.linalg as la \n",
    "la.det(corr_return)  # 计算矩阵的行列式"
   ],
   "metadata": {
    "collapsed": false,
    "ExecuteTime": {
     "end_time": "2024-01-30T12:12:44.344149600Z",
     "start_time": "2024-01-30T12:12:44.253705800Z"
    }
   },
   "id": "afa50a6b42bd73a2",
   "execution_count": 107
  },
  {
   "cell_type": "code",
   "outputs": [
    {
     "data": {
      "text/plain": "array([[331.06581021,  14.32926162, 341.45344041,  35.67137476],\n       [ 14.32926162,   2.81571109,  16.16465776,   0.84307398],\n       [341.45344041,  16.16465776, 354.05388833,  36.45927606],\n       [ 35.67137476,   0.84307398,  36.45927606,   5.07940225]])"
     },
     "execution_count": 108,
     "metadata": {},
     "output_type": "execute_result"
    }
   ],
   "source": [
    "la.inv(corr_return)  #计算矩阵的逆矩阵"
   ],
   "metadata": {
    "collapsed": false,
    "ExecuteTime": {
     "end_time": "2024-01-30T12:13:02.129705400Z",
     "start_time": "2024-01-30T12:13:02.046631200Z"
    }
   },
   "id": "2da6853318798fc0",
   "execution_count": 108
  },
  {
   "cell_type": "code",
   "outputs": [
    {
     "data": {
      "text/plain": "(array([2.56393008e+00, 1.10387271e+00, 1.45202072e-03, 3.30745193e-01]),\n array([[ 0.5809005 ,  0.30884008,  0.6928313 ,  0.29522399],\n        [ 0.52165002, -0.2829317 ,  0.03145369, -0.80426462],\n        [-0.60196162, -0.19407993,  0.71656054, -0.29413634],\n        [ 0.16756515, -0.88707409,  0.07440733,  0.42365674]]))"
     },
     "execution_count": 109,
     "metadata": {},
     "output_type": "execute_result"
    }
   ],
   "source": [
    "la.eig(corr_return)  # 矩阵的特征值分解"
   ],
   "metadata": {
    "collapsed": false,
    "ExecuteTime": {
     "end_time": "2024-01-30T12:13:30.472466Z",
     "start_time": "2024-01-30T12:13:30.364329900Z"
    }
   },
   "id": "9237c3b82b8b8879",
   "execution_count": 109
  },
  {
   "cell_type": "code",
   "outputs": [
    {
     "data": {
      "text/plain": "(array([[-0.5809005 ,  0.30884008,  0.29522399,  0.6928313 ],\n        [-0.52165002, -0.2829317 , -0.80426462,  0.03145369],\n        [ 0.60196162, -0.19407993, -0.29413634,  0.71656054],\n        [-0.16756515, -0.88707409,  0.42365674,  0.07440733]]),\n array([2.56393008e+00, 1.10387271e+00, 3.30745193e-01, 1.45202072e-03]),\n array([[-0.5809005 , -0.52165002,  0.60196162, -0.16756515],\n        [ 0.30884008, -0.2829317 , -0.19407993, -0.88707409],\n        [ 0.29522399, -0.80426462, -0.29413634,  0.42365674],\n        [ 0.6928313 ,  0.03145369,  0.71656054,  0.07440733]]))"
     },
     "execution_count": 110,
     "metadata": {},
     "output_type": "execute_result"
    }
   ],
   "source": [
    "la.svd(corr_return)  # 矩阵的奇异值分解"
   ],
   "metadata": {
    "collapsed": false,
    "ExecuteTime": {
     "end_time": "2024-01-30T12:14:53.883514200Z",
     "start_time": "2024-01-30T12:14:53.762118Z"
    }
   },
   "id": "8aa50e383fd83fb1",
   "execution_count": 110
  },
  {
   "cell_type": "markdown",
   "source": [
    "## 2.5 基于特定统计分布的随机抽样"
   ],
   "metadata": {
    "collapsed": false
   },
   "id": "743316d45e6cb71"
  },
  {
   "cell_type": "code",
   "outputs": [
    {
     "name": "stdout",
     "output_type": "stream",
     "text": [
      "从正态分布中随机抽样的均值为:\n",
      " 1.5155697204025662\n",
      "从正态分布中随机抽样的标准差为:\n",
      " 2.5067344491503145\n"
     ]
    }
   ],
   "source": [
    "import numpy.random as npr\n",
    "I=10000\n",
    "mean1=1.5\n",
    "std1=2.5\n",
    "x_norm=npr.normal(loc=mean1,scale=std1,size=I)\n",
    "print('从正态分布中随机抽样的均值为:\\n',x_norm.mean())\n",
    "print('从正态分布中随机抽样的标准差为:\\n',x_norm.std())"
   ],
   "metadata": {
    "collapsed": false,
    "ExecuteTime": {
     "end_time": "2024-01-30T12:21:16.604446400Z",
     "start_time": "2024-01-30T12:21:16.520768400Z"
    }
   },
   "id": "46ae05e3ea70c8aa",
   "execution_count": 111
  },
  {
   "cell_type": "code",
   "outputs": [
    {
     "name": "stdout",
     "output_type": "stream",
     "text": [
      "运用randn函数从标准正态分布中抽样的均值 -0.005509972919991859\n",
      "运用randn函数从标准正态分布中抽样的标准差 1.0163887926826873\n",
      "运用standard_normal函数从标准正态分布中抽样的均值 -0.00045179740509185853\n",
      "运用standard_normal函数从标准正态分布中抽样的标准差 0.9971778789458143\n",
      "运用normal函数从标准正态分布中抽样的均值 -0.003045843583597555\n",
      "运用normal函数从标准正态分布中抽样的均值 1.001454097400369\n"
     ]
    }
   ],
   "source": [
    "# 从标准正态分布中抽取随机数\n",
    "x_snorml1=npr.randn(I)  \n",
    "x_snorml2=npr.standard_normal(size=I)\n",
    "mean2=0\n",
    "std2=1\n",
    "x_snorm3=npr.normal(loc=mean2,scale=std2,size=I)\n",
    "print('运用randn函数从标准正态分布中抽样的均值',x_snorml1.mean())\n",
    "print('运用randn函数从标准正态分布中抽样的标准差',x_snorml1.std())\n",
    "print('运用standard_normal函数从标准正态分布中抽样的均值',x_snorml2.mean())\n",
    "print('运用standard_normal函数从标准正态分布中抽样的标准差',x_snorml2.std())\n",
    "print('运用normal函数从标准正态分布中抽样的均值',x_snorm3.mean())\n",
    "print('运用normal函数从标准正态分布中抽样的均值',x_snorm3.std())"
   ],
   "metadata": {
    "collapsed": false,
    "ExecuteTime": {
     "end_time": "2024-01-30T12:28:52.253450300Z",
     "start_time": "2024-01-30T12:28:52.183918300Z"
    }
   },
   "id": "3409aa57e5b466ec",
   "execution_count": 113
  },
  {
   "cell_type": "code",
   "outputs": [
    {
     "name": "stdout",
     "output_type": "stream",
     "text": [
      "从对数正态分布中抽样的均值 3.063020361097541\n",
      "从对数正态分布中抽样的标准差 5.412198547523007\n"
     ]
    }
   ],
   "source": [
    "# 对数正态分布的随机抽样\n",
    "mean3=0.4\n",
    "std3=1.2\n",
    "x_logn=npr.lognormal(mean=mean3,sigma=std3,size=I)\n",
    "print('从对数正态分布中抽样的均值',x_logn.mean())\n",
    "print('从对数正态分布中抽样的标准差',x_logn.std())"
   ],
   "metadata": {
    "collapsed": false,
    "ExecuteTime": {
     "end_time": "2024-01-30T12:32:29.122182300Z",
     "start_time": "2024-01-30T12:32:29.084708900Z"
    }
   },
   "id": "28e227695317861",
   "execution_count": 114
  },
  {
   "cell_type": "code",
   "outputs": [
    {
     "name": "stdout",
     "output_type": "stream",
     "text": [
      "从自由度是6的卡方分布中抽样的均值为 6.000811396819553\n",
      "从自由度是6的卡方分布中抽样的标准差为 3.462620099227775\n",
      "从自由度是98的卡方分布中抽样的均值为 98.12398452142806\n",
      "从自由度是98的卡方分布中抽样的标准差为 13.972550994692273\n"
     ]
    }
   ],
   "source": [
    "# 基于卡方分布的随机抽样\n",
    "freedom1=6\n",
    "freedom2=98\n",
    "x_chil1=npr.chisquare(df=freedom1,size=I)\n",
    "x_chil2=npr.chisquare(df=freedom2,size=I)\n",
    "print('从自由度是6的卡方分布中抽样的均值为',x_chil1.mean())\n",
    "print('从自由度是6的卡方分布中抽样的标准差为',x_chil1.std())\n",
    "print('从自由度是98的卡方分布中抽样的均值为',x_chil2.mean())\n",
    "print('从自由度是98的卡方分布中抽样的标准差为',x_chil2.std())"
   ],
   "metadata": {
    "collapsed": false,
    "ExecuteTime": {
     "end_time": "2024-01-30T12:35:58.728198200Z",
     "start_time": "2024-01-30T12:35:58.665715800Z"
    }
   },
   "id": "983ed225113f1370",
   "execution_count": 115
  },
  {
   "cell_type": "code",
   "outputs": [
    {
     "name": "stdout",
     "output_type": "stream",
     "text": [
      "从自由度是3的学生t分布中抽样的均值为 0.002927426169901787\n",
      "从自由度是3的学生t分布中抽样的标准差为 1.6632748332928098\n",
      "从自由度是130的学生t分布中抽样的均值为 -0.012835590615785113\n",
      "从自由度是130的学生t分布中抽样的标准差为 1.0087925408095557\n"
     ]
    }
   ],
   "source": [
    "# 基于学生t分布的随机抽样\n",
    "freedom3=3\n",
    "freedom4=130\n",
    "x_t1=npr.standard_t(df=freedom3,size=I)\n",
    "x_t2=npr.standard_t(df=freedom4,size=I)\n",
    "print('从自由度是3的学生t分布中抽样的均值为',x_t1.mean())\n",
    "print('从自由度是3的学生t分布中抽样的标准差为',x_t1.std())\n",
    "print('从自由度是130的学生t分布中抽样的均值为',x_t2.mean())\n",
    "print('从自由度是130的学生t分布中抽样的标准差为',x_t2.std())"
   ],
   "metadata": {
    "collapsed": false,
    "ExecuteTime": {
     "end_time": "2024-01-30T12:39:45.259717800Z",
     "start_time": "2024-01-30T12:39:45.224218200Z"
    }
   },
   "id": "4ca07b681f55c38a",
   "execution_count": 116
  },
  {
   "cell_type": "code",
   "outputs": [
    {
     "name": "stdout",
     "output_type": "stream",
     "text": [
      "从F分布中抽样的均值为 1.2478961642178716\n",
      "从F分布中抽样的标准差为 1.229073362255744\n"
     ]
    }
   ],
   "source": [
    "# 基于F分布的随机抽样\n",
    "freedom5=4\n",
    "freedom6=10\n",
    "x_f=npr.f(dfnum=freedom5,dfden=freedom6,size=I)\n",
    "print('从F分布中抽样的均值为',x_f.mean())\n",
    "print('从F分布中抽样的标准差为',x_f.std())"
   ],
   "metadata": {
    "collapsed": false,
    "ExecuteTime": {
     "end_time": "2024-01-30T12:46:12.834127600Z",
     "start_time": "2024-01-30T12:46:12.743371800Z"
    }
   },
   "id": "2dbeb7c233cd294e",
   "execution_count": 118
  },
  {
   "cell_type": "code",
   "outputs": [
    {
     "name": "stdout",
     "output_type": "stream",
     "text": [
      "从贝塔分布中抽样的均值为 0.30004009471480947\n",
      "从贝塔分布中抽样的标准差为 0.13706868969736982\n"
     ]
    }
   ],
   "source": [
    "# 基于贝塔分布的随机抽样、\n",
    "a1=3\n",
    "b1=7\n",
    "x_beta=npr.beta(a=a1,b=b1,size=I)\n",
    "print('从贝塔分布中抽样的均值为',x_beta.mean())\n",
    "print('从贝塔分布中抽样的标准差为',x_beta.std())"
   ],
   "metadata": {
    "collapsed": false,
    "ExecuteTime": {
     "end_time": "2024-01-30T12:43:58.920382300Z",
     "start_time": "2024-01-30T12:43:58.860267300Z"
    }
   },
   "id": "3ebdc205192453ad",
   "execution_count": 117
  },
  {
   "cell_type": "code",
   "outputs": [
    {
     "name": "stdout",
     "output_type": "stream",
     "text": [
      "从伽马分布中抽样的均值为 16.042737726152154\n",
      "从伽马分布中抽样的标准差为 11.3419870908981\n"
     ]
    }
   ],
   "source": [
    "# 基于伽马分布的随机抽样\n",
    "a2=2\n",
    "b2=8\n",
    "x_gamma=npr.gamma(shape=a2,scale=b2,size=I)\n",
    "print('从伽马分布中抽样的均值为',x_gamma.mean())\n",
    "print('从伽马分布中抽样的标准差为',x_gamma.std())"
   ],
   "metadata": {
    "collapsed": false,
    "ExecuteTime": {
     "end_time": "2024-01-30T12:48:15.166466800Z",
     "start_time": "2024-01-30T12:48:15.129366400Z"
    }
   },
   "id": "8e129c4a03fd3667",
   "execution_count": 119
  },
  {
   "cell_type": "markdown",
   "source": [
    "## 2.6 现金流量模型"
   ],
   "metadata": {
    "collapsed": false
   },
   "id": "7920f5248bd0f377"
  },
  {
   "cell_type": "code",
   "outputs": [
    {
     "data": {
      "text/plain": "'1.0.0'"
     },
     "execution_count": 126,
     "metadata": {},
     "output_type": "execute_result"
    }
   ],
   "source": [
    "import numpy_financial as npf\n",
    "npf.__version__"
   ],
   "metadata": {
    "collapsed": false,
    "ExecuteTime": {
     "end_time": "2024-01-30T13:00:21.448275700Z",
     "start_time": "2024-01-30T13:00:21.439952800Z"
    }
   },
   "id": "715557a3156982d4",
   "execution_count": 126
  },
  {
   "cell_type": "code",
   "outputs": [
    {
     "name": "stdout",
     "output_type": "stream",
     "text": [
      "计算得到项目终值（期间追加投资发生在每年年末 46986364.42\n"
     ]
    }
   ],
   "source": [
    "V0=2e7 # 初始投资金额\n",
    "V1=3e6 # 每年固定金额投资\n",
    "T=5  # 投资期限（年）\n",
    "r=0.08 # 年华投资回报率\n",
    "FV1=npf.fv(rate=r,nper=T,pmt=-V1,pv=-V0,when='end')\n",
    "print('计算得到项目终值（期间追加投资发生在每年年末',round(FV1,2))"
   ],
   "metadata": {
    "collapsed": false,
    "ExecuteTime": {
     "end_time": "2024-01-30T13:06:37.387900700Z",
     "start_time": "2024-01-30T13:06:37.359441800Z"
    }
   },
   "id": "7e663e3eecce8633",
   "execution_count": 127
  },
  {
   "cell_type": "code",
   "outputs": [
    {
     "name": "stdout",
     "output_type": "stream",
     "text": [
      "计算得到项目终值（期间追加投资发生在每年年末 48394348.65\n"
     ]
    }
   ],
   "source": [
    "FV2=npf.fv(rate=r,nper=T,pmt=-V1,pv=-V0,when='begin')\n",
    "print('计算得到项目终值（期间追加投资发生在每年年末',round(FV2,2))"
   ],
   "metadata": {
    "collapsed": false,
    "ExecuteTime": {
     "end_time": "2024-01-30T13:07:21.568651700Z",
     "start_time": "2024-01-30T13:07:21.542632300Z"
    }
   },
   "id": "20d0cb7874015d83",
   "execution_count": 128
  },
  {
   "cell_type": "code",
   "outputs": [
    {
     "name": "stdout",
     "output_type": "stream",
     "text": [
      "期间追加投资发生时点不同而导致项目终值的差异 1407984.23\n"
     ]
    }
   ],
   "source": [
    "FV_diff=FV2-FV1\n",
    "print('期间追加投资发生时点不同而导致项目终值的差异',round(FV_diff,2))"
   ],
   "metadata": {
    "collapsed": false,
    "ExecuteTime": {
     "end_time": "2024-01-30T13:08:34.013940700Z",
     "start_time": "2024-01-30T13:08:33.986209600Z"
    }
   },
   "id": "df3a2fa85f2f58e8",
   "execution_count": 129
  },
  {
   "cell_type": "code",
   "outputs": [
    {
     "name": "stdout",
     "output_type": "stream",
     "text": [
      "计算得到项目终值（期间现金流发生在每年年末 -27458662.16\n",
      "计算得到项目终值（期间现金流发生在每年年初 -28048741.08\n",
      "期间追加投资发生时点不同而导致项目终值的差异 -590078.92\n"
     ]
    }
   ],
   "source": [
    "V1 = 2e6  \n",
    "Vt = 2.5e7  \n",
    "T = 6\n",
    "R = 0.06\n",
    "PV1 = npf.pv(rate=R, nper=T, pmt=V1, fv=Vt, when=0)\n",
    "print('计算得到项目终值（期间现金流发生在每年年末', round(PV1, 2))\n",
    "PV2 = npf.pv(rate=R, nper=T, pmt=V1, fv=Vt, when=1)\n",
    "print('计算得到项目终值（期间现金流发生在每年年初', round(PV2, 2))\n",
    "PV_diff = PV2 - PV1\n",
    "print('期间追加投资发生时点不同而导致项目终值的差异', round(PV_diff, 2))"
   ],
   "metadata": {
    "collapsed": false,
    "ExecuteTime": {
     "end_time": "2024-01-30T13:17:11.288352100Z",
     "start_time": "2024-01-30T13:17:11.263730800Z"
    }
   },
   "id": "eb9a2964227c0ac3",
   "execution_count": 130
  },
  {
   "cell_type": "code",
   "outputs": [
    {
     "name": "stdout",
     "output_type": "stream",
     "text": [
      "-810638.2740421267\n",
      "1201255.2846905012\n"
     ]
    }
   ],
   "source": [
    "# 净现值与内含报酬率\n",
    "R1=0.09\n",
    "cashflow=np.array([-2.8e7,7e6,8e6,9e6,1e7])\n",
    "NPV1=npf.npv(rate=R1,values=cashflow)\n",
    "print(NPV1)\n",
    "R2=0.06\n",
    "NPV2=npf.npv(rate=R2,values=cashflow)\n",
    "print(NPV2)"
   ],
   "metadata": {
    "collapsed": false,
    "ExecuteTime": {
     "end_time": "2024-01-30T13:27:59.339660100Z",
     "start_time": "2024-01-30T13:27:59.299739100Z"
    }
   },
   "id": "cdd55927ce327b2",
   "execution_count": 131
  },
  {
   "cell_type": "code",
   "outputs": [
    {
     "data": {
      "text/plain": "0.07750274098507792"
     },
     "execution_count": 132,
     "metadata": {},
     "output_type": "execute_result"
    }
   ],
   "source": [
    "IRR=npf.irr(values=cashflow)\n",
    "IRR"
   ],
   "metadata": {
    "collapsed": false,
    "ExecuteTime": {
     "end_time": "2024-01-30T13:29:19.682260900Z",
     "start_time": "2024-01-30T13:29:19.622041100Z"
    }
   },
   "id": "b5288225c61b17c1",
   "execution_count": 132
  },
  {
   "cell_type": "code",
   "outputs": [
    {
     "data": {
      "text/plain": "-96664.00764714135"
     },
     "execution_count": 133,
     "metadata": {},
     "output_type": "execute_result"
    }
   ],
   "source": [
    "# 住房按揭贷快的等额本息还款\n",
    "prin_loan=5e6\n",
    "tenor_loan=5*12\n",
    "rate_loan=0.06/12\n",
    "payment=npf.pmt(rate=rate_loan,nper=tenor_loan,pv=prin_loan,fv=0,when='end')\n",
    "payment"
   ],
   "metadata": {
    "collapsed": false,
    "ExecuteTime": {
     "end_time": "2024-01-30T13:37:46.246014700Z",
     "start_time": "2024-01-30T13:37:46.200651800Z"
    }
   },
   "id": "14d044cc85a88aaf",
   "execution_count": 133
  },
  {
   "cell_type": "code",
   "outputs": [
    {
     "data": {
      "text/plain": "array([-25000.        , -24641.67996176, -24281.56832334, -23919.65612672,\n       -23555.93436912, -23190.39400273, -22823.0259345 , -22453.82102594,\n       -22082.77009283, -21709.86390506, -21335.09318635, -20958.44861405,\n       -20579.92081888, -20199.50038474, -19817.17784843, -19432.94369944,\n       -19046.7883797 , -18658.70228336, -18268.67575654, -17876.69909709,\n       -17482.76255434, -17086.85632887, -16688.97057228, -16289.09538691,\n       -15887.22082561, -15483.3368915 , -15077.43353772, -14669.50066718,\n       -14259.52813228, -13847.5057347 , -13433.42322514, -13017.27030303,\n       -12599.03661631, -12178.71176115, -11756.28528172, -11331.7466699 ,\n       -10905.08536501, -10476.2907536 , -10045.35216913,  -9612.25889174,\n        -9177.00014797,  -8739.56511047,  -8299.94289779,  -7858.12257404,\n        -7414.09314867,  -6967.84357618,  -6519.36275583,  -6068.63953137,\n        -5615.66269079,  -5160.42096601,  -4702.9030326 ,  -4243.09750953,\n        -3780.99295884,  -3316.5778854 ,  -2849.84073659,  -2380.76990204,\n        -1909.35371332,  -1435.58044365,   -959.43830763,   -480.91546093])"
     },
     "execution_count": 134,
     "metadata": {},
     "output_type": "execute_result"
    }
   ],
   "source": [
    "tenor_list=np.arange(tenor_loan)+1\n",
    "payment_interset=npf.ipmt(rate=rate_loan,per=tenor_list,nper=tenor_loan,pv=prin_loan,fv=0,when='end')\n",
    "payment_interset"
   ],
   "metadata": {
    "collapsed": false,
    "ExecuteTime": {
     "end_time": "2024-01-30T13:40:24.505775700Z",
     "start_time": "2024-01-30T13:40:24.471858800Z"
    }
   },
   "id": "3c33ca689fbbd933",
   "execution_count": 134
  },
  {
   "cell_type": "code",
   "outputs": [
    {
     "data": {
      "text/plain": "array([-71664.00764714, -72022.32768538, -72382.4393238 , -72744.35152042,\n       -73108.07327803, -73473.61364442, -73840.98171264, -74210.1866212 ,\n       -74581.23755431, -74954.14374208, -75328.91446079, -75705.55903309,\n       -76084.08682826, -76464.5072624 , -76846.82979871, -77231.0639477 ,\n       -77617.21926744, -78005.30536378, -78395.3318906 , -78787.30855005,\n       -79181.2450928 , -79577.15131827, -79975.03707486, -80374.91226023,\n       -80776.78682153, -81180.67075564, -81586.57410942, -81994.50697997,\n       -82404.47951487, -82816.50191244, -83230.584422  , -83646.73734411,\n       -84064.97103083, -84485.29588599, -84907.72236542, -85332.26097724,\n       -85758.92228213, -86187.71689354, -86618.65547801, -87051.7487554 ,\n       -87487.00749918, -87924.44253667, -88364.06474935, -88805.8850731 ,\n       -89249.91449847, -89696.16407096, -90144.64489131, -90595.36811577,\n       -91048.34495635, -91503.58668113, -91961.10461454, -92420.91013761,\n       -92883.0146883 , -93347.42976174, -93814.16691055, -94283.2377451 ,\n       -94754.65393383, -95228.4272035 , -95704.56933951, -96183.09218621])"
     },
     "execution_count": 135,
     "metadata": {},
     "output_type": "execute_result"
    }
   ],
   "source": [
    "payment_principle=npf.ppmt(rate=rate_loan,per=tenor_list,nper=tenor_loan,pv=prin_loan,fv=0,when='end')\n",
    "payment_principle"
   ],
   "metadata": {
    "collapsed": false,
    "ExecuteTime": {
     "end_time": "2024-01-30T13:51:12.434766200Z",
     "start_time": "2024-01-30T13:51:12.397361300Z"
    }
   },
   "id": "d832504f680a18b1",
   "execution_count": 135
  }
 ],
 "metadata": {
  "kernelspec": {
   "display_name": "Python 3",
   "language": "python",
   "name": "python3"
  },
  "language_info": {
   "codemirror_mode": {
    "name": "ipython",
    "version": 2
   },
   "file_extension": ".py",
   "mimetype": "text/x-python",
   "name": "python",
   "nbconvert_exporter": "python",
   "pygments_lexer": "ipython2",
   "version": "2.7.6"
  }
 },
 "nbformat": 4,
 "nbformat_minor": 5
}
