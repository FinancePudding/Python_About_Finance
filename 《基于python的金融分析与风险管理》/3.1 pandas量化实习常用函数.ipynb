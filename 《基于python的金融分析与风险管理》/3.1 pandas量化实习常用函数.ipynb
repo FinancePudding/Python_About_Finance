{
 "cells": [
  {
   "cell_type": "markdown",
   "source": [
    "# 量化实习常用函数系列一"
   ],
   "metadata": {
    "collapsed": false
   },
   "id": "89e3fe9a55ea7f48"
  },
  {
   "cell_type": "markdown",
   "source": [
    "## pandas量化实习常用函数介绍"
   ],
   "metadata": {
    "collapsed": false
   },
   "id": "eb479737651ca6af"
  },
  {
   "cell_type": "code",
   "outputs": [],
   "source": [
    "import pandas as pd\n",
    "import tushare as ts\n",
    "import warnings\n",
    "warnings.filterwarnings(\"ignore\",category=FutureWarning)"
   ],
   "metadata": {
    "collapsed": false,
    "ExecuteTime": {
     "end_time": "2024-03-01T12:44:47.384905900Z",
     "start_time": "2024-03-01T12:44:47.376397600Z"
    }
   },
   "id": "4f176df18fd0f5d1",
   "execution_count": 3
  },
  {
   "cell_type": "code",
   "outputs": [
    {
     "data": {
      "text/plain": "     ts_code trade_date   open   high    low  close  pre_close  change  \\\n0  600000.SH   20180330  11.63  11.69  11.61  11.65      11.62    0.03   \n1  600000.SH   20180329  11.57  11.71  11.45  11.62      11.57    0.05   \n2  600000.SH   20180328  11.53  11.75  11.52  11.57      11.62   -0.05   \n3  600000.SH   20180327  11.70  11.77  11.56  11.62      11.61    0.01   \n4  600000.SH   20180326  11.71  11.75  11.50  11.61      11.71   -0.10   \n\n   pct_chg        vol      amount  \n0     0.26  232719.65  270987.701  \n1     0.43  331088.05  383064.999  \n2    -0.43  229112.82  266121.467  \n3     0.09  273328.09  318586.664  \n4    -0.85  364250.54  422233.460  ",
      "text/html": "<div>\n<style scoped>\n    .dataframe tbody tr th:only-of-type {\n        vertical-align: middle;\n    }\n\n    .dataframe tbody tr th {\n        vertical-align: top;\n    }\n\n    .dataframe thead th {\n        text-align: right;\n    }\n</style>\n<table border=\"1\" class=\"dataframe\">\n  <thead>\n    <tr style=\"text-align: right;\">\n      <th></th>\n      <th>ts_code</th>\n      <th>trade_date</th>\n      <th>open</th>\n      <th>high</th>\n      <th>low</th>\n      <th>close</th>\n      <th>pre_close</th>\n      <th>change</th>\n      <th>pct_chg</th>\n      <th>vol</th>\n      <th>amount</th>\n    </tr>\n  </thead>\n  <tbody>\n    <tr>\n      <th>0</th>\n      <td>600000.SH</td>\n      <td>20180330</td>\n      <td>11.63</td>\n      <td>11.69</td>\n      <td>11.61</td>\n      <td>11.65</td>\n      <td>11.62</td>\n      <td>0.03</td>\n      <td>0.26</td>\n      <td>232719.65</td>\n      <td>270987.701</td>\n    </tr>\n    <tr>\n      <th>1</th>\n      <td>600000.SH</td>\n      <td>20180329</td>\n      <td>11.57</td>\n      <td>11.71</td>\n      <td>11.45</td>\n      <td>11.62</td>\n      <td>11.57</td>\n      <td>0.05</td>\n      <td>0.43</td>\n      <td>331088.05</td>\n      <td>383064.999</td>\n    </tr>\n    <tr>\n      <th>2</th>\n      <td>600000.SH</td>\n      <td>20180328</td>\n      <td>11.53</td>\n      <td>11.75</td>\n      <td>11.52</td>\n      <td>11.57</td>\n      <td>11.62</td>\n      <td>-0.05</td>\n      <td>-0.43</td>\n      <td>229112.82</td>\n      <td>266121.467</td>\n    </tr>\n    <tr>\n      <th>3</th>\n      <td>600000.SH</td>\n      <td>20180327</td>\n      <td>11.70</td>\n      <td>11.77</td>\n      <td>11.56</td>\n      <td>11.62</td>\n      <td>11.61</td>\n      <td>0.01</td>\n      <td>0.09</td>\n      <td>273328.09</td>\n      <td>318586.664</td>\n    </tr>\n    <tr>\n      <th>4</th>\n      <td>600000.SH</td>\n      <td>20180326</td>\n      <td>11.71</td>\n      <td>11.75</td>\n      <td>11.50</td>\n      <td>11.61</td>\n      <td>11.71</td>\n      <td>-0.10</td>\n      <td>-0.85</td>\n      <td>364250.54</td>\n      <td>422233.460</td>\n    </tr>\n  </tbody>\n</table>\n</div>"
     },
     "execution_count": 5,
     "metadata": {},
     "output_type": "execute_result"
    }
   ],
   "source": [
    "token_key='dc0da43c9ec5549606a55f236aa4c998c9b6f3ba9f25422f8c7b3df7'\n",
    "pro=ts.pro_api(token_key)\n",
    "# 获取浦发银行的股价\n",
    "df1 = pro.daily(ts_code='600000.SH', start_date='20180101', end_date='20180331')\n",
    "df1.head()"
   ],
   "metadata": {
    "collapsed": false,
    "ExecuteTime": {
     "end_time": "2024-03-01T12:48:16.182746800Z",
     "start_time": "2024-03-01T12:48:15.864777200Z"
    }
   },
   "id": "38c4d9f30346dce0",
   "execution_count": 5
  },
  {
   "cell_type": "code",
   "outputs": [
    {
     "data": {
      "text/plain": "     ts_code trade_date   open   high    low  close  pre_close  change  \\\n0  600600.SH   20180330  40.00  40.85  39.76  40.43      39.99    0.44   \n1  600600.SH   20180329  39.17  40.09  38.03  39.99      39.16    0.83   \n2  600600.SH   20180328  39.80  39.88  38.72  39.16      40.64   -1.48   \n3  600600.SH   20180327  40.35  40.79  39.74  40.64      40.21    0.43   \n4  600600.SH   20180326  37.69  40.34  37.50  40.21      38.04    2.17   \n\n   pct_chg       vol      amount  \n0     1.10  54695.84  221043.758  \n1     2.12  57586.40  225764.879  \n2    -3.64  65720.36  258895.658  \n3     1.07  62885.52  253193.642  \n4     5.70  58624.39  227846.463  ",
      "text/html": "<div>\n<style scoped>\n    .dataframe tbody tr th:only-of-type {\n        vertical-align: middle;\n    }\n\n    .dataframe tbody tr th {\n        vertical-align: top;\n    }\n\n    .dataframe thead th {\n        text-align: right;\n    }\n</style>\n<table border=\"1\" class=\"dataframe\">\n  <thead>\n    <tr style=\"text-align: right;\">\n      <th></th>\n      <th>ts_code</th>\n      <th>trade_date</th>\n      <th>open</th>\n      <th>high</th>\n      <th>low</th>\n      <th>close</th>\n      <th>pre_close</th>\n      <th>change</th>\n      <th>pct_chg</th>\n      <th>vol</th>\n      <th>amount</th>\n    </tr>\n  </thead>\n  <tbody>\n    <tr>\n      <th>0</th>\n      <td>600600.SH</td>\n      <td>20180330</td>\n      <td>40.00</td>\n      <td>40.85</td>\n      <td>39.76</td>\n      <td>40.43</td>\n      <td>39.99</td>\n      <td>0.44</td>\n      <td>1.10</td>\n      <td>54695.84</td>\n      <td>221043.758</td>\n    </tr>\n    <tr>\n      <th>1</th>\n      <td>600600.SH</td>\n      <td>20180329</td>\n      <td>39.17</td>\n      <td>40.09</td>\n      <td>38.03</td>\n      <td>39.99</td>\n      <td>39.16</td>\n      <td>0.83</td>\n      <td>2.12</td>\n      <td>57586.40</td>\n      <td>225764.879</td>\n    </tr>\n    <tr>\n      <th>2</th>\n      <td>600600.SH</td>\n      <td>20180328</td>\n      <td>39.80</td>\n      <td>39.88</td>\n      <td>38.72</td>\n      <td>39.16</td>\n      <td>40.64</td>\n      <td>-1.48</td>\n      <td>-3.64</td>\n      <td>65720.36</td>\n      <td>258895.658</td>\n    </tr>\n    <tr>\n      <th>3</th>\n      <td>600600.SH</td>\n      <td>20180327</td>\n      <td>40.35</td>\n      <td>40.79</td>\n      <td>39.74</td>\n      <td>40.64</td>\n      <td>40.21</td>\n      <td>0.43</td>\n      <td>1.07</td>\n      <td>62885.52</td>\n      <td>253193.642</td>\n    </tr>\n    <tr>\n      <th>4</th>\n      <td>600600.SH</td>\n      <td>20180326</td>\n      <td>37.69</td>\n      <td>40.34</td>\n      <td>37.50</td>\n      <td>40.21</td>\n      <td>38.04</td>\n      <td>2.17</td>\n      <td>5.70</td>\n      <td>58624.39</td>\n      <td>227846.463</td>\n    </tr>\n  </tbody>\n</table>\n</div>"
     },
     "execution_count": 6,
     "metadata": {},
     "output_type": "execute_result"
    }
   ],
   "source": [
    "# 获取青岛啤酒的股价\n",
    "df2 = pro.daily(ts_code='600600.SH', start_date='20180101', end_date='20180331')\n",
    "df2.head()"
   ],
   "metadata": {
    "collapsed": false,
    "ExecuteTime": {
     "end_time": "2024-03-01T12:50:31.283584Z",
     "start_time": "2024-03-01T12:50:31.013642800Z"
    }
   },
   "id": "d7c9c8a5631380f2",
   "execution_count": 6
  },
  {
   "cell_type": "code",
   "outputs": [
    {
     "data": {
      "text/plain": "ts_code        object\ntrade_date     object\nopen          float64\nhigh          float64\nlow           float64\nclose         float64\npre_close     float64\nchange        float64\npct_chg       float64\nvol           float64\namount        float64\ndtype: object"
     },
     "execution_count": 7,
     "metadata": {},
     "output_type": "execute_result"
    }
   ],
   "source": [
    "# 查看数据对象\n",
    "df1.dtypes"
   ],
   "metadata": {
    "collapsed": false,
    "ExecuteTime": {
     "end_time": "2024-03-01T12:50:42.972858200Z",
     "start_time": "2024-03-01T12:50:42.962110500Z"
    }
   },
   "id": "81a45bb772dc727",
   "execution_count": 7
  },
  {
   "cell_type": "code",
   "outputs": [
    {
     "data": {
      "text/plain": "ts_code       string[python]\ntrade_date            object\nopen                 float64\nhigh                 float64\nlow                  float64\nclose                float64\npre_close            float64\nchange               float64\npct_chg              float64\nvol                  float64\namount               float64\ndtype: object"
     },
     "execution_count": 8,
     "metadata": {},
     "output_type": "execute_result"
    }
   ],
   "source": [
    "# ts_code转化为str\n",
    "df1.ts_code=df1.ts_code.astype('string')\n",
    "df1.dtypes"
   ],
   "metadata": {
    "collapsed": false,
    "ExecuteTime": {
     "end_time": "2024-03-01T12:51:09.715201100Z",
     "start_time": "2024-03-01T12:51:09.704670600Z"
    }
   },
   "id": "3cee79b411e4bc7e",
   "execution_count": 8
  },
  {
   "cell_type": "code",
   "outputs": [
    {
     "data": {
      "text/plain": "              ts_code trade_date   open   high    low  close  pre_close  \\\ntrade_date                                                                \n2018-01-02  600000.SH   20180102  12.61  12.77  12.60  12.72      12.59   \n2018-01-03  600000.SH   20180103  12.73  12.80  12.66  12.66      12.72   \n2018-01-04  600000.SH   20180104  12.70  12.73  12.62  12.66      12.66   \n2018-01-05  600000.SH   20180105  12.67  12.71  12.62  12.69      12.66   \n2018-01-08  600000.SH   20180108  12.69  12.71  12.63  12.68      12.69   \n\n            change  pct_chg        vol      amount  \ntrade_date                                          \n2018-01-02    0.13     1.03  313230.53  398614.966  \n2018-01-03   -0.06    -0.47  378391.01  480954.809  \n2018-01-04    0.00     0.00  278838.04  353205.838  \n2018-01-05    0.03     0.24  310267.44  393058.250  \n2018-01-08   -0.01    -0.08  313898.87  397842.209  ",
      "text/html": "<div>\n<style scoped>\n    .dataframe tbody tr th:only-of-type {\n        vertical-align: middle;\n    }\n\n    .dataframe tbody tr th {\n        vertical-align: top;\n    }\n\n    .dataframe thead th {\n        text-align: right;\n    }\n</style>\n<table border=\"1\" class=\"dataframe\">\n  <thead>\n    <tr style=\"text-align: right;\">\n      <th></th>\n      <th>ts_code</th>\n      <th>trade_date</th>\n      <th>open</th>\n      <th>high</th>\n      <th>low</th>\n      <th>close</th>\n      <th>pre_close</th>\n      <th>change</th>\n      <th>pct_chg</th>\n      <th>vol</th>\n      <th>amount</th>\n    </tr>\n    <tr>\n      <th>trade_date</th>\n      <th></th>\n      <th></th>\n      <th></th>\n      <th></th>\n      <th></th>\n      <th></th>\n      <th></th>\n      <th></th>\n      <th></th>\n      <th></th>\n      <th></th>\n    </tr>\n  </thead>\n  <tbody>\n    <tr>\n      <th>2018-01-02</th>\n      <td>600000.SH</td>\n      <td>20180102</td>\n      <td>12.61</td>\n      <td>12.77</td>\n      <td>12.60</td>\n      <td>12.72</td>\n      <td>12.59</td>\n      <td>0.13</td>\n      <td>1.03</td>\n      <td>313230.53</td>\n      <td>398614.966</td>\n    </tr>\n    <tr>\n      <th>2018-01-03</th>\n      <td>600000.SH</td>\n      <td>20180103</td>\n      <td>12.73</td>\n      <td>12.80</td>\n      <td>12.66</td>\n      <td>12.66</td>\n      <td>12.72</td>\n      <td>-0.06</td>\n      <td>-0.47</td>\n      <td>378391.01</td>\n      <td>480954.809</td>\n    </tr>\n    <tr>\n      <th>2018-01-04</th>\n      <td>600000.SH</td>\n      <td>20180104</td>\n      <td>12.70</td>\n      <td>12.73</td>\n      <td>12.62</td>\n      <td>12.66</td>\n      <td>12.66</td>\n      <td>0.00</td>\n      <td>0.00</td>\n      <td>278838.04</td>\n      <td>353205.838</td>\n    </tr>\n    <tr>\n      <th>2018-01-05</th>\n      <td>600000.SH</td>\n      <td>20180105</td>\n      <td>12.67</td>\n      <td>12.71</td>\n      <td>12.62</td>\n      <td>12.69</td>\n      <td>12.66</td>\n      <td>0.03</td>\n      <td>0.24</td>\n      <td>310267.44</td>\n      <td>393058.250</td>\n    </tr>\n    <tr>\n      <th>2018-01-08</th>\n      <td>600000.SH</td>\n      <td>20180108</td>\n      <td>12.69</td>\n      <td>12.71</td>\n      <td>12.63</td>\n      <td>12.68</td>\n      <td>12.69</td>\n      <td>-0.01</td>\n      <td>-0.08</td>\n      <td>313898.87</td>\n      <td>397842.209</td>\n    </tr>\n  </tbody>\n</table>\n</div>"
     },
     "execution_count": 9,
     "metadata": {},
     "output_type": "execute_result"
    }
   ],
   "source": [
    "# 将trade_date转换成日期格式\n",
    "df1.index=pd.to_datetime(df1.trade_date)\n",
    "# 将df进行升序排列处理\n",
    "df1=df1[::-1]\n",
    "df1.head()"
   ],
   "metadata": {
    "collapsed": false,
    "ExecuteTime": {
     "end_time": "2024-03-01T12:51:56.350609700Z",
     "start_time": "2024-03-01T12:51:56.328107500Z"
    }
   },
   "id": "29cf9ed7faf0c547",
   "execution_count": 9
  },
  {
   "cell_type": "code",
   "outputs": [
    {
     "data": {
      "text/plain": "              ts_code trade_date   open   high    low  close  pre_close  \\\ntrade_date                                                                \n2018-01-02  600000.SH   20180102  12.61  12.77  12.60  12.72      12.59   \n2018-01-03  600000.SH   20180103  12.73  12.80  12.66  12.66      12.72   \n2018-01-04  600000.SH   20180104  12.70  12.73  12.62  12.66      12.66   \n2018-01-05  600000.SH   20180105  12.67  12.71  12.62  12.69      12.66   \n2018-01-08  600000.SH   20180108  12.69  12.71  12.63  12.68      12.69   \n2018-01-09  600000.SH   20180109  12.68  12.74  12.66  12.70      12.68   \n2018-01-10  600000.SH   20180110  12.70  13.09  12.68  13.02      12.70   \n2018-01-11  600000.SH   20180111  12.95  13.04  12.87  12.94      13.02   \n2018-01-12  600000.SH   20180112  12.97  13.00  12.90  12.91      12.94   \n2018-01-15  600000.SH   20180115  12.88  13.08  12.85  13.02      12.91   \n2018-01-16  600000.SH   20180116  12.97  13.06  12.78  12.90      13.02   \n2018-01-17  600000.SH   20180117  12.91  13.42  12.89  13.10      12.90   \n2018-01-18  600000.SH   20180118  13.14  13.25  13.05  13.24      13.10   \n2018-01-19  600000.SH   20180119  13.33  13.61  13.18  13.24      13.24   \n2018-01-22  600000.SH   20180122  12.93  13.15  12.71  12.77      13.24   \n2018-01-23  600000.SH   20180123  12.75  12.92  12.68  12.90      12.77   \n2018-01-24  600000.SH   20180124  12.97  14.00  12.89  13.57      12.90   \n2018-01-25  600000.SH   20180125  13.54  13.76  13.36  13.65      13.57   \n2018-01-26  600000.SH   20180126  13.65  13.72  13.36  13.41      13.65   \n2018-01-29  600000.SH   20180129  13.48  13.53  13.32  13.46      13.41   \n2018-01-30  600000.SH   20180130  13.45  13.49  13.09  13.11      13.46   \n2018-01-31  600000.SH   20180131  13.05  13.19  12.98  13.17      13.11   \n2018-02-01  600000.SH   20180201  13.14  13.33  12.94  13.30      13.17   \n2018-02-02  600000.SH   20180202  13.19  13.19  13.01  13.14      13.30   \n2018-02-05  600000.SH   20180205  13.00  13.54  12.98  13.49      13.14   \n2018-02-06  600000.SH   20180206  13.29  13.50  13.20  13.48      13.49   \n2018-02-07  600000.SH   20180207  13.58  13.90  13.24  13.45      13.48   \n2018-02-08  600000.SH   20180208  13.34  13.40  12.95  13.10      13.45   \n2018-02-09  600000.SH   20180209  12.89  12.98  12.24  12.78      13.10   \n2018-02-12  600000.SH   20180212  12.66  12.68  12.43  12.49      12.78   \n2018-02-13  600000.SH   20180213  12.55  12.68  12.50  12.51      12.49   \n2018-02-14  600000.SH   20180214  12.50  12.55  12.38  12.46      12.51   \n2018-02-22  600000.SH   20180222  12.60  12.68  12.53  12.63      12.46   \n2018-02-23  600000.SH   20180223  12.66  12.78  12.59  12.72      12.63   \n2018-02-26  600000.SH   20180226  12.77  12.84  12.61  12.73      12.72   \n2018-02-27  600000.SH   20180227  12.75  12.76  12.61  12.69      12.73   \n2018-02-28  600000.SH   20180228  12.61  12.66  12.44  12.46      12.69   \n2018-03-01  600000.SH   20180301  12.40  12.50  12.38  12.47      12.46   \n2018-03-02  600000.SH   20180302  12.40  12.46  12.36  12.41      12.47   \n2018-03-05  600000.SH   20180305  12.41  12.48  12.34  12.42      12.41   \n2018-03-06  600000.SH   20180306  12.48  12.51  12.38  12.49      12.42   \n2018-03-07  600000.SH   20180307  12.51  12.60  12.46  12.49      12.49   \n2018-03-08  600000.SH   20180308  12.55  12.55  12.40  12.47      12.49   \n2018-03-09  600000.SH   20180309  12.49  12.51  12.42  12.48      12.47   \n2018-03-12  600000.SH   20180312  12.53  12.54  12.46  12.50      12.48   \n2018-03-13  600000.SH   20180313  12.50  12.58  12.43  12.49      12.50   \n2018-03-14  600000.SH   20180314  12.45  12.45  12.38  12.39      12.49   \n2018-03-15  600000.SH   20180315  12.35  12.41  12.34  12.39      12.39   \n2018-03-16  600000.SH   20180316  12.36  12.40  12.30  12.30      12.39   \n2018-03-19  600000.SH   20180319  12.31  12.33  12.26  12.31      12.30   \n2018-03-20  600000.SH   20180320  12.28  12.39  12.25  12.32      12.31   \n2018-03-21  600000.SH   20180321  12.34  12.40  12.28  12.29      12.32   \n2018-03-22  600000.SH   20180322  12.35  12.35  12.25  12.25      12.29   \n2018-03-23  600000.SH   20180323  12.00  12.06  11.64  11.71      12.25   \n2018-03-26  600000.SH   20180326  11.71  11.75  11.50  11.61      11.71   \n2018-03-27  600000.SH   20180327  11.70  11.77  11.56  11.62      11.61   \n2018-03-28  600000.SH   20180328  11.53  11.75  11.52  11.57      11.62   \n2018-03-29  600000.SH   20180329  11.57  11.71  11.45  11.62      11.57   \n2018-03-30  600000.SH   20180330  11.63  11.69  11.61  11.65      11.62   \n\n            change  pct_chg         vol       amount  \ntrade_date                                            \n2018-01-02    0.13     1.03   313230.53   398614.966  \n2018-01-03   -0.06    -0.47   378391.01   480954.809  \n2018-01-04    0.00     0.00   278838.04   353205.838  \n2018-01-05    0.03     0.24   310267.44   393058.250  \n2018-01-08   -0.01    -0.08   313898.87   397842.209  \n2018-01-09    0.02     0.16   262154.32   332848.333  \n2018-01-10    0.32     2.52   906799.90  1174202.006  \n2018-01-11   -0.08    -0.61   378164.12   489588.906  \n2018-01-12   -0.03    -0.23   242034.19   313215.088  \n2018-01-15    0.11     0.85   613206.80   796861.091  \n2018-01-16   -0.12    -0.92   748926.52   963701.144  \n2018-01-17    0.20     1.55  1271328.13  1675235.171  \n2018-01-18    0.14     1.07  1116080.76  1465159.094  \n2018-01-19    0.00     0.00  1716488.71  2300220.633  \n2018-01-22   -0.47    -3.55  2725138.01  3514775.144  \n2018-01-23    0.13     1.02  2178274.57  2791828.653  \n2018-01-24    0.67     5.19  3796536.29  5099364.114  \n2018-01-25    0.08     0.59  1769896.31  2400208.784  \n2018-01-26   -0.24    -1.76  2184196.85  2954019.925  \n2018-01-29    0.05     0.37  1537831.04  2065139.247  \n2018-01-30   -0.35    -2.60  1078040.18  1429924.976  \n2018-01-31    0.06     0.46  1177032.64  1541960.901  \n2018-02-01    0.13     0.99  1735733.31  2289044.601  \n2018-02-02   -0.16    -1.20   717967.80   941467.191  \n2018-02-05    0.35     2.66  1501496.57  2006361.757  \n2018-02-06   -0.01    -0.07  2443589.92  3270199.180  \n2018-02-07   -0.03    -0.22  2007701.15  2720519.687  \n2018-02-08   -0.35    -2.60  1094268.72  1438198.801  \n2018-02-09   -0.32    -2.44  1492573.56  1877264.356  \n2018-02-12   -0.29    -2.27   647991.97   811027.710  \n2018-02-13    0.02     0.16   549002.14   690054.113  \n2018-02-14   -0.05    -0.40   325978.11   406060.202  \n2018-02-22    0.17     1.36   420122.85   529856.471  \n2018-02-23    0.09     0.71   387365.15   491768.409  \n2018-02-26    0.01     0.08   488060.55   620261.080  \n2018-02-27   -0.04    -0.31   485610.87   615622.149  \n2018-02-28   -0.23    -1.81   398889.38   499258.844  \n2018-03-01    0.01     0.08   344910.31   429574.072  \n2018-03-02   -0.06    -0.48   230241.32   285473.130  \n2018-03-05    0.01     0.08   293434.64   363849.705  \n2018-03-06    0.07     0.56   272226.68   339015.159  \n2018-03-07    0.00     0.00   388175.75   487036.820  \n2018-03-08   -0.02    -0.16   221641.32   276013.913  \n2018-03-09    0.01     0.08   235582.87   293550.899  \n2018-03-12    0.02     0.16   251618.21   314544.074  \n2018-03-13   -0.01    -0.08   251450.00   314545.358  \n2018-03-14   -0.10    -0.80   228046.03   282970.086  \n2018-03-15    0.00     0.00   172877.74   213972.089  \n2018-03-16   -0.09    -0.73   267813.99   330778.426  \n2018-03-19    0.01     0.08   168960.48   207819.310  \n2018-03-20    0.01     0.08   206722.83   254187.843  \n2018-03-21   -0.03    -0.24   238784.65   294872.209  \n2018-03-22   -0.04    -0.33   229484.84   281975.042  \n2018-03-23   -0.54    -4.41   571063.91   676679.666  \n2018-03-26   -0.10    -0.85   364250.54   422233.460  \n2018-03-27    0.01     0.09   273328.09   318586.664  \n2018-03-28   -0.05    -0.43   229112.82   266121.467  \n2018-03-29    0.05     0.43   331088.05   383064.999  \n2018-03-30    0.03     0.26   232719.65   270987.701  ",
      "text/html": "<div>\n<style scoped>\n    .dataframe tbody tr th:only-of-type {\n        vertical-align: middle;\n    }\n\n    .dataframe tbody tr th {\n        vertical-align: top;\n    }\n\n    .dataframe thead th {\n        text-align: right;\n    }\n</style>\n<table border=\"1\" class=\"dataframe\">\n  <thead>\n    <tr style=\"text-align: right;\">\n      <th></th>\n      <th>ts_code</th>\n      <th>trade_date</th>\n      <th>open</th>\n      <th>high</th>\n      <th>low</th>\n      <th>close</th>\n      <th>pre_close</th>\n      <th>change</th>\n      <th>pct_chg</th>\n      <th>vol</th>\n      <th>amount</th>\n    </tr>\n    <tr>\n      <th>trade_date</th>\n      <th></th>\n      <th></th>\n      <th></th>\n      <th></th>\n      <th></th>\n      <th></th>\n      <th></th>\n      <th></th>\n      <th></th>\n      <th></th>\n      <th></th>\n    </tr>\n  </thead>\n  <tbody>\n    <tr>\n      <th>2018-01-02</th>\n      <td>600000.SH</td>\n      <td>20180102</td>\n      <td>12.61</td>\n      <td>12.77</td>\n      <td>12.60</td>\n      <td>12.72</td>\n      <td>12.59</td>\n      <td>0.13</td>\n      <td>1.03</td>\n      <td>313230.53</td>\n      <td>398614.966</td>\n    </tr>\n    <tr>\n      <th>2018-01-03</th>\n      <td>600000.SH</td>\n      <td>20180103</td>\n      <td>12.73</td>\n      <td>12.80</td>\n      <td>12.66</td>\n      <td>12.66</td>\n      <td>12.72</td>\n      <td>-0.06</td>\n      <td>-0.47</td>\n      <td>378391.01</td>\n      <td>480954.809</td>\n    </tr>\n    <tr>\n      <th>2018-01-04</th>\n      <td>600000.SH</td>\n      <td>20180104</td>\n      <td>12.70</td>\n      <td>12.73</td>\n      <td>12.62</td>\n      <td>12.66</td>\n      <td>12.66</td>\n      <td>0.00</td>\n      <td>0.00</td>\n      <td>278838.04</td>\n      <td>353205.838</td>\n    </tr>\n    <tr>\n      <th>2018-01-05</th>\n      <td>600000.SH</td>\n      <td>20180105</td>\n      <td>12.67</td>\n      <td>12.71</td>\n      <td>12.62</td>\n      <td>12.69</td>\n      <td>12.66</td>\n      <td>0.03</td>\n      <td>0.24</td>\n      <td>310267.44</td>\n      <td>393058.250</td>\n    </tr>\n    <tr>\n      <th>2018-01-08</th>\n      <td>600000.SH</td>\n      <td>20180108</td>\n      <td>12.69</td>\n      <td>12.71</td>\n      <td>12.63</td>\n      <td>12.68</td>\n      <td>12.69</td>\n      <td>-0.01</td>\n      <td>-0.08</td>\n      <td>313898.87</td>\n      <td>397842.209</td>\n    </tr>\n    <tr>\n      <th>2018-01-09</th>\n      <td>600000.SH</td>\n      <td>20180109</td>\n      <td>12.68</td>\n      <td>12.74</td>\n      <td>12.66</td>\n      <td>12.70</td>\n      <td>12.68</td>\n      <td>0.02</td>\n      <td>0.16</td>\n      <td>262154.32</td>\n      <td>332848.333</td>\n    </tr>\n    <tr>\n      <th>2018-01-10</th>\n      <td>600000.SH</td>\n      <td>20180110</td>\n      <td>12.70</td>\n      <td>13.09</td>\n      <td>12.68</td>\n      <td>13.02</td>\n      <td>12.70</td>\n      <td>0.32</td>\n      <td>2.52</td>\n      <td>906799.90</td>\n      <td>1174202.006</td>\n    </tr>\n    <tr>\n      <th>2018-01-11</th>\n      <td>600000.SH</td>\n      <td>20180111</td>\n      <td>12.95</td>\n      <td>13.04</td>\n      <td>12.87</td>\n      <td>12.94</td>\n      <td>13.02</td>\n      <td>-0.08</td>\n      <td>-0.61</td>\n      <td>378164.12</td>\n      <td>489588.906</td>\n    </tr>\n    <tr>\n      <th>2018-01-12</th>\n      <td>600000.SH</td>\n      <td>20180112</td>\n      <td>12.97</td>\n      <td>13.00</td>\n      <td>12.90</td>\n      <td>12.91</td>\n      <td>12.94</td>\n      <td>-0.03</td>\n      <td>-0.23</td>\n      <td>242034.19</td>\n      <td>313215.088</td>\n    </tr>\n    <tr>\n      <th>2018-01-15</th>\n      <td>600000.SH</td>\n      <td>20180115</td>\n      <td>12.88</td>\n      <td>13.08</td>\n      <td>12.85</td>\n      <td>13.02</td>\n      <td>12.91</td>\n      <td>0.11</td>\n      <td>0.85</td>\n      <td>613206.80</td>\n      <td>796861.091</td>\n    </tr>\n    <tr>\n      <th>2018-01-16</th>\n      <td>600000.SH</td>\n      <td>20180116</td>\n      <td>12.97</td>\n      <td>13.06</td>\n      <td>12.78</td>\n      <td>12.90</td>\n      <td>13.02</td>\n      <td>-0.12</td>\n      <td>-0.92</td>\n      <td>748926.52</td>\n      <td>963701.144</td>\n    </tr>\n    <tr>\n      <th>2018-01-17</th>\n      <td>600000.SH</td>\n      <td>20180117</td>\n      <td>12.91</td>\n      <td>13.42</td>\n      <td>12.89</td>\n      <td>13.10</td>\n      <td>12.90</td>\n      <td>0.20</td>\n      <td>1.55</td>\n      <td>1271328.13</td>\n      <td>1675235.171</td>\n    </tr>\n    <tr>\n      <th>2018-01-18</th>\n      <td>600000.SH</td>\n      <td>20180118</td>\n      <td>13.14</td>\n      <td>13.25</td>\n      <td>13.05</td>\n      <td>13.24</td>\n      <td>13.10</td>\n      <td>0.14</td>\n      <td>1.07</td>\n      <td>1116080.76</td>\n      <td>1465159.094</td>\n    </tr>\n    <tr>\n      <th>2018-01-19</th>\n      <td>600000.SH</td>\n      <td>20180119</td>\n      <td>13.33</td>\n      <td>13.61</td>\n      <td>13.18</td>\n      <td>13.24</td>\n      <td>13.24</td>\n      <td>0.00</td>\n      <td>0.00</td>\n      <td>1716488.71</td>\n      <td>2300220.633</td>\n    </tr>\n    <tr>\n      <th>2018-01-22</th>\n      <td>600000.SH</td>\n      <td>20180122</td>\n      <td>12.93</td>\n      <td>13.15</td>\n      <td>12.71</td>\n      <td>12.77</td>\n      <td>13.24</td>\n      <td>-0.47</td>\n      <td>-3.55</td>\n      <td>2725138.01</td>\n      <td>3514775.144</td>\n    </tr>\n    <tr>\n      <th>2018-01-23</th>\n      <td>600000.SH</td>\n      <td>20180123</td>\n      <td>12.75</td>\n      <td>12.92</td>\n      <td>12.68</td>\n      <td>12.90</td>\n      <td>12.77</td>\n      <td>0.13</td>\n      <td>1.02</td>\n      <td>2178274.57</td>\n      <td>2791828.653</td>\n    </tr>\n    <tr>\n      <th>2018-01-24</th>\n      <td>600000.SH</td>\n      <td>20180124</td>\n      <td>12.97</td>\n      <td>14.00</td>\n      <td>12.89</td>\n      <td>13.57</td>\n      <td>12.90</td>\n      <td>0.67</td>\n      <td>5.19</td>\n      <td>3796536.29</td>\n      <td>5099364.114</td>\n    </tr>\n    <tr>\n      <th>2018-01-25</th>\n      <td>600000.SH</td>\n      <td>20180125</td>\n      <td>13.54</td>\n      <td>13.76</td>\n      <td>13.36</td>\n      <td>13.65</td>\n      <td>13.57</td>\n      <td>0.08</td>\n      <td>0.59</td>\n      <td>1769896.31</td>\n      <td>2400208.784</td>\n    </tr>\n    <tr>\n      <th>2018-01-26</th>\n      <td>600000.SH</td>\n      <td>20180126</td>\n      <td>13.65</td>\n      <td>13.72</td>\n      <td>13.36</td>\n      <td>13.41</td>\n      <td>13.65</td>\n      <td>-0.24</td>\n      <td>-1.76</td>\n      <td>2184196.85</td>\n      <td>2954019.925</td>\n    </tr>\n    <tr>\n      <th>2018-01-29</th>\n      <td>600000.SH</td>\n      <td>20180129</td>\n      <td>13.48</td>\n      <td>13.53</td>\n      <td>13.32</td>\n      <td>13.46</td>\n      <td>13.41</td>\n      <td>0.05</td>\n      <td>0.37</td>\n      <td>1537831.04</td>\n      <td>2065139.247</td>\n    </tr>\n    <tr>\n      <th>2018-01-30</th>\n      <td>600000.SH</td>\n      <td>20180130</td>\n      <td>13.45</td>\n      <td>13.49</td>\n      <td>13.09</td>\n      <td>13.11</td>\n      <td>13.46</td>\n      <td>-0.35</td>\n      <td>-2.60</td>\n      <td>1078040.18</td>\n      <td>1429924.976</td>\n    </tr>\n    <tr>\n      <th>2018-01-31</th>\n      <td>600000.SH</td>\n      <td>20180131</td>\n      <td>13.05</td>\n      <td>13.19</td>\n      <td>12.98</td>\n      <td>13.17</td>\n      <td>13.11</td>\n      <td>0.06</td>\n      <td>0.46</td>\n      <td>1177032.64</td>\n      <td>1541960.901</td>\n    </tr>\n    <tr>\n      <th>2018-02-01</th>\n      <td>600000.SH</td>\n      <td>20180201</td>\n      <td>13.14</td>\n      <td>13.33</td>\n      <td>12.94</td>\n      <td>13.30</td>\n      <td>13.17</td>\n      <td>0.13</td>\n      <td>0.99</td>\n      <td>1735733.31</td>\n      <td>2289044.601</td>\n    </tr>\n    <tr>\n      <th>2018-02-02</th>\n      <td>600000.SH</td>\n      <td>20180202</td>\n      <td>13.19</td>\n      <td>13.19</td>\n      <td>13.01</td>\n      <td>13.14</td>\n      <td>13.30</td>\n      <td>-0.16</td>\n      <td>-1.20</td>\n      <td>717967.80</td>\n      <td>941467.191</td>\n    </tr>\n    <tr>\n      <th>2018-02-05</th>\n      <td>600000.SH</td>\n      <td>20180205</td>\n      <td>13.00</td>\n      <td>13.54</td>\n      <td>12.98</td>\n      <td>13.49</td>\n      <td>13.14</td>\n      <td>0.35</td>\n      <td>2.66</td>\n      <td>1501496.57</td>\n      <td>2006361.757</td>\n    </tr>\n    <tr>\n      <th>2018-02-06</th>\n      <td>600000.SH</td>\n      <td>20180206</td>\n      <td>13.29</td>\n      <td>13.50</td>\n      <td>13.20</td>\n      <td>13.48</td>\n      <td>13.49</td>\n      <td>-0.01</td>\n      <td>-0.07</td>\n      <td>2443589.92</td>\n      <td>3270199.180</td>\n    </tr>\n    <tr>\n      <th>2018-02-07</th>\n      <td>600000.SH</td>\n      <td>20180207</td>\n      <td>13.58</td>\n      <td>13.90</td>\n      <td>13.24</td>\n      <td>13.45</td>\n      <td>13.48</td>\n      <td>-0.03</td>\n      <td>-0.22</td>\n      <td>2007701.15</td>\n      <td>2720519.687</td>\n    </tr>\n    <tr>\n      <th>2018-02-08</th>\n      <td>600000.SH</td>\n      <td>20180208</td>\n      <td>13.34</td>\n      <td>13.40</td>\n      <td>12.95</td>\n      <td>13.10</td>\n      <td>13.45</td>\n      <td>-0.35</td>\n      <td>-2.60</td>\n      <td>1094268.72</td>\n      <td>1438198.801</td>\n    </tr>\n    <tr>\n      <th>2018-02-09</th>\n      <td>600000.SH</td>\n      <td>20180209</td>\n      <td>12.89</td>\n      <td>12.98</td>\n      <td>12.24</td>\n      <td>12.78</td>\n      <td>13.10</td>\n      <td>-0.32</td>\n      <td>-2.44</td>\n      <td>1492573.56</td>\n      <td>1877264.356</td>\n    </tr>\n    <tr>\n      <th>2018-02-12</th>\n      <td>600000.SH</td>\n      <td>20180212</td>\n      <td>12.66</td>\n      <td>12.68</td>\n      <td>12.43</td>\n      <td>12.49</td>\n      <td>12.78</td>\n      <td>-0.29</td>\n      <td>-2.27</td>\n      <td>647991.97</td>\n      <td>811027.710</td>\n    </tr>\n    <tr>\n      <th>2018-02-13</th>\n      <td>600000.SH</td>\n      <td>20180213</td>\n      <td>12.55</td>\n      <td>12.68</td>\n      <td>12.50</td>\n      <td>12.51</td>\n      <td>12.49</td>\n      <td>0.02</td>\n      <td>0.16</td>\n      <td>549002.14</td>\n      <td>690054.113</td>\n    </tr>\n    <tr>\n      <th>2018-02-14</th>\n      <td>600000.SH</td>\n      <td>20180214</td>\n      <td>12.50</td>\n      <td>12.55</td>\n      <td>12.38</td>\n      <td>12.46</td>\n      <td>12.51</td>\n      <td>-0.05</td>\n      <td>-0.40</td>\n      <td>325978.11</td>\n      <td>406060.202</td>\n    </tr>\n    <tr>\n      <th>2018-02-22</th>\n      <td>600000.SH</td>\n      <td>20180222</td>\n      <td>12.60</td>\n      <td>12.68</td>\n      <td>12.53</td>\n      <td>12.63</td>\n      <td>12.46</td>\n      <td>0.17</td>\n      <td>1.36</td>\n      <td>420122.85</td>\n      <td>529856.471</td>\n    </tr>\n    <tr>\n      <th>2018-02-23</th>\n      <td>600000.SH</td>\n      <td>20180223</td>\n      <td>12.66</td>\n      <td>12.78</td>\n      <td>12.59</td>\n      <td>12.72</td>\n      <td>12.63</td>\n      <td>0.09</td>\n      <td>0.71</td>\n      <td>387365.15</td>\n      <td>491768.409</td>\n    </tr>\n    <tr>\n      <th>2018-02-26</th>\n      <td>600000.SH</td>\n      <td>20180226</td>\n      <td>12.77</td>\n      <td>12.84</td>\n      <td>12.61</td>\n      <td>12.73</td>\n      <td>12.72</td>\n      <td>0.01</td>\n      <td>0.08</td>\n      <td>488060.55</td>\n      <td>620261.080</td>\n    </tr>\n    <tr>\n      <th>2018-02-27</th>\n      <td>600000.SH</td>\n      <td>20180227</td>\n      <td>12.75</td>\n      <td>12.76</td>\n      <td>12.61</td>\n      <td>12.69</td>\n      <td>12.73</td>\n      <td>-0.04</td>\n      <td>-0.31</td>\n      <td>485610.87</td>\n      <td>615622.149</td>\n    </tr>\n    <tr>\n      <th>2018-02-28</th>\n      <td>600000.SH</td>\n      <td>20180228</td>\n      <td>12.61</td>\n      <td>12.66</td>\n      <td>12.44</td>\n      <td>12.46</td>\n      <td>12.69</td>\n      <td>-0.23</td>\n      <td>-1.81</td>\n      <td>398889.38</td>\n      <td>499258.844</td>\n    </tr>\n    <tr>\n      <th>2018-03-01</th>\n      <td>600000.SH</td>\n      <td>20180301</td>\n      <td>12.40</td>\n      <td>12.50</td>\n      <td>12.38</td>\n      <td>12.47</td>\n      <td>12.46</td>\n      <td>0.01</td>\n      <td>0.08</td>\n      <td>344910.31</td>\n      <td>429574.072</td>\n    </tr>\n    <tr>\n      <th>2018-03-02</th>\n      <td>600000.SH</td>\n      <td>20180302</td>\n      <td>12.40</td>\n      <td>12.46</td>\n      <td>12.36</td>\n      <td>12.41</td>\n      <td>12.47</td>\n      <td>-0.06</td>\n      <td>-0.48</td>\n      <td>230241.32</td>\n      <td>285473.130</td>\n    </tr>\n    <tr>\n      <th>2018-03-05</th>\n      <td>600000.SH</td>\n      <td>20180305</td>\n      <td>12.41</td>\n      <td>12.48</td>\n      <td>12.34</td>\n      <td>12.42</td>\n      <td>12.41</td>\n      <td>0.01</td>\n      <td>0.08</td>\n      <td>293434.64</td>\n      <td>363849.705</td>\n    </tr>\n    <tr>\n      <th>2018-03-06</th>\n      <td>600000.SH</td>\n      <td>20180306</td>\n      <td>12.48</td>\n      <td>12.51</td>\n      <td>12.38</td>\n      <td>12.49</td>\n      <td>12.42</td>\n      <td>0.07</td>\n      <td>0.56</td>\n      <td>272226.68</td>\n      <td>339015.159</td>\n    </tr>\n    <tr>\n      <th>2018-03-07</th>\n      <td>600000.SH</td>\n      <td>20180307</td>\n      <td>12.51</td>\n      <td>12.60</td>\n      <td>12.46</td>\n      <td>12.49</td>\n      <td>12.49</td>\n      <td>0.00</td>\n      <td>0.00</td>\n      <td>388175.75</td>\n      <td>487036.820</td>\n    </tr>\n    <tr>\n      <th>2018-03-08</th>\n      <td>600000.SH</td>\n      <td>20180308</td>\n      <td>12.55</td>\n      <td>12.55</td>\n      <td>12.40</td>\n      <td>12.47</td>\n      <td>12.49</td>\n      <td>-0.02</td>\n      <td>-0.16</td>\n      <td>221641.32</td>\n      <td>276013.913</td>\n    </tr>\n    <tr>\n      <th>2018-03-09</th>\n      <td>600000.SH</td>\n      <td>20180309</td>\n      <td>12.49</td>\n      <td>12.51</td>\n      <td>12.42</td>\n      <td>12.48</td>\n      <td>12.47</td>\n      <td>0.01</td>\n      <td>0.08</td>\n      <td>235582.87</td>\n      <td>293550.899</td>\n    </tr>\n    <tr>\n      <th>2018-03-12</th>\n      <td>600000.SH</td>\n      <td>20180312</td>\n      <td>12.53</td>\n      <td>12.54</td>\n      <td>12.46</td>\n      <td>12.50</td>\n      <td>12.48</td>\n      <td>0.02</td>\n      <td>0.16</td>\n      <td>251618.21</td>\n      <td>314544.074</td>\n    </tr>\n    <tr>\n      <th>2018-03-13</th>\n      <td>600000.SH</td>\n      <td>20180313</td>\n      <td>12.50</td>\n      <td>12.58</td>\n      <td>12.43</td>\n      <td>12.49</td>\n      <td>12.50</td>\n      <td>-0.01</td>\n      <td>-0.08</td>\n      <td>251450.00</td>\n      <td>314545.358</td>\n    </tr>\n    <tr>\n      <th>2018-03-14</th>\n      <td>600000.SH</td>\n      <td>20180314</td>\n      <td>12.45</td>\n      <td>12.45</td>\n      <td>12.38</td>\n      <td>12.39</td>\n      <td>12.49</td>\n      <td>-0.10</td>\n      <td>-0.80</td>\n      <td>228046.03</td>\n      <td>282970.086</td>\n    </tr>\n    <tr>\n      <th>2018-03-15</th>\n      <td>600000.SH</td>\n      <td>20180315</td>\n      <td>12.35</td>\n      <td>12.41</td>\n      <td>12.34</td>\n      <td>12.39</td>\n      <td>12.39</td>\n      <td>0.00</td>\n      <td>0.00</td>\n      <td>172877.74</td>\n      <td>213972.089</td>\n    </tr>\n    <tr>\n      <th>2018-03-16</th>\n      <td>600000.SH</td>\n      <td>20180316</td>\n      <td>12.36</td>\n      <td>12.40</td>\n      <td>12.30</td>\n      <td>12.30</td>\n      <td>12.39</td>\n      <td>-0.09</td>\n      <td>-0.73</td>\n      <td>267813.99</td>\n      <td>330778.426</td>\n    </tr>\n    <tr>\n      <th>2018-03-19</th>\n      <td>600000.SH</td>\n      <td>20180319</td>\n      <td>12.31</td>\n      <td>12.33</td>\n      <td>12.26</td>\n      <td>12.31</td>\n      <td>12.30</td>\n      <td>0.01</td>\n      <td>0.08</td>\n      <td>168960.48</td>\n      <td>207819.310</td>\n    </tr>\n    <tr>\n      <th>2018-03-20</th>\n      <td>600000.SH</td>\n      <td>20180320</td>\n      <td>12.28</td>\n      <td>12.39</td>\n      <td>12.25</td>\n      <td>12.32</td>\n      <td>12.31</td>\n      <td>0.01</td>\n      <td>0.08</td>\n      <td>206722.83</td>\n      <td>254187.843</td>\n    </tr>\n    <tr>\n      <th>2018-03-21</th>\n      <td>600000.SH</td>\n      <td>20180321</td>\n      <td>12.34</td>\n      <td>12.40</td>\n      <td>12.28</td>\n      <td>12.29</td>\n      <td>12.32</td>\n      <td>-0.03</td>\n      <td>-0.24</td>\n      <td>238784.65</td>\n      <td>294872.209</td>\n    </tr>\n    <tr>\n      <th>2018-03-22</th>\n      <td>600000.SH</td>\n      <td>20180322</td>\n      <td>12.35</td>\n      <td>12.35</td>\n      <td>12.25</td>\n      <td>12.25</td>\n      <td>12.29</td>\n      <td>-0.04</td>\n      <td>-0.33</td>\n      <td>229484.84</td>\n      <td>281975.042</td>\n    </tr>\n    <tr>\n      <th>2018-03-23</th>\n      <td>600000.SH</td>\n      <td>20180323</td>\n      <td>12.00</td>\n      <td>12.06</td>\n      <td>11.64</td>\n      <td>11.71</td>\n      <td>12.25</td>\n      <td>-0.54</td>\n      <td>-4.41</td>\n      <td>571063.91</td>\n      <td>676679.666</td>\n    </tr>\n    <tr>\n      <th>2018-03-26</th>\n      <td>600000.SH</td>\n      <td>20180326</td>\n      <td>11.71</td>\n      <td>11.75</td>\n      <td>11.50</td>\n      <td>11.61</td>\n      <td>11.71</td>\n      <td>-0.10</td>\n      <td>-0.85</td>\n      <td>364250.54</td>\n      <td>422233.460</td>\n    </tr>\n    <tr>\n      <th>2018-03-27</th>\n      <td>600000.SH</td>\n      <td>20180327</td>\n      <td>11.70</td>\n      <td>11.77</td>\n      <td>11.56</td>\n      <td>11.62</td>\n      <td>11.61</td>\n      <td>0.01</td>\n      <td>0.09</td>\n      <td>273328.09</td>\n      <td>318586.664</td>\n    </tr>\n    <tr>\n      <th>2018-03-28</th>\n      <td>600000.SH</td>\n      <td>20180328</td>\n      <td>11.53</td>\n      <td>11.75</td>\n      <td>11.52</td>\n      <td>11.57</td>\n      <td>11.62</td>\n      <td>-0.05</td>\n      <td>-0.43</td>\n      <td>229112.82</td>\n      <td>266121.467</td>\n    </tr>\n    <tr>\n      <th>2018-03-29</th>\n      <td>600000.SH</td>\n      <td>20180329</td>\n      <td>11.57</td>\n      <td>11.71</td>\n      <td>11.45</td>\n      <td>11.62</td>\n      <td>11.57</td>\n      <td>0.05</td>\n      <td>0.43</td>\n      <td>331088.05</td>\n      <td>383064.999</td>\n    </tr>\n    <tr>\n      <th>2018-03-30</th>\n      <td>600000.SH</td>\n      <td>20180330</td>\n      <td>11.63</td>\n      <td>11.69</td>\n      <td>11.61</td>\n      <td>11.65</td>\n      <td>11.62</td>\n      <td>0.03</td>\n      <td>0.26</td>\n      <td>232719.65</td>\n      <td>270987.701</td>\n    </tr>\n  </tbody>\n</table>\n</div>"
     },
     "execution_count": 10,
     "metadata": {},
     "output_type": "execute_result"
    }
   ],
   "source": [
    "df1.sort_index()"
   ],
   "metadata": {
    "collapsed": false,
    "ExecuteTime": {
     "end_time": "2024-03-01T12:52:26.400546900Z",
     "start_time": "2024-03-01T12:52:26.375114600Z"
    }
   },
   "id": "ba3b2104120de41a",
   "execution_count": 10
  },
  {
   "cell_type": "code",
   "outputs": [
    {
     "data": {
      "text/plain": "DatetimeIndex(['2018-01-02', '2018-01-03', '2018-01-04', '2018-01-05',\n               '2018-01-08'],\n              dtype='datetime64[ns]', name='trade_date', freq=None)"
     },
     "execution_count": 11,
     "metadata": {},
     "output_type": "execute_result"
    }
   ],
   "source": [
    "df1.index[0:5]"
   ],
   "metadata": {
    "collapsed": false,
    "ExecuteTime": {
     "end_time": "2024-03-01T12:53:16.982315400Z",
     "start_time": "2024-03-01T12:53:16.962529400Z"
    }
   },
   "id": "541014577f87c8a9",
   "execution_count": 11
  },
  {
   "cell_type": "code",
   "outputs": [
    {
     "data": {
      "text/plain": "              ts_code trade_date   open   high    low  close  pre_close  \\\ntrade_date                                                                \n2018-01-02  600000.SH   20180102  12.61  12.77  12.60  12.72      12.59   \n2018-01-03  600000.SH   20180102  12.61  12.77  12.60  12.72      12.59   \n2018-01-04  600000.SH   20180104  12.70  12.73  12.62  12.66      12.66   \n2018-01-05  600000.SH   20180105  12.67  12.71  12.62  12.69      12.66   \n2018-01-08  600000.SH   20180108  12.69  12.71  12.63  12.68      12.69   \n\n            change  pct_chg        vol      amount  \ntrade_date                                          \n2018-01-02    0.13     1.03  313230.53  398614.966  \n2018-01-03    0.13     1.03  313230.53  398614.966  \n2018-01-04    0.00     0.00  278838.04  353205.838  \n2018-01-05    0.03     0.24  310267.44  393058.250  \n2018-01-08   -0.01    -0.08  313898.87  397842.209  ",
      "text/html": "<div>\n<style scoped>\n    .dataframe tbody tr th:only-of-type {\n        vertical-align: middle;\n    }\n\n    .dataframe tbody tr th {\n        vertical-align: top;\n    }\n\n    .dataframe thead th {\n        text-align: right;\n    }\n</style>\n<table border=\"1\" class=\"dataframe\">\n  <thead>\n    <tr style=\"text-align: right;\">\n      <th></th>\n      <th>ts_code</th>\n      <th>trade_date</th>\n      <th>open</th>\n      <th>high</th>\n      <th>low</th>\n      <th>close</th>\n      <th>pre_close</th>\n      <th>change</th>\n      <th>pct_chg</th>\n      <th>vol</th>\n      <th>amount</th>\n    </tr>\n    <tr>\n      <th>trade_date</th>\n      <th></th>\n      <th></th>\n      <th></th>\n      <th></th>\n      <th></th>\n      <th></th>\n      <th></th>\n      <th></th>\n      <th></th>\n      <th></th>\n      <th></th>\n    </tr>\n  </thead>\n  <tbody>\n    <tr>\n      <th>2018-01-02</th>\n      <td>600000.SH</td>\n      <td>20180102</td>\n      <td>12.61</td>\n      <td>12.77</td>\n      <td>12.60</td>\n      <td>12.72</td>\n      <td>12.59</td>\n      <td>0.13</td>\n      <td>1.03</td>\n      <td>313230.53</td>\n      <td>398614.966</td>\n    </tr>\n    <tr>\n      <th>2018-01-03</th>\n      <td>600000.SH</td>\n      <td>20180102</td>\n      <td>12.61</td>\n      <td>12.77</td>\n      <td>12.60</td>\n      <td>12.72</td>\n      <td>12.59</td>\n      <td>0.13</td>\n      <td>1.03</td>\n      <td>313230.53</td>\n      <td>398614.966</td>\n    </tr>\n    <tr>\n      <th>2018-01-04</th>\n      <td>600000.SH</td>\n      <td>20180104</td>\n      <td>12.70</td>\n      <td>12.73</td>\n      <td>12.62</td>\n      <td>12.66</td>\n      <td>12.66</td>\n      <td>0.00</td>\n      <td>0.00</td>\n      <td>278838.04</td>\n      <td>353205.838</td>\n    </tr>\n    <tr>\n      <th>2018-01-05</th>\n      <td>600000.SH</td>\n      <td>20180105</td>\n      <td>12.67</td>\n      <td>12.71</td>\n      <td>12.62</td>\n      <td>12.69</td>\n      <td>12.66</td>\n      <td>0.03</td>\n      <td>0.24</td>\n      <td>310267.44</td>\n      <td>393058.250</td>\n    </tr>\n    <tr>\n      <th>2018-01-08</th>\n      <td>600000.SH</td>\n      <td>20180108</td>\n      <td>12.69</td>\n      <td>12.71</td>\n      <td>12.63</td>\n      <td>12.68</td>\n      <td>12.69</td>\n      <td>-0.01</td>\n      <td>-0.08</td>\n      <td>313898.87</td>\n      <td>397842.209</td>\n    </tr>\n  </tbody>\n</table>\n</div>"
     },
     "execution_count": 12,
     "metadata": {},
     "output_type": "execute_result"
    }
   ],
   "source": [
    "# 设置重复项\n",
    "df1.iloc[1,:]=df1.iloc[0,:]\n",
    "df1.head()"
   ],
   "metadata": {
    "collapsed": false,
    "ExecuteTime": {
     "end_time": "2024-03-01T12:53:36.327037Z",
     "start_time": "2024-03-01T12:53:36.307030500Z"
    }
   },
   "id": "9a11ddf376eb03c5",
   "execution_count": 12
  },
  {
   "cell_type": "code",
   "outputs": [
    {
     "data": {
      "text/plain": "              ts_code trade_date   open   high    low  close  pre_close  \\\ntrade_date                                                                \n2018-01-03  600000.SH   20180102  12.61  12.77  12.60  12.72      12.59   \n2018-01-04  600000.SH   20180104  12.70  12.73  12.62  12.66      12.66   \n2018-01-05  600000.SH   20180105  12.67  12.71  12.62  12.69      12.66   \n2018-01-08  600000.SH   20180108  12.69  12.71  12.63  12.68      12.69   \n2018-01-09  600000.SH   20180109  12.68  12.74  12.66  12.70      12.68   \n\n            change  pct_chg        vol      amount  \ntrade_date                                          \n2018-01-03    0.13     1.03  313230.53  398614.966  \n2018-01-04    0.00     0.00  278838.04  353205.838  \n2018-01-05    0.03     0.24  310267.44  393058.250  \n2018-01-08   -0.01    -0.08  313898.87  397842.209  \n2018-01-09    0.02     0.16  262154.32  332848.333  ",
      "text/html": "<div>\n<style scoped>\n    .dataframe tbody tr th:only-of-type {\n        vertical-align: middle;\n    }\n\n    .dataframe tbody tr th {\n        vertical-align: top;\n    }\n\n    .dataframe thead th {\n        text-align: right;\n    }\n</style>\n<table border=\"1\" class=\"dataframe\">\n  <thead>\n    <tr style=\"text-align: right;\">\n      <th></th>\n      <th>ts_code</th>\n      <th>trade_date</th>\n      <th>open</th>\n      <th>high</th>\n      <th>low</th>\n      <th>close</th>\n      <th>pre_close</th>\n      <th>change</th>\n      <th>pct_chg</th>\n      <th>vol</th>\n      <th>amount</th>\n    </tr>\n    <tr>\n      <th>trade_date</th>\n      <th></th>\n      <th></th>\n      <th></th>\n      <th></th>\n      <th></th>\n      <th></th>\n      <th></th>\n      <th></th>\n      <th></th>\n      <th></th>\n      <th></th>\n    </tr>\n  </thead>\n  <tbody>\n    <tr>\n      <th>2018-01-03</th>\n      <td>600000.SH</td>\n      <td>20180102</td>\n      <td>12.61</td>\n      <td>12.77</td>\n      <td>12.60</td>\n      <td>12.72</td>\n      <td>12.59</td>\n      <td>0.13</td>\n      <td>1.03</td>\n      <td>313230.53</td>\n      <td>398614.966</td>\n    </tr>\n    <tr>\n      <th>2018-01-04</th>\n      <td>600000.SH</td>\n      <td>20180104</td>\n      <td>12.70</td>\n      <td>12.73</td>\n      <td>12.62</td>\n      <td>12.66</td>\n      <td>12.66</td>\n      <td>0.00</td>\n      <td>0.00</td>\n      <td>278838.04</td>\n      <td>353205.838</td>\n    </tr>\n    <tr>\n      <th>2018-01-05</th>\n      <td>600000.SH</td>\n      <td>20180105</td>\n      <td>12.67</td>\n      <td>12.71</td>\n      <td>12.62</td>\n      <td>12.69</td>\n      <td>12.66</td>\n      <td>0.03</td>\n      <td>0.24</td>\n      <td>310267.44</td>\n      <td>393058.250</td>\n    </tr>\n    <tr>\n      <th>2018-01-08</th>\n      <td>600000.SH</td>\n      <td>20180108</td>\n      <td>12.69</td>\n      <td>12.71</td>\n      <td>12.63</td>\n      <td>12.68</td>\n      <td>12.69</td>\n      <td>-0.01</td>\n      <td>-0.08</td>\n      <td>313898.87</td>\n      <td>397842.209</td>\n    </tr>\n    <tr>\n      <th>2018-01-09</th>\n      <td>600000.SH</td>\n      <td>20180109</td>\n      <td>12.68</td>\n      <td>12.74</td>\n      <td>12.66</td>\n      <td>12.70</td>\n      <td>12.68</td>\n      <td>0.02</td>\n      <td>0.16</td>\n      <td>262154.32</td>\n      <td>332848.333</td>\n    </tr>\n  </tbody>\n</table>\n</div>"
     },
     "execution_count": 13,
     "metadata": {},
     "output_type": "execute_result"
    }
   ],
   "source": [
    "# 删除重复项\n",
    "df1=df1.drop_duplicates(subset=['trade_date'],keep='last')\n",
    "df1.head()"
   ],
   "metadata": {
    "collapsed": false,
    "ExecuteTime": {
     "end_time": "2024-03-01T12:53:54.702096500Z",
     "start_time": "2024-03-01T12:53:54.674225700Z"
    }
   },
   "id": "c3a7aacb995ef22f",
   "execution_count": 13
  },
  {
   "cell_type": "code",
   "outputs": [
    {
     "name": "stdout",
     "output_type": "stream",
     "text": [
      "              ts_code trade_date   open   high    low  close  pre_close  \\\n",
      "trade_date                                                                \n",
      "2018-01-01  600000.SH   20180102  12.61  12.77  12.60  12.72      12.59   \n",
      "2018-02-01  600000.SH   20180201  13.14  13.33  12.94  13.30      13.17   \n",
      "2018-03-01  600000.SH   20180301  12.40  12.50  12.38  12.47      12.46   \n",
      "\n",
      "            change  pct_chg         vol       amount  \n",
      "trade_date                                            \n",
      "2018-01-01    0.13     1.03   313230.53   398614.966  \n",
      "2018-02-01    0.13     0.99  1735733.31  2289044.601  \n",
      "2018-03-01    0.01     0.08   344910.31   429574.072  \n"
     ]
    }
   ],
   "source": [
    "# 重新取样的频率参照：\n",
    "print(df1.resample('MS').first())"
   ],
   "metadata": {
    "collapsed": false,
    "ExecuteTime": {
     "end_time": "2024-03-01T12:54:42.430494400Z",
     "start_time": "2024-03-01T12:54:42.410237100Z"
    }
   },
   "id": "b8457af0310c549e",
   "execution_count": 16
  },
  {
   "cell_type": "code",
   "outputs": [
    {
     "data": {
      "text/plain": "              ts_code trade_date   open   high    low  close  pre_close  \\\ntrade_date                                                                \n2018-03-30  600600.SH   20180330  40.00  40.85  39.76  40.43      39.99   \n2018-03-29  600600.SH   20180329  39.17  40.09  38.03  39.99      39.16   \n2018-03-28  600600.SH   20180328  39.80  39.88  38.72  39.16      40.64   \n2018-03-27  600600.SH   20180327  40.35  40.79  39.74  40.64      40.21   \n2018-03-26  600600.SH   20180326  37.69  40.34  37.50  40.21      38.04   \n\n            change  pct_chg       vol      amount  \ntrade_date                                         \n2018-03-30    0.44     1.10  54695.84  221043.758  \n2018-03-29    0.83     2.12  57586.40  225764.879  \n2018-03-28   -1.48    -3.64  65720.36  258895.658  \n2018-03-27    0.43     1.07  62885.52  253193.642  \n2018-03-26    2.17     5.70  58624.39  227846.463  ",
      "text/html": "<div>\n<style scoped>\n    .dataframe tbody tr th:only-of-type {\n        vertical-align: middle;\n    }\n\n    .dataframe tbody tr th {\n        vertical-align: top;\n    }\n\n    .dataframe thead th {\n        text-align: right;\n    }\n</style>\n<table border=\"1\" class=\"dataframe\">\n  <thead>\n    <tr style=\"text-align: right;\">\n      <th></th>\n      <th>ts_code</th>\n      <th>trade_date</th>\n      <th>open</th>\n      <th>high</th>\n      <th>low</th>\n      <th>close</th>\n      <th>pre_close</th>\n      <th>change</th>\n      <th>pct_chg</th>\n      <th>vol</th>\n      <th>amount</th>\n    </tr>\n    <tr>\n      <th>trade_date</th>\n      <th></th>\n      <th></th>\n      <th></th>\n      <th></th>\n      <th></th>\n      <th></th>\n      <th></th>\n      <th></th>\n      <th></th>\n      <th></th>\n      <th></th>\n    </tr>\n  </thead>\n  <tbody>\n    <tr>\n      <th>2018-03-30</th>\n      <td>600600.SH</td>\n      <td>20180330</td>\n      <td>40.00</td>\n      <td>40.85</td>\n      <td>39.76</td>\n      <td>40.43</td>\n      <td>39.99</td>\n      <td>0.44</td>\n      <td>1.10</td>\n      <td>54695.84</td>\n      <td>221043.758</td>\n    </tr>\n    <tr>\n      <th>2018-03-29</th>\n      <td>600600.SH</td>\n      <td>20180329</td>\n      <td>39.17</td>\n      <td>40.09</td>\n      <td>38.03</td>\n      <td>39.99</td>\n      <td>39.16</td>\n      <td>0.83</td>\n      <td>2.12</td>\n      <td>57586.40</td>\n      <td>225764.879</td>\n    </tr>\n    <tr>\n      <th>2018-03-28</th>\n      <td>600600.SH</td>\n      <td>20180328</td>\n      <td>39.80</td>\n      <td>39.88</td>\n      <td>38.72</td>\n      <td>39.16</td>\n      <td>40.64</td>\n      <td>-1.48</td>\n      <td>-3.64</td>\n      <td>65720.36</td>\n      <td>258895.658</td>\n    </tr>\n    <tr>\n      <th>2018-03-27</th>\n      <td>600600.SH</td>\n      <td>20180327</td>\n      <td>40.35</td>\n      <td>40.79</td>\n      <td>39.74</td>\n      <td>40.64</td>\n      <td>40.21</td>\n      <td>0.43</td>\n      <td>1.07</td>\n      <td>62885.52</td>\n      <td>253193.642</td>\n    </tr>\n    <tr>\n      <th>2018-03-26</th>\n      <td>600600.SH</td>\n      <td>20180326</td>\n      <td>37.69</td>\n      <td>40.34</td>\n      <td>37.50</td>\n      <td>40.21</td>\n      <td>38.04</td>\n      <td>2.17</td>\n      <td>5.70</td>\n      <td>58624.39</td>\n      <td>227846.463</td>\n    </tr>\n  </tbody>\n</table>\n</div>"
     },
     "execution_count": 29,
     "metadata": {},
     "output_type": "execute_result"
    }
   ],
   "source": [
    "df2.index=pd.to_datetime(df2.trade_date)\n",
    "df2.head()"
   ],
   "metadata": {
    "collapsed": false,
    "ExecuteTime": {
     "end_time": "2024-03-01T13:06:40.917045500Z",
     "start_time": "2024-03-01T13:06:40.900919800Z"
    }
   },
   "id": "7ac708c139321b9e",
   "execution_count": 29
  },
  {
   "cell_type": "code",
   "outputs": [
    {
     "data": {
      "text/plain": "              ts_code trade_date   open   high    low  close  pre_close  \\\ntrade_date                                                                \n2018-01-03  600000.SH   20180102  12.61  12.77  12.60  12.72      12.59   \n2018-01-04  600000.SH   20180104  12.70  12.73  12.62  12.66      12.66   \n2018-01-05  600000.SH   20180105  12.67  12.71  12.62  12.69      12.66   \n2018-01-08  600000.SH   20180108  12.69  12.71  12.63  12.68      12.69   \n2018-01-09  600000.SH   20180109  12.68  12.74  12.66  12.70      12.68   \n...               ...        ...    ...    ...    ...    ...        ...   \n2018-01-08  600600.SH   20180108  42.75  43.20  41.50  42.02      43.84   \n2018-01-05  600600.SH   20180105  42.35  43.84  42.35  43.84      39.85   \n2018-01-04  600600.SH   20180104  39.24  40.05  38.90  39.85      39.39   \n2018-01-03  600600.SH   20180103  39.72  39.75  38.65  39.39      39.64   \n2018-01-02  600600.SH   20180102  39.50  39.90  38.94  39.64      39.33   \n\n            change  pct_chg        vol      amount  \ntrade_date                                          \n2018-01-03    0.13     1.03  313230.53  398614.966  \n2018-01-04    0.00     0.00  278838.04  353205.838  \n2018-01-05    0.03     0.24  310267.44  393058.250  \n2018-01-08   -0.01    -0.08  313898.87  397842.209  \n2018-01-09    0.02     0.16  262154.32  332848.333  \n...            ...      ...        ...         ...  \n2018-01-08   -1.82    -4.15  142886.11  602651.862  \n2018-01-05    3.99    10.01  221756.95  962386.231  \n2018-01-04    0.46     1.17  116358.94  460960.052  \n2018-01-03   -0.25    -0.63   94272.67  368201.157  \n2018-01-02    0.31     0.79   62566.85  247146.470  \n\n[117 rows x 11 columns]",
      "text/html": "<div>\n<style scoped>\n    .dataframe tbody tr th:only-of-type {\n        vertical-align: middle;\n    }\n\n    .dataframe tbody tr th {\n        vertical-align: top;\n    }\n\n    .dataframe thead th {\n        text-align: right;\n    }\n</style>\n<table border=\"1\" class=\"dataframe\">\n  <thead>\n    <tr style=\"text-align: right;\">\n      <th></th>\n      <th>ts_code</th>\n      <th>trade_date</th>\n      <th>open</th>\n      <th>high</th>\n      <th>low</th>\n      <th>close</th>\n      <th>pre_close</th>\n      <th>change</th>\n      <th>pct_chg</th>\n      <th>vol</th>\n      <th>amount</th>\n    </tr>\n    <tr>\n      <th>trade_date</th>\n      <th></th>\n      <th></th>\n      <th></th>\n      <th></th>\n      <th></th>\n      <th></th>\n      <th></th>\n      <th></th>\n      <th></th>\n      <th></th>\n      <th></th>\n    </tr>\n  </thead>\n  <tbody>\n    <tr>\n      <th>2018-01-03</th>\n      <td>600000.SH</td>\n      <td>20180102</td>\n      <td>12.61</td>\n      <td>12.77</td>\n      <td>12.60</td>\n      <td>12.72</td>\n      <td>12.59</td>\n      <td>0.13</td>\n      <td>1.03</td>\n      <td>313230.53</td>\n      <td>398614.966</td>\n    </tr>\n    <tr>\n      <th>2018-01-04</th>\n      <td>600000.SH</td>\n      <td>20180104</td>\n      <td>12.70</td>\n      <td>12.73</td>\n      <td>12.62</td>\n      <td>12.66</td>\n      <td>12.66</td>\n      <td>0.00</td>\n      <td>0.00</td>\n      <td>278838.04</td>\n      <td>353205.838</td>\n    </tr>\n    <tr>\n      <th>2018-01-05</th>\n      <td>600000.SH</td>\n      <td>20180105</td>\n      <td>12.67</td>\n      <td>12.71</td>\n      <td>12.62</td>\n      <td>12.69</td>\n      <td>12.66</td>\n      <td>0.03</td>\n      <td>0.24</td>\n      <td>310267.44</td>\n      <td>393058.250</td>\n    </tr>\n    <tr>\n      <th>2018-01-08</th>\n      <td>600000.SH</td>\n      <td>20180108</td>\n      <td>12.69</td>\n      <td>12.71</td>\n      <td>12.63</td>\n      <td>12.68</td>\n      <td>12.69</td>\n      <td>-0.01</td>\n      <td>-0.08</td>\n      <td>313898.87</td>\n      <td>397842.209</td>\n    </tr>\n    <tr>\n      <th>2018-01-09</th>\n      <td>600000.SH</td>\n      <td>20180109</td>\n      <td>12.68</td>\n      <td>12.74</td>\n      <td>12.66</td>\n      <td>12.70</td>\n      <td>12.68</td>\n      <td>0.02</td>\n      <td>0.16</td>\n      <td>262154.32</td>\n      <td>332848.333</td>\n    </tr>\n    <tr>\n      <th>...</th>\n      <td>...</td>\n      <td>...</td>\n      <td>...</td>\n      <td>...</td>\n      <td>...</td>\n      <td>...</td>\n      <td>...</td>\n      <td>...</td>\n      <td>...</td>\n      <td>...</td>\n      <td>...</td>\n    </tr>\n    <tr>\n      <th>2018-01-08</th>\n      <td>600600.SH</td>\n      <td>20180108</td>\n      <td>42.75</td>\n      <td>43.20</td>\n      <td>41.50</td>\n      <td>42.02</td>\n      <td>43.84</td>\n      <td>-1.82</td>\n      <td>-4.15</td>\n      <td>142886.11</td>\n      <td>602651.862</td>\n    </tr>\n    <tr>\n      <th>2018-01-05</th>\n      <td>600600.SH</td>\n      <td>20180105</td>\n      <td>42.35</td>\n      <td>43.84</td>\n      <td>42.35</td>\n      <td>43.84</td>\n      <td>39.85</td>\n      <td>3.99</td>\n      <td>10.01</td>\n      <td>221756.95</td>\n      <td>962386.231</td>\n    </tr>\n    <tr>\n      <th>2018-01-04</th>\n      <td>600600.SH</td>\n      <td>20180104</td>\n      <td>39.24</td>\n      <td>40.05</td>\n      <td>38.90</td>\n      <td>39.85</td>\n      <td>39.39</td>\n      <td>0.46</td>\n      <td>1.17</td>\n      <td>116358.94</td>\n      <td>460960.052</td>\n    </tr>\n    <tr>\n      <th>2018-01-03</th>\n      <td>600600.SH</td>\n      <td>20180103</td>\n      <td>39.72</td>\n      <td>39.75</td>\n      <td>38.65</td>\n      <td>39.39</td>\n      <td>39.64</td>\n      <td>-0.25</td>\n      <td>-0.63</td>\n      <td>94272.67</td>\n      <td>368201.157</td>\n    </tr>\n    <tr>\n      <th>2018-01-02</th>\n      <td>600600.SH</td>\n      <td>20180102</td>\n      <td>39.50</td>\n      <td>39.90</td>\n      <td>38.94</td>\n      <td>39.64</td>\n      <td>39.33</td>\n      <td>0.31</td>\n      <td>0.79</td>\n      <td>62566.85</td>\n      <td>247146.470</td>\n    </tr>\n  </tbody>\n</table>\n<p>117 rows × 11 columns</p>\n</div>"
     },
     "execution_count": 28,
     "metadata": {},
     "output_type": "execute_result"
    }
   ],
   "source": [
    "df_concat=pd.concat([df1,df2])\n",
    "df_concat"
   ],
   "metadata": {
    "collapsed": false
   },
   "id": "25030cf591edd4b3",
   "execution_count": 28
  },
  {
   "cell_type": "code",
   "outputs": [
    {
     "data": {
      "text/plain": "<pandas.core.groupby.generic.DataFrameGroupBy object at 0x000002B2BCC35F10>"
     },
     "execution_count": 31,
     "metadata": {},
     "output_type": "execute_result"
    }
   ],
   "source": [
    "df_groups=df_concat.groupby('ts_code')\n",
    "df_groups"
   ],
   "metadata": {
    "collapsed": false,
    "ExecuteTime": {
     "end_time": "2024-03-01T13:07:29.673320Z",
     "start_time": "2024-03-01T13:07:29.655799400Z"
    }
   },
   "id": "ff301291410493f",
   "execution_count": 31
  },
  {
   "cell_type": "code",
   "outputs": [
    {
     "name": "stdout",
     "output_type": "stream",
     "text": [
      "600000.SH \n",
      "               ts_code trade_date   open   high    low  close  pre_close  \\\n",
      "trade_date                                                                \n",
      "2018-01-03  600000.SH   20180102  12.61  12.77  12.60  12.72      12.59   \n",
      "2018-01-04  600000.SH   20180104  12.70  12.73  12.62  12.66      12.66   \n",
      "2018-01-05  600000.SH   20180105  12.67  12.71  12.62  12.69      12.66   \n",
      "2018-01-08  600000.SH   20180108  12.69  12.71  12.63  12.68      12.69   \n",
      "2018-01-09  600000.SH   20180109  12.68  12.74  12.66  12.70      12.68   \n",
      "\n",
      "            change  pct_chg        vol      amount  \n",
      "trade_date                                          \n",
      "2018-01-03    0.13     1.03  313230.53  398614.966  \n",
      "2018-01-04    0.00     0.00  278838.04  353205.838  \n",
      "2018-01-05    0.03     0.24  310267.44  393058.250  \n",
      "2018-01-08   -0.01    -0.08  313898.87  397842.209  \n",
      "2018-01-09    0.02     0.16  262154.32  332848.333  \n",
      "600600.SH \n",
      "               ts_code trade_date   open   high    low  close  pre_close  \\\n",
      "trade_date                                                                \n",
      "2018-03-30  600600.SH   20180330  40.00  40.85  39.76  40.43      39.99   \n",
      "2018-03-29  600600.SH   20180329  39.17  40.09  38.03  39.99      39.16   \n",
      "2018-03-28  600600.SH   20180328  39.80  39.88  38.72  39.16      40.64   \n",
      "2018-03-27  600600.SH   20180327  40.35  40.79  39.74  40.64      40.21   \n",
      "2018-03-26  600600.SH   20180326  37.69  40.34  37.50  40.21      38.04   \n",
      "\n",
      "            change  pct_chg       vol      amount  \n",
      "trade_date                                         \n",
      "2018-03-30    0.44     1.10  54695.84  221043.758  \n",
      "2018-03-29    0.83     2.12  57586.40  225764.879  \n",
      "2018-03-28   -1.48    -3.64  65720.36  258895.658  \n",
      "2018-03-27    0.43     1.07  62885.52  253193.642  \n",
      "2018-03-26    2.17     5.70  58624.39  227846.463  \n"
     ]
    }
   ],
   "source": [
    "for name,df in df_groups:\n",
    "    print(name,'\\n',df.head())"
   ],
   "metadata": {
    "collapsed": false,
    "ExecuteTime": {
     "end_time": "2024-03-01T13:08:14.621962800Z",
     "start_time": "2024-03-01T13:08:14.598880700Z"
    }
   },
   "id": "16615cc678b849ef",
   "execution_count": 32
  },
  {
   "cell_type": "code",
   "outputs": [
    {
     "data": {
      "text/plain": "{'600000.SH':               ts_code trade_date   open   high    low  close  pre_close  \\\n trade_date                                                                \n 2018-01-03  600000.SH   20180102  12.61  12.77  12.60  12.72      12.59   \n 2018-01-04  600000.SH   20180104  12.70  12.73  12.62  12.66      12.66   \n 2018-01-05  600000.SH   20180105  12.67  12.71  12.62  12.69      12.66   \n 2018-01-08  600000.SH   20180108  12.69  12.71  12.63  12.68      12.69   \n 2018-01-09  600000.SH   20180109  12.68  12.74  12.66  12.70      12.68   \n 2018-01-10  600000.SH   20180110  12.70  13.09  12.68  13.02      12.70   \n 2018-01-11  600000.SH   20180111  12.95  13.04  12.87  12.94      13.02   \n 2018-01-12  600000.SH   20180112  12.97  13.00  12.90  12.91      12.94   \n 2018-01-15  600000.SH   20180115  12.88  13.08  12.85  13.02      12.91   \n 2018-01-16  600000.SH   20180116  12.97  13.06  12.78  12.90      13.02   \n 2018-01-17  600000.SH   20180117  12.91  13.42  12.89  13.10      12.90   \n 2018-01-18  600000.SH   20180118  13.14  13.25  13.05  13.24      13.10   \n 2018-01-19  600000.SH   20180119  13.33  13.61  13.18  13.24      13.24   \n 2018-01-22  600000.SH   20180122  12.93  13.15  12.71  12.77      13.24   \n 2018-01-23  600000.SH   20180123  12.75  12.92  12.68  12.90      12.77   \n 2018-01-24  600000.SH   20180124  12.97  14.00  12.89  13.57      12.90   \n 2018-01-25  600000.SH   20180125  13.54  13.76  13.36  13.65      13.57   \n 2018-01-26  600000.SH   20180126  13.65  13.72  13.36  13.41      13.65   \n 2018-01-29  600000.SH   20180129  13.48  13.53  13.32  13.46      13.41   \n 2018-01-30  600000.SH   20180130  13.45  13.49  13.09  13.11      13.46   \n 2018-01-31  600000.SH   20180131  13.05  13.19  12.98  13.17      13.11   \n 2018-02-01  600000.SH   20180201  13.14  13.33  12.94  13.30      13.17   \n 2018-02-02  600000.SH   20180202  13.19  13.19  13.01  13.14      13.30   \n 2018-02-05  600000.SH   20180205  13.00  13.54  12.98  13.49      13.14   \n 2018-02-06  600000.SH   20180206  13.29  13.50  13.20  13.48      13.49   \n 2018-02-07  600000.SH   20180207  13.58  13.90  13.24  13.45      13.48   \n 2018-02-08  600000.SH   20180208  13.34  13.40  12.95  13.10      13.45   \n 2018-02-09  600000.SH   20180209  12.89  12.98  12.24  12.78      13.10   \n 2018-02-12  600000.SH   20180212  12.66  12.68  12.43  12.49      12.78   \n 2018-02-13  600000.SH   20180213  12.55  12.68  12.50  12.51      12.49   \n 2018-02-14  600000.SH   20180214  12.50  12.55  12.38  12.46      12.51   \n 2018-02-22  600000.SH   20180222  12.60  12.68  12.53  12.63      12.46   \n 2018-02-23  600000.SH   20180223  12.66  12.78  12.59  12.72      12.63   \n 2018-02-26  600000.SH   20180226  12.77  12.84  12.61  12.73      12.72   \n 2018-02-27  600000.SH   20180227  12.75  12.76  12.61  12.69      12.73   \n 2018-02-28  600000.SH   20180228  12.61  12.66  12.44  12.46      12.69   \n 2018-03-01  600000.SH   20180301  12.40  12.50  12.38  12.47      12.46   \n 2018-03-02  600000.SH   20180302  12.40  12.46  12.36  12.41      12.47   \n 2018-03-05  600000.SH   20180305  12.41  12.48  12.34  12.42      12.41   \n 2018-03-06  600000.SH   20180306  12.48  12.51  12.38  12.49      12.42   \n 2018-03-07  600000.SH   20180307  12.51  12.60  12.46  12.49      12.49   \n 2018-03-08  600000.SH   20180308  12.55  12.55  12.40  12.47      12.49   \n 2018-03-09  600000.SH   20180309  12.49  12.51  12.42  12.48      12.47   \n 2018-03-12  600000.SH   20180312  12.53  12.54  12.46  12.50      12.48   \n 2018-03-13  600000.SH   20180313  12.50  12.58  12.43  12.49      12.50   \n 2018-03-14  600000.SH   20180314  12.45  12.45  12.38  12.39      12.49   \n 2018-03-15  600000.SH   20180315  12.35  12.41  12.34  12.39      12.39   \n 2018-03-16  600000.SH   20180316  12.36  12.40  12.30  12.30      12.39   \n 2018-03-19  600000.SH   20180319  12.31  12.33  12.26  12.31      12.30   \n 2018-03-20  600000.SH   20180320  12.28  12.39  12.25  12.32      12.31   \n 2018-03-21  600000.SH   20180321  12.34  12.40  12.28  12.29      12.32   \n 2018-03-22  600000.SH   20180322  12.35  12.35  12.25  12.25      12.29   \n 2018-03-23  600000.SH   20180323  12.00  12.06  11.64  11.71      12.25   \n 2018-03-26  600000.SH   20180326  11.71  11.75  11.50  11.61      11.71   \n 2018-03-27  600000.SH   20180327  11.70  11.77  11.56  11.62      11.61   \n 2018-03-28  600000.SH   20180328  11.53  11.75  11.52  11.57      11.62   \n 2018-03-29  600000.SH   20180329  11.57  11.71  11.45  11.62      11.57   \n 2018-03-30  600000.SH   20180330  11.63  11.69  11.61  11.65      11.62   \n \n             change  pct_chg         vol       amount  \n trade_date                                            \n 2018-01-03    0.13     1.03   313230.53   398614.966  \n 2018-01-04    0.00     0.00   278838.04   353205.838  \n 2018-01-05    0.03     0.24   310267.44   393058.250  \n 2018-01-08   -0.01    -0.08   313898.87   397842.209  \n 2018-01-09    0.02     0.16   262154.32   332848.333  \n 2018-01-10    0.32     2.52   906799.90  1174202.006  \n 2018-01-11   -0.08    -0.61   378164.12   489588.906  \n 2018-01-12   -0.03    -0.23   242034.19   313215.088  \n 2018-01-15    0.11     0.85   613206.80   796861.091  \n 2018-01-16   -0.12    -0.92   748926.52   963701.144  \n 2018-01-17    0.20     1.55  1271328.13  1675235.171  \n 2018-01-18    0.14     1.07  1116080.76  1465159.094  \n 2018-01-19    0.00     0.00  1716488.71  2300220.633  \n 2018-01-22   -0.47    -3.55  2725138.01  3514775.144  \n 2018-01-23    0.13     1.02  2178274.57  2791828.653  \n 2018-01-24    0.67     5.19  3796536.29  5099364.114  \n 2018-01-25    0.08     0.59  1769896.31  2400208.784  \n 2018-01-26   -0.24    -1.76  2184196.85  2954019.925  \n 2018-01-29    0.05     0.37  1537831.04  2065139.247  \n 2018-01-30   -0.35    -2.60  1078040.18  1429924.976  \n 2018-01-31    0.06     0.46  1177032.64  1541960.901  \n 2018-02-01    0.13     0.99  1735733.31  2289044.601  \n 2018-02-02   -0.16    -1.20   717967.80   941467.191  \n 2018-02-05    0.35     2.66  1501496.57  2006361.757  \n 2018-02-06   -0.01    -0.07  2443589.92  3270199.180  \n 2018-02-07   -0.03    -0.22  2007701.15  2720519.687  \n 2018-02-08   -0.35    -2.60  1094268.72  1438198.801  \n 2018-02-09   -0.32    -2.44  1492573.56  1877264.356  \n 2018-02-12   -0.29    -2.27   647991.97   811027.710  \n 2018-02-13    0.02     0.16   549002.14   690054.113  \n 2018-02-14   -0.05    -0.40   325978.11   406060.202  \n 2018-02-22    0.17     1.36   420122.85   529856.471  \n 2018-02-23    0.09     0.71   387365.15   491768.409  \n 2018-02-26    0.01     0.08   488060.55   620261.080  \n 2018-02-27   -0.04    -0.31   485610.87   615622.149  \n 2018-02-28   -0.23    -1.81   398889.38   499258.844  \n 2018-03-01    0.01     0.08   344910.31   429574.072  \n 2018-03-02   -0.06    -0.48   230241.32   285473.130  \n 2018-03-05    0.01     0.08   293434.64   363849.705  \n 2018-03-06    0.07     0.56   272226.68   339015.159  \n 2018-03-07    0.00     0.00   388175.75   487036.820  \n 2018-03-08   -0.02    -0.16   221641.32   276013.913  \n 2018-03-09    0.01     0.08   235582.87   293550.899  \n 2018-03-12    0.02     0.16   251618.21   314544.074  \n 2018-03-13   -0.01    -0.08   251450.00   314545.358  \n 2018-03-14   -0.10    -0.80   228046.03   282970.086  \n 2018-03-15    0.00     0.00   172877.74   213972.089  \n 2018-03-16   -0.09    -0.73   267813.99   330778.426  \n 2018-03-19    0.01     0.08   168960.48   207819.310  \n 2018-03-20    0.01     0.08   206722.83   254187.843  \n 2018-03-21   -0.03    -0.24   238784.65   294872.209  \n 2018-03-22   -0.04    -0.33   229484.84   281975.042  \n 2018-03-23   -0.54    -4.41   571063.91   676679.666  \n 2018-03-26   -0.10    -0.85   364250.54   422233.460  \n 2018-03-27    0.01     0.09   273328.09   318586.664  \n 2018-03-28   -0.05    -0.43   229112.82   266121.467  \n 2018-03-29    0.05     0.43   331088.05   383064.999  \n 2018-03-30    0.03     0.26   232719.65   270987.701  ,\n '600600.SH':               ts_code trade_date   open   high    low  close  pre_close  \\\n trade_date                                                                \n 2018-03-30  600600.SH   20180330  40.00  40.85  39.76  40.43      39.99   \n 2018-03-29  600600.SH   20180329  39.17  40.09  38.03  39.99      39.16   \n 2018-03-28  600600.SH   20180328  39.80  39.88  38.72  39.16      40.64   \n 2018-03-27  600600.SH   20180327  40.35  40.79  39.74  40.64      40.21   \n 2018-03-26  600600.SH   20180326  37.69  40.34  37.50  40.21      38.04   \n 2018-03-23  600600.SH   20180323  37.67  38.81  37.05  38.04      39.43   \n 2018-03-22  600600.SH   20180322  39.68  40.35  39.04  39.43      39.68   \n 2018-03-21  600600.SH   20180321  40.35  41.19  39.46  39.68      40.26   \n 2018-03-20  600600.SH   20180320  40.00  40.49  39.73  40.26      40.49   \n 2018-03-19  600600.SH   20180319  40.25  40.86  39.59  40.49      40.26   \n 2018-03-16  600600.SH   20180316  41.23  41.71  40.02  40.26      41.22   \n 2018-03-15  600600.SH   20180315  40.68  42.21  40.50  41.22      40.83   \n 2018-03-14  600600.SH   20180314  40.56  41.07  40.31  40.83      40.78   \n 2018-03-13  600600.SH   20180313  40.80  41.46  40.21  40.78      40.91   \n 2018-03-12  600600.SH   20180312  39.70  41.15  39.70  40.91      38.91   \n 2018-03-09  600600.SH   20180309  38.00  39.39  38.00  38.91      37.39   \n 2018-03-08  600600.SH   20180308  36.85  37.49  36.59  37.39      36.99   \n 2018-03-07  600600.SH   20180307  37.50  38.08  36.75  36.99      37.43   \n 2018-03-06  600600.SH   20180306  37.12  37.64  36.80  37.43      36.96   \n 2018-03-05  600600.SH   20180305  37.50  37.88  36.78  36.96      37.50   \n 2018-03-02  600600.SH   20180302  37.68  38.22  37.39  37.50      38.25   \n 2018-03-01  600600.SH   20180301  37.76  38.47  37.51  38.25      38.13   \n 2018-02-28  600600.SH   20180228  37.81  38.16  36.70  38.13      38.13   \n 2018-02-27  600600.SH   20180227  38.94  38.99  37.70  38.13      39.03   \n 2018-02-26  600600.SH   20180226  38.74  39.23  38.25  39.03      38.63   \n 2018-02-23  600600.SH   20180223  38.45  38.68  38.06  38.63      38.43   \n 2018-02-22  600600.SH   20180222  38.37  38.77  38.04  38.43      37.82   \n 2018-02-14  600600.SH   20180214  37.34  37.95  37.09  37.82      37.32   \n 2018-02-13  600600.SH   20180213  37.03  38.10  37.03  37.32      36.75   \n 2018-02-12  600600.SH   20180212  35.99  36.97  35.86  36.75      35.74   \n 2018-02-09  600600.SH   20180209  36.39  36.64  35.08  35.74      37.48   \n 2018-02-08  600600.SH   20180208  37.00  37.80  36.64  37.48      37.41   \n 2018-02-07  600600.SH   20180207  38.66  38.80  37.33  37.41      38.02   \n 2018-02-06  600600.SH   20180206  38.52  38.88  37.00  38.02      39.63   \n 2018-02-05  600600.SH   20180205  39.15  39.75  38.30  39.63      40.16   \n 2018-02-02  600600.SH   20180202  38.28  40.47  37.65  40.16      38.30   \n 2018-02-01  600600.SH   20180201  39.55  39.85  37.50  38.30      39.89   \n 2018-01-31  600600.SH   20180131  39.02  40.10  38.94  39.89      38.94   \n 2018-01-30  600600.SH   20180130  38.95  39.37  38.60  38.94      39.26   \n 2018-01-29  600600.SH   20180129  41.11  41.44  38.83  39.26      41.08   \n 2018-01-26  600600.SH   20180126  40.89  41.97  40.66  41.08      40.80   \n 2018-01-25  600600.SH   20180125  40.90  41.27  40.30  40.80      41.07   \n 2018-01-24  600600.SH   20180124  40.89  41.60  40.56  41.07      41.00   \n 2018-01-23  600600.SH   20180123  41.53  41.88  40.50  41.00      41.49   \n 2018-01-22  600600.SH   20180122  41.25  41.64  40.87  41.49      41.65   \n 2018-01-19  600600.SH   20180119  42.63  42.97  40.45  41.65      43.08   \n 2018-01-18  600600.SH   20180118  42.97  43.65  42.30  43.08      43.19   \n 2018-01-17  600600.SH   20180117  44.00  44.10  42.30  43.19      44.23   \n 2018-01-16  600600.SH   20180116  43.20  46.22  43.20  44.23      42.80   \n 2018-01-15  600600.SH   20180115  42.12  43.80  42.12  42.80      42.22   \n 2018-01-12  600600.SH   20180112  42.39  42.39  41.53  42.22      42.53   \n 2018-01-11  600600.SH   20180111  42.40  43.18  41.85  42.53      42.81   \n 2018-01-10  600600.SH   20180110  42.20  43.50  41.40  42.81      42.57   \n 2018-01-09  600600.SH   20180109  41.99  43.50  41.61  42.57      42.02   \n 2018-01-08  600600.SH   20180108  42.75  43.20  41.50  42.02      43.84   \n 2018-01-05  600600.SH   20180105  42.35  43.84  42.35  43.84      39.85   \n 2018-01-04  600600.SH   20180104  39.24  40.05  38.90  39.85      39.39   \n 2018-01-03  600600.SH   20180103  39.72  39.75  38.65  39.39      39.64   \n 2018-01-02  600600.SH   20180102  39.50  39.90  38.94  39.64      39.33   \n \n             change  pct_chg        vol      amount  \n trade_date                                          \n 2018-03-30    0.44     1.10   54695.84  221043.758  \n 2018-03-29    0.83     2.12   57586.40  225764.879  \n 2018-03-28   -1.48    -3.64   65720.36  258895.658  \n 2018-03-27    0.43     1.07   62885.52  253193.642  \n 2018-03-26    2.17     5.70   58624.39  227846.463  \n 2018-03-23   -1.39    -3.53   69389.19  263480.912  \n 2018-03-22   -0.25    -0.63   49750.29  196842.556  \n 2018-03-21   -0.58    -1.44   50395.98  204363.097  \n 2018-03-20   -0.23    -0.57   37338.38  149736.615  \n 2018-03-19    0.23     0.57   45130.09  181920.744  \n 2018-03-16   -0.96    -2.33   68515.04  278917.960  \n 2018-03-15    0.39     0.96   79756.98  330926.159  \n 2018-03-14    0.05     0.12   44794.42  182440.394  \n 2018-03-13   -0.13    -0.32   77822.28  317757.630  \n 2018-03-12    2.00     5.14  112009.54  453464.278  \n 2018-03-09    1.52     4.07   95224.75  369908.296  \n 2018-03-08    0.40     1.08   32875.29  122105.701  \n 2018-03-07   -0.44    -1.18   51426.92  192943.281  \n 2018-03-06    0.47     1.27   41222.06  153413.439  \n 2018-03-05   -0.54    -1.44   35803.67  133203.155  \n 2018-03-02   -0.75    -1.96   31288.80  117976.912  \n 2018-03-01    0.12     0.31   33867.58  129112.233  \n 2018-02-28    0.00     0.00   44201.48  164858.494  \n 2018-02-27   -0.90    -2.31   41036.54  157069.171  \n 2018-02-26    0.40     1.04   37219.65  144870.738  \n 2018-02-23    0.20     0.52   26642.84  102496.237  \n 2018-02-22    0.61     1.61   47641.76  182880.260  \n 2018-02-14    0.50     1.34   17325.76   65261.501  \n 2018-02-13    0.57     1.55   35057.06  131683.601  \n 2018-02-12    1.01     2.83   32956.34  120567.160  \n 2018-02-09   -1.74    -4.64   61050.94  219703.479  \n 2018-02-08    0.07     0.19   44385.18  165878.398  \n 2018-02-07   -0.61    -1.60   57814.86  219454.072  \n 2018-02-06   -1.61    -4.06   77640.72  295921.611  \n 2018-02-05   -0.53    -1.32   87597.20  341256.312  \n 2018-02-02    1.86     4.86   61043.80  238705.631  \n 2018-02-01   -1.59    -3.99   70534.44  271702.538  \n 2018-01-31    0.95     2.44   64464.93  255220.512  \n 2018-01-30   -0.32    -0.82   50732.92  197946.627  \n 2018-01-29   -1.82    -4.43   89923.49  358227.694  \n 2018-01-26    0.28     0.69   96532.37  399506.791  \n 2018-01-25   -0.27    -0.66   61714.01  251197.585  \n 2018-01-24    0.07     0.17   85799.07  352954.809  \n 2018-01-23   -0.49    -1.18  101434.33  416787.114  \n 2018-01-22   -0.16    -0.38   98480.55  405977.917  \n 2018-01-19   -1.43    -3.32  130771.92  544013.773  \n 2018-01-18   -0.11    -0.25   71229.58  306052.233  \n 2018-01-17   -1.04    -2.35   83611.39  361452.040  \n 2018-01-16    1.43     3.34  138010.39  614447.662  \n 2018-01-15    0.58     1.37   85987.16  370232.984  \n 2018-01-12   -0.31    -0.73   47475.25  199393.796  \n 2018-01-11   -0.28    -0.65   52260.86  221385.673  \n 2018-01-10    0.24     0.56   84914.06  359969.010  \n 2018-01-09    0.55     1.31  107862.10  461103.318  \n 2018-01-08   -1.82    -4.15  142886.11  602651.862  \n 2018-01-05    3.99    10.01  221756.95  962386.231  \n 2018-01-04    0.46     1.17  116358.94  460960.052  \n 2018-01-03   -0.25    -0.63   94272.67  368201.157  \n 2018-01-02    0.31     0.79   62566.85  247146.470  }"
     },
     "execution_count": 33,
     "metadata": {},
     "output_type": "execute_result"
    }
   ],
   "source": [
    "df_dict={name:df for name,df in df_groups}\n",
    "df_dict"
   ],
   "metadata": {
    "collapsed": false,
    "ExecuteTime": {
     "end_time": "2024-03-01T13:09:27.382953200Z",
     "start_time": "2024-03-01T13:09:27.359102300Z"
    }
   },
   "id": "c961814ec93e7702",
   "execution_count": 33
  },
  {
   "cell_type": "code",
   "outputs": [
    {
     "data": {
      "text/plain": "dict_keys(['600000.SH', '600600.SH'])"
     },
     "execution_count": 34,
     "metadata": {},
     "output_type": "execute_result"
    }
   ],
   "source": [
    "df_dict.keys()"
   ],
   "metadata": {
    "collapsed": false,
    "ExecuteTime": {
     "end_time": "2024-03-01T13:09:53.418438200Z",
     "start_time": "2024-03-01T13:09:53.415240800Z"
    }
   },
   "id": "fcd448cbdd6e553c",
   "execution_count": 34
  },
  {
   "cell_type": "code",
   "outputs": [
    {
     "data": {
      "text/plain": "              ts_code trade_date   open   high    low  close  pre_close  \\\ntrade_date                                                                \n2018-01-03  600000.SH   20180102  12.61  12.77  12.60  12.72      12.59   \n2018-01-04  600000.SH   20180104  12.70  12.73  12.62  12.66      12.66   \n2018-01-05  600000.SH   20180105  12.67  12.71  12.62  12.69      12.66   \n2018-01-08  600000.SH   20180108  12.69  12.71  12.63  12.68      12.69   \n2018-01-09  600000.SH   20180109  12.68  12.74  12.66  12.70      12.68   \n2018-01-10  600000.SH   20180110  12.70  13.09  12.68  13.02      12.70   \n2018-01-11  600000.SH   20180111  12.95  13.04  12.87  12.94      13.02   \n2018-01-12  600000.SH   20180112  12.97  13.00  12.90  12.91      12.94   \n2018-01-15  600000.SH   20180115  12.88  13.08  12.85  13.02      12.91   \n2018-01-16  600000.SH   20180116  12.97  13.06  12.78  12.90      13.02   \n2018-01-17  600000.SH   20180117  12.91  13.42  12.89  13.10      12.90   \n2018-01-18  600000.SH   20180118  13.14  13.25  13.05  13.24      13.10   \n2018-01-19  600000.SH   20180119  13.33  13.61  13.18  13.24      13.24   \n2018-01-22  600000.SH   20180122  12.93  13.15  12.71  12.77      13.24   \n2018-01-23  600000.SH   20180123  12.75  12.92  12.68  12.90      12.77   \n2018-01-24  600000.SH   20180124  12.97  14.00  12.89  13.57      12.90   \n2018-01-25  600000.SH   20180125  13.54  13.76  13.36  13.65      13.57   \n2018-01-26  600000.SH   20180126  13.65  13.72  13.36  13.41      13.65   \n2018-01-29  600000.SH   20180129  13.48  13.53  13.32  13.46      13.41   \n2018-01-30  600000.SH   20180130  13.45  13.49  13.09  13.11      13.46   \n2018-01-31  600000.SH   20180131  13.05  13.19  12.98  13.17      13.11   \n2018-02-01  600000.SH   20180201  13.14  13.33  12.94  13.30      13.17   \n2018-02-02  600000.SH   20180202  13.19  13.19  13.01  13.14      13.30   \n2018-02-05  600000.SH   20180205  13.00  13.54  12.98  13.49      13.14   \n2018-02-06  600000.SH   20180206  13.29  13.50  13.20  13.48      13.49   \n2018-02-07  600000.SH   20180207  13.58  13.90  13.24  13.45      13.48   \n2018-02-08  600000.SH   20180208  13.34  13.40  12.95  13.10      13.45   \n2018-02-09  600000.SH   20180209  12.89  12.98  12.24  12.78      13.10   \n2018-02-12  600000.SH   20180212  12.66  12.68  12.43  12.49      12.78   \n2018-02-13  600000.SH   20180213  12.55  12.68  12.50  12.51      12.49   \n2018-02-14  600000.SH   20180214  12.50  12.55  12.38  12.46      12.51   \n2018-02-22  600000.SH   20180222  12.60  12.68  12.53  12.63      12.46   \n2018-02-23  600000.SH   20180223  12.66  12.78  12.59  12.72      12.63   \n2018-02-26  600000.SH   20180226  12.77  12.84  12.61  12.73      12.72   \n2018-02-27  600000.SH   20180227  12.75  12.76  12.61  12.69      12.73   \n2018-02-28  600000.SH   20180228  12.61  12.66  12.44  12.46      12.69   \n2018-03-01  600000.SH   20180301  12.40  12.50  12.38  12.47      12.46   \n2018-03-02  600000.SH   20180302  12.40  12.46  12.36  12.41      12.47   \n2018-03-05  600000.SH   20180305  12.41  12.48  12.34  12.42      12.41   \n2018-03-06  600000.SH   20180306  12.48  12.51  12.38  12.49      12.42   \n2018-03-07  600000.SH   20180307  12.51  12.60  12.46  12.49      12.49   \n2018-03-08  600000.SH   20180308  12.55  12.55  12.40  12.47      12.49   \n2018-03-09  600000.SH   20180309  12.49  12.51  12.42  12.48      12.47   \n2018-03-12  600000.SH   20180312  12.53  12.54  12.46  12.50      12.48   \n2018-03-13  600000.SH   20180313  12.50  12.58  12.43  12.49      12.50   \n2018-03-14  600000.SH   20180314  12.45  12.45  12.38  12.39      12.49   \n2018-03-15  600000.SH   20180315  12.35  12.41  12.34  12.39      12.39   \n2018-03-16  600000.SH   20180316  12.36  12.40  12.30  12.30      12.39   \n2018-03-19  600000.SH   20180319  12.31  12.33  12.26  12.31      12.30   \n2018-03-20  600000.SH   20180320  12.28  12.39  12.25  12.32      12.31   \n2018-03-21  600000.SH   20180321  12.34  12.40  12.28  12.29      12.32   \n2018-03-22  600000.SH   20180322  12.35  12.35  12.25  12.25      12.29   \n2018-03-23  600000.SH   20180323  12.00  12.06  11.64  11.71      12.25   \n2018-03-26  600000.SH   20180326  11.71  11.75  11.50  11.61      11.71   \n2018-03-27  600000.SH   20180327  11.70  11.77  11.56  11.62      11.61   \n2018-03-28  600000.SH   20180328  11.53  11.75  11.52  11.57      11.62   \n2018-03-29  600000.SH   20180329  11.57  11.71  11.45  11.62      11.57   \n2018-03-30  600000.SH   20180330  11.63  11.69  11.61  11.65      11.62   \n\n            change  pct_chg         vol       amount  \ntrade_date                                            \n2018-01-03    0.13     1.03   313230.53   398614.966  \n2018-01-04    0.00     0.00   278838.04   353205.838  \n2018-01-05    0.03     0.24   310267.44   393058.250  \n2018-01-08   -0.01    -0.08   313898.87   397842.209  \n2018-01-09    0.02     0.16   262154.32   332848.333  \n2018-01-10    0.32     2.52   906799.90  1174202.006  \n2018-01-11   -0.08    -0.61   378164.12   489588.906  \n2018-01-12   -0.03    -0.23   242034.19   313215.088  \n2018-01-15    0.11     0.85   613206.80   796861.091  \n2018-01-16   -0.12    -0.92   748926.52   963701.144  \n2018-01-17    0.20     1.55  1271328.13  1675235.171  \n2018-01-18    0.14     1.07  1116080.76  1465159.094  \n2018-01-19    0.00     0.00  1716488.71  2300220.633  \n2018-01-22   -0.47    -3.55  2725138.01  3514775.144  \n2018-01-23    0.13     1.02  2178274.57  2791828.653  \n2018-01-24    0.67     5.19  3796536.29  5099364.114  \n2018-01-25    0.08     0.59  1769896.31  2400208.784  \n2018-01-26   -0.24    -1.76  2184196.85  2954019.925  \n2018-01-29    0.05     0.37  1537831.04  2065139.247  \n2018-01-30   -0.35    -2.60  1078040.18  1429924.976  \n2018-01-31    0.06     0.46  1177032.64  1541960.901  \n2018-02-01    0.13     0.99  1735733.31  2289044.601  \n2018-02-02   -0.16    -1.20   717967.80   941467.191  \n2018-02-05    0.35     2.66  1501496.57  2006361.757  \n2018-02-06   -0.01    -0.07  2443589.92  3270199.180  \n2018-02-07   -0.03    -0.22  2007701.15  2720519.687  \n2018-02-08   -0.35    -2.60  1094268.72  1438198.801  \n2018-02-09   -0.32    -2.44  1492573.56  1877264.356  \n2018-02-12   -0.29    -2.27   647991.97   811027.710  \n2018-02-13    0.02     0.16   549002.14   690054.113  \n2018-02-14   -0.05    -0.40   325978.11   406060.202  \n2018-02-22    0.17     1.36   420122.85   529856.471  \n2018-02-23    0.09     0.71   387365.15   491768.409  \n2018-02-26    0.01     0.08   488060.55   620261.080  \n2018-02-27   -0.04    -0.31   485610.87   615622.149  \n2018-02-28   -0.23    -1.81   398889.38   499258.844  \n2018-03-01    0.01     0.08   344910.31   429574.072  \n2018-03-02   -0.06    -0.48   230241.32   285473.130  \n2018-03-05    0.01     0.08   293434.64   363849.705  \n2018-03-06    0.07     0.56   272226.68   339015.159  \n2018-03-07    0.00     0.00   388175.75   487036.820  \n2018-03-08   -0.02    -0.16   221641.32   276013.913  \n2018-03-09    0.01     0.08   235582.87   293550.899  \n2018-03-12    0.02     0.16   251618.21   314544.074  \n2018-03-13   -0.01    -0.08   251450.00   314545.358  \n2018-03-14   -0.10    -0.80   228046.03   282970.086  \n2018-03-15    0.00     0.00   172877.74   213972.089  \n2018-03-16   -0.09    -0.73   267813.99   330778.426  \n2018-03-19    0.01     0.08   168960.48   207819.310  \n2018-03-20    0.01     0.08   206722.83   254187.843  \n2018-03-21   -0.03    -0.24   238784.65   294872.209  \n2018-03-22   -0.04    -0.33   229484.84   281975.042  \n2018-03-23   -0.54    -4.41   571063.91   676679.666  \n2018-03-26   -0.10    -0.85   364250.54   422233.460  \n2018-03-27    0.01     0.09   273328.09   318586.664  \n2018-03-28   -0.05    -0.43   229112.82   266121.467  \n2018-03-29    0.05     0.43   331088.05   383064.999  \n2018-03-30    0.03     0.26   232719.65   270987.701  ",
      "text/html": "<div>\n<style scoped>\n    .dataframe tbody tr th:only-of-type {\n        vertical-align: middle;\n    }\n\n    .dataframe tbody tr th {\n        vertical-align: top;\n    }\n\n    .dataframe thead th {\n        text-align: right;\n    }\n</style>\n<table border=\"1\" class=\"dataframe\">\n  <thead>\n    <tr style=\"text-align: right;\">\n      <th></th>\n      <th>ts_code</th>\n      <th>trade_date</th>\n      <th>open</th>\n      <th>high</th>\n      <th>low</th>\n      <th>close</th>\n      <th>pre_close</th>\n      <th>change</th>\n      <th>pct_chg</th>\n      <th>vol</th>\n      <th>amount</th>\n    </tr>\n    <tr>\n      <th>trade_date</th>\n      <th></th>\n      <th></th>\n      <th></th>\n      <th></th>\n      <th></th>\n      <th></th>\n      <th></th>\n      <th></th>\n      <th></th>\n      <th></th>\n      <th></th>\n    </tr>\n  </thead>\n  <tbody>\n    <tr>\n      <th>2018-01-03</th>\n      <td>600000.SH</td>\n      <td>20180102</td>\n      <td>12.61</td>\n      <td>12.77</td>\n      <td>12.60</td>\n      <td>12.72</td>\n      <td>12.59</td>\n      <td>0.13</td>\n      <td>1.03</td>\n      <td>313230.53</td>\n      <td>398614.966</td>\n    </tr>\n    <tr>\n      <th>2018-01-04</th>\n      <td>600000.SH</td>\n      <td>20180104</td>\n      <td>12.70</td>\n      <td>12.73</td>\n      <td>12.62</td>\n      <td>12.66</td>\n      <td>12.66</td>\n      <td>0.00</td>\n      <td>0.00</td>\n      <td>278838.04</td>\n      <td>353205.838</td>\n    </tr>\n    <tr>\n      <th>2018-01-05</th>\n      <td>600000.SH</td>\n      <td>20180105</td>\n      <td>12.67</td>\n      <td>12.71</td>\n      <td>12.62</td>\n      <td>12.69</td>\n      <td>12.66</td>\n      <td>0.03</td>\n      <td>0.24</td>\n      <td>310267.44</td>\n      <td>393058.250</td>\n    </tr>\n    <tr>\n      <th>2018-01-08</th>\n      <td>600000.SH</td>\n      <td>20180108</td>\n      <td>12.69</td>\n      <td>12.71</td>\n      <td>12.63</td>\n      <td>12.68</td>\n      <td>12.69</td>\n      <td>-0.01</td>\n      <td>-0.08</td>\n      <td>313898.87</td>\n      <td>397842.209</td>\n    </tr>\n    <tr>\n      <th>2018-01-09</th>\n      <td>600000.SH</td>\n      <td>20180109</td>\n      <td>12.68</td>\n      <td>12.74</td>\n      <td>12.66</td>\n      <td>12.70</td>\n      <td>12.68</td>\n      <td>0.02</td>\n      <td>0.16</td>\n      <td>262154.32</td>\n      <td>332848.333</td>\n    </tr>\n    <tr>\n      <th>2018-01-10</th>\n      <td>600000.SH</td>\n      <td>20180110</td>\n      <td>12.70</td>\n      <td>13.09</td>\n      <td>12.68</td>\n      <td>13.02</td>\n      <td>12.70</td>\n      <td>0.32</td>\n      <td>2.52</td>\n      <td>906799.90</td>\n      <td>1174202.006</td>\n    </tr>\n    <tr>\n      <th>2018-01-11</th>\n      <td>600000.SH</td>\n      <td>20180111</td>\n      <td>12.95</td>\n      <td>13.04</td>\n      <td>12.87</td>\n      <td>12.94</td>\n      <td>13.02</td>\n      <td>-0.08</td>\n      <td>-0.61</td>\n      <td>378164.12</td>\n      <td>489588.906</td>\n    </tr>\n    <tr>\n      <th>2018-01-12</th>\n      <td>600000.SH</td>\n      <td>20180112</td>\n      <td>12.97</td>\n      <td>13.00</td>\n      <td>12.90</td>\n      <td>12.91</td>\n      <td>12.94</td>\n      <td>-0.03</td>\n      <td>-0.23</td>\n      <td>242034.19</td>\n      <td>313215.088</td>\n    </tr>\n    <tr>\n      <th>2018-01-15</th>\n      <td>600000.SH</td>\n      <td>20180115</td>\n      <td>12.88</td>\n      <td>13.08</td>\n      <td>12.85</td>\n      <td>13.02</td>\n      <td>12.91</td>\n      <td>0.11</td>\n      <td>0.85</td>\n      <td>613206.80</td>\n      <td>796861.091</td>\n    </tr>\n    <tr>\n      <th>2018-01-16</th>\n      <td>600000.SH</td>\n      <td>20180116</td>\n      <td>12.97</td>\n      <td>13.06</td>\n      <td>12.78</td>\n      <td>12.90</td>\n      <td>13.02</td>\n      <td>-0.12</td>\n      <td>-0.92</td>\n      <td>748926.52</td>\n      <td>963701.144</td>\n    </tr>\n    <tr>\n      <th>2018-01-17</th>\n      <td>600000.SH</td>\n      <td>20180117</td>\n      <td>12.91</td>\n      <td>13.42</td>\n      <td>12.89</td>\n      <td>13.10</td>\n      <td>12.90</td>\n      <td>0.20</td>\n      <td>1.55</td>\n      <td>1271328.13</td>\n      <td>1675235.171</td>\n    </tr>\n    <tr>\n      <th>2018-01-18</th>\n      <td>600000.SH</td>\n      <td>20180118</td>\n      <td>13.14</td>\n      <td>13.25</td>\n      <td>13.05</td>\n      <td>13.24</td>\n      <td>13.10</td>\n      <td>0.14</td>\n      <td>1.07</td>\n      <td>1116080.76</td>\n      <td>1465159.094</td>\n    </tr>\n    <tr>\n      <th>2018-01-19</th>\n      <td>600000.SH</td>\n      <td>20180119</td>\n      <td>13.33</td>\n      <td>13.61</td>\n      <td>13.18</td>\n      <td>13.24</td>\n      <td>13.24</td>\n      <td>0.00</td>\n      <td>0.00</td>\n      <td>1716488.71</td>\n      <td>2300220.633</td>\n    </tr>\n    <tr>\n      <th>2018-01-22</th>\n      <td>600000.SH</td>\n      <td>20180122</td>\n      <td>12.93</td>\n      <td>13.15</td>\n      <td>12.71</td>\n      <td>12.77</td>\n      <td>13.24</td>\n      <td>-0.47</td>\n      <td>-3.55</td>\n      <td>2725138.01</td>\n      <td>3514775.144</td>\n    </tr>\n    <tr>\n      <th>2018-01-23</th>\n      <td>600000.SH</td>\n      <td>20180123</td>\n      <td>12.75</td>\n      <td>12.92</td>\n      <td>12.68</td>\n      <td>12.90</td>\n      <td>12.77</td>\n      <td>0.13</td>\n      <td>1.02</td>\n      <td>2178274.57</td>\n      <td>2791828.653</td>\n    </tr>\n    <tr>\n      <th>2018-01-24</th>\n      <td>600000.SH</td>\n      <td>20180124</td>\n      <td>12.97</td>\n      <td>14.00</td>\n      <td>12.89</td>\n      <td>13.57</td>\n      <td>12.90</td>\n      <td>0.67</td>\n      <td>5.19</td>\n      <td>3796536.29</td>\n      <td>5099364.114</td>\n    </tr>\n    <tr>\n      <th>2018-01-25</th>\n      <td>600000.SH</td>\n      <td>20180125</td>\n      <td>13.54</td>\n      <td>13.76</td>\n      <td>13.36</td>\n      <td>13.65</td>\n      <td>13.57</td>\n      <td>0.08</td>\n      <td>0.59</td>\n      <td>1769896.31</td>\n      <td>2400208.784</td>\n    </tr>\n    <tr>\n      <th>2018-01-26</th>\n      <td>600000.SH</td>\n      <td>20180126</td>\n      <td>13.65</td>\n      <td>13.72</td>\n      <td>13.36</td>\n      <td>13.41</td>\n      <td>13.65</td>\n      <td>-0.24</td>\n      <td>-1.76</td>\n      <td>2184196.85</td>\n      <td>2954019.925</td>\n    </tr>\n    <tr>\n      <th>2018-01-29</th>\n      <td>600000.SH</td>\n      <td>20180129</td>\n      <td>13.48</td>\n      <td>13.53</td>\n      <td>13.32</td>\n      <td>13.46</td>\n      <td>13.41</td>\n      <td>0.05</td>\n      <td>0.37</td>\n      <td>1537831.04</td>\n      <td>2065139.247</td>\n    </tr>\n    <tr>\n      <th>2018-01-30</th>\n      <td>600000.SH</td>\n      <td>20180130</td>\n      <td>13.45</td>\n      <td>13.49</td>\n      <td>13.09</td>\n      <td>13.11</td>\n      <td>13.46</td>\n      <td>-0.35</td>\n      <td>-2.60</td>\n      <td>1078040.18</td>\n      <td>1429924.976</td>\n    </tr>\n    <tr>\n      <th>2018-01-31</th>\n      <td>600000.SH</td>\n      <td>20180131</td>\n      <td>13.05</td>\n      <td>13.19</td>\n      <td>12.98</td>\n      <td>13.17</td>\n      <td>13.11</td>\n      <td>0.06</td>\n      <td>0.46</td>\n      <td>1177032.64</td>\n      <td>1541960.901</td>\n    </tr>\n    <tr>\n      <th>2018-02-01</th>\n      <td>600000.SH</td>\n      <td>20180201</td>\n      <td>13.14</td>\n      <td>13.33</td>\n      <td>12.94</td>\n      <td>13.30</td>\n      <td>13.17</td>\n      <td>0.13</td>\n      <td>0.99</td>\n      <td>1735733.31</td>\n      <td>2289044.601</td>\n    </tr>\n    <tr>\n      <th>2018-02-02</th>\n      <td>600000.SH</td>\n      <td>20180202</td>\n      <td>13.19</td>\n      <td>13.19</td>\n      <td>13.01</td>\n      <td>13.14</td>\n      <td>13.30</td>\n      <td>-0.16</td>\n      <td>-1.20</td>\n      <td>717967.80</td>\n      <td>941467.191</td>\n    </tr>\n    <tr>\n      <th>2018-02-05</th>\n      <td>600000.SH</td>\n      <td>20180205</td>\n      <td>13.00</td>\n      <td>13.54</td>\n      <td>12.98</td>\n      <td>13.49</td>\n      <td>13.14</td>\n      <td>0.35</td>\n      <td>2.66</td>\n      <td>1501496.57</td>\n      <td>2006361.757</td>\n    </tr>\n    <tr>\n      <th>2018-02-06</th>\n      <td>600000.SH</td>\n      <td>20180206</td>\n      <td>13.29</td>\n      <td>13.50</td>\n      <td>13.20</td>\n      <td>13.48</td>\n      <td>13.49</td>\n      <td>-0.01</td>\n      <td>-0.07</td>\n      <td>2443589.92</td>\n      <td>3270199.180</td>\n    </tr>\n    <tr>\n      <th>2018-02-07</th>\n      <td>600000.SH</td>\n      <td>20180207</td>\n      <td>13.58</td>\n      <td>13.90</td>\n      <td>13.24</td>\n      <td>13.45</td>\n      <td>13.48</td>\n      <td>-0.03</td>\n      <td>-0.22</td>\n      <td>2007701.15</td>\n      <td>2720519.687</td>\n    </tr>\n    <tr>\n      <th>2018-02-08</th>\n      <td>600000.SH</td>\n      <td>20180208</td>\n      <td>13.34</td>\n      <td>13.40</td>\n      <td>12.95</td>\n      <td>13.10</td>\n      <td>13.45</td>\n      <td>-0.35</td>\n      <td>-2.60</td>\n      <td>1094268.72</td>\n      <td>1438198.801</td>\n    </tr>\n    <tr>\n      <th>2018-02-09</th>\n      <td>600000.SH</td>\n      <td>20180209</td>\n      <td>12.89</td>\n      <td>12.98</td>\n      <td>12.24</td>\n      <td>12.78</td>\n      <td>13.10</td>\n      <td>-0.32</td>\n      <td>-2.44</td>\n      <td>1492573.56</td>\n      <td>1877264.356</td>\n    </tr>\n    <tr>\n      <th>2018-02-12</th>\n      <td>600000.SH</td>\n      <td>20180212</td>\n      <td>12.66</td>\n      <td>12.68</td>\n      <td>12.43</td>\n      <td>12.49</td>\n      <td>12.78</td>\n      <td>-0.29</td>\n      <td>-2.27</td>\n      <td>647991.97</td>\n      <td>811027.710</td>\n    </tr>\n    <tr>\n      <th>2018-02-13</th>\n      <td>600000.SH</td>\n      <td>20180213</td>\n      <td>12.55</td>\n      <td>12.68</td>\n      <td>12.50</td>\n      <td>12.51</td>\n      <td>12.49</td>\n      <td>0.02</td>\n      <td>0.16</td>\n      <td>549002.14</td>\n      <td>690054.113</td>\n    </tr>\n    <tr>\n      <th>2018-02-14</th>\n      <td>600000.SH</td>\n      <td>20180214</td>\n      <td>12.50</td>\n      <td>12.55</td>\n      <td>12.38</td>\n      <td>12.46</td>\n      <td>12.51</td>\n      <td>-0.05</td>\n      <td>-0.40</td>\n      <td>325978.11</td>\n      <td>406060.202</td>\n    </tr>\n    <tr>\n      <th>2018-02-22</th>\n      <td>600000.SH</td>\n      <td>20180222</td>\n      <td>12.60</td>\n      <td>12.68</td>\n      <td>12.53</td>\n      <td>12.63</td>\n      <td>12.46</td>\n      <td>0.17</td>\n      <td>1.36</td>\n      <td>420122.85</td>\n      <td>529856.471</td>\n    </tr>\n    <tr>\n      <th>2018-02-23</th>\n      <td>600000.SH</td>\n      <td>20180223</td>\n      <td>12.66</td>\n      <td>12.78</td>\n      <td>12.59</td>\n      <td>12.72</td>\n      <td>12.63</td>\n      <td>0.09</td>\n      <td>0.71</td>\n      <td>387365.15</td>\n      <td>491768.409</td>\n    </tr>\n    <tr>\n      <th>2018-02-26</th>\n      <td>600000.SH</td>\n      <td>20180226</td>\n      <td>12.77</td>\n      <td>12.84</td>\n      <td>12.61</td>\n      <td>12.73</td>\n      <td>12.72</td>\n      <td>0.01</td>\n      <td>0.08</td>\n      <td>488060.55</td>\n      <td>620261.080</td>\n    </tr>\n    <tr>\n      <th>2018-02-27</th>\n      <td>600000.SH</td>\n      <td>20180227</td>\n      <td>12.75</td>\n      <td>12.76</td>\n      <td>12.61</td>\n      <td>12.69</td>\n      <td>12.73</td>\n      <td>-0.04</td>\n      <td>-0.31</td>\n      <td>485610.87</td>\n      <td>615622.149</td>\n    </tr>\n    <tr>\n      <th>2018-02-28</th>\n      <td>600000.SH</td>\n      <td>20180228</td>\n      <td>12.61</td>\n      <td>12.66</td>\n      <td>12.44</td>\n      <td>12.46</td>\n      <td>12.69</td>\n      <td>-0.23</td>\n      <td>-1.81</td>\n      <td>398889.38</td>\n      <td>499258.844</td>\n    </tr>\n    <tr>\n      <th>2018-03-01</th>\n      <td>600000.SH</td>\n      <td>20180301</td>\n      <td>12.40</td>\n      <td>12.50</td>\n      <td>12.38</td>\n      <td>12.47</td>\n      <td>12.46</td>\n      <td>0.01</td>\n      <td>0.08</td>\n      <td>344910.31</td>\n      <td>429574.072</td>\n    </tr>\n    <tr>\n      <th>2018-03-02</th>\n      <td>600000.SH</td>\n      <td>20180302</td>\n      <td>12.40</td>\n      <td>12.46</td>\n      <td>12.36</td>\n      <td>12.41</td>\n      <td>12.47</td>\n      <td>-0.06</td>\n      <td>-0.48</td>\n      <td>230241.32</td>\n      <td>285473.130</td>\n    </tr>\n    <tr>\n      <th>2018-03-05</th>\n      <td>600000.SH</td>\n      <td>20180305</td>\n      <td>12.41</td>\n      <td>12.48</td>\n      <td>12.34</td>\n      <td>12.42</td>\n      <td>12.41</td>\n      <td>0.01</td>\n      <td>0.08</td>\n      <td>293434.64</td>\n      <td>363849.705</td>\n    </tr>\n    <tr>\n      <th>2018-03-06</th>\n      <td>600000.SH</td>\n      <td>20180306</td>\n      <td>12.48</td>\n      <td>12.51</td>\n      <td>12.38</td>\n      <td>12.49</td>\n      <td>12.42</td>\n      <td>0.07</td>\n      <td>0.56</td>\n      <td>272226.68</td>\n      <td>339015.159</td>\n    </tr>\n    <tr>\n      <th>2018-03-07</th>\n      <td>600000.SH</td>\n      <td>20180307</td>\n      <td>12.51</td>\n      <td>12.60</td>\n      <td>12.46</td>\n      <td>12.49</td>\n      <td>12.49</td>\n      <td>0.00</td>\n      <td>0.00</td>\n      <td>388175.75</td>\n      <td>487036.820</td>\n    </tr>\n    <tr>\n      <th>2018-03-08</th>\n      <td>600000.SH</td>\n      <td>20180308</td>\n      <td>12.55</td>\n      <td>12.55</td>\n      <td>12.40</td>\n      <td>12.47</td>\n      <td>12.49</td>\n      <td>-0.02</td>\n      <td>-0.16</td>\n      <td>221641.32</td>\n      <td>276013.913</td>\n    </tr>\n    <tr>\n      <th>2018-03-09</th>\n      <td>600000.SH</td>\n      <td>20180309</td>\n      <td>12.49</td>\n      <td>12.51</td>\n      <td>12.42</td>\n      <td>12.48</td>\n      <td>12.47</td>\n      <td>0.01</td>\n      <td>0.08</td>\n      <td>235582.87</td>\n      <td>293550.899</td>\n    </tr>\n    <tr>\n      <th>2018-03-12</th>\n      <td>600000.SH</td>\n      <td>20180312</td>\n      <td>12.53</td>\n      <td>12.54</td>\n      <td>12.46</td>\n      <td>12.50</td>\n      <td>12.48</td>\n      <td>0.02</td>\n      <td>0.16</td>\n      <td>251618.21</td>\n      <td>314544.074</td>\n    </tr>\n    <tr>\n      <th>2018-03-13</th>\n      <td>600000.SH</td>\n      <td>20180313</td>\n      <td>12.50</td>\n      <td>12.58</td>\n      <td>12.43</td>\n      <td>12.49</td>\n      <td>12.50</td>\n      <td>-0.01</td>\n      <td>-0.08</td>\n      <td>251450.00</td>\n      <td>314545.358</td>\n    </tr>\n    <tr>\n      <th>2018-03-14</th>\n      <td>600000.SH</td>\n      <td>20180314</td>\n      <td>12.45</td>\n      <td>12.45</td>\n      <td>12.38</td>\n      <td>12.39</td>\n      <td>12.49</td>\n      <td>-0.10</td>\n      <td>-0.80</td>\n      <td>228046.03</td>\n      <td>282970.086</td>\n    </tr>\n    <tr>\n      <th>2018-03-15</th>\n      <td>600000.SH</td>\n      <td>20180315</td>\n      <td>12.35</td>\n      <td>12.41</td>\n      <td>12.34</td>\n      <td>12.39</td>\n      <td>12.39</td>\n      <td>0.00</td>\n      <td>0.00</td>\n      <td>172877.74</td>\n      <td>213972.089</td>\n    </tr>\n    <tr>\n      <th>2018-03-16</th>\n      <td>600000.SH</td>\n      <td>20180316</td>\n      <td>12.36</td>\n      <td>12.40</td>\n      <td>12.30</td>\n      <td>12.30</td>\n      <td>12.39</td>\n      <td>-0.09</td>\n      <td>-0.73</td>\n      <td>267813.99</td>\n      <td>330778.426</td>\n    </tr>\n    <tr>\n      <th>2018-03-19</th>\n      <td>600000.SH</td>\n      <td>20180319</td>\n      <td>12.31</td>\n      <td>12.33</td>\n      <td>12.26</td>\n      <td>12.31</td>\n      <td>12.30</td>\n      <td>0.01</td>\n      <td>0.08</td>\n      <td>168960.48</td>\n      <td>207819.310</td>\n    </tr>\n    <tr>\n      <th>2018-03-20</th>\n      <td>600000.SH</td>\n      <td>20180320</td>\n      <td>12.28</td>\n      <td>12.39</td>\n      <td>12.25</td>\n      <td>12.32</td>\n      <td>12.31</td>\n      <td>0.01</td>\n      <td>0.08</td>\n      <td>206722.83</td>\n      <td>254187.843</td>\n    </tr>\n    <tr>\n      <th>2018-03-21</th>\n      <td>600000.SH</td>\n      <td>20180321</td>\n      <td>12.34</td>\n      <td>12.40</td>\n      <td>12.28</td>\n      <td>12.29</td>\n      <td>12.32</td>\n      <td>-0.03</td>\n      <td>-0.24</td>\n      <td>238784.65</td>\n      <td>294872.209</td>\n    </tr>\n    <tr>\n      <th>2018-03-22</th>\n      <td>600000.SH</td>\n      <td>20180322</td>\n      <td>12.35</td>\n      <td>12.35</td>\n      <td>12.25</td>\n      <td>12.25</td>\n      <td>12.29</td>\n      <td>-0.04</td>\n      <td>-0.33</td>\n      <td>229484.84</td>\n      <td>281975.042</td>\n    </tr>\n    <tr>\n      <th>2018-03-23</th>\n      <td>600000.SH</td>\n      <td>20180323</td>\n      <td>12.00</td>\n      <td>12.06</td>\n      <td>11.64</td>\n      <td>11.71</td>\n      <td>12.25</td>\n      <td>-0.54</td>\n      <td>-4.41</td>\n      <td>571063.91</td>\n      <td>676679.666</td>\n    </tr>\n    <tr>\n      <th>2018-03-26</th>\n      <td>600000.SH</td>\n      <td>20180326</td>\n      <td>11.71</td>\n      <td>11.75</td>\n      <td>11.50</td>\n      <td>11.61</td>\n      <td>11.71</td>\n      <td>-0.10</td>\n      <td>-0.85</td>\n      <td>364250.54</td>\n      <td>422233.460</td>\n    </tr>\n    <tr>\n      <th>2018-03-27</th>\n      <td>600000.SH</td>\n      <td>20180327</td>\n      <td>11.70</td>\n      <td>11.77</td>\n      <td>11.56</td>\n      <td>11.62</td>\n      <td>11.61</td>\n      <td>0.01</td>\n      <td>0.09</td>\n      <td>273328.09</td>\n      <td>318586.664</td>\n    </tr>\n    <tr>\n      <th>2018-03-28</th>\n      <td>600000.SH</td>\n      <td>20180328</td>\n      <td>11.53</td>\n      <td>11.75</td>\n      <td>11.52</td>\n      <td>11.57</td>\n      <td>11.62</td>\n      <td>-0.05</td>\n      <td>-0.43</td>\n      <td>229112.82</td>\n      <td>266121.467</td>\n    </tr>\n    <tr>\n      <th>2018-03-29</th>\n      <td>600000.SH</td>\n      <td>20180329</td>\n      <td>11.57</td>\n      <td>11.71</td>\n      <td>11.45</td>\n      <td>11.62</td>\n      <td>11.57</td>\n      <td>0.05</td>\n      <td>0.43</td>\n      <td>331088.05</td>\n      <td>383064.999</td>\n    </tr>\n    <tr>\n      <th>2018-03-30</th>\n      <td>600000.SH</td>\n      <td>20180330</td>\n      <td>11.63</td>\n      <td>11.69</td>\n      <td>11.61</td>\n      <td>11.65</td>\n      <td>11.62</td>\n      <td>0.03</td>\n      <td>0.26</td>\n      <td>232719.65</td>\n      <td>270987.701</td>\n    </tr>\n  </tbody>\n</table>\n</div>"
     },
     "execution_count": 35,
     "metadata": {},
     "output_type": "execute_result"
    }
   ],
   "source": [
    "df_concat.query(\"ts_code=='600000.SH'\")"
   ],
   "metadata": {
    "collapsed": false,
    "ExecuteTime": {
     "end_time": "2024-03-01T13:10:09.775072200Z",
     "start_time": "2024-03-01T13:10:09.742159100Z"
    }
   },
   "id": "d0322f44caaf2b10",
   "execution_count": 35
  }
 ],
 "metadata": {
  "kernelspec": {
   "display_name": "Python 3",
   "language": "python",
   "name": "python3"
  },
  "language_info": {
   "codemirror_mode": {
    "name": "ipython",
    "version": 2
   },
   "file_extension": ".py",
   "mimetype": "text/x-python",
   "name": "python",
   "nbconvert_exporter": "python",
   "pygments_lexer": "ipython2",
   "version": "2.7.6"
  }
 },
 "nbformat": 4,
 "nbformat_minor": 5
}
