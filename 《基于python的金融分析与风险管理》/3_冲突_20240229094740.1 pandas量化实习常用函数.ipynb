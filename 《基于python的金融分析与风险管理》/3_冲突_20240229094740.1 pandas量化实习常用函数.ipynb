{
 "cells": [
  {
   "cell_type": "markdown",
   "source": [
    "## pandas量化实习常用函数介绍"
   ],
   "metadata": {
    "collapsed": false
   },
   "id": "eb479737651ca6af"
  },
  {
   "cell_type": "code",
   "outputs": [],
   "source": [
    "import pandas as pd\n",
    "import tushare as ts"
   ],
   "metadata": {
    "collapsed": false,
    "ExecuteTime": {
     "end_time": "2024-02-29T01:47:34.206882100Z",
     "start_time": "2024-02-29T01:47:34.186923900Z"
    }
   },
   "id": "4f176df18fd0f5d1",
   "execution_count": 4
  },
  {
   "cell_type": "code",
   "outputs": [
    {
     "data": {
      "text/plain": "     ts_code trade_date   open   high    low  close  pre_close  change  \\\n0  600000.SH   20180330  11.63  11.69  11.61  11.65      11.62    0.03   \n1  600000.SH   20180329  11.57  11.71  11.45  11.62      11.57    0.05   \n2  600000.SH   20180328  11.53  11.75  11.52  11.57      11.62   -0.05   \n3  600000.SH   20180327  11.70  11.77  11.56  11.62      11.61    0.01   \n4  600000.SH   20180326  11.71  11.75  11.50  11.61      11.71   -0.10   \n\n   pct_chg        vol      amount  \n0     0.26  232719.65  270987.701  \n1     0.43  331088.05  383064.999  \n2    -0.43  229112.82  266121.467  \n3     0.09  273328.09  318586.664  \n4    -0.85  364250.54  422233.460  ",
      "text/html": "<div>\n<style scoped>\n    .dataframe tbody tr th:only-of-type {\n        vertical-align: middle;\n    }\n\n    .dataframe tbody tr th {\n        vertical-align: top;\n    }\n\n    .dataframe thead th {\n        text-align: right;\n    }\n</style>\n<table border=\"1\" class=\"dataframe\">\n  <thead>\n    <tr style=\"text-align: right;\">\n      <th></th>\n      <th>ts_code</th>\n      <th>trade_date</th>\n      <th>open</th>\n      <th>high</th>\n      <th>low</th>\n      <th>close</th>\n      <th>pre_close</th>\n      <th>change</th>\n      <th>pct_chg</th>\n      <th>vol</th>\n      <th>amount</th>\n    </tr>\n  </thead>\n  <tbody>\n    <tr>\n      <th>0</th>\n      <td>600000.SH</td>\n      <td>20180330</td>\n      <td>11.63</td>\n      <td>11.69</td>\n      <td>11.61</td>\n      <td>11.65</td>\n      <td>11.62</td>\n      <td>0.03</td>\n      <td>0.26</td>\n      <td>232719.65</td>\n      <td>270987.701</td>\n    </tr>\n    <tr>\n      <th>1</th>\n      <td>600000.SH</td>\n      <td>20180329</td>\n      <td>11.57</td>\n      <td>11.71</td>\n      <td>11.45</td>\n      <td>11.62</td>\n      <td>11.57</td>\n      <td>0.05</td>\n      <td>0.43</td>\n      <td>331088.05</td>\n      <td>383064.999</td>\n    </tr>\n    <tr>\n      <th>2</th>\n      <td>600000.SH</td>\n      <td>20180328</td>\n      <td>11.53</td>\n      <td>11.75</td>\n      <td>11.52</td>\n      <td>11.57</td>\n      <td>11.62</td>\n      <td>-0.05</td>\n      <td>-0.43</td>\n      <td>229112.82</td>\n      <td>266121.467</td>\n    </tr>\n    <tr>\n      <th>3</th>\n      <td>600000.SH</td>\n      <td>20180327</td>\n      <td>11.70</td>\n      <td>11.77</td>\n      <td>11.56</td>\n      <td>11.62</td>\n      <td>11.61</td>\n      <td>0.01</td>\n      <td>0.09</td>\n      <td>273328.09</td>\n      <td>318586.664</td>\n    </tr>\n    <tr>\n      <th>4</th>\n      <td>600000.SH</td>\n      <td>20180326</td>\n      <td>11.71</td>\n      <td>11.75</td>\n      <td>11.50</td>\n      <td>11.61</td>\n      <td>11.71</td>\n      <td>-0.10</td>\n      <td>-0.85</td>\n      <td>364250.54</td>\n      <td>422233.460</td>\n    </tr>\n  </tbody>\n</table>\n</div>"
     },
     "execution_count": 5,
     "metadata": {},
     "output_type": "execute_result"
    }
   ],
   "source": [
    "token_key='dc0da43c9ec5549606a55f236aa4c998c9b6f3ba9f25422f8c7b3df7'\n",
    "pro=ts.pro_api(token_key)\n",
    "df = pro.daily(ts_code='600000.SH', start_date='20180101', end_date='20180331')\n",
    "df.head()"
   ],
   "metadata": {
    "collapsed": false,
    "ExecuteTime": {
     "end_time": "2024-02-29T01:47:37.099523800Z",
     "start_time": "2024-02-29T01:47:36.850804600Z"
    }
   },
   "id": "38c4d9f30346dce0",
   "execution_count": 5
  },
  {
   "cell_type": "code",
   "outputs": [],
   "source": [],
   "metadata": {
    "collapsed": false
   },
   "id": "81a45bb772dc727"
  },
  {
   "cell_type": "code",
   "outputs": [],
   "source": [],
   "metadata": {
    "collapsed": false
   },
   "id": "3cee79b411e4bc7e"
  },
  {
   "cell_type": "code",
   "outputs": [],
   "source": [],
   "metadata": {
    "collapsed": false
   },
   "id": "29cf9ed7faf0c547"
  },
  {
   "cell_type": "code",
   "outputs": [],
   "source": [],
   "metadata": {
    "collapsed": false
   },
   "id": "541014577f87c8a9"
  },
  {
   "cell_type": "code",
   "outputs": [],
   "source": [],
   "metadata": {
    "collapsed": false
   },
   "id": "9a11ddf376eb03c5"
  },
  {
   "cell_type": "code",
   "outputs": [],
   "source": [],
   "metadata": {
    "collapsed": false
   },
   "id": "c3a7aacb995ef22f"
  },
  {
   "cell_type": "code",
   "outputs": [],
   "source": [],
   "metadata": {
    "collapsed": false
   },
   "id": "b8457af0310c549e"
  },
  {
   "cell_type": "code",
   "outputs": [],
   "source": [],
   "metadata": {
    "collapsed": false
   },
   "id": "7ac708c139321b9e"
  },
  {
   "cell_type": "code",
   "outputs": [],
   "source": [],
   "metadata": {
    "collapsed": false
   },
   "id": "e1c05e1e79e2f8ce"
  },
  {
   "cell_type": "code",
   "outputs": [],
   "source": [],
   "metadata": {
    "collapsed": false
   },
   "id": "770437096aa3c880"
  },
  {
   "cell_type": "code",
   "outputs": [],
   "source": [],
   "metadata": {
    "collapsed": false
   },
   "id": "25030cf591edd4b3"
  },
  {
   "cell_type": "code",
   "outputs": [],
   "source": [],
   "metadata": {
    "collapsed": false
   },
   "id": "ff301291410493f"
  },
  {
   "cell_type": "code",
   "outputs": [],
   "source": [],
   "metadata": {
    "collapsed": false
   },
   "id": "16615cc678b849ef"
  },
  {
   "cell_type": "code",
   "outputs": [],
   "source": [],
   "metadata": {
    "collapsed": false
   },
   "id": "c961814ec93e7702"
  },
  {
   "cell_type": "code",
   "outputs": [],
   "source": [],
   "metadata": {
    "collapsed": false
   },
   "id": "fcd448cbdd6e553c"
  },
  {
   "cell_type": "code",
   "outputs": [],
   "source": [],
   "metadata": {
    "collapsed": false
   },
   "id": "d0322f44caaf2b10"
  },
  {
   "cell_type": "code",
   "outputs": [],
   "source": [],
   "metadata": {
    "collapsed": false
   },
   "id": "fb9650676206e907"
  },
  {
   "cell_type": "code",
   "outputs": [],
   "source": [],
   "metadata": {
    "collapsed": false
   },
   "id": "3ac5c92f580037ce"
  },
  {
   "cell_type": "code",
   "outputs": [],
   "source": [],
   "metadata": {
    "collapsed": false
   },
   "id": "5e9c4acf8fe8b2f0"
  },
  {
   "cell_type": "code",
   "outputs": [],
   "source": [],
   "metadata": {
    "collapsed": false
   },
   "id": "7c8eececb2fcd62d"
  },
  {
   "cell_type": "code",
   "outputs": [],
   "source": [],
   "metadata": {
    "collapsed": false
   },
   "id": "7ef162b8adf1b251"
  },
  {
   "cell_type": "code",
   "outputs": [],
   "source": [],
   "metadata": {
    "collapsed": false
   },
   "id": "8c08385a25d0caa9"
  },
  {
   "cell_type": "code",
   "outputs": [],
   "source": [],
   "metadata": {
    "collapsed": false
   },
   "id": "5f14c06741805f08"
  },
  {
   "cell_type": "code",
   "outputs": [],
   "source": [],
   "metadata": {
    "collapsed": false
   },
   "id": "982baf353f899db6"
  },
  {
   "cell_type": "code",
   "outputs": [],
   "source": [],
   "metadata": {
    "collapsed": false
   },
   "id": "5aacc9c478987dc5"
  },
  {
   "cell_type": "code",
   "outputs": [],
   "source": [],
   "metadata": {
    "collapsed": false
   },
   "id": "1334cdd8199d200e"
  },
  {
   "cell_type": "code",
   "outputs": [],
   "source": [],
   "metadata": {
    "collapsed": false
   },
   "id": "730e661c16e0c284"
  }
 ],
 "metadata": {
  "kernelspec": {
   "display_name": "Python 3",
   "language": "python",
   "name": "python3"
  },
  "language_info": {
   "codemirror_mode": {
    "name": "ipython",
    "version": 2
   },
   "file_extension": ".py",
   "mimetype": "text/x-python",
   "name": "python",
   "nbconvert_exporter": "python",
   "pygments_lexer": "ipython2",
   "version": "2.7.6"
  }
 },
 "nbformat": 4,
 "nbformat_minor": 5
}
