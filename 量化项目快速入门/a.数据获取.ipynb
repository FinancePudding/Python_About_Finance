{
 "cells": [
  {
   "cell_type": "markdown",
   "source": [
    "# 数据读入"
   ],
   "metadata": {
    "collapsed": false
   },
   "id": "b1fbf74e003e3f42"
  },
  {
   "cell_type": "markdown",
   "source": [
    "## 1.从本地读入数据\n",
    ">pandas官方文档网址：[https://pandas.pydata.org/docs/reference/io.html](https://pandas.pydata.org/docs/reference/io.html)"
   ],
   "metadata": {
    "collapsed": false
   },
   "id": "397ede549f0f922f"
  },
  {
   "cell_type": "code",
   "outputs": [
    {
     "data": {
      "text/plain": "                   证券代码   证券名称       交易时间     开盘价     最高价     最低价     收盘价  \\\n0                399300  沪深300 2005-01-04  994.77  994.77  980.66  982.79   \n1                399300  沪深300 2005-01-05  981.58  997.32  979.88  992.56   \n2                399300  沪深300 2005-01-06  993.33  993.79  980.33  983.17   \n3                399300  沪深300 2005-01-07  983.05  995.71  979.81  983.96   \n4                399300  沪深300 2005-01-10  983.76  993.96  979.79  993.88   \n...                 ...    ...        ...     ...     ...     ...     ...   \n4640                NaN    NaN        NaT     NaN     NaN     NaN     NaN   \n4641                NaN    NaN        NaT     NaN     NaN     NaN     NaN   \n4642                NaN    NaN        NaT     NaN     NaN     NaN     NaN   \n4643                NaN    NaN        NaT     NaN     NaN     NaN     NaN   \n4644  数据来源：东方财富Choice数据    NaN        NaT     NaN     NaN     NaN     NaN   \n\n            涨跌      涨跌幅%        成交量           成交额  \n0           ——        ——  7412868.0  4.431977e+09  \n1      9.77002  0.994111  7119108.0  4.529208e+09  \n2    -9.390015  -0.94604  6288029.0  3.921015e+09  \n3     0.790039  0.080356  7298694.0  4.737469e+09  \n4     9.919983  1.008169  5791697.0  3.762933e+09  \n...        ...       ...        ...           ...  \n4640       NaN       NaN        NaN           NaN  \n4641       NaN       NaN        NaN           NaN  \n4642       NaN       NaN        NaN           NaN  \n4643       NaN       NaN        NaN           NaN  \n4644       NaN       NaN        NaN           NaN  \n\n[4645 rows x 11 columns]",
      "text/html": "<div>\n<style scoped>\n    .dataframe tbody tr th:only-of-type {\n        vertical-align: middle;\n    }\n\n    .dataframe tbody tr th {\n        vertical-align: top;\n    }\n\n    .dataframe thead th {\n        text-align: right;\n    }\n</style>\n<table border=\"1\" class=\"dataframe\">\n  <thead>\n    <tr style=\"text-align: right;\">\n      <th></th>\n      <th>证券代码</th>\n      <th>证券名称</th>\n      <th>交易时间</th>\n      <th>开盘价</th>\n      <th>最高价</th>\n      <th>最低价</th>\n      <th>收盘价</th>\n      <th>涨跌</th>\n      <th>涨跌幅%</th>\n      <th>成交量</th>\n      <th>成交额</th>\n    </tr>\n  </thead>\n  <tbody>\n    <tr>\n      <th>0</th>\n      <td>399300</td>\n      <td>沪深300</td>\n      <td>2005-01-04</td>\n      <td>994.77</td>\n      <td>994.77</td>\n      <td>980.66</td>\n      <td>982.79</td>\n      <td>——</td>\n      <td>——</td>\n      <td>7412868.0</td>\n      <td>4.431977e+09</td>\n    </tr>\n    <tr>\n      <th>1</th>\n      <td>399300</td>\n      <td>沪深300</td>\n      <td>2005-01-05</td>\n      <td>981.58</td>\n      <td>997.32</td>\n      <td>979.88</td>\n      <td>992.56</td>\n      <td>9.77002</td>\n      <td>0.994111</td>\n      <td>7119108.0</td>\n      <td>4.529208e+09</td>\n    </tr>\n    <tr>\n      <th>2</th>\n      <td>399300</td>\n      <td>沪深300</td>\n      <td>2005-01-06</td>\n      <td>993.33</td>\n      <td>993.79</td>\n      <td>980.33</td>\n      <td>983.17</td>\n      <td>-9.390015</td>\n      <td>-0.94604</td>\n      <td>6288029.0</td>\n      <td>3.921015e+09</td>\n    </tr>\n    <tr>\n      <th>3</th>\n      <td>399300</td>\n      <td>沪深300</td>\n      <td>2005-01-07</td>\n      <td>983.05</td>\n      <td>995.71</td>\n      <td>979.81</td>\n      <td>983.96</td>\n      <td>0.790039</td>\n      <td>0.080356</td>\n      <td>7298694.0</td>\n      <td>4.737469e+09</td>\n    </tr>\n    <tr>\n      <th>4</th>\n      <td>399300</td>\n      <td>沪深300</td>\n      <td>2005-01-10</td>\n      <td>983.76</td>\n      <td>993.96</td>\n      <td>979.79</td>\n      <td>993.88</td>\n      <td>9.919983</td>\n      <td>1.008169</td>\n      <td>5791697.0</td>\n      <td>3.762933e+09</td>\n    </tr>\n    <tr>\n      <th>...</th>\n      <td>...</td>\n      <td>...</td>\n      <td>...</td>\n      <td>...</td>\n      <td>...</td>\n      <td>...</td>\n      <td>...</td>\n      <td>...</td>\n      <td>...</td>\n      <td>...</td>\n      <td>...</td>\n    </tr>\n    <tr>\n      <th>4640</th>\n      <td>NaN</td>\n      <td>NaN</td>\n      <td>NaT</td>\n      <td>NaN</td>\n      <td>NaN</td>\n      <td>NaN</td>\n      <td>NaN</td>\n      <td>NaN</td>\n      <td>NaN</td>\n      <td>NaN</td>\n      <td>NaN</td>\n    </tr>\n    <tr>\n      <th>4641</th>\n      <td>NaN</td>\n      <td>NaN</td>\n      <td>NaT</td>\n      <td>NaN</td>\n      <td>NaN</td>\n      <td>NaN</td>\n      <td>NaN</td>\n      <td>NaN</td>\n      <td>NaN</td>\n      <td>NaN</td>\n      <td>NaN</td>\n    </tr>\n    <tr>\n      <th>4642</th>\n      <td>NaN</td>\n      <td>NaN</td>\n      <td>NaT</td>\n      <td>NaN</td>\n      <td>NaN</td>\n      <td>NaN</td>\n      <td>NaN</td>\n      <td>NaN</td>\n      <td>NaN</td>\n      <td>NaN</td>\n      <td>NaN</td>\n    </tr>\n    <tr>\n      <th>4643</th>\n      <td>NaN</td>\n      <td>NaN</td>\n      <td>NaT</td>\n      <td>NaN</td>\n      <td>NaN</td>\n      <td>NaN</td>\n      <td>NaN</td>\n      <td>NaN</td>\n      <td>NaN</td>\n      <td>NaN</td>\n      <td>NaN</td>\n    </tr>\n    <tr>\n      <th>4644</th>\n      <td>数据来源：东方财富Choice数据</td>\n      <td>NaN</td>\n      <td>NaT</td>\n      <td>NaN</td>\n      <td>NaN</td>\n      <td>NaN</td>\n      <td>NaN</td>\n      <td>NaN</td>\n      <td>NaN</td>\n      <td>NaN</td>\n      <td>NaN</td>\n    </tr>\n  </tbody>\n</table>\n<p>4645 rows × 11 columns</p>\n</div>"
     },
     "execution_count": 2,
     "metadata": {},
     "output_type": "execute_result"
    }
   ],
   "source": [
    "# 利用pandas直接读入本地数据,具体其他格式见pandas的官方API\n",
    "import pandas as pd\n",
    "pd.read_excel(r\"C:\\Users\\Zhang ZhiXin\\Desktop\\K线导出_399300_日线数据.xls\")"
   ],
   "metadata": {
    "collapsed": false,
    "ExecuteTime": {
     "end_time": "2024-02-11T15:14:04.301439600Z",
     "start_time": "2024-02-11T15:14:03.727266Z"
    }
   },
   "id": "772cd90bd872e074",
   "execution_count": 2
  },
  {
   "cell_type": "markdown",
   "source": [
    "## 2.从MySQL数据库读取数据\n",
    ">菜鸟教程pymysql：[https://www.runoob.com/python3/python3-mysql.html](https://www.runoob.com/python3/python3-mysql.html)\n",
    ">菜鸟教程sql：[https://www.runoob.com/sql/sql-tutorial.html](https://www.runoob.com/sql/sql-tutorial.html)"
   ],
   "metadata": {
    "collapsed": false
   },
   "id": "aa6e5e381787a4a2"
  },
  {
   "cell_type": "code",
   "outputs": [],
   "source": [
    "def get_data_from_mysql(): \n",
    "    import pymysql \n",
    "    # 连接指定mysql数据账户\n",
    "    databases = pymysql.connect(host='填入自己的端口地址',port=3306,user='zzx',passwd='<PASSWORD>',db='xyz')\n",
    "    # 设置一个游标\n",
    "    cursor=datbases.cursor()\n",
    "    # 查询语句\n",
    "    sql=\"select * from table_name\"\n",
    "    # 执行语句\n",
    "    cursor.execute(sql)\n",
    "    # 获取查询到的全部数据\n",
    "    data=cursor.fetchall()\n",
    "    # 关闭游标\n",
    "    cursor.close()\n",
    "    databases.close()\n",
    "    return data"
   ],
   "metadata": {
    "collapsed": false
   },
   "id": "af18472e3245163e"
  },
  {
   "cell_type": "markdown",
   "source": [
    "## 3.从tushare数据社区获取\n",
    "> tushare网址：[https://tushare.pro/document/2?doc_id=27](https://tushare.pro/document/2?doc_id=27)\n",
    "> 具体教程可以在哔哩哔哩视频号上面查找到,个人注册可以获取免费调用权限."
   ],
   "metadata": {
    "collapsed": false
   },
   "id": "e41a1fea321a3a12"
  },
  {
   "cell_type": "code",
   "outputs": [
    {
     "data": {
      "text/plain": "      ts_code trade_date  open  high   low  close  pre_close  change  pct_chg  \\\n0   000001.SZ   20180718  8.75  8.85  8.69   8.70       8.72   -0.02    -0.23   \n1   000001.SZ   20180717  8.74  8.75  8.66   8.72       8.73   -0.01    -0.11   \n2   000001.SZ   20180716  8.85  8.90  8.69   8.73       8.88   -0.15    -1.69   \n3   000001.SZ   20180713  8.92  8.94  8.82   8.88       8.88    0.00     0.00   \n4   000001.SZ   20180712  8.60  8.97  8.58   8.88       8.64    0.24     2.78   \n5   000001.SZ   20180711  8.76  8.83  8.68   8.78       8.98   -0.20    -2.23   \n6   000001.SZ   20180710  9.02  9.02  8.89   8.98       9.03   -0.05    -0.55   \n7   000001.SZ   20180709  8.69  9.03  8.68   9.03       8.66    0.37     4.27   \n8   000001.SZ   20180706  8.61  8.78  8.45   8.66       8.60    0.06     0.70   \n9   000001.SZ   20180705  8.62  8.73  8.55   8.60       8.61   -0.01    -0.12   \n10  000001.SZ   20180704  8.63  8.75  8.61   8.61       8.67   -0.06    -0.69   \n11  000001.SZ   20180703  8.69  8.70  8.45   8.67       8.61    0.06     0.70   \n12  000001.SZ   20180702  9.05  9.05  8.55   8.61       9.09   -0.48    -5.28   \n\n           vol       amount  \n0    525152.77   460697.377  \n1    375356.33   326396.994  \n2    689845.58   603427.713  \n3    603378.21   535401.175  \n4   1140492.31  1008658.828  \n5    851296.70   744765.824  \n6    896862.02   803038.965  \n7   1409954.60  1255007.609  \n8    988282.69   852071.526  \n9    835768.77   722169.579  \n10   711153.37   617278.559  \n11  1274838.57  1096657.033  \n12  1315520.13  1158545.868  ",
      "text/html": "<div>\n<style scoped>\n    .dataframe tbody tr th:only-of-type {\n        vertical-align: middle;\n    }\n\n    .dataframe tbody tr th {\n        vertical-align: top;\n    }\n\n    .dataframe thead th {\n        text-align: right;\n    }\n</style>\n<table border=\"1\" class=\"dataframe\">\n  <thead>\n    <tr style=\"text-align: right;\">\n      <th></th>\n      <th>ts_code</th>\n      <th>trade_date</th>\n      <th>open</th>\n      <th>high</th>\n      <th>low</th>\n      <th>close</th>\n      <th>pre_close</th>\n      <th>change</th>\n      <th>pct_chg</th>\n      <th>vol</th>\n      <th>amount</th>\n    </tr>\n  </thead>\n  <tbody>\n    <tr>\n      <th>0</th>\n      <td>000001.SZ</td>\n      <td>20180718</td>\n      <td>8.75</td>\n      <td>8.85</td>\n      <td>8.69</td>\n      <td>8.70</td>\n      <td>8.72</td>\n      <td>-0.02</td>\n      <td>-0.23</td>\n      <td>525152.77</td>\n      <td>460697.377</td>\n    </tr>\n    <tr>\n      <th>1</th>\n      <td>000001.SZ</td>\n      <td>20180717</td>\n      <td>8.74</td>\n      <td>8.75</td>\n      <td>8.66</td>\n      <td>8.72</td>\n      <td>8.73</td>\n      <td>-0.01</td>\n      <td>-0.11</td>\n      <td>375356.33</td>\n      <td>326396.994</td>\n    </tr>\n    <tr>\n      <th>2</th>\n      <td>000001.SZ</td>\n      <td>20180716</td>\n      <td>8.85</td>\n      <td>8.90</td>\n      <td>8.69</td>\n      <td>8.73</td>\n      <td>8.88</td>\n      <td>-0.15</td>\n      <td>-1.69</td>\n      <td>689845.58</td>\n      <td>603427.713</td>\n    </tr>\n    <tr>\n      <th>3</th>\n      <td>000001.SZ</td>\n      <td>20180713</td>\n      <td>8.92</td>\n      <td>8.94</td>\n      <td>8.82</td>\n      <td>8.88</td>\n      <td>8.88</td>\n      <td>0.00</td>\n      <td>0.00</td>\n      <td>603378.21</td>\n      <td>535401.175</td>\n    </tr>\n    <tr>\n      <th>4</th>\n      <td>000001.SZ</td>\n      <td>20180712</td>\n      <td>8.60</td>\n      <td>8.97</td>\n      <td>8.58</td>\n      <td>8.88</td>\n      <td>8.64</td>\n      <td>0.24</td>\n      <td>2.78</td>\n      <td>1140492.31</td>\n      <td>1008658.828</td>\n    </tr>\n    <tr>\n      <th>5</th>\n      <td>000001.SZ</td>\n      <td>20180711</td>\n      <td>8.76</td>\n      <td>8.83</td>\n      <td>8.68</td>\n      <td>8.78</td>\n      <td>8.98</td>\n      <td>-0.20</td>\n      <td>-2.23</td>\n      <td>851296.70</td>\n      <td>744765.824</td>\n    </tr>\n    <tr>\n      <th>6</th>\n      <td>000001.SZ</td>\n      <td>20180710</td>\n      <td>9.02</td>\n      <td>9.02</td>\n      <td>8.89</td>\n      <td>8.98</td>\n      <td>9.03</td>\n      <td>-0.05</td>\n      <td>-0.55</td>\n      <td>896862.02</td>\n      <td>803038.965</td>\n    </tr>\n    <tr>\n      <th>7</th>\n      <td>000001.SZ</td>\n      <td>20180709</td>\n      <td>8.69</td>\n      <td>9.03</td>\n      <td>8.68</td>\n      <td>9.03</td>\n      <td>8.66</td>\n      <td>0.37</td>\n      <td>4.27</td>\n      <td>1409954.60</td>\n      <td>1255007.609</td>\n    </tr>\n    <tr>\n      <th>8</th>\n      <td>000001.SZ</td>\n      <td>20180706</td>\n      <td>8.61</td>\n      <td>8.78</td>\n      <td>8.45</td>\n      <td>8.66</td>\n      <td>8.60</td>\n      <td>0.06</td>\n      <td>0.70</td>\n      <td>988282.69</td>\n      <td>852071.526</td>\n    </tr>\n    <tr>\n      <th>9</th>\n      <td>000001.SZ</td>\n      <td>20180705</td>\n      <td>8.62</td>\n      <td>8.73</td>\n      <td>8.55</td>\n      <td>8.60</td>\n      <td>8.61</td>\n      <td>-0.01</td>\n      <td>-0.12</td>\n      <td>835768.77</td>\n      <td>722169.579</td>\n    </tr>\n    <tr>\n      <th>10</th>\n      <td>000001.SZ</td>\n      <td>20180704</td>\n      <td>8.63</td>\n      <td>8.75</td>\n      <td>8.61</td>\n      <td>8.61</td>\n      <td>8.67</td>\n      <td>-0.06</td>\n      <td>-0.69</td>\n      <td>711153.37</td>\n      <td>617278.559</td>\n    </tr>\n    <tr>\n      <th>11</th>\n      <td>000001.SZ</td>\n      <td>20180703</td>\n      <td>8.69</td>\n      <td>8.70</td>\n      <td>8.45</td>\n      <td>8.67</td>\n      <td>8.61</td>\n      <td>0.06</td>\n      <td>0.70</td>\n      <td>1274838.57</td>\n      <td>1096657.033</td>\n    </tr>\n    <tr>\n      <th>12</th>\n      <td>000001.SZ</td>\n      <td>20180702</td>\n      <td>9.05</td>\n      <td>9.05</td>\n      <td>8.55</td>\n      <td>8.61</td>\n      <td>9.09</td>\n      <td>-0.48</td>\n      <td>-5.28</td>\n      <td>1315520.13</td>\n      <td>1158545.868</td>\n    </tr>\n  </tbody>\n</table>\n</div>"
     },
     "execution_count": 7,
     "metadata": {},
     "output_type": "execute_result"
    }
   ],
   "source": [
    "import tushare as ts\n",
    "pro=ts.pro_api('dc0da43c9ec5549606a55f236aa4c998c9b6f3ba9f25422f8c7b3df7')\n",
    "df = pro.daily(ts_code='000001.SZ', start_date='20180701', end_date='20180718')\n",
    "df"
   ],
   "metadata": {
    "collapsed": false,
    "ExecuteTime": {
     "end_time": "2024-02-11T14:57:30.167287100Z",
     "start_time": "2024-02-11T14:57:30.046375500Z"
    }
   },
   "id": "56c7d16d5bbfb54",
   "execution_count": 7
  },
  {
   "cell_type": "markdown",
   "source": [
    "## 4.从雅虎金融获取国外交易数据\n",
    "> + yfinance Github:[https://github.com/ranaroussi/yfinance](https://github.com/ranaroussi/yfinance)\n",
    "> + ffn Github:[https://github.com/pmorissette/ffn?tab=readme-ov-file](https://github.com/pmorissette/ffn?tab=readme-ov-file)\n",
    "> + ffn API:[https://pmorissette.github.io/ffn/ffn.html](https://pmorissette.github.io/ffn/ffn.html)"
   ],
   "metadata": {
    "collapsed": false
   },
   "id": "92e746b42a7b3ab3"
  },
  {
   "cell_type": "code",
   "outputs": [
    {
     "data": {
      "text/plain": "{'address1': 'One Microsoft Way',\n 'city': 'Redmond',\n 'state': 'WA',\n 'zip': '98052-6399',\n 'country': 'United States',\n 'phone': '425 882 8080',\n 'website': 'https://www.microsoft.com',\n 'industry': 'Software - Infrastructure',\n 'industryKey': 'software-infrastructure',\n 'industryDisp': 'Software - Infrastructure',\n 'sector': 'Technology',\n 'sectorKey': 'technology',\n 'sectorDisp': 'Technology',\n 'longBusinessSummary': 'Microsoft Corporation develops and supports software, services, devices and solutions worldwide. The Productivity and Business Processes segment offers office, exchange, SharePoint, Microsoft Teams, office 365 Security and Compliance, Microsoft viva, and Microsoft 365 copilot; and office consumer services, such as Microsoft 365 consumer subscriptions, Office licensed on-premises, and other office services. This segment also provides LinkedIn; and dynamics business solutions, including Dynamics 365, a set of intelligent, cloud-based applications across ERP, CRM, power apps, and power automate; and on-premises ERP and CRM applications. The Intelligent Cloud segment offers server products and cloud services, such as azure and other cloud services; SQL and windows server, visual studio, system center, and related client access licenses, as well as nuance and GitHub; and enterprise services including enterprise support services, industry solutions, and nuance professional services. The More Personal Computing segment offers Windows, including windows OEM licensing and other non-volume licensing of the Windows operating system; Windows commercial comprising volume licensing of the Windows operating system, windows cloud services, and other Windows commercial offerings; patent licensing; and windows Internet of Things; and devices, such as surface, HoloLens, and PC accessories. Additionally, this segment provides gaming, which includes Xbox hardware and content, and first- and third-party content; Xbox game pass and other subscriptions, cloud gaming, advertising, third-party disc royalties, and other cloud services; and search and news advertising, which includes Bing, Microsoft News and Edge, and third-party affiliates. The company sells its products through OEMs, distributors, and resellers; and directly through digital marketplaces, online, and retail stores. The company was founded in 1975 and is headquartered in Redmond, Washington.',\n 'fullTimeEmployees': 221000,\n 'companyOfficers': [{'maxAge': 1,\n   'name': 'Mr. Satya  Nadella',\n   'age': 56,\n   'title': 'Chairman & CEO',\n   'yearBorn': 1967,\n   'fiscalYear': 2023,\n   'totalPay': 9276400,\n   'exercisedValue': 0,\n   'unexercisedValue': 0},\n  {'maxAge': 1,\n   'name': 'Mr. Bradford L. Smith LCA',\n   'age': 64,\n   'title': 'President & Vice Chairman',\n   'yearBorn': 1959,\n   'fiscalYear': 2023,\n   'totalPay': 3591277,\n   'exercisedValue': 0,\n   'unexercisedValue': 0},\n  {'maxAge': 1,\n   'name': 'Ms. Amy E. Hood',\n   'age': 51,\n   'title': 'Executive VP & CFO',\n   'yearBorn': 1972,\n   'fiscalYear': 2023,\n   'totalPay': 3452196,\n   'exercisedValue': 0,\n   'unexercisedValue': 0},\n  {'maxAge': 1,\n   'name': 'Mr. Judson B. Althoff',\n   'age': 50,\n   'title': 'Executive VP & Chief Commercial Officer',\n   'yearBorn': 1973,\n   'fiscalYear': 2023,\n   'totalPay': 3355797,\n   'exercisedValue': 0,\n   'unexercisedValue': 0},\n  {'maxAge': 1,\n   'name': 'Mr. Christopher David Young',\n   'age': 51,\n   'title': 'Executive Vice President of Business Development, Strategy & Ventures',\n   'yearBorn': 1972,\n   'fiscalYear': 2023,\n   'totalPay': 2460507,\n   'exercisedValue': 0,\n   'unexercisedValue': 0},\n  {'maxAge': 1,\n   'name': 'Ms. Alice L. Jolla',\n   'age': 56,\n   'title': 'Corporate VP & Chief Accounting Officer',\n   'yearBorn': 1967,\n   'fiscalYear': 2023,\n   'exercisedValue': 0,\n   'unexercisedValue': 0},\n  {'maxAge': 1,\n   'name': 'Mr. James Kevin Scott',\n   'age': 51,\n   'title': 'Executive VP of AI & CTO',\n   'yearBorn': 1972,\n   'fiscalYear': 2023,\n   'exercisedValue': 0,\n   'unexercisedValue': 0},\n  {'maxAge': 1,\n   'name': 'Brett  Iversen',\n   'title': 'Vice President of Investor Relations',\n   'fiscalYear': 2023,\n   'exercisedValue': 0,\n   'unexercisedValue': 0},\n  {'maxAge': 1,\n   'name': 'Mr. Hossein  Nowbar',\n   'title': 'Chief Legal Officer',\n   'fiscalYear': 2023,\n   'exercisedValue': 0,\n   'unexercisedValue': 0},\n  {'maxAge': 1,\n   'name': 'Mr. Frank X. Shaw',\n   'title': 'Chief Communications Officer',\n   'fiscalYear': 2023,\n   'exercisedValue': 0,\n   'unexercisedValue': 0}],\n 'auditRisk': 2,\n 'boardRisk': 5,\n 'compensationRisk': 2,\n 'shareHolderRightsRisk': 2,\n 'overallRisk': 1,\n 'governanceEpochDate': 1706745600,\n 'compensationAsOfEpochDate': 1703980800,\n 'maxAge': 86400,\n 'priceHint': 2,\n 'previousClose': 414.11,\n 'open': 415.25,\n 'dayLow': 415.09,\n 'dayHigh': 420.82,\n 'regularMarketPreviousClose': 414.11,\n 'regularMarketOpen': 415.25,\n 'regularMarketDayLow': 415.09,\n 'regularMarketDayHigh': 420.82,\n 'dividendRate': 3.0,\n 'dividendYield': 0.0070999996,\n 'exDividendDate': 1707868800,\n 'payoutRatio': 0.2523,\n 'fiveYearAvgDividendYield': 0.98,\n 'beta': 0.899,\n 'trailingPE': 38.02441,\n 'forwardPE': 31.501871,\n 'volume': 22032844,\n 'regularMarketVolume': 22032844,\n 'averageVolume': 25853262,\n 'averageVolume10days': 27407520,\n 'averageDailyVolume10Day': 27407520,\n 'bid': 420.85,\n 'ask': 421.1,\n 'bidSize': 1000,\n 'askSize': 900,\n 'marketCap': 3124871299072,\n 'fiftyTwoWeekLow': 245.61,\n 'fiftyTwoWeekHigh': 420.82,\n 'priceToSalesTrailing12Months': 13.730688,\n 'fiftyDayAverage': 385.2524,\n 'twoHundredDayAverage': 345.7469,\n 'trailingAnnualDividendRate': 2.86,\n 'trailingAnnualDividendYield': 0.0069063776,\n 'currency': 'USD',\n 'enterpriseValue': 3155245924352,\n 'profitMargins': 0.36269,\n 'floatShares': 7419662096,\n 'sharesOutstanding': 7430439936,\n 'sharesShort': 49875453,\n 'sharesShortPriorMonth': 51394982,\n 'sharesShortPreviousMonthDate': 1703808000,\n 'dateShortInterest': 1706659200,\n 'sharesPercentSharesOut': 0.0067000003,\n 'heldPercentInsiders': 0.00056,\n 'heldPercentInstitutions': 0.73125,\n 'shortRatio': 1.98,\n 'shortPercentOfFloat': 0.0067000003,\n 'impliedSharesOutstanding': 7432640000,\n 'bookValue': 32.06,\n 'priceToBook': 13.117591,\n 'lastFiscalYearEnd': 1688083200,\n 'nextFiscalYearEnd': 1719705600,\n 'mostRecentQuarter': 1703980800,\n 'earningsQuarterlyGrowth': 0.332,\n 'netIncomeToCommon': 82541002752,\n 'trailingEps': 11.06,\n 'forwardEps': 13.35,\n 'pegRatio': 2.18,\n 'lastSplitFactor': '2:1',\n 'lastSplitDate': 1045526400,\n 'enterpriseToRevenue': 13.864,\n 'enterpriseToEbitda': 26.643,\n '52WeekChange': 0.55001473,\n 'SandP52WeekChange': 0.21495235,\n 'lastDividendValue': 0.75,\n 'lastDividendDate': 1700006400,\n 'exchange': 'NMS',\n 'quoteType': 'EQUITY',\n 'symbol': 'MSFT',\n 'underlyingSymbol': 'MSFT',\n 'shortName': 'Microsoft Corporation',\n 'longName': 'Microsoft Corporation',\n 'firstTradeDateEpochUtc': 511108200,\n 'timeZoneFullName': 'America/New_York',\n 'timeZoneShortName': 'EST',\n 'uuid': 'b004b3ec-de24-385e-b2c1-923f10d3fb62',\n 'messageBoardId': 'finmb_21835',\n 'gmtOffSetMilliseconds': -18000000,\n 'currentPrice': 420.55,\n 'targetHighPrice': 546.44,\n 'targetLowPrice': 298.1,\n 'targetMeanPrice': 455.86,\n 'targetMedianPrice': 455.0,\n 'recommendationMean': 1.7,\n 'recommendationKey': 'buy',\n 'numberOfAnalystOpinions': 44,\n 'totalCash': 80981999616,\n 'totalCashPerShare': 10.899,\n 'ebitda': 118427000832,\n 'totalDebt': 111358001152,\n 'quickRatio': 1.096,\n 'currentRatio': 1.218,\n 'totalRevenue': 227583000576,\n 'debtToEquity': 46.736,\n 'revenuePerShare': 30.612,\n 'returnOnAssets': 0.1519,\n 'returnOnEquity': 0.39174,\n 'freeCashflow': 58680999936,\n 'operatingCashflow': 102646996992,\n 'earningsGrowth': 0.332,\n 'revenueGrowth': 0.176,\n 'grossMargins': 0.69815004,\n 'ebitdaMargins': 0.52037,\n 'operatingMargins': 0.43585998,\n 'financialCurrency': 'USD',\n 'trailingPegRatio': 2.5028}"
     },
     "metadata": {},
     "output_type": "display_data"
    }
   ],
   "source": [
    "import yfinance as yf\n",
    "msft = yf.Ticker(\"MSFT\")\n",
    "# 获取股票数据的全部信息\n",
    "display(msft.info) "
   ],
   "metadata": {
    "collapsed": false,
    "ExecuteTime": {
     "end_time": "2024-02-12T02:22:19.095282800Z",
     "start_time": "2024-02-12T02:22:18.433332200Z"
    }
   },
   "id": "3a30dfdafa9793cc",
   "execution_count": 14
  },
  {
   "cell_type": "code",
   "outputs": [
    {
     "data": {
      "text/plain": "                                 Open        High         Low       Close  \\\nDate                                                                        \n2024-01-10 00:00:00-05:00  376.369995  384.170013  376.320007  382.769989   \n2024-01-11 00:00:00-05:00  386.000000  390.679993  380.380005  384.630005   \n2024-01-12 00:00:00-05:00  385.489990  388.679993  384.649994  388.470001   \n2024-01-16 00:00:00-05:00  393.660004  394.029999  387.619995  390.269989   \n2024-01-17 00:00:00-05:00  387.980011  390.109985  384.809998  389.470001   \n2024-01-18 00:00:00-05:00  391.720001  393.989990  390.119995  393.869995   \n2024-01-19 00:00:00-05:00  395.760010  398.670013  393.500000  398.670013   \n2024-01-22 00:00:00-05:00  400.019989  400.619995  393.589996  396.510010   \n2024-01-23 00:00:00-05:00  395.750000  399.380005  393.929993  398.899994   \n2024-01-24 00:00:00-05:00  401.540009  405.630005  400.450012  402.559998   \n2024-01-25 00:00:00-05:00  404.320007  407.010010  402.529999  404.869995   \n2024-01-26 00:00:00-05:00  404.369995  406.170013  402.429993  403.929993   \n2024-01-29 00:00:00-05:00  406.059998  409.980011  404.329987  409.720001   \n2024-01-30 00:00:00-05:00  412.260010  413.049988  406.450012  408.589996   \n2024-01-31 00:00:00-05:00  406.959991  415.320007  397.209991  397.579987   \n2024-02-01 00:00:00-05:00  401.829987  408.000000  401.799988  403.779999   \n2024-02-02 00:00:00-05:00  403.809998  412.649994  403.559998  411.220001   \n2024-02-05 00:00:00-05:00  409.899994  411.160004  403.989990  405.649994   \n2024-02-06 00:00:00-05:00  405.880005  407.970001  402.910004  405.489990   \n2024-02-07 00:00:00-05:00  407.440002  414.299988  407.399994  414.049988   \n2024-02-08 00:00:00-05:00  414.049988  415.559998  412.529999  414.109985   \n2024-02-09 00:00:00-05:00  415.250000  420.820007  415.089996  420.549988   \n\n                             Volume  Dividends  Stock Splits  \nDate                                                          \n2024-01-10 00:00:00-05:00  25514200        0.0           0.0  \n2024-01-11 00:00:00-05:00  27850800        0.0           0.0  \n2024-01-12 00:00:00-05:00  21645700        0.0           0.0  \n2024-01-16 00:00:00-05:00  27202300        0.0           0.0  \n2024-01-17 00:00:00-05:00  22234100        0.0           0.0  \n2024-01-18 00:00:00-05:00  23392100        0.0           0.0  \n2024-01-19 00:00:00-05:00  29272000        0.0           0.0  \n2024-01-22 00:00:00-05:00  27016900        0.0           0.0  \n2024-01-23 00:00:00-05:00  20525900        0.0           0.0  \n2024-01-24 00:00:00-05:00  24867000        0.0           0.0  \n2024-01-25 00:00:00-05:00  21021200        0.0           0.0  \n2024-01-26 00:00:00-05:00  17803300        0.0           0.0  \n2024-01-29 00:00:00-05:00  24510200        0.0           0.0  \n2024-01-30 00:00:00-05:00  33477600        0.0           0.0  \n2024-01-31 00:00:00-05:00  47871100        0.0           0.0  \n2024-02-01 00:00:00-05:00  30657700        0.0           0.0  \n2024-02-02 00:00:00-05:00  28245000        0.0           0.0  \n2024-02-05 00:00:00-05:00  25352300        0.0           0.0  \n2024-02-06 00:00:00-05:00  18382600        0.0           0.0  \n2024-02-07 00:00:00-05:00  22340500        0.0           0.0  \n2024-02-08 00:00:00-05:00  21225300        0.0           0.0  \n2024-02-09 00:00:00-05:00  22012900        0.0           0.0  ",
      "text/html": "<div>\n<style scoped>\n    .dataframe tbody tr th:only-of-type {\n        vertical-align: middle;\n    }\n\n    .dataframe tbody tr th {\n        vertical-align: top;\n    }\n\n    .dataframe thead th {\n        text-align: right;\n    }\n</style>\n<table border=\"1\" class=\"dataframe\">\n  <thead>\n    <tr style=\"text-align: right;\">\n      <th></th>\n      <th>Open</th>\n      <th>High</th>\n      <th>Low</th>\n      <th>Close</th>\n      <th>Volume</th>\n      <th>Dividends</th>\n      <th>Stock Splits</th>\n    </tr>\n    <tr>\n      <th>Date</th>\n      <th></th>\n      <th></th>\n      <th></th>\n      <th></th>\n      <th></th>\n      <th></th>\n      <th></th>\n    </tr>\n  </thead>\n  <tbody>\n    <tr>\n      <th>2024-01-10 00:00:00-05:00</th>\n      <td>376.369995</td>\n      <td>384.170013</td>\n      <td>376.320007</td>\n      <td>382.769989</td>\n      <td>25514200</td>\n      <td>0.0</td>\n      <td>0.0</td>\n    </tr>\n    <tr>\n      <th>2024-01-11 00:00:00-05:00</th>\n      <td>386.000000</td>\n      <td>390.679993</td>\n      <td>380.380005</td>\n      <td>384.630005</td>\n      <td>27850800</td>\n      <td>0.0</td>\n      <td>0.0</td>\n    </tr>\n    <tr>\n      <th>2024-01-12 00:00:00-05:00</th>\n      <td>385.489990</td>\n      <td>388.679993</td>\n      <td>384.649994</td>\n      <td>388.470001</td>\n      <td>21645700</td>\n      <td>0.0</td>\n      <td>0.0</td>\n    </tr>\n    <tr>\n      <th>2024-01-16 00:00:00-05:00</th>\n      <td>393.660004</td>\n      <td>394.029999</td>\n      <td>387.619995</td>\n      <td>390.269989</td>\n      <td>27202300</td>\n      <td>0.0</td>\n      <td>0.0</td>\n    </tr>\n    <tr>\n      <th>2024-01-17 00:00:00-05:00</th>\n      <td>387.980011</td>\n      <td>390.109985</td>\n      <td>384.809998</td>\n      <td>389.470001</td>\n      <td>22234100</td>\n      <td>0.0</td>\n      <td>0.0</td>\n    </tr>\n    <tr>\n      <th>2024-01-18 00:00:00-05:00</th>\n      <td>391.720001</td>\n      <td>393.989990</td>\n      <td>390.119995</td>\n      <td>393.869995</td>\n      <td>23392100</td>\n      <td>0.0</td>\n      <td>0.0</td>\n    </tr>\n    <tr>\n      <th>2024-01-19 00:00:00-05:00</th>\n      <td>395.760010</td>\n      <td>398.670013</td>\n      <td>393.500000</td>\n      <td>398.670013</td>\n      <td>29272000</td>\n      <td>0.0</td>\n      <td>0.0</td>\n    </tr>\n    <tr>\n      <th>2024-01-22 00:00:00-05:00</th>\n      <td>400.019989</td>\n      <td>400.619995</td>\n      <td>393.589996</td>\n      <td>396.510010</td>\n      <td>27016900</td>\n      <td>0.0</td>\n      <td>0.0</td>\n    </tr>\n    <tr>\n      <th>2024-01-23 00:00:00-05:00</th>\n      <td>395.750000</td>\n      <td>399.380005</td>\n      <td>393.929993</td>\n      <td>398.899994</td>\n      <td>20525900</td>\n      <td>0.0</td>\n      <td>0.0</td>\n    </tr>\n    <tr>\n      <th>2024-01-24 00:00:00-05:00</th>\n      <td>401.540009</td>\n      <td>405.630005</td>\n      <td>400.450012</td>\n      <td>402.559998</td>\n      <td>24867000</td>\n      <td>0.0</td>\n      <td>0.0</td>\n    </tr>\n    <tr>\n      <th>2024-01-25 00:00:00-05:00</th>\n      <td>404.320007</td>\n      <td>407.010010</td>\n      <td>402.529999</td>\n      <td>404.869995</td>\n      <td>21021200</td>\n      <td>0.0</td>\n      <td>0.0</td>\n    </tr>\n    <tr>\n      <th>2024-01-26 00:00:00-05:00</th>\n      <td>404.369995</td>\n      <td>406.170013</td>\n      <td>402.429993</td>\n      <td>403.929993</td>\n      <td>17803300</td>\n      <td>0.0</td>\n      <td>0.0</td>\n    </tr>\n    <tr>\n      <th>2024-01-29 00:00:00-05:00</th>\n      <td>406.059998</td>\n      <td>409.980011</td>\n      <td>404.329987</td>\n      <td>409.720001</td>\n      <td>24510200</td>\n      <td>0.0</td>\n      <td>0.0</td>\n    </tr>\n    <tr>\n      <th>2024-01-30 00:00:00-05:00</th>\n      <td>412.260010</td>\n      <td>413.049988</td>\n      <td>406.450012</td>\n      <td>408.589996</td>\n      <td>33477600</td>\n      <td>0.0</td>\n      <td>0.0</td>\n    </tr>\n    <tr>\n      <th>2024-01-31 00:00:00-05:00</th>\n      <td>406.959991</td>\n      <td>415.320007</td>\n      <td>397.209991</td>\n      <td>397.579987</td>\n      <td>47871100</td>\n      <td>0.0</td>\n      <td>0.0</td>\n    </tr>\n    <tr>\n      <th>2024-02-01 00:00:00-05:00</th>\n      <td>401.829987</td>\n      <td>408.000000</td>\n      <td>401.799988</td>\n      <td>403.779999</td>\n      <td>30657700</td>\n      <td>0.0</td>\n      <td>0.0</td>\n    </tr>\n    <tr>\n      <th>2024-02-02 00:00:00-05:00</th>\n      <td>403.809998</td>\n      <td>412.649994</td>\n      <td>403.559998</td>\n      <td>411.220001</td>\n      <td>28245000</td>\n      <td>0.0</td>\n      <td>0.0</td>\n    </tr>\n    <tr>\n      <th>2024-02-05 00:00:00-05:00</th>\n      <td>409.899994</td>\n      <td>411.160004</td>\n      <td>403.989990</td>\n      <td>405.649994</td>\n      <td>25352300</td>\n      <td>0.0</td>\n      <td>0.0</td>\n    </tr>\n    <tr>\n      <th>2024-02-06 00:00:00-05:00</th>\n      <td>405.880005</td>\n      <td>407.970001</td>\n      <td>402.910004</td>\n      <td>405.489990</td>\n      <td>18382600</td>\n      <td>0.0</td>\n      <td>0.0</td>\n    </tr>\n    <tr>\n      <th>2024-02-07 00:00:00-05:00</th>\n      <td>407.440002</td>\n      <td>414.299988</td>\n      <td>407.399994</td>\n      <td>414.049988</td>\n      <td>22340500</td>\n      <td>0.0</td>\n      <td>0.0</td>\n    </tr>\n    <tr>\n      <th>2024-02-08 00:00:00-05:00</th>\n      <td>414.049988</td>\n      <td>415.559998</td>\n      <td>412.529999</td>\n      <td>414.109985</td>\n      <td>21225300</td>\n      <td>0.0</td>\n      <td>0.0</td>\n    </tr>\n    <tr>\n      <th>2024-02-09 00:00:00-05:00</th>\n      <td>415.250000</td>\n      <td>420.820007</td>\n      <td>415.089996</td>\n      <td>420.549988</td>\n      <td>22012900</td>\n      <td>0.0</td>\n      <td>0.0</td>\n    </tr>\n  </tbody>\n</table>\n</div>"
     },
     "metadata": {},
     "output_type": "display_data"
    }
   ],
   "source": [
    "# 获取股票数据的历史信息\n",
    "hist = msft.history(period=\"1mo\")\n",
    "display(hist)"
   ],
   "metadata": {
    "collapsed": false,
    "ExecuteTime": {
     "end_time": "2024-02-12T02:21:44.593347800Z",
     "start_time": "2024-02-12T02:21:44.207574100Z"
    }
   },
   "id": "705edf5c7e0f4507",
   "execution_count": 13
  },
  {
   "cell_type": "code",
   "outputs": [
    {
     "name": "stdout",
     "output_type": "stream",
     "text": [
      "                  agg        hyg        spy        eem        efa\n",
      "Date                                                             \n",
      "2010-01-04  71.304695  39.491520  87.129921  31.827105  37.523781\n",
      "2010-01-05  71.629036  39.678875  87.360596  32.058128  37.556866\n",
      "2010-01-06  71.587685  39.781471  87.422066  32.125195  37.715607\n",
      "2010-01-07  71.504829  39.942055  87.791138  31.938908  37.570084\n",
      "2010-01-08  71.546265  40.004517  88.083267  32.192261  37.867737\n"
     ]
    }
   ],
   "source": [
    "import ffn\n",
    "data = ffn.get('agg,hyg,spy,eem,efa', start='2010-01-01', end='2014-01-01')\n",
    "print(data.head())"
   ],
   "metadata": {
    "collapsed": false,
    "ExecuteTime": {
     "end_time": "2024-02-12T02:15:56.917478600Z",
     "start_time": "2024-02-12T02:15:56.907614Z"
    }
   },
   "id": "f11e3caa7247987",
   "execution_count": 9
  },
  {
   "cell_type": "markdown",
   "source": [
    "# 数据存储"
   ],
   "metadata": {
    "collapsed": false
   },
   "id": "3062685c898854d1"
  },
  {
   "cell_type": "markdown",
   "source": [
    "## 1.存储为pandas中常见的格式\n",
    "> 菜鸟教程文件目录：[https://www.runoob.com/python/python-os-path.html](https://www.runoob.com/python/python-os-path.html)"
   ],
   "metadata": {
    "collapsed": false
   },
   "id": "41bb1fe98124d411"
  },
  {
   "cell_type": "code",
   "outputs": [],
   "source": [
    "# pickle格式：平时工作中使用较多的格式，能够节省存储空间，读取相对较快，局限是仅限于python的解释器之间\n",
    "df.to_pickle(r'D:\\个人文件集\\Spyder 项目\\基于python的金融分析与风险管理\\量化投资入门项目介绍\\data\\df_pickle.pkl')\n",
    "# excel格式：平时也比较常用，文件相较于csv稍微大一些\n",
    "df.to_excel(r'D:\\个人文件集\\Spyder 项目\\基于python的金融分析与风险管理\\量化投资入门项目介绍\\data\\df_excel.xlsx')\n",
    "# csv格式：存储空间相对较小，读取速度快\n",
    "df.to_csv(r'D:\\个人文件集\\Spyder 项目\\基于python的金融分析与风险管理\\量化投资入门项目介绍\\data\\df_csv.csv')"
   ],
   "metadata": {
    "collapsed": false,
    "ExecuteTime": {
     "end_time": "2024-02-11T15:09:25.590382600Z",
     "start_time": "2024-02-11T15:09:25.558445Z"
    }
   },
   "id": "6dd7cd7f0fcfa2e6",
   "execution_count": 11
  },
  {
   "cell_type": "code",
   "outputs": [],
   "source": [
    "import os\n",
    "file_path=r'D:\\个人文件集\\Spyder 项目\\基于python的金融分析与风险管理\\量化投资入门项目介绍\\data'\n",
    "df.to_pickle(os.path.join(file_path,'df_pickle1.pkl'))"
   ],
   "metadata": {
    "collapsed": false
   },
   "id": "ca36ecb740de94f7"
  },
  {
   "cell_type": "code",
   "outputs": [
    {
     "data": {
      "text/plain": "      ts_code trade_date  open  high   low  close  pre_close  change  pct_chg  \\\n0   000001.SZ   20180718  8.75  8.85  8.69   8.70       8.72   -0.02    -0.23   \n1   000001.SZ   20180717  8.74  8.75  8.66   8.72       8.73   -0.01    -0.11   \n2   000001.SZ   20180716  8.85  8.90  8.69   8.73       8.88   -0.15    -1.69   \n3   000001.SZ   20180713  8.92  8.94  8.82   8.88       8.88    0.00     0.00   \n4   000001.SZ   20180712  8.60  8.97  8.58   8.88       8.64    0.24     2.78   \n5   000001.SZ   20180711  8.76  8.83  8.68   8.78       8.98   -0.20    -2.23   \n6   000001.SZ   20180710  9.02  9.02  8.89   8.98       9.03   -0.05    -0.55   \n7   000001.SZ   20180709  8.69  9.03  8.68   9.03       8.66    0.37     4.27   \n8   000001.SZ   20180706  8.61  8.78  8.45   8.66       8.60    0.06     0.70   \n9   000001.SZ   20180705  8.62  8.73  8.55   8.60       8.61   -0.01    -0.12   \n10  000001.SZ   20180704  8.63  8.75  8.61   8.61       8.67   -0.06    -0.69   \n11  000001.SZ   20180703  8.69  8.70  8.45   8.67       8.61    0.06     0.70   \n12  000001.SZ   20180702  9.05  9.05  8.55   8.61       9.09   -0.48    -5.28   \n\n           vol       amount  \n0    525152.77   460697.377  \n1    375356.33   326396.994  \n2    689845.58   603427.713  \n3    603378.21   535401.175  \n4   1140492.31  1008658.828  \n5    851296.70   744765.824  \n6    896862.02   803038.965  \n7   1409954.60  1255007.609  \n8    988282.69   852071.526  \n9    835768.77   722169.579  \n10   711153.37   617278.559  \n11  1274838.57  1096657.033  \n12  1315520.13  1158545.868  ",
      "text/html": "<div>\n<style scoped>\n    .dataframe tbody tr th:only-of-type {\n        vertical-align: middle;\n    }\n\n    .dataframe tbody tr th {\n        vertical-align: top;\n    }\n\n    .dataframe thead th {\n        text-align: right;\n    }\n</style>\n<table border=\"1\" class=\"dataframe\">\n  <thead>\n    <tr style=\"text-align: right;\">\n      <th></th>\n      <th>ts_code</th>\n      <th>trade_date</th>\n      <th>open</th>\n      <th>high</th>\n      <th>low</th>\n      <th>close</th>\n      <th>pre_close</th>\n      <th>change</th>\n      <th>pct_chg</th>\n      <th>vol</th>\n      <th>amount</th>\n    </tr>\n  </thead>\n  <tbody>\n    <tr>\n      <th>0</th>\n      <td>000001.SZ</td>\n      <td>20180718</td>\n      <td>8.75</td>\n      <td>8.85</td>\n      <td>8.69</td>\n      <td>8.70</td>\n      <td>8.72</td>\n      <td>-0.02</td>\n      <td>-0.23</td>\n      <td>525152.77</td>\n      <td>460697.377</td>\n    </tr>\n    <tr>\n      <th>1</th>\n      <td>000001.SZ</td>\n      <td>20180717</td>\n      <td>8.74</td>\n      <td>8.75</td>\n      <td>8.66</td>\n      <td>8.72</td>\n      <td>8.73</td>\n      <td>-0.01</td>\n      <td>-0.11</td>\n      <td>375356.33</td>\n      <td>326396.994</td>\n    </tr>\n    <tr>\n      <th>2</th>\n      <td>000001.SZ</td>\n      <td>20180716</td>\n      <td>8.85</td>\n      <td>8.90</td>\n      <td>8.69</td>\n      <td>8.73</td>\n      <td>8.88</td>\n      <td>-0.15</td>\n      <td>-1.69</td>\n      <td>689845.58</td>\n      <td>603427.713</td>\n    </tr>\n    <tr>\n      <th>3</th>\n      <td>000001.SZ</td>\n      <td>20180713</td>\n      <td>8.92</td>\n      <td>8.94</td>\n      <td>8.82</td>\n      <td>8.88</td>\n      <td>8.88</td>\n      <td>0.00</td>\n      <td>0.00</td>\n      <td>603378.21</td>\n      <td>535401.175</td>\n    </tr>\n    <tr>\n      <th>4</th>\n      <td>000001.SZ</td>\n      <td>20180712</td>\n      <td>8.60</td>\n      <td>8.97</td>\n      <td>8.58</td>\n      <td>8.88</td>\n      <td>8.64</td>\n      <td>0.24</td>\n      <td>2.78</td>\n      <td>1140492.31</td>\n      <td>1008658.828</td>\n    </tr>\n    <tr>\n      <th>5</th>\n      <td>000001.SZ</td>\n      <td>20180711</td>\n      <td>8.76</td>\n      <td>8.83</td>\n      <td>8.68</td>\n      <td>8.78</td>\n      <td>8.98</td>\n      <td>-0.20</td>\n      <td>-2.23</td>\n      <td>851296.70</td>\n      <td>744765.824</td>\n    </tr>\n    <tr>\n      <th>6</th>\n      <td>000001.SZ</td>\n      <td>20180710</td>\n      <td>9.02</td>\n      <td>9.02</td>\n      <td>8.89</td>\n      <td>8.98</td>\n      <td>9.03</td>\n      <td>-0.05</td>\n      <td>-0.55</td>\n      <td>896862.02</td>\n      <td>803038.965</td>\n    </tr>\n    <tr>\n      <th>7</th>\n      <td>000001.SZ</td>\n      <td>20180709</td>\n      <td>8.69</td>\n      <td>9.03</td>\n      <td>8.68</td>\n      <td>9.03</td>\n      <td>8.66</td>\n      <td>0.37</td>\n      <td>4.27</td>\n      <td>1409954.60</td>\n      <td>1255007.609</td>\n    </tr>\n    <tr>\n      <th>8</th>\n      <td>000001.SZ</td>\n      <td>20180706</td>\n      <td>8.61</td>\n      <td>8.78</td>\n      <td>8.45</td>\n      <td>8.66</td>\n      <td>8.60</td>\n      <td>0.06</td>\n      <td>0.70</td>\n      <td>988282.69</td>\n      <td>852071.526</td>\n    </tr>\n    <tr>\n      <th>9</th>\n      <td>000001.SZ</td>\n      <td>20180705</td>\n      <td>8.62</td>\n      <td>8.73</td>\n      <td>8.55</td>\n      <td>8.60</td>\n      <td>8.61</td>\n      <td>-0.01</td>\n      <td>-0.12</td>\n      <td>835768.77</td>\n      <td>722169.579</td>\n    </tr>\n    <tr>\n      <th>10</th>\n      <td>000001.SZ</td>\n      <td>20180704</td>\n      <td>8.63</td>\n      <td>8.75</td>\n      <td>8.61</td>\n      <td>8.61</td>\n      <td>8.67</td>\n      <td>-0.06</td>\n      <td>-0.69</td>\n      <td>711153.37</td>\n      <td>617278.559</td>\n    </tr>\n    <tr>\n      <th>11</th>\n      <td>000001.SZ</td>\n      <td>20180703</td>\n      <td>8.69</td>\n      <td>8.70</td>\n      <td>8.45</td>\n      <td>8.67</td>\n      <td>8.61</td>\n      <td>0.06</td>\n      <td>0.70</td>\n      <td>1274838.57</td>\n      <td>1096657.033</td>\n    </tr>\n    <tr>\n      <th>12</th>\n      <td>000001.SZ</td>\n      <td>20180702</td>\n      <td>9.05</td>\n      <td>9.05</td>\n      <td>8.55</td>\n      <td>8.61</td>\n      <td>9.09</td>\n      <td>-0.48</td>\n      <td>-5.28</td>\n      <td>1315520.13</td>\n      <td>1158545.868</td>\n    </tr>\n  </tbody>\n</table>\n</div>"
     },
     "execution_count": 3,
     "metadata": {},
     "output_type": "execute_result"
    }
   ],
   "source": [
    "# 数据读入\n",
    "df_pickle=pd.read_pickle(r'D:\\个人文件集\\Spyder 项目\\基于python的金融分析与风险管理\\量化投资入门项目介绍\\data\\df_pickle.pkl')\n",
    "df_pickle"
   ],
   "metadata": {
    "collapsed": false,
    "ExecuteTime": {
     "end_time": "2024-02-11T15:14:07.949897700Z",
     "start_time": "2024-02-11T15:14:07.932229500Z"
    }
   },
   "id": "9576d5d554b43c9d",
   "execution_count": 3
  },
  {
   "cell_type": "markdown",
   "source": [
    "## 2.存储为txt文本格式\n",
    "> 使用python的write函数进行写入存储\n",
    "> 菜鸟教程write：[https://www.runoob.com/python/python-file-write.html](https://www.runoob.com/python/python-file-write.html)\n",
    "> 菜鸟教程I/O：[https://www.runoob.com/python/python-files-io.html](https://www.runoob.com/python/python-files-io.html)"
   ],
   "metadata": {
    "collapsed": false
   },
   "id": "a505f77e015a3ba5"
  },
  {
   "cell_type": "code",
   "outputs": [],
   "source": [
    "# 这里是爬虫的一段代码，不了解的朋友可以只看write的写入部分\n",
    "import requests\n",
    "from pyquery import PyQuery as pq\n",
    "url = 'https://www.zhihu.com/explore'\n",
    "headers = {\n",
    "    'User-Agent': 'Mozilla/5.0 (Macintosh; Intel Mac OS X 10_12_3) AppleWebKit/537.36 (KHTML, like Gecko) Chrome/58.0.3029.110 Safari/537.36'}\n",
    "html = requests.get(url, headers=headers).text\n",
    "doc = pq(html)\n",
    "items = doc('.explore-tab .feed-item').items() \n",
    "for item in items:\n",
    "    question = item.find('h2').text()\n",
    "    author = item.find('.author-link-line').text()\n",
    "    answer = pq(item.find('.content').html()).text()\n",
    "    file = open('explore.txt', 'a', encoding='utf-8')\n",
    "    # 在文件关闭前或缓冲区刷新前，字符串内容存储在缓冲区中，这时你在文件中是看不到写入的内容的。\n",
    "    file.write('\\n'.join([question, author, answer]))\n",
    "    file.write('\\n' + '=' * 50 + '\\n')\n",
    "    file.close()"
   ],
   "metadata": {
    "collapsed": false
   },
   "id": "66ce8bee5e7b1bb8"
  },
  {
   "cell_type": "code",
   "outputs": [],
   "source": [
    "# 文件写入还有一种简写方法，那就是使用 with as 语法。\n",
    "# 在 with 控制块结束时，文件会自动关闭，所以就不需要再调用 close 方法了。\n",
    "with open('explore.txt', 'a', encoding='utf-8') as file:\n",
    "    file.write('\\n'.join([question, author, answer]))\n",
    "    file.write('\\n' + '=' * 50 + '\\n')"
   ],
   "metadata": {
    "collapsed": false
   },
   "id": "d3a4aa9ef1caff11"
  },
  {
   "cell_type": "markdown",
   "source": [
    "## 3.存储为json格式\n",
    "> [spyder网络爬虫数据库存储](https://github.com/Python3WebSpider/Python3WebSpider/blob/master/5.1-%E6%96%87%E4%BB%B6%E5%AD%98%E5%82%A8.md)"
   ],
   "metadata": {
    "collapsed": false
   },
   "id": "b951a7a9a88103c3"
  },
  {
   "cell_type": "code",
   "outputs": [],
   "source": [
    "import json\n",
    "str = '''\n",
    "[{\n",
    "    \"name\": \"Bob\",\n",
    "    \"gender\": \"male\",\n",
    "    \"birthday\": \"1992-10-18\"\n",
    "}, {\n",
    "    \"name\": \"Selina\",\n",
    "    \"gender\": \"female\",0\n",
    "    \"birthday\": \"1995-10-18\"\n",
    "}]\n",
    "'''\n",
    "print(type(str))\n",
    "data = json.loads(str)\n",
    "print(data)\n",
    "print(type(data))"
   ],
   "metadata": {
    "collapsed": false
   },
   "id": "4e5d9c3d77f5d56b"
  },
  {
   "cell_type": "markdown",
   "source": [
    "# 完整的获取数据框架"
   ],
   "metadata": {
    "collapsed": false
   },
   "id": "32f8c40563ce497d"
  },
  {
   "cell_type": "code",
   "outputs": [],
   "source": [
    "def main():\n",
    "    start_date='20200101'\n",
    "    start_date_1year='20230101'\n",
    "    end_date='20240101'\n",
    "    code_y_tuple,code_a_tuple=code_y_a()\n",
    "    a_setup_date=setup_date(code_a_tuple)\n",
    "    a_nav_unit_data=nav_unit_data(code_a_tuple,start_date,end_date)\n",
    "    a_equity_data=equity_data(code_a_tuple)\n",
    "    y_nav_unit_data=nav_unit_data(code_y_tuple,start_date_1year,end_date)\n",
    "    y_setup_date=setup_date(code_y_tuple)\n",
    "    b_close_df=data_b_close_df(start_date,end_date)\n",
    "    b_comp_code_dict = code_all_index_fof()\n",
    "    b_comp_equity = equity_all_index_fof(b_comp_code_dict)\n",
    "    b_comp_equity_center = equity_center_data(b_comp_equity)\n",
    "    data_dict={\n",
    "        'a_setup_date':a_setup_date,\n",
    "        'a_nav_unit_data':a_nav_unit_data,\n",
    "        'a_equity_data':a_equity_data,\n",
    "        'y_nav_unit_data':y_nav_unit_data,\n",
    "        'y_setup_date':y_setup_date,\n",
    "        'b_close_df':b_close_df,\n",
    "        'b_comp_code_dict':b_comp_code_dict,\n",
    "        'b_comp_equity':b_comp_equity,\n",
    "        'b_comp_equity_center':b_comp_equity_center\n",
    "    }\n",
    "    return data_dict\n",
    "\n",
    "if __name__=='__main__':\n",
    "    data_dict = main()\n",
    "    file_path=r'D:\\个人文件集\\西筹科技实习\\Qwen-finetune-new\\qwen-finetune\\qwen-finetune\\FOF_NEW\\data_dict.pkl'\n",
    "    try:\n",
    "        with open(file_path, 'wb') as f:\n",
    "            pickle.dump(data_dict,f)\n",
    "        print(\"Data successfully saved.\")\n",
    "    except Exception as e:\n",
    "        print(f\"Error:{e}\")"
   ],
   "metadata": {
    "collapsed": false
   },
   "id": "26a051013859109e"
  },
  {
   "cell_type": "markdown",
   "source": [],
   "metadata": {
    "collapsed": false
   },
   "id": "f57b5eff52901b45"
  }
 ],
 "metadata": {
  "kernelspec": {
   "display_name": "Python 3",
   "language": "python",
   "name": "python3"
  },
  "language_info": {
   "codemirror_mode": {
    "name": "ipython",
    "version": 2
   },
   "file_extension": ".py",
   "mimetype": "text/x-python",
   "name": "python",
   "nbconvert_exporter": "python",
   "pygments_lexer": "ipython2",
   "version": "2.7.6"
  }
 },
 "nbformat": 4,
 "nbformat_minor": 5
}
